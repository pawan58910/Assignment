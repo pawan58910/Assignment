{
  "nbformat": 4,
  "nbformat_minor": 0,
  "metadata": {
    "colab": {
      "provenance": []
    },
    "kernelspec": {
      "name": "python3",
      "display_name": "Python 3"
    },
    "language_info": {
      "name": "python"
    }
  },
  "cells": [
    {
      "cell_type": "markdown",
      "source": [
        "1. Explain the key features of Python that make it a popular choice for programming.\n",
        "\n",
        "Python has gained immense popularity in programming due to several key features:\n",
        "\n",
        "1. **Simplicity and Readability**: Python’s syntax is clear and easy to understand, which makes it an excellent choice for beginners. The use of indentation to define code blocks enhances readability.\n",
        "\n",
        "2. **Versatile and Flexible**: Python can be used for a variety of applications, including web development, data analysis, artificial intelligence, scientific computing, and automation. Its versatility allows developers to work on diverse projects without needing to learn a completely new language.\n",
        "\n",
        "3. **Extensive Libraries and Frameworks**: Python has a rich ecosystem of libraries and frameworks, such as NumPy, pandas, Django, Flask, and TensorFlow, which provide pre-built functionalities and accelerate development.\n",
        "\n",
        "4. **Strong Community Support**: Python has a large and active community, offering abundant resources, tutorials, and forums. This support makes it easier to find solutions to problems and share knowledge.\n",
        "\n",
        "5. **Cross-Platform Compatibility**: Python is platform-independent, meaning code written on one operating system can easily run on another without modification. This flexibility is valuable for developers working in diverse environments.\n",
        "\n",
        "6. **Dynamic Typing**: Python uses dynamic typing, allowing developers to write code without specifying variable types. This feature can speed up development but requires careful management to avoid runtime errors.\n",
        "\n",
        "7. **Interpreted Language**: Python is an interpreted language, which means code can be executed line by line. This feature simplifies debugging and allows for rapid prototyping and testing.\n",
        "\n",
        "8. **Object-Oriented and Functional Programming**: Python supports both object-oriented and functional programming paradigms, giving developers the flexibility to choose the best approach for their projects.\n",
        "\n",
        "9. **Easy Integration**: Python can easily integrate with other languages like C, C++, and Java, allowing developers to leverage existing codebases and libraries.\n",
        "\n",
        "10. **Growing Demand in Industry**: As fields like data science, machine learning, and web development continue to expand, Python's relevance in the job market further enhances its popularity.\n",
        "\n",
        "These features collectively make Python a powerful and user-friendly choice for a wide range of programming tasks."
      ],
      "metadata": {
        "id": "3ngF4Jirl2xJ"
      }
    },
    {
      "cell_type": "markdown",
      "source": [
        "2. Describe the role of predefined keywords in Python and provide examples of how they are used in a program.\n",
        "\n",
        "Predefined keywords in Python are reserved words that have special meanings and cannot be used as identifiers (e.g., variable names, function names). These keywords define the structure and syntax of the language, allowing developers to perform various programming tasks. There are 35 keywords in Python, and they cover various aspects of programming such as control flow, data types, function definitions, and more.\n",
        "\n",
        "### Key Roles of Keywords\n",
        "\n",
        "1. **Control Flow**: Keywords like `if`, `elif`, `else`, `for`, `while`, and `break` control the flow of execution in a program.\n",
        "\n",
        "2. **Function Definition**: Keywords such as `def` and `return` are used to define functions and return values from them.\n",
        "\n",
        "3. **Data Type Definitions**: Keywords like `class` and `import` allow for defining classes and importing modules, respectively.\n",
        "\n",
        "4. **Exception Handling**: Keywords such as `try`, `except`, `finally`, and `raise` are used for managing exceptions.\n",
        "\n",
        "5. **Boolean Values**: The keywords `True`, `False`, and `None` represent boolean values and the absence of a value."
      ],
      "metadata": {
        "id": "BGeITf8Jl_sM"
      }
    },
    {
      "cell_type": "code",
      "source": [
        "# Function to check if a number is even or odd\n",
        "def check_even_odd(number):\n",
        "    if number % 2 == 0:  # 'if' is a control flow keyword\n",
        "        return True      # 'return' is used to return a value from a function\n",
        "    else:                # 'else' provides an alternative path\n",
        "        return False\n",
        "\n",
        "# Using a loop to check numbers from 1 to 10\n",
        "for i in range(1, 11):  # 'for' initiates a loop\n",
        "    if check_even_odd(i):  # Calling the function defined above\n",
        "        print(f\"{i} is even\")  # Using 'print' to output a message\n",
        "    else:\n",
        "        print(f\"{i} is odd\")   # 'else' used again for conditional logic\n",
        "\n",
        "# Exception handling\n",
        "try:\n",
        "    result = 10 / 0  # This will raise a ZeroDivisionError\n",
        "except ZeroDivisionError:  # 'except' handles specific exceptions\n",
        "    print(\"You can't divide by zero!\")  # Message when an exception occurs\n",
        "finally:\n",
        "    print(\"Execution completed.\")  # 'finally' executes regardless of exceptions"
      ],
      "metadata": {
        "colab": {
          "base_uri": "https://localhost:8080/"
        },
        "id": "U2OnwaR8mkW4",
        "outputId": "ae90f062-3964-43d3-98a5-4be0c20c6a78"
      },
      "execution_count": 1,
      "outputs": [
        {
          "output_type": "stream",
          "name": "stdout",
          "text": [
            "1 is odd\n",
            "2 is even\n",
            "3 is odd\n",
            "4 is even\n",
            "5 is odd\n",
            "6 is even\n",
            "7 is odd\n",
            "8 is even\n",
            "9 is odd\n",
            "10 is even\n",
            "You can't divide by zero!\n",
            "Execution completed.\n"
          ]
        }
      ]
    },
    {
      "cell_type": "markdown",
      "source": [
        "Summary of Keywords Used\n",
        "Control Flow: if, else, for\n",
        "\n",
        "Function Definition: def, return\n",
        "\n",
        "Exception Handling: try, except, finally\n",
        "\n",
        "Boolean Values: True, False"
      ],
      "metadata": {
        "id": "LZ-Mr_99nITu"
      }
    },
    {
      "cell_type": "markdown",
      "source": [
        "3. Compare and contrast mutable and immutable objects in Python with examples.\n",
        "\n",
        "In Python, objects can be classified as mutable or immutable based on whether their state (i.e., their value or content) can be changed after they are created.\n",
        "\n",
        "Mutable Objects\n",
        "Definition: Mutable objects are those whose state or content can be changed after they are created. This means you can modify the object without creating a new one.\n",
        "\n",
        "Examples of Mutable Objects:\n",
        "\n",
        "Lists\n",
        "Dictionaries\n",
        "Sets"
      ],
      "metadata": {
        "id": "AHnx9G_7nMsw"
      }
    },
    {
      "cell_type": "code",
      "source": [
        "# Mutable example with a list\n",
        "my_list = [1, 2, 3]\n",
        "print(\"Original list:\", my_list)\n",
        "\n",
        "# Modifying the list\n",
        "my_list.append(4)  # Adds an element\n",
        "print(\"Modified list:\", my_list)  # Output: [1, 2, 3, 4]\n",
        "\n",
        "# Modifying an element\n",
        "my_list[0] = 10  # Changes the first element\n",
        "print(\"Updated list:\", my_list)  # Output: [10, 2, 3, 4]"
      ],
      "metadata": {
        "colab": {
          "base_uri": "https://localhost:8080/"
        },
        "id": "-GrhM9S_nkS7",
        "outputId": "dfbfa19e-7395-4e16-a0e9-b2a89b3bb909"
      },
      "execution_count": 2,
      "outputs": [
        {
          "output_type": "stream",
          "name": "stdout",
          "text": [
            "Original list: [1, 2, 3]\n",
            "Modified list: [1, 2, 3, 4]\n",
            "Updated list: [10, 2, 3, 4]\n"
          ]
        }
      ]
    },
    {
      "cell_type": "markdown",
      "source": [
        "Immutable Objects\n",
        "Definition: Immutable objects are those whose state or content cannot be changed after they are created. Any modification results in the creation of a new object.\n",
        "\n",
        "Examples of Immutable Objects:\n",
        "\n",
        "Tuples\n",
        "Strings\n",
        "Frozensets"
      ],
      "metadata": {
        "id": "JDTOJsmmnnpF"
      }
    },
    {
      "cell_type": "code",
      "source": [
        "# Immutable example with a tuple\n",
        "my_tuple = (1, 2, 3)\n",
        "print(\"Original tuple:\", my_tuple)\n",
        "\n",
        "# Attempting to modify the tuple (will raise an error)\n",
        "# my_tuple[0] = 10  # This line would raise a TypeError\n",
        "\n",
        "# Instead, creating a new tuple\n",
        "new_tuple = my_tuple + (4,)  # Concatenates to create a new tuple\n",
        "print(\"New tuple:\", new_tuple)  # Output: (1, 2, 3, 4)"
      ],
      "metadata": {
        "colab": {
          "base_uri": "https://localhost:8080/"
        },
        "id": "jR0v8VOdnv0a",
        "outputId": "c5ac1a5e-4601-4a1a-c040-41c69db88666"
      },
      "execution_count": 3,
      "outputs": [
        {
          "output_type": "stream",
          "name": "stdout",
          "text": [
            "Original tuple: (1, 2, 3)\n",
            "New tuple: (1, 2, 3, 4)\n"
          ]
        }
      ]
    },
    {
      "cell_type": "markdown",
      "source": [
        "4. Discuss the different types of operators in Python and provide examples of how they are used.\n",
        "\n",
        "In Python, operators are special symbols used to perform operations on variables and values. Python supports various types of operators, each serving a distinct purpose. Here’s an overview of the different types of operators and examples of how they are used:\n",
        "\n",
        "1. Arithmetic Operators\n",
        "These operators are used to perform basic mathematical operations.\n",
        "\n",
        "Addition (+): Adds two operands.\n",
        "Subtraction (-): Subtracts the second operand from the first.\n",
        "Multiplication (*): Multiplies two operands.\n",
        "Division (/): Divides the first operand by the second (result is a float).\n",
        "Floor Division (//): Divides and returns the largest integer less than or equal to the result.\n",
        "Modulus (%): Returns the remainder of a division.\n",
        "Exponentiation (**): Raises the first operand to the power of the second."
      ],
      "metadata": {
        "id": "h5M0q7RGn2UF"
      }
    },
    {
      "cell_type": "code",
      "source": [
        "a = 10\n",
        "b = 3\n",
        "\n",
        "print(\"Addition:\", a + b)\n",
        "print(\"Subtraction:\", a - b)\n",
        "print(\"Multiplication:\", a * b)\n",
        "print(\"Division:\", a / b)\n",
        "print(\"Floor Division:\", a // b)\n",
        "print(\"Modulus:\", a % b)\n",
        "print(\"Exponentiation:\", a ** b)"
      ],
      "metadata": {
        "colab": {
          "base_uri": "https://localhost:8080/"
        },
        "id": "uHVqiobon-rh",
        "outputId": "851a156d-e01c-4938-aa0f-97e3479e7bbc"
      },
      "execution_count": 4,
      "outputs": [
        {
          "output_type": "stream",
          "name": "stdout",
          "text": [
            "Addition: 13\n",
            "Subtraction: 7\n",
            "Multiplication: 30\n",
            "Division: 3.3333333333333335\n",
            "Floor Division: 3\n",
            "Modulus: 1\n",
            "Exponentiation: 1000\n"
          ]
        }
      ]
    },
    {
      "cell_type": "markdown",
      "source": [
        "2. Comparison Operators\n",
        "These operators are used to compare two values and return a boolean result (True or False).\n",
        "\n",
        "Equal to (==): Checks if two values are equal.\n",
        "\n",
        "Not equal to (!=): Checks if two values are not equal.\n",
        "\n",
        "Greater than (>): Checks if the left operand is greater than the right.\n",
        "\n",
        "Less than (<): Checks if the left operand is less than the right.\n",
        "\n",
        "Greater than or equal to (>=): Checks if the left operand is greater than or equal to the right.\n",
        "\n",
        "Less than or equal to (<=): Checks if the left operand is less than or equal to the right."
      ],
      "metadata": {
        "id": "vfjtuUKAoIZZ"
      }
    },
    {
      "cell_type": "code",
      "source": [
        "x = 5\n",
        "y = 10\n",
        "\n",
        "print(\"Equal to:\", x == y)\n",
        "print(\"Not equal to:\", x != y)\n",
        "print(\"Greater than:\", x > y)\n",
        "print(\"Less than:\", x < y)\n",
        "print(\"Greater than or equal to:\", x >= y)\n",
        "print(\"Less than or equal to:\", x <= y)"
      ],
      "metadata": {
        "colab": {
          "base_uri": "https://localhost:8080/"
        },
        "id": "Ylr3wx4DoNyV",
        "outputId": "664a52ba-bcb2-42b1-82c0-dce6245eb7bf"
      },
      "execution_count": 5,
      "outputs": [
        {
          "output_type": "stream",
          "name": "stdout",
          "text": [
            "Equal to: False\n",
            "Not equal to: True\n",
            "Greater than: False\n",
            "Less than: True\n",
            "Greater than or equal to: False\n",
            "Less than or equal to: True\n"
          ]
        }
      ]
    },
    {
      "cell_type": "markdown",
      "source": [
        "3. Logical Operators\n",
        "Logical operators are used to combine conditional statements.\n",
        "\n",
        "Logical AND (and): Returns True if both operands are true.\n",
        "\n",
        "Logical OR (or): Returns True if at least one operand is true.\n",
        "\n",
        "Logical NOT (not): Reverses the logical state of its operand."
      ],
      "metadata": {
        "id": "sVEqQzw2oVDO"
      }
    },
    {
      "cell_type": "code",
      "source": [
        "a = True\n",
        "b = False\n",
        "\n",
        "print(\"AND:\", a and b)\n",
        "print(\"OR:\", a or b)\n",
        "print(\"NOT:\", not a)"
      ],
      "metadata": {
        "colab": {
          "base_uri": "https://localhost:8080/"
        },
        "id": "sf2gzdoQoicQ",
        "outputId": "4fd62bac-e619-4443-d567-eaaa28fdd0cd"
      },
      "execution_count": 6,
      "outputs": [
        {
          "output_type": "stream",
          "name": "stdout",
          "text": [
            "AND: False\n",
            "OR: True\n",
            "NOT: False\n"
          ]
        }
      ]
    },
    {
      "cell_type": "markdown",
      "source": [
        "4. Bitwise Operators\n",
        "Bitwise operators perform operations on binary representations of integers.\n",
        "\n",
        "AND (&): Bitwise AND.\n",
        "\n",
        "OR (|): Bitwise OR.\n",
        "\n",
        "XOR (^): Bitwise XOR.\n",
        "\n",
        "NOT (~): Bitwise NOT.\n",
        "\n",
        "Left Shift (<<): Shifts bits to the left.\n",
        "\n",
        "Right Shift (>>): Shifts bits to the right."
      ],
      "metadata": {
        "id": "ikMVe72VolY2"
      }
    },
    {
      "cell_type": "code",
      "source": [
        "a = 5  # (binary: 0101)\n",
        "b = 3  # (binary: 0011)\n",
        "\n",
        "print(\"AND:\", a & b)\n",
        "print(\"OR:\", a | b)\n",
        "print(\"XOR:\", a ^ b)\n",
        "print(\"NOT:\", ~a)\n",
        "print(\"Left Shift:\", a << 1)\n",
        "print(\"Right Shift:\", a >> 1)"
      ],
      "metadata": {
        "colab": {
          "base_uri": "https://localhost:8080/"
        },
        "id": "WPzbDDX7oqAz",
        "outputId": "a4c41951-38a4-41b0-a99b-0f8adca10fa0"
      },
      "execution_count": 7,
      "outputs": [
        {
          "output_type": "stream",
          "name": "stdout",
          "text": [
            "AND: 1\n",
            "OR: 7\n",
            "XOR: 6\n",
            "NOT: -6\n",
            "Left Shift: 10\n",
            "Right Shift: 2\n"
          ]
        }
      ]
    },
    {
      "cell_type": "markdown",
      "source": [
        "5. Assignment Operators\n",
        "Assignment operators are used to assign values to variables.\n",
        "\n",
        "Assignment (=): Assigns the right operand’s value to the left operand.\n",
        "\n",
        "Add and assign (+=): Adds and assigns.\n",
        "\n",
        "Subtract and assign (-=): Subtracts and assigns.\n",
        "\n",
        "Multiply and assign (*=): Multiplies and assigns.\n",
        "\n",
        "Divide and assign (/=): Divides and assigns.\n",
        "\n",
        "Floor divide and assign (//=): Floor divides and assigns.\n",
        "\n",
        "Modulus and assign (%=): Modulus and assigns.\n",
        "\n",
        "Exponentiate and assign (**=): Exponentiates and assigns."
      ],
      "metadata": {
        "id": "6Ceneio-o3QL"
      }
    },
    {
      "cell_type": "code",
      "source": [
        "num = 10\n",
        "num += 5\n",
        "print(\"After += :\", num)\n",
        "\n",
        "num -= 3\n",
        "print(\"After -= :\", num)\n",
        "\n",
        "num *= 2\n",
        "print(\"After *= :\", num)\n",
        "\n",
        "num /= 4\n",
        "print(\"After /= :\", num)"
      ],
      "metadata": {
        "colab": {
          "base_uri": "https://localhost:8080/"
        },
        "id": "wR840DNWo60o",
        "outputId": "abf8618b-70c9-4ee2-c983-9f26264a57ad"
      },
      "execution_count": 8,
      "outputs": [
        {
          "output_type": "stream",
          "name": "stdout",
          "text": [
            "After += : 15\n",
            "After -= : 12\n",
            "After *= : 24\n",
            "After /= : 6.0\n"
          ]
        }
      ]
    },
    {
      "cell_type": "markdown",
      "source": [
        "6. Identity Operators\n",
        "Identity operators are used to compare the memory location of two objects.\n",
        "\n",
        "Is (is): Returns True if both operands refer to the same object.\n",
        "\n",
        "Is not (is not): Returns True if both operands do not refer to the same object."
      ],
      "metadata": {
        "id": "KqrNRYg-pHlK"
      }
    },
    {
      "cell_type": "code",
      "source": [
        "a = [1, 2, 3]\n",
        "b = a\n",
        "c = a[:]\n",
        "\n",
        "print(\"a is b:\", a is b)\n",
        "print(\"a is c:\", a is c)\n",
        "print(\"a is not c:\", a is not c)"
      ],
      "metadata": {
        "colab": {
          "base_uri": "https://localhost:8080/"
        },
        "id": "ZlcawcbmpM4R",
        "outputId": "28208020-df85-4df0-cf6f-cb4aced48298"
      },
      "execution_count": 9,
      "outputs": [
        {
          "output_type": "stream",
          "name": "stdout",
          "text": [
            "a is b: True\n",
            "a is c: False\n",
            "a is not c: True\n"
          ]
        }
      ]
    },
    {
      "cell_type": "markdown",
      "source": [
        "7. Membership Operators\n",
        "Membership operators are used to test if a value is a member of a sequence (like a list, tuple, or string).\n",
        "\n",
        "In (in): Returns True if the value is found in the sequence.\n",
        "\n",
        "Not in (not in): Returns True if the value is not found in the sequence."
      ],
      "metadata": {
        "id": "bX8N40O1pQHb"
      }
    },
    {
      "cell_type": "code",
      "source": [
        "my_list = [1, 2, 3, 4, 5]\n",
        "\n",
        "print(\"3 in my_list:\", 3 in my_list)\n",
        "print(\"6 not in my_list:\", 6 not in my_list)"
      ],
      "metadata": {
        "colab": {
          "base_uri": "https://localhost:8080/"
        },
        "id": "4iBr6AClpTdf",
        "outputId": "90f2482d-1f64-4a1b-86bc-de8226755fb6"
      },
      "execution_count": 10,
      "outputs": [
        {
          "output_type": "stream",
          "name": "stdout",
          "text": [
            "3 in my_list: True\n",
            "6 not in my_list: True\n"
          ]
        }
      ]
    },
    {
      "cell_type": "markdown",
      "source": [
        "5. Explain the concept of type casting in Python with examples.\n",
        "\n",
        "\n",
        "Type casting in Python refers to the conversion of one data type into another. This can be necessary when you want to perform operations involving different types, or when you need to ensure that a variable is of a specific type for a particular context. Python supports various built-in functions for type casting.\n",
        "\n",
        "Common Type Casting Functions\n",
        "int(): Converts a value to an integer.\n",
        "\n",
        "float(): Converts a value to a floating-point number.\n",
        "\n",
        "str(): Converts a value to a string.\n",
        "\n",
        "list(): Converts an iterable (like a string or tuple) to a list.\n",
        "\n",
        "tuple(): Converts an iterable to a tuple.\n",
        "\n",
        "set(): Converts an iterable to a set."
      ],
      "metadata": {
        "id": "MvB02Majpl8Z"
      }
    },
    {
      "cell_type": "markdown",
      "source": [
        "Examples of Type Casting\n",
        "1. Converting to Integer\n",
        "You can convert a float or a string representation of a number to an integer using the int() function."
      ],
      "metadata": {
        "id": "jS2aNAMTqIUS"
      }
    },
    {
      "cell_type": "code",
      "source": [
        "# From float to int\n",
        "num_float = 10.75\n",
        "num_int = int(num_float)\n",
        "print(\"Integer value:\", num_int)\n",
        "\n",
        "# From string to int\n",
        "num_str = \"123\"\n",
        "num_int_from_str = int(num_str)\n",
        "print(\"Integer from string:\", num_int_from_str)"
      ],
      "metadata": {
        "colab": {
          "base_uri": "https://localhost:8080/"
        },
        "id": "Xn-uBPWgqJPx",
        "outputId": "c08f455f-17be-45c4-cb50-89cb6ee7d4ba"
      },
      "execution_count": 11,
      "outputs": [
        {
          "output_type": "stream",
          "name": "stdout",
          "text": [
            "Integer value: 10\n",
            "Integer from string: 123\n"
          ]
        }
      ]
    },
    {
      "cell_type": "markdown",
      "source": [
        "2. Converting to Float\n",
        "You can convert an integer or a string representation of a number to a float using the float() function."
      ],
      "metadata": {
        "id": "QvQfoxyfqPF5"
      }
    },
    {
      "cell_type": "code",
      "source": [
        "# From int to float\n",
        "num_int = 10\n",
        "num_float = float(num_int)\n",
        "print(\"Float value:\", num_float)\n",
        "\n",
        "# From string to float\n",
        "num_str = \"3.14\"\n",
        "num_float_from_str = float(num_str)\n",
        "print(\"Float from string:\", num_float_from_str)"
      ],
      "metadata": {
        "colab": {
          "base_uri": "https://localhost:8080/"
        },
        "id": "nLSN2OneqRHE",
        "outputId": "5873552b-6900-4ae6-af61-7f29f1d20b93"
      },
      "execution_count": 12,
      "outputs": [
        {
          "output_type": "stream",
          "name": "stdout",
          "text": [
            "Float value: 10.0\n",
            "Float from string: 3.14\n"
          ]
        }
      ]
    },
    {
      "cell_type": "markdown",
      "source": [
        "3. Converting to String\n",
        "You can convert any data type to a string using the str() function."
      ],
      "metadata": {
        "id": "cCOege_YqWZj"
      }
    },
    {
      "cell_type": "code",
      "source": [
        "# From int to string\n",
        "num_int = 100\n",
        "num_str = str(num_int)\n",
        "print(\"String value:\", num_str)\n",
        "\n",
        "# From float to string\n",
        "num_float = 99.99\n",
        "num_str_from_float = str(num_float)\n",
        "print(\"String from float:\", num_str_from_float)"
      ],
      "metadata": {
        "colab": {
          "base_uri": "https://localhost:8080/"
        },
        "id": "G2VfidndqYgM",
        "outputId": "671a37f2-98f8-47db-854a-6609565d54c4"
      },
      "execution_count": 13,
      "outputs": [
        {
          "output_type": "stream",
          "name": "stdout",
          "text": [
            "String value: 100\n",
            "String from float: 99.99\n"
          ]
        }
      ]
    },
    {
      "cell_type": "markdown",
      "source": [
        "4. Converting to List\n",
        "You can convert a string, tuple, or other iterable to a list using the list() function."
      ],
      "metadata": {
        "id": "edEjbmVqqdej"
      }
    },
    {
      "cell_type": "code",
      "source": [
        "# From string to list\n",
        "my_string = \"hello\"\n",
        "my_list = list(my_string)\n",
        "print(\"List from string:\", my_list)\n",
        "\n",
        "# From tuple to list\n",
        "my_tuple = (1, 2, 3)\n",
        "my_list_from_tuple = list(my_tuple)\n",
        "print(\"List from tuple:\", my_list_from_tuple)"
      ],
      "metadata": {
        "colab": {
          "base_uri": "https://localhost:8080/"
        },
        "id": "1KYid4bcqg9B",
        "outputId": "b0501162-9d99-4e84-d238-1be8a1a8a829"
      },
      "execution_count": 14,
      "outputs": [
        {
          "output_type": "stream",
          "name": "stdout",
          "text": [
            "List from string: ['h', 'e', 'l', 'l', 'o']\n",
            "List from tuple: [1, 2, 3]\n"
          ]
        }
      ]
    },
    {
      "cell_type": "markdown",
      "source": [
        "5. Converting to Tuple\n",
        "You can convert a list or another iterable to a tuple using the tuple() function."
      ],
      "metadata": {
        "id": "onsdiAMlqlkw"
      }
    },
    {
      "cell_type": "code",
      "source": [
        "# From list to tuple\n",
        "my_list = [1, 2, 3]\n",
        "my_tuple = tuple(my_list)\n",
        "print(\"Tuple from list:\", my_tuple)"
      ],
      "metadata": {
        "colab": {
          "base_uri": "https://localhost:8080/"
        },
        "id": "tjzpqyCcqnrU",
        "outputId": "ae56adbe-be8d-4be7-d618-e9966c0f053d"
      },
      "execution_count": 15,
      "outputs": [
        {
          "output_type": "stream",
          "name": "stdout",
          "text": [
            "Tuple from list: (1, 2, 3)\n"
          ]
        }
      ]
    },
    {
      "cell_type": "markdown",
      "source": [
        "6. Converting to Set\n",
        "You can convert a list or another iterable to a set using the set() function, which removes duplicates."
      ],
      "metadata": {
        "id": "oVfpLZ76qrD-"
      }
    },
    {
      "cell_type": "code",
      "source": [
        "# From list to set\n",
        "my_list = [1, 2, 2, 3, 4, 4]\n",
        "my_set = set(my_list)\n",
        "print(\"Set from list:\", my_set)"
      ],
      "metadata": {
        "colab": {
          "base_uri": "https://localhost:8080/"
        },
        "id": "eicgE64vqtXb",
        "outputId": "44f59009-cec6-47ca-99a7-f81811e45226"
      },
      "execution_count": 16,
      "outputs": [
        {
          "output_type": "stream",
          "name": "stdout",
          "text": [
            "Set from list: {1, 2, 3, 4}\n"
          ]
        }
      ]
    },
    {
      "cell_type": "markdown",
      "source": [
        "6. How do conditional statements work in Python? Illustrate with examples.\n",
        "\n",
        "Conditional statements in Python allow you to execute different blocks of code based on certain conditions. The primary conditional statements are if, elif (else if), and else. These statements evaluate expressions and execute corresponding blocks of code depending on whether the conditions are True or False."
      ],
      "metadata": {
        "id": "ViifYH6zqxMx"
      }
    },
    {
      "cell_type": "markdown",
      "source": [
        "Basic Structure\n",
        "The basic structure of conditional statements in Python is as follows:"
      ],
      "metadata": {
        "id": "Zni_klLtrEX_"
      }
    },
    {
      "cell_type": "markdown",
      "source": [
        "if condition:\n",
        "    # Code block to execute if condition is True\n",
        "elif another_condition:\n",
        "    # Code block to execute if the previous condition was False and this one is True\n",
        "else:\n",
        "    # Code block to execute if all previous conditions are False"
      ],
      "metadata": {
        "id": "ou-lY37zrOBC"
      }
    },
    {
      "cell_type": "markdown",
      "source": [
        "Example 1: Simple Conditional Statement\n",
        "\n",
        "Here’s a simple example demonstrating the use of if, elif, and else:"
      ],
      "metadata": {
        "id": "qNTmXFmXrRLz"
      }
    },
    {
      "cell_type": "code",
      "source": [
        "# Check if a number is positive, negative, or zero\n",
        "number = 10\n",
        "\n",
        "if number > 0:\n",
        "    print(\"The number is positive.\")\n",
        "elif number < 0:\n",
        "    print(\"The number is negative.\")\n",
        "else:\n",
        "    print(\"The number is zero.\")\n"
      ],
      "metadata": {
        "colab": {
          "base_uri": "https://localhost:8080/"
        },
        "id": "dMocrolKrcrY",
        "outputId": "f799a421-b589-4d1d-c4d9-a7c43912a868"
      },
      "execution_count": 17,
      "outputs": [
        {
          "output_type": "stream",
          "name": "stdout",
          "text": [
            "The number is positive.\n"
          ]
        }
      ]
    },
    {
      "cell_type": "markdown",
      "source": [
        "Example 2: Multiple Conditions\n",
        "\n",
        "You can also use logical operators (and, or, not) to combine multiple conditions."
      ],
      "metadata": {
        "id": "QOSmLnevri98"
      }
    },
    {
      "cell_type": "code",
      "source": [
        "# Check if a number is within a certain range\n",
        "age = 25\n",
        "\n",
        "if age < 18:\n",
        "    print(\"You are a minor.\")\n",
        "elif age >= 18 and age < 65:\n",
        "    print(\"You are an adult.\")\n",
        "else:\n",
        "    print(\"You are a senior citizen.\")\n"
      ],
      "metadata": {
        "colab": {
          "base_uri": "https://localhost:8080/"
        },
        "id": "kW9pK-airjgw",
        "outputId": "892d6f2c-fc92-4b54-8047-5142ca8dd745"
      },
      "execution_count": 18,
      "outputs": [
        {
          "output_type": "stream",
          "name": "stdout",
          "text": [
            "You are an adult.\n"
          ]
        }
      ]
    },
    {
      "cell_type": "markdown",
      "source": [
        "Example 3: Nested Conditional Statements\n",
        "\n",
        "You can nest conditional statements to create more complex logic."
      ],
      "metadata": {
        "id": "QSeuwbTVrml5"
      }
    },
    {
      "cell_type": "code",
      "source": [
        "# Nested condition example\n",
        "score = 85\n",
        "\n",
        "if score >= 60:\n",
        "    print(\"You passed!\")\n",
        "    if score >= 90:\n",
        "        print(\"Excellent!\")\n",
        "    elif score >= 75:\n",
        "        print(\"Good job!\")\n",
        "else:\n",
        "    print(\"You failed.\")\n"
      ],
      "metadata": {
        "colab": {
          "base_uri": "https://localhost:8080/"
        },
        "id": "Xruiq9berxN3",
        "outputId": "6c541b71-87fe-47e2-b89c-2c06bc58c923"
      },
      "execution_count": 19,
      "outputs": [
        {
          "output_type": "stream",
          "name": "stdout",
          "text": [
            "You passed!\n",
            "Good job!\n"
          ]
        }
      ]
    },
    {
      "cell_type": "markdown",
      "source": [
        "Example 4: Using the pass Statement\n",
        "\n",
        "In some cases, you might want to define a conditional block that does nothing. You can use the pass statement for this purpose."
      ],
      "metadata": {
        "id": "tWfgyBmFry_4"
      }
    },
    {
      "cell_type": "code",
      "source": [
        "# Example using pass\n",
        "x = 10\n",
        "\n",
        "if x > 0:\n",
        "    pass  # Do nothing for now\n",
        "else:\n",
        "    print(\"x is not positive.\")\n"
      ],
      "metadata": {
        "id": "_M6q8XOTr3tT"
      },
      "execution_count": 20,
      "outputs": []
    },
    {
      "cell_type": "markdown",
      "source": [
        "Example 5: Conditional Expressions (Ternary Operator)\n",
        "\n",
        "Python also supports a shorthand way to write simple conditional statements using conditional expressions (often referred to as the ternary operator)."
      ],
      "metadata": {
        "id": "vilJy2uIr6lv"
      }
    },
    {
      "cell_type": "code",
      "source": [
        "# Ternary operator example\n",
        "num = -5\n",
        "result = \"Positive\" if num > 0 else \"Negative or Zero\"\n",
        "print(result)\n"
      ],
      "metadata": {
        "colab": {
          "base_uri": "https://localhost:8080/"
        },
        "id": "tspGBPL9r9VQ",
        "outputId": "29ba5770-46f9-4b65-f3d0-40e94d75cd9e"
      },
      "execution_count": 21,
      "outputs": [
        {
          "output_type": "stream",
          "name": "stdout",
          "text": [
            "Negative or Zero\n"
          ]
        }
      ]
    },
    {
      "cell_type": "markdown",
      "source": [
        "7. Describe the different types of loops in Python and their use cases with examples.\n",
        "\n",
        "In Python, loops are used to execute a block of code repeatedly as long as a specified condition is met. The two primary types of loops are for loops and while loops. Each serves different use cases and can be utilized in various scenarios.\n",
        "\n",
        "1. for Loops\n",
        "\n",
        "The for loop is used to iterate over a sequence (like a list, tuple, dictionary, set, or string) or other iterable objects. It is useful when the number of iterations is known beforehand."
      ],
      "metadata": {
        "id": "zM2yXCJ2r_w9"
      }
    },
    {
      "cell_type": "code",
      "source": [
        "# Iterating over a list\n",
        "fruits = [\"apple\", \"banana\", \"cherry\"]\n",
        "for fruit in fruits:\n",
        "    print(fruit)\n"
      ],
      "metadata": {
        "colab": {
          "base_uri": "https://localhost:8080/"
        },
        "id": "wXg681pWsRXL",
        "outputId": "0436441e-5601-4066-b58a-bde1449a7710"
      },
      "execution_count": 22,
      "outputs": [
        {
          "output_type": "stream",
          "name": "stdout",
          "text": [
            "apple\n",
            "banana\n",
            "cherry\n"
          ]
        }
      ]
    },
    {
      "cell_type": "markdown",
      "source": [
        "2. while Loops\n",
        "\n",
        "The while loop continues to execute a block of code as long as a specified condition is True. It is useful when the number of iterations is not known in advance and depends on a condition."
      ],
      "metadata": {
        "id": "jEsPjCOVsVEK"
      }
    },
    {
      "cell_type": "code",
      "source": [
        "# Using a while loop to count down\n",
        "count = 5\n",
        "while count > 0:\n",
        "    print(count)\n",
        "    count -= 1\n"
      ],
      "metadata": {
        "colab": {
          "base_uri": "https://localhost:8080/"
        },
        "id": "pTHmJcQpsWZY",
        "outputId": "faf245b5-6c7f-456e-8452-6f177d694fe3"
      },
      "execution_count": 23,
      "outputs": [
        {
          "output_type": "stream",
          "name": "stdout",
          "text": [
            "5\n",
            "4\n",
            "3\n",
            "2\n",
            "1\n"
          ]
        }
      ]
    },
    {
      "cell_type": "markdown",
      "source": [
        "3. Loop Control Statements\n",
        "\n",
        "Python also provides control statements that can alter the flow of loops:\n",
        "\n",
        "break: Exits the loop immediately.\n",
        "\n",
        "continue: Skips the current iteration and continues with the next one.\n",
        "\n",
        "pass: Does nothing; it’s a placeholder."
      ],
      "metadata": {
        "id": "0G07y17gsZVQ"
      }
    },
    {
      "cell_type": "code",
      "source": [
        "# Using break to exit a loop\n",
        "for num in range(10):\n",
        "    if num == 5:\n",
        "        break  # Exit the loop when num is 5\n",
        "    print(num)\n"
      ],
      "metadata": {
        "colab": {
          "base_uri": "https://localhost:8080/"
        },
        "id": "Yhvpemansght",
        "outputId": "8a0e294a-45ba-4069-ac06-1702395d7a16"
      },
      "execution_count": 24,
      "outputs": [
        {
          "output_type": "stream",
          "name": "stdout",
          "text": [
            "0\n",
            "1\n",
            "2\n",
            "3\n",
            "4\n"
          ]
        }
      ]
    },
    {
      "cell_type": "markdown",
      "source": [
        "4. Nested Loops\n",
        "\n",
        "You can also use loops inside other loops, known as nested loops. This is useful for dealing with multi-dimensional data structures, like lists of lists."
      ],
      "metadata": {
        "id": "CMcNGX8tsja1"
      }
    },
    {
      "cell_type": "code",
      "source": [
        "# Nested loop example\n",
        "for i in range(3):\n",
        "    for j in range(2):\n",
        "        print(f\"i={i}, j={j}\")\n"
      ],
      "metadata": {
        "colab": {
          "base_uri": "https://localhost:8080/"
        },
        "id": "O61V72Fqsmxg",
        "outputId": "109cdec5-8760-44f8-c777-5de6420f1d9d"
      },
      "execution_count": 25,
      "outputs": [
        {
          "output_type": "stream",
          "name": "stdout",
          "text": [
            "i=0, j=0\n",
            "i=0, j=1\n",
            "i=1, j=0\n",
            "i=1, j=1\n",
            "i=2, j=0\n",
            "i=2, j=1\n"
          ]
        }
      ]
    }
  ]
}