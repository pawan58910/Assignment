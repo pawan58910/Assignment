{
  "nbformat": 4,
  "nbformat_minor": 0,
  "metadata": {
    "colab": {
      "provenance": []
    },
    "kernelspec": {
      "name": "python3",
      "display_name": "Python 3"
    },
    "language_info": {
      "name": "python"
    }
  },
  "cells": [
    {
      "cell_type": "markdown",
      "source": [
        "1. What is the difference between a function and a method in Python?"
      ],
      "metadata": {
        "id": "B3DaBya072jQ"
      }
    },
    {
      "cell_type": "markdown",
      "source": [
        "In Python, the terms function and method are related but have distinct meanings:\n",
        "\n",
        "Function:\n",
        "A function is a block of reusable code that performs a specific task.\n",
        "\n",
        "It can be defined using the def keyword and can be called independently.\n",
        "\n",
        "A function does not belong to any object or class.\n",
        "\n",
        "It can take zero or more arguments and return a value."
      ],
      "metadata": {
        "id": "_eLs3mNi77Jv"
      }
    },
    {
      "cell_type": "code",
      "source": [
        "def add(a, b):\n",
        "    return a + b\n",
        "\n",
        "result = add(3, 5)\n",
        "print(result)\n"
      ],
      "metadata": {
        "colab": {
          "base_uri": "https://localhost:8080/"
        },
        "id": "WGvGsmQq8EKT",
        "outputId": "6616f03c-ef97-4076-de7b-34b41048f7c6"
      },
      "execution_count": 1,
      "outputs": [
        {
          "output_type": "stream",
          "name": "stdout",
          "text": [
            "8\n"
          ]
        }
      ]
    },
    {
      "cell_type": "markdown",
      "source": [
        "Method:\n",
        "A method is a function that is associated with an object or a class.\n",
        "\n",
        "It is defined within a class and is meant to operate on instances of that class (or the class itself, for class methods).\n",
        "\n",
        "Methods are always called on an object (for instance methods) or the class itself (for class methods).\n",
        "\n",
        "Methods have at least one special parameter, typically self, which refers to the instance of the class.\n",
        "\n"
      ],
      "metadata": {
        "id": "Ta_JA8P88NoF"
      }
    },
    {
      "cell_type": "code",
      "source": [
        "class Calculator:\n",
        "    def add(self, a, b):\n",
        "        return a + b\n",
        "\n",
        "calc = Calculator()\n",
        "result = calc.add(3, 5)\n",
        "print(result)\n"
      ],
      "metadata": {
        "colab": {
          "base_uri": "https://localhost:8080/"
        },
        "id": "qa4gu4sF8Uif",
        "outputId": "e32a30c6-50db-4036-e596-d7c82fa31c15"
      },
      "execution_count": 2,
      "outputs": [
        {
          "output_type": "stream",
          "name": "stdout",
          "text": [
            "8\n"
          ]
        }
      ]
    },
    {
      "cell_type": "markdown",
      "source": [
        "Key Differences:\n",
        "\n",
        "Association: A function is independent, while a method is associated with an object or a class.\n",
        "\n",
        "Invocation: A function is called by its name, while a method is called on an object (instance) or class.\n",
        "\n",
        "Self: In methods, the first parameter is usually self, which refers to the instance of the class. Functions do not have this."
      ],
      "metadata": {
        "id": "hVGsC7E28b7S"
      }
    },
    {
      "cell_type": "markdown",
      "source": [
        "2. Explain the concept of function arguments and parameters in Python"
      ],
      "metadata": {
        "id": "gcfZrywZ8edz"
      }
    },
    {
      "cell_type": "markdown",
      "source": [
        "In Python, function arguments and parameters are key concepts that determine how data is passed to and from functions. Let's break them down:\n",
        "\n",
        "1. Function Parameters:\n",
        "\n",
        "Parameters are the variables defined in the function signature (the function's definition) that act as placeholders for the values the function will receive when called.\n",
        "\n",
        "They define what kind of data (e.g., integers, strings, lists) the function expects to receive."
      ],
      "metadata": {
        "id": "PvCQj-bm8i6z"
      }
    },
    {
      "cell_type": "code",
      "source": [
        "def greet(name, age):\n",
        "    print(f\"Hello {name}, you are {age} years old.\")\n"
      ],
      "metadata": {
        "id": "e6ipDkUA8ziS"
      },
      "execution_count": 3,
      "outputs": []
    },
    {
      "cell_type": "markdown",
      "source": [
        "Here, name and age are parameters. They specify what values the function will need to perform its task."
      ],
      "metadata": {
        "id": "tu7Vl-9184BQ"
      }
    },
    {
      "cell_type": "markdown",
      "source": [
        "2. Function Arguments:\n",
        "\n",
        "Arguments are the actual values or data passed into the function when it is called.\n",
        "\n",
        "These values correspond to the parameters defined in the function."
      ],
      "metadata": {
        "id": "a5KVTlbF89nb"
      }
    },
    {
      "cell_type": "code",
      "source": [
        "greet(\"Alice\", 30)\n"
      ],
      "metadata": {
        "id": "tyH-EUkw9B1e"
      },
      "execution_count": null,
      "outputs": []
    },
    {
      "cell_type": "markdown",
      "source": [
        "In this case, \"Alice\" and 30 are arguments. They are passed into the greet function where name will hold \"Alice\" and age will hold 30."
      ],
      "metadata": {
        "id": "akYC6tZd9CdT"
      }
    },
    {
      "cell_type": "markdown",
      "source": [
        "Difference Between Parameters and Arguments:\n",
        "\n",
        "Parameters are part of the function definition.\n",
        "\n",
        "Arguments are the actual values passed to the function when it's called.\n",
        "Types of Arguments:\n",
        "\n",
        "Python allows several ways to pass arguments to functions, offering flexibility in how they are handled:\n",
        "\n",
        "1. Positional Arguments:\n",
        "These are the most common type of arguments. The order in which they are passed must match the order of the parameters in the function definition."
      ],
      "metadata": {
        "id": "MjeGGGBn9Ef1"
      }
    },
    {
      "cell_type": "code",
      "source": [
        "def subtract(a, b):\n",
        "    return a - b\n",
        "\n",
        "result = subtract(10, 5)\n",
        "print(result)\n"
      ],
      "metadata": {
        "colab": {
          "base_uri": "https://localhost:8080/"
        },
        "id": "7trcObnG9LB9",
        "outputId": "8b361208-87ba-4a02-af66-8fcb1ab0f1fa"
      },
      "execution_count": 4,
      "outputs": [
        {
          "output_type": "stream",
          "name": "stdout",
          "text": [
            "5\n"
          ]
        }
      ]
    },
    {
      "cell_type": "markdown",
      "source": [
        "2. Keyword Arguments:\n",
        "\n",
        "These are arguments that are passed by explicitly specifying the parameter name. This allows you to pass arguments in any order."
      ],
      "metadata": {
        "id": "4-JBJdCq9PwQ"
      }
    },
    {
      "cell_type": "code",
      "source": [
        "def greet(name, age):\n",
        "    print(f\"Hello {name}, you are {age} years old.\")\n",
        "\n",
        "greet(age=25, name=\"Pawan\")\n"
      ],
      "metadata": {
        "colab": {
          "base_uri": "https://localhost:8080/"
        },
        "id": "h6L43L8U9SJr",
        "outputId": "e06c6bd0-6e2c-4d5a-daff-13c0dd9556d4"
      },
      "execution_count": 6,
      "outputs": [
        {
          "output_type": "stream",
          "name": "stdout",
          "text": [
            "Hello Pawan, you are 25 years old.\n"
          ]
        }
      ]
    },
    {
      "cell_type": "markdown",
      "source": [
        "3. Default Arguments:\n",
        "\n",
        "Parameters can have default values. If no argument is passed for a parameter with a default value, that default value will be used."
      ],
      "metadata": {
        "id": "n_zQq6x-9cDA"
      }
    },
    {
      "cell_type": "code",
      "source": [
        "def greet(name, age=18):\n",
        "    print(f\"Hello {name}, you are {age} years old.\")\n",
        "\n",
        "greet(\"Pawan\")\n",
        "greet(\"Rohan\", 22)\n"
      ],
      "metadata": {
        "colab": {
          "base_uri": "https://localhost:8080/"
        },
        "id": "FPPgxtAP9dM-",
        "outputId": "96fdd1cd-2339-4fae-8e00-eb784f4a863c"
      },
      "execution_count": 7,
      "outputs": [
        {
          "output_type": "stream",
          "name": "stdout",
          "text": [
            "Hello Pawan, you are 18 years old.\n",
            "Hello Rohan, you are 22 years old.\n"
          ]
        }
      ]
    },
    {
      "cell_type": "markdown",
      "source": [
        "4. Variable-length Arguments (Arbitrary Arguments):\n",
        "\n",
        "Python allows you to pass a variable number of arguments to a function using:\n",
        "\n",
        "*args for an arbitrary number of positional arguments (packed into a tuple).\n",
        "\n",
        "**kwargs for an arbitrary number of keyword arguments (packed into a dictionary)."
      ],
      "metadata": {
        "id": "_aTufBdw9xns"
      }
    },
    {
      "cell_type": "code",
      "source": [
        "def add(*numbers):\n",
        "    return sum(numbers)\n",
        "\n",
        "result = add(1, 2, 3, 4)\n",
        "print(result)\n"
      ],
      "metadata": {
        "colab": {
          "base_uri": "https://localhost:8080/"
        },
        "id": "6sbziwjz9zvY",
        "outputId": "cac5a105-36a1-4c7e-a4d7-79e64123bcf3"
      },
      "execution_count": 8,
      "outputs": [
        {
          "output_type": "stream",
          "name": "stdout",
          "text": [
            "10\n"
          ]
        }
      ]
    },
    {
      "cell_type": "code",
      "source": [
        "def print_details(**details):\n",
        "    for key, value in details.items():\n",
        "        print(f\"{key}: {value}\")\n",
        "\n",
        "print_details(name=\"Sidhharth\", age=30, city=\"New Delhi\")\n"
      ],
      "metadata": {
        "colab": {
          "base_uri": "https://localhost:8080/"
        },
        "id": "hAj6iBWY94Rx",
        "outputId": "6c654bd0-c2d9-40b2-9d18-ab93e565adb7"
      },
      "execution_count": 11,
      "outputs": [
        {
          "output_type": "stream",
          "name": "stdout",
          "text": [
            "name: Sidhharth\n",
            "age: 30\n",
            "city: New Delhi\n"
          ]
        }
      ]
    },
    {
      "cell_type": "markdown",
      "source": [
        "Summary of Argument Types:\n",
        "\n",
        "Positional arguments: Passed in the order the parameters are defined.\n",
        "\n",
        "Keyword arguments: Passed with explicit parameter names.\n",
        "\n",
        "Default arguments: Have a predefined value if no argument is provided.\n",
        "\n",
        "Variable-length arguments: Use *args (for positional) or **kwargs (for keyword arguments) to handle any number of arguments."
      ],
      "metadata": {
        "id": "jtsporNu-Fa2"
      }
    },
    {
      "cell_type": "markdown",
      "source": [
        "3. What are the different ways to define and call a function in Python?"
      ],
      "metadata": {
        "id": "F9eHQ0-5-H4O"
      }
    },
    {
      "cell_type": "markdown",
      "source": [
        "In Python, functions can be defined and called in various ways to provide flexibility in how you structure your code. Below are the main ways to define and call a function:\n",
        "\n",
        "1. Defining and Calling a Basic Function:\n",
        "\n",
        "The most basic way to define and call a function is to simply use the def keyword to define the function and then call it by its name."
      ],
      "metadata": {
        "id": "V0V4kaYe-hhl"
      }
    },
    {
      "cell_type": "markdown",
      "source": [
        "2. Defining and Calling a Function with Parameters:\n",
        "\n",
        "Functions can accept parameters (or arguments), which allow you to pass data into the function for processing."
      ],
      "metadata": {
        "id": "4xsdOgT5-zU5"
      }
    },
    {
      "cell_type": "markdown",
      "source": [
        "3. Defining and Calling a Function with Return Values:\n",
        "\n",
        "Functions can return values using the return keyword. These values can be used later in the program."
      ],
      "metadata": {
        "id": "2fJajgVT-0UI"
      }
    },
    {
      "cell_type": "markdown",
      "source": [
        "4. Using Default Parameters:\n",
        "\n",
        "You can define default values for parameters, so if an argument is not provided during the function call, the default value will be used."
      ],
      "metadata": {
        "id": "_ssG8H1Z-3xo"
      }
    },
    {
      "cell_type": "markdown",
      "source": [
        "5. Keyword Arguments (Passing Arguments by Name):\n",
        "\n",
        "You can pass arguments by explicitly naming the parameter during the function call. This allows arguments to be passed in any order."
      ],
      "metadata": {
        "id": "yMh1d_DD-7Qu"
      }
    },
    {
      "cell_type": "markdown",
      "source": [
        "6. Variable-length Arguments (*args and **kwargs):\n",
        "\n",
        "a. Using *args (Positional Arguments):\n",
        "*args allows you to pass a variable number of positional arguments to a function. The arguments are packed into a tuple."
      ],
      "metadata": {
        "id": "b52pCb5d--C8"
      }
    },
    {
      "cell_type": "markdown",
      "source": [
        "b. Using **kwargs (Keyword Arguments):\n",
        "\n",
        "**kwargs allows you to pass a variable number of keyword arguments to a function. The arguments are packed into a dictionary."
      ],
      "metadata": {
        "id": "VzXq1b4X_Bmy"
      }
    },
    {
      "cell_type": "markdown",
      "source": [
        "7. Lambda Functions (Anonymous Functions):\n",
        "\n",
        "Lambda functions are small, anonymous functions defined using the lambda keyword. They can take any number of arguments but only have a single expression."
      ],
      "metadata": {
        "id": "sXY_lxlG_GgQ"
      }
    },
    {
      "cell_type": "markdown",
      "source": [
        "8. Function Calls with a Function Object (First-Class Functions):\n",
        "\n",
        "Functions in Python are first-class objects, meaning they can be passed around as arguments to other functions or returned from other functions."
      ],
      "metadata": {
        "id": "APAaqIr6_JG_"
      }
    },
    {
      "cell_type": "markdown",
      "source": [
        "9. Recursive Functions:\n",
        "\n",
        "A function that calls itself is called a recursive function. This is useful for problems that can be divided into smaller subproblems (e.g., factorial, Fibonacci sequence)."
      ],
      "metadata": {
        "id": "6Q9XYTdF_LxG"
      }
    },
    {
      "cell_type": "markdown",
      "source": [
        "10. Function Expressions in Return Statements (Returning Functions):\n",
        "\n",
        "You can return a function from another function. This is commonly used in closures and higher-order functions."
      ],
      "metadata": {
        "id": "_CHdgmfk_O6Y"
      }
    },
    {
      "cell_type": "markdown",
      "source": [
        "Summary of Different Ways to Define and Call Functions:\n",
        "\n",
        "Basic function: Define using def, call by name.\n",
        "\n",
        "Function with parameters: Accepts arguments passed when called.\n",
        "\n",
        "Function with return values: Returns a value to be used in the program.\n",
        "\n",
        "Default arguments: Function parameters can have default values.\n",
        "\n",
        "Keyword arguments: Pass arguments using parameter names in any order.\n",
        "\n",
        "Variable-length arguments (*args, **kwargs): Accept an arbitrary number of arguments.\n",
        "\n",
        "Lambda functions: Anonymous, single-expression functions.\n",
        "\n",
        "Passing functions as arguments: Functions can be passed as arguments or returned from other functions.\n",
        "\n",
        "Recursive functions: Functions that call themselves.\n",
        "\n",
        "Returning functions from functions: Functions can return other functions (higher-order functions)."
      ],
      "metadata": {
        "id": "mw2U3CI6_SOT"
      }
    },
    {
      "cell_type": "markdown",
      "source": [
        "4.  What is the purpose of the `return` statement in a Python function?"
      ],
      "metadata": {
        "id": "8iTM7-Pu_Y_C"
      }
    },
    {
      "cell_type": "markdown",
      "source": [
        "The return statement in Python is used to send a result or value back from a function to the caller. It is one of the key ways to make a function produce output after performing its operations. When a function encounters a return statement, it terminates immediately, and the value following the return is sent back to wherever the function was called."
      ],
      "metadata": {
        "id": "f4FITdIL_dRu"
      }
    },
    {
      "cell_type": "markdown",
      "source": [
        "1. Key Purposes of the return Statement:\n",
        "\n",
        "Return a Value to the Caller:\n",
        "\n",
        "The primary purpose of return is to provide a result from a function so that it can be used later in the program."
      ],
      "metadata": {
        "id": "c8QUP0YPAuin"
      }
    },
    {
      "cell_type": "code",
      "source": [
        "def add(a, b):\n",
        "    return a + b\n",
        "\n",
        "result = add(3, 5)\n",
        "print(result)\n"
      ],
      "metadata": {
        "colab": {
          "base_uri": "https://localhost:8080/"
        },
        "id": "ewz9F2lFAzYu",
        "outputId": "e68e4ff4-99cb-4aa0-e775-627d6176ddc3"
      },
      "execution_count": 12,
      "outputs": [
        {
          "output_type": "stream",
          "name": "stdout",
          "text": [
            "8\n"
          ]
        }
      ]
    },
    {
      "cell_type": "markdown",
      "source": [
        "In this example, the return sends the sum of a and b back to the caller, and the value is stored in the variable result."
      ],
      "metadata": {
        "id": "kx9s6hNRA3_l"
      }
    },
    {
      "cell_type": "markdown",
      "source": [
        "2. Exit the Function Early:\n",
        "\n",
        "The return statement immediately exits the function, regardless of where it is located in the function. If a return statement is encountered, no further code in the function will be executed."
      ],
      "metadata": {
        "id": "Ok7QI6PNA7xi"
      }
    },
    {
      "cell_type": "code",
      "source": [
        "def greet(name):\n",
        "    if name == \"Pawan\":\n",
        "        return \"Hello, Pawan!\"\n",
        "    return \"Hello, Stranger!\"\n",
        "\n",
        "print(greet(\"Pawan\"))\n",
        "print(greet(\"Sidhharth\"))\n"
      ],
      "metadata": {
        "colab": {
          "base_uri": "https://localhost:8080/"
        },
        "id": "n8A7hXPGBJO8",
        "outputId": "442db886-2c68-4ca6-9b6e-b90e2c879849"
      },
      "execution_count": 13,
      "outputs": [
        {
          "output_type": "stream",
          "name": "stdout",
          "text": [
            "Hello, Pawan!\n",
            "Hello, Stranger!\n"
          ]
        }
      ]
    },
    {
      "cell_type": "markdown",
      "source": [
        "Here, if name is \"Pawan\", the function exits immediately with return and does not reach the second return statement."
      ],
      "metadata": {
        "id": "GAeNdTY8BXl4"
      }
    },
    {
      "cell_type": "markdown",
      "source": [
        "3. Return Multiple Values (as Tuples):\n",
        "\n",
        "A function can return multiple values at once by separating them with commas. Python automatically packs them into a tuple."
      ],
      "metadata": {
        "id": "Sno-gE4jBaDy"
      }
    },
    {
      "cell_type": "code",
      "source": [
        "def get_name_and_age():\n",
        "    return \"Pawan\", 30\n",
        "\n",
        "name, age = get_name_and_age()\n",
        "print(name)\n",
        "print(age)\n"
      ],
      "metadata": {
        "colab": {
          "base_uri": "https://localhost:8080/"
        },
        "id": "MK_9hYd1Bc-S",
        "outputId": "240672a3-fa24-4bb4-b4c2-eca2f7dc9a25"
      },
      "execution_count": 14,
      "outputs": [
        {
          "output_type": "stream",
          "name": "stdout",
          "text": [
            "Pawan\n",
            "30\n"
          ]
        }
      ]
    },
    {
      "cell_type": "markdown",
      "source": [
        "In this case, the function returns two values, which are unpacked into the variables name and age."
      ],
      "metadata": {
        "id": "HknszB66BkO1"
      }
    },
    {
      "cell_type": "markdown",
      "source": [
        "Return None:\n",
        "\n",
        "If a function does not explicitly use a return statement, it implicitly returns None (which is Python’s default return value).\n",
        "You can also use return with no value, and it will return None."
      ],
      "metadata": {
        "id": "-FlATFI7Bo2i"
      }
    },
    {
      "cell_type": "code",
      "source": [
        "def print_message(message):\n",
        "    print(message)\n",
        "    return\n",
        "\n",
        "result = print_message(\"Hello!\")\n",
        "print(result)\n"
      ],
      "metadata": {
        "colab": {
          "base_uri": "https://localhost:8080/"
        },
        "id": "KuwoUtDQBxwp",
        "outputId": "b7e3c468-4fa0-47f2-93b0-2f4bff89bb12"
      },
      "execution_count": 15,
      "outputs": [
        {
          "output_type": "stream",
          "name": "stdout",
          "text": [
            "Hello!\n",
            "None\n"
          ]
        }
      ]
    },
    {
      "cell_type": "markdown",
      "source": [
        "Here, even though there's no value after return, the function still exits and returns None implicitly."
      ],
      "metadata": {
        "id": "d5_JpdkJB2M-"
      }
    },
    {
      "cell_type": "markdown",
      "source": [
        "5. Used in Recursive Functions:\n",
        "\n",
        "The return statement is essential in recursive functions (functions that call themselves) to return the result of the recursive call, ensuring that the final result is propagated back through all the recursive calls."
      ],
      "metadata": {
        "id": "SyJAi-SrB7vL"
      }
    },
    {
      "cell_type": "code",
      "source": [
        "def factorial(n):\n",
        "    if n == 0:\n",
        "        return 1\n",
        "    else:\n",
        "        return n * factorial(n - 1)\n",
        "\n",
        "print(factorial(5))\n"
      ],
      "metadata": {
        "colab": {
          "base_uri": "https://localhost:8080/"
        },
        "id": "oQZucutAB-eX",
        "outputId": "b1535b4d-695c-4c22-cd13-c86b53e51ef4"
      },
      "execution_count": 16,
      "outputs": [
        {
          "output_type": "stream",
          "name": "stdout",
          "text": [
            "120\n"
          ]
        }
      ]
    },
    {
      "cell_type": "markdown",
      "source": [
        "In this case, return ensures that the intermediate results from the recursive calls are correctly combined and passed back up to the initial call."
      ],
      "metadata": {
        "id": "-N-71NVlCDFs"
      }
    },
    {
      "cell_type": "markdown",
      "source": [
        "Key Points About return:\n",
        "\n",
        "End the Function Execution: Once return is executed, the function exits and the code below the return statement is not executed.\n",
        "\n",
        "Return Any Type: A function can return any type of object, including numbers, strings, lists, dictionaries, objects, or even other functions.\n",
        "\n",
        "Multiple Return Statements: A function can have multiple return statements, but only one will be executed, depending on the control flow (like conditions, loops, etc.).\n",
        "\n",
        "No return Equals None: If a function doesn’t have a return statement, or if the return is reached without any value, Python implicitly returns None.\n"
      ],
      "metadata": {
        "id": "ESgVIUHQCFwF"
      }
    },
    {
      "cell_type": "markdown",
      "source": [
        "5. What are iterators in Python and how do they differ from iterables?"
      ],
      "metadata": {
        "id": "WBdKOHIFCZfB"
      }
    },
    {
      "cell_type": "markdown",
      "source": [
        "In Python, iterators and iterables are related concepts, but they serve different roles in how data is accessed and iterated over. Let's explore each term and their differences:\n",
        "\n",
        "1. Iterable:\n",
        "\n",
        "An iterable is any Python object that can return an iterator.\n",
        "In other words, an iterable is an object that you can loop over (or iterate through) using a for loop or any function that accepts an iterable (e.g., list(), sum(), etc.).\n",
        "\n",
        "An iterable can be any object that implements the __iter__() method or the __getitem__() method.\n",
        "Common examples of iterables include lists, tuples, sets, dictionaries, strings, and ranges.\n",
        "Key Points:\n",
        "\n",
        "Iterable objects support iteration. They don't necessarily have to be iterated over immediately; they provide the means to obtain an iterator to do so.\n",
        "You can loop over iterables using for loops or use functions like list(), sum(), any(), and all() that work with iterables."
      ],
      "metadata": {
        "id": "suvd6a7QClkK"
      }
    },
    {
      "cell_type": "code",
      "source": [
        "# A list is an iterable\n",
        "my_list = [1, 2, 3, 4]\n",
        "\n",
        "# Using a for loop to iterate over the iterable\n",
        "for item in my_list:\n",
        "    print(item)\n"
      ],
      "metadata": {
        "colab": {
          "base_uri": "https://localhost:8080/"
        },
        "id": "rQMko802DMUG",
        "outputId": "7fc7bbb9-8c2f-445c-9526-a16bf9457a5a"
      },
      "execution_count": 17,
      "outputs": [
        {
          "output_type": "stream",
          "name": "stdout",
          "text": [
            "1\n",
            "2\n",
            "3\n",
            "4\n"
          ]
        }
      ]
    },
    {
      "cell_type": "markdown",
      "source": [
        "This works because a list is an iterable, and the for loop automatically creates an iterator behind the scenes."
      ],
      "metadata": {
        "id": "Siu_35WiDOvJ"
      }
    },
    {
      "cell_type": "markdown",
      "source": [
        "2. Iterator:\n",
        "\n",
        "An iterator is an object that represents a stream of data. It is an object that knows how to fetch the next item in the sequence and keeps track of its position during iteration.\n",
        "\n",
        "Iterators must implement two key methods:\n",
        "\n",
        "__iter__(): Returns the iterator object itself.\n",
        "\n",
        "__next__(): Returns the next item from the iterable. If there are no more items, it raises a StopIteration exception to signal the end of iteration.\n",
        "\n",
        "Key Points:\n",
        "\n",
        "Iterators are the objects that actually perform the iteration over an iterable. They provide the mechanism for retrieving elements one by one from an iterable.\n",
        "You can manually iterate through an iterator using the next() function."
      ],
      "metadata": {
        "id": "XYAEQrxQDQYL"
      }
    },
    {
      "cell_type": "code",
      "source": [
        "my_list = [1, 2, 3, 4]\n",
        "\n",
        "# Get an iterator from the iterable (list)\n",
        "my_iterator = iter(my_list)\n",
        "\n",
        "# Using next() to manually iterate through the iterator\n",
        "print(next(my_iterator))\n",
        "print(next(my_iterator))\n",
        "print(next(my_iterator))\n",
        "print(next(my_iterator))\n",
        "# next(my_iterator) will raise StopIteration as there are no more items\n"
      ],
      "metadata": {
        "colab": {
          "base_uri": "https://localhost:8080/"
        },
        "id": "L97bbGehDV7D",
        "outputId": "b3c2ae94-1ea3-4a9e-c20c-016f96fb5113"
      },
      "execution_count": 18,
      "outputs": [
        {
          "output_type": "stream",
          "name": "stdout",
          "text": [
            "1\n",
            "2\n",
            "3\n",
            "4\n"
          ]
        }
      ]
    },
    {
      "cell_type": "markdown",
      "source": [
        "6. Explain the concept of generators in Python and how they are defined."
      ],
      "metadata": {
        "id": "mYfbja2fDp_y"
      }
    },
    {
      "cell_type": "markdown",
      "source": [
        "Generators in Python:\n",
        "\n",
        "A generator in Python is a special type of iterator that allows you to iterate over a sequence of values lazily, meaning values are generated one at a time as you need them, rather than all at once. This makes generators particularly memory-efficient when dealing with large datasets or infinite sequences, as they don't require the entire sequence to be stored in memory.\n",
        "\n",
        "Key Features of Generators:\n",
        "\n",
        "Lazy Evaluation: Generators generate values on the fly, only when needed. This is called lazy evaluation, and it helps save memory.\n",
        "\n",
        "Stateful: A generator function retains its state between successive calls to next(). It remembers where it left off and can continue from there.\n",
        "\n",
        "Yield: The key feature of generators is the yield keyword, which is used to produce a value and temporarily suspend the function's execution, allowing the value to be returned to the caller.\n",
        "\n",
        "Iterators: Like all iterators, generators implement the __iter__() and __next__() methods, making them iterable and able to be used in for loops."
      ],
      "metadata": {
        "id": "sse7VFI4Dxrk"
      }
    },
    {
      "cell_type": "markdown",
      "source": [
        "How Generators Are Defined:\n",
        "\n",
        "Generators can be defined in two main ways:\n",
        "\n",
        "Generator Functions: A generator function is a function that contains one or more yield expressions.\n",
        "\n",
        "Generator Expressions: These are concise, inline versions of generators, similar to list comprehensions but with parentheses () instead of square brackets []."
      ],
      "metadata": {
        "id": "JFPa3QccENkw"
      }
    },
    {
      "cell_type": "markdown",
      "source": [
        "1. Generator Functions:\n",
        "\n",
        "A generator function looks like a regular function, except that it uses the yield keyword to return values one by one."
      ],
      "metadata": {
        "id": "6vQnAASoETjR"
      }
    },
    {
      "cell_type": "code",
      "source": [
        "def count_up_to(max):\n",
        "    count = 1\n",
        "    while count <= max:\n",
        "        yield count  # Yield returns the value and pauses the function\n",
        "        count += 1\n",
        "\n",
        "# Create a generator object\n",
        "counter = count_up_to(5)\n",
        "\n",
        "# Iterating over the generator using a for loop\n",
        "for num in counter:\n",
        "    print(num)\n"
      ],
      "metadata": {
        "colab": {
          "base_uri": "https://localhost:8080/"
        },
        "id": "vhk3ZiwIEPyT",
        "outputId": "4ade0f5a-22ee-4f42-88e4-da08c058a8aa"
      },
      "execution_count": 19,
      "outputs": [
        {
          "output_type": "stream",
          "name": "stdout",
          "text": [
            "1\n",
            "2\n",
            "3\n",
            "4\n",
            "5\n"
          ]
        }
      ]
    },
    {
      "cell_type": "markdown",
      "source": [
        "When the yield keyword is encountered in the count_up_to function, it produces a value (the current value of count) and pauses the function's execution. The next time the generator is resumed (via next() or a for loop), it picks up right where it left off.\n",
        "\n",
        "Unlike a regular function, a generator doesn't compute and return all values at once; instead, it computes them one by one, as needed."
      ],
      "metadata": {
        "id": "VAsoXJ35EbQ3"
      }
    },
    {
      "cell_type": "markdown",
      "source": [
        "2. Generator Expressions:\n",
        "\n",
        "A generator expression is similar to a list comprehension, but instead of creating a full list in memory, it returns a generator that yields items one by one."
      ],
      "metadata": {
        "id": "gin4i_sOEeV7"
      }
    },
    {
      "cell_type": "code",
      "source": [
        "# Generator expression that generates squares of numbers from 1 to 5\n",
        "gen_expr = (x ** 2 for x in range(1, 6))\n",
        "\n",
        "# Iterating over the generator\n",
        "for square in gen_expr:\n",
        "    print(square)\n"
      ],
      "metadata": {
        "colab": {
          "base_uri": "https://localhost:8080/"
        },
        "id": "uxRs5eIKElVX",
        "outputId": "bf1e4afd-6474-4fda-f243-db09335c2da9"
      },
      "execution_count": 20,
      "outputs": [
        {
          "output_type": "stream",
          "name": "stdout",
          "text": [
            "1\n",
            "4\n",
            "9\n",
            "16\n",
            "25\n"
          ]
        }
      ]
    },
    {
      "cell_type": "markdown",
      "source": [
        "Like generator functions, generator expressions use yield behind the scenes and generate values one at a time, making them memory efficient.\n",
        "\n",
        "The parentheses () indicate that it's a generator expression."
      ],
      "metadata": {
        "id": "JirDN4eFEpIP"
      }
    },
    {
      "cell_type": "markdown",
      "source": [
        "7. What are the advantages of using generators over regular functions?"
      ],
      "metadata": {
        "id": "g5Wtaq2nEw7r"
      }
    },
    {
      "cell_type": "markdown",
      "source": [
        "Using generators in Python offers several distinct advantages over regular functions, especially when working with large datasets, streams of data, or scenarios requiring lazy evaluation. Here's a breakdown of the key advantages of using generators:\n",
        "\n",
        "1. Memory Efficiency\n",
        "\n",
        "Generators are much more memory efficient compared to regular functions that return large data structures (like lists or dictionaries) because generators yield items one at a time.\n",
        "\n",
        "Regular functions that return a list, for example, must create and store all elements of that list in memory, which can quickly become a problem for large datasets."
      ],
      "metadata": {
        "id": "i7y51OYkEzsd"
      }
    },
    {
      "cell_type": "code",
      "source": [
        "# Regular function returning a list (memory-heavy)\n",
        "def fibonacci_list(n):\n",
        "    fibs = []\n",
        "    a, b = 0, 1\n",
        "    for _ in range(n):\n",
        "        fibs.append(a)\n",
        "        a, b = b, a\n",
        "    return fibs\n",
        "\n",
        "# Generator function (memory-efficient)\n",
        "def fibonacci_generator(n):\n",
        "    a, b = 0, 1\n",
        "    for _ in range(n):\n",
        "        yield a\n",
        "        a, b = b, a\n",
        "\n",
        "# Using the generator\n",
        "fib_gen = fibonacci_generator(1000000)  # This won't consume all memory at once\n"
      ],
      "metadata": {
        "id": "3Izrws0bFM59"
      },
      "execution_count": 21,
      "outputs": []
    },
    {
      "cell_type": "markdown",
      "source": [
        "2. Performance Improvement (Lazy Evaluation)\n",
        "\n",
        "Generators evaluate values lazily, meaning that values are only computed when they are needed, rather than all at once. This can greatly improve performance when working with large or infinite data streams.\n",
        "\n",
        "Regular functions return all the values at once, even if you only need a small portion of the data, leading to unnecessary computations and time spent generating unused values."
      ],
      "metadata": {
        "id": "7V6a9eowFRvp"
      }
    },
    {
      "cell_type": "markdown",
      "source": [
        "3. Infinite Sequences\n",
        "\n",
        "Generators can represent infinite sequences without running out of memory, which would be impossible for regular functions that return all values at once (e.g., generating an infinite sequence of numbers or data).\n",
        "\n",
        "Regular functions would require all elements of an infinite sequence to be stored, leading to an infinite loop or out-of-memory error."
      ],
      "metadata": {
        "id": "vi33cpDQFmCG"
      }
    },
    {
      "cell_type": "code",
      "source": [
        "# Infinite sequence generator\n",
        "def count_up():\n",
        "    n = 1\n",
        "    while True:\n",
        "        yield n\n",
        "        n += 1\n",
        "\n",
        "# Using the infinite generator\n",
        "counter = count_up()\n",
        "for _ in range(5):\n",
        "    print(next(counter))  # Outputs: 1, 2, 3, 4, 5 (continues indefinitely)\n"
      ],
      "metadata": {
        "colab": {
          "base_uri": "https://localhost:8080/"
        },
        "id": "tTSp1Z0XFosa",
        "outputId": "18cc48ee-4ae2-46bf-fda5-78caf2c1486b"
      },
      "execution_count": 23,
      "outputs": [
        {
          "output_type": "stream",
          "name": "stdout",
          "text": [
            "1\n",
            "2\n",
            "3\n",
            "4\n",
            "5\n"
          ]
        }
      ]
    },
    {
      "cell_type": "markdown",
      "source": [
        "4. Stateful Iteration\n",
        "\n",
        "Generators automatically maintain their state between iterations. Once a value is yielded, the generator “remembers” where it left off and continues from that point when asked for the next value.\n",
        "\n",
        "Regular functions don’t maintain state between function calls unless explicitly handled with external variables or return values."
      ],
      "metadata": {
        "id": "yNWCbQTLFs0_"
      }
    },
    {
      "cell_type": "code",
      "source": [
        "def countdown(n):\n",
        "    while n > 0:\n",
        "        yield n\n",
        "        n -= 1\n",
        "\n",
        "# Countdown starts at 5 and goes to 1\n",
        "countdown_gen = countdown(5)\n",
        "for value in countdown_gen:\n",
        "    print(value)\n"
      ],
      "metadata": {
        "colab": {
          "base_uri": "https://localhost:8080/"
        },
        "id": "H3Wc8r9LFvt1",
        "outputId": "411f5c4c-90ff-41a3-d9d9-179977bb3524"
      },
      "execution_count": 24,
      "outputs": [
        {
          "output_type": "stream",
          "name": "stdout",
          "text": [
            "5\n",
            "4\n",
            "3\n",
            "2\n",
            "1\n"
          ]
        }
      ]
    },
    {
      "cell_type": "markdown",
      "source": [
        "5. Improved Readability and Conciseness\n",
        "\n",
        "Generator functions can simplify code by making it more concise and easier to read. Instead of creating and returning large data structures, generators express the idea of generating values lazily, which can make code more intuitive.\n",
        "\n",
        "Regular functions might require creating additional temporary lists or collections to store all the results before returning them."
      ],
      "metadata": {
        "id": "cofwuqYRF3kn"
      }
    },
    {
      "cell_type": "code",
      "source": [
        "# Regular function (returns a list)\n",
        "def even_numbers_up_to(limit):\n",
        "    return [x for x in range(limit) if x % 2 == 0]\n",
        "\n",
        "# Generator function (yields values one by one)\n",
        "def even_numbers_generator(limit):\n",
        "    for x in range(limit):\n",
        "        if x % 2 == 0:\n",
        "            yield x\n",
        "\n",
        "# Using the generator\n",
        "for even_num in even_numbers_generator(10):\n",
        "    print(even_num)\n"
      ],
      "metadata": {
        "colab": {
          "base_uri": "https://localhost:8080/"
        },
        "id": "Clo2RS5TF4_o",
        "outputId": "b4f8fe49-5367-4be3-9277-bd5aa6ec6517"
      },
      "execution_count": 25,
      "outputs": [
        {
          "output_type": "stream",
          "name": "stdout",
          "text": [
            "0\n",
            "2\n",
            "4\n",
            "6\n",
            "8\n"
          ]
        }
      ]
    },
    {
      "cell_type": "markdown",
      "source": [
        "6. Better for Pipelines and Chaining\n",
        "\n",
        "Generators work well in pipelines or compositions where one generator feeds data into another generator. You can chain generators together to create efficient processing pipelines without creating intermediate data structures.\n",
        "\n",
        "Regular functions would require building up the intermediate results into a new collection before passing it to the next step."
      ],
      "metadata": {
        "id": "gF8y6zEtF-Nu"
      }
    },
    {
      "cell_type": "code",
      "source": [
        "def even_numbers(limit):\n",
        "    for x in range(limit):\n",
        "        if x % 2 == 0:\n",
        "            yield x\n",
        "\n",
        "def square_numbers(numbers):\n",
        "    for number in numbers:\n",
        "        yield number ** 2\n",
        "\n",
        "# Chain generators\n",
        "numbers = even_numbers(10)\n",
        "squared_numbers = square_numbers(numbers)\n",
        "\n",
        "for num in squared_numbers:\n",
        "    print(num)\n"
      ],
      "metadata": {
        "colab": {
          "base_uri": "https://localhost:8080/"
        },
        "id": "S_qQs01JGENY",
        "outputId": "34860c32-aac4-4b70-fa9d-39060c24844e"
      },
      "execution_count": 26,
      "outputs": [
        {
          "output_type": "stream",
          "name": "stdout",
          "text": [
            "0\n",
            "4\n",
            "16\n",
            "36\n",
            "64\n"
          ]
        }
      ]
    },
    {
      "cell_type": "markdown",
      "source": [
        "7. No Need to Compute Entire Sequence\n",
        "\n",
        "With regular functions, if you want to compute a large sequence of values, the entire sequence must be computed and stored in memory before returning. This is not necessary with generators, where each item is produced only when needed."
      ],
      "metadata": {
        "id": "HIqrwu5bGF1e"
      }
    },
    {
      "cell_type": "markdown",
      "source": [
        "8. What is a lambda function in Python and when is it typically used"
      ],
      "metadata": {
        "id": "yh8zsRN9GNu9"
      }
    },
    {
      "cell_type": "markdown",
      "source": [
        "Lambda Functions in Python:\n",
        "\n",
        "A lambda function is a small, anonymous function defined using the lambda keyword, rather than the standard def keyword. The general syntax for a lambda function is:"
      ],
      "metadata": {
        "id": "TleTCBJoGi2O"
      }
    },
    {
      "cell_type": "markdown",
      "source": [
        "lambda: The keyword that defines the function.\n",
        "\n",
        "arguments: A comma-separated list of arguments (like in a regular function).\n",
        "\n",
        "expression: A single expression that the function evaluates and returns. It cannot contain multiple statements or assignments."
      ],
      "metadata": {
        "id": "ZvFRV4dNGl8o"
      }
    },
    {
      "cell_type": "markdown",
      "source": [
        "Key Characteristics of Lambda Functions:\n",
        "\n",
        "Anonymous: Lambda functions are often used without a name (i.e., they're anonymous), although you can assign them to a variable if needed.\n",
        "\n",
        "Single Expression: Unlike regular functions, lambda functions consist of a single expression. The result of this expression is automatically returned.\n",
        "\n",
        "Compact: They are useful for writing short, one-liner functions that are easy to pass around without needing to define a full function using def."
      ],
      "metadata": {
        "id": "j1apJZ3pGvcR"
      }
    },
    {
      "cell_type": "markdown",
      "source": [
        "When to Use Lambda Functions:\n",
        "\n",
        "Lambda functions are typically used in scenarios where:\n",
        "\n",
        "A short function is needed temporarily: They are ideal when you need a function for a short period or for a one-off operation, and you don't want to define a full named function.\n",
        "\n",
        "Function arguments: Lambda functions are often passed as arguments to higher-order functions, such as map(), filter(), sorted(), and reduce().\n",
        "\n",
        "No need to reuse the function: If the function is only used once or twice, defining a full function using def may be overkill. A lambda function provides a quick and compact way to define the functionality."
      ],
      "metadata": {
        "id": "ECaB4KJ6G137"
      }
    },
    {
      "cell_type": "markdown",
      "source": [
        "Common Use Cases for Lambda Functions:\n",
        "\n",
        "With map():\n",
        "\n",
        "The map() function applies a given function to all items in an iterable and returns a map object (which is an iterator)."
      ],
      "metadata": {
        "id": "OF7ThbXJHAHU"
      }
    },
    {
      "cell_type": "code",
      "source": [
        "# Using lambda with map to square each number in a list\n",
        "numbers = [1, 2, 3, 4]\n",
        "squares = map(lambda x: x ** 2, numbers)\n",
        "print(list(squares))  # Output: [1, 4, 9, 16]\n"
      ],
      "metadata": {
        "colab": {
          "base_uri": "https://localhost:8080/"
        },
        "id": "-voUA9LmHBTb",
        "outputId": "356f5045-7104-406b-886d-614969bf93a1"
      },
      "execution_count": 27,
      "outputs": [
        {
          "output_type": "stream",
          "name": "stdout",
          "text": [
            "[1, 4, 9, 16]\n"
          ]
        }
      ]
    },
    {
      "cell_type": "markdown",
      "source": [
        "With filter():\n",
        "\n",
        "The filter() function filters elements in an iterable based on a condition provided by a function."
      ],
      "metadata": {
        "id": "MYCvsconHDsx"
      }
    },
    {
      "cell_type": "code",
      "source": [
        "# Using lambda with filter to get even numbers\n",
        "numbers = [1, 2, 3, 4, 5, 6]\n",
        "even_numbers = filter(lambda x: x % 2 == 0, numbers)\n",
        "print(list(even_numbers))  # Output: [2, 4, 6]\n"
      ],
      "metadata": {
        "colab": {
          "base_uri": "https://localhost:8080/"
        },
        "id": "c7BjJ-ghHH6c",
        "outputId": "53ec36a2-6d9b-421f-cf81-7492996ce1ef"
      },
      "execution_count": 28,
      "outputs": [
        {
          "output_type": "stream",
          "name": "stdout",
          "text": [
            "[2, 4, 6]\n"
          ]
        }
      ]
    },
    {
      "cell_type": "markdown",
      "source": [
        "With sorted():\n",
        "\n",
        "Lambda functions can be used as a key function to sort complex data structures (e.g., lists of tuples or dictionaries)."
      ],
      "metadata": {
        "id": "BTD8fR_YHRga"
      }
    },
    {
      "cell_type": "code",
      "source": [
        "# Sorting a list of tuples based on the second element\n",
        "data = [(1, 'apple'), (3, 'banana'), (2, 'cherry')]\n",
        "sorted_data = sorted(data, key=lambda x: x[1])\n",
        "print(sorted_data)  # Output: [(1, 'apple'), (3, 'banana'), (2, 'cherry')]\n"
      ],
      "metadata": {
        "colab": {
          "base_uri": "https://localhost:8080/"
        },
        "id": "ddeYLjoYHYaQ",
        "outputId": "fe183919-25e5-43f6-ae18-3b5b38859330"
      },
      "execution_count": 29,
      "outputs": [
        {
          "output_type": "stream",
          "name": "stdout",
          "text": [
            "[(1, 'apple'), (3, 'banana'), (2, 'cherry')]\n"
          ]
        }
      ]
    },
    {
      "cell_type": "markdown",
      "source": [
        "With reduce():\n",
        "\n",
        "The reduce() function applies a binary function to the elements of an iterable, accumulating the result. It's part of the functools module."
      ],
      "metadata": {
        "id": "EjN6AXGcHfga"
      }
    },
    {
      "cell_type": "code",
      "source": [
        "from functools import reduce\n",
        "\n",
        "# Using lambda with reduce to calculate the product of all numbers in a list\n",
        "numbers = [1, 2, 3, 4]\n",
        "product = reduce(lambda x, y: x * y, numbers)\n",
        "print(product)  # Output: 24\n"
      ],
      "metadata": {
        "colab": {
          "base_uri": "https://localhost:8080/"
        },
        "id": "pXPUDkfqHhRI",
        "outputId": "312416a2-9422-4da7-ec80-562b2684e624"
      },
      "execution_count": 30,
      "outputs": [
        {
          "output_type": "stream",
          "name": "stdout",
          "text": [
            "24\n"
          ]
        }
      ]
    },
    {
      "cell_type": "markdown",
      "source": [
        "In List Comprehensions:\n",
        "\n",
        "You can use lambda functions within list comprehensions, though this is less common and generally avoided if the logic is complex."
      ],
      "metadata": {
        "id": "DA2djPXbHlHs"
      }
    },
    {
      "cell_type": "code",
      "source": [
        "# Using lambda with list comprehension\n",
        "numbers = [1, 2, 3, 4]\n",
        "squared_numbers = [lambda x: x ** 2 for x in numbers]\n",
        "print([square(2) for square in squared_numbers])  # Output: [4, 16, 36, 64]\n"
      ],
      "metadata": {
        "colab": {
          "base_uri": "https://localhost:8080/"
        },
        "id": "ikDuK2LbHpPr",
        "outputId": "e2dd53d4-e496-4416-e6bb-3be63ebd3baf"
      },
      "execution_count": 31,
      "outputs": [
        {
          "output_type": "stream",
          "name": "stdout",
          "text": [
            "[4, 4, 4, 4]\n"
          ]
        }
      ]
    },
    {
      "cell_type": "markdown",
      "source": [
        "9. Explain the purpose and usage of the map() function in Python."
      ],
      "metadata": {
        "id": "K8e-HdGFIMe-"
      }
    },
    {
      "cell_type": "markdown",
      "source": [
        "The map() Function in Python:\n",
        "\n",
        "The map() function in Python is a built-in function that allows you to apply a given function to each item in an iterable (like a list, tuple, or any other iterable) and return a map object (which is an iterator). The map() function provides an elegant and efficient way to transform or process data in an iterable without using explicit loops."
      ],
      "metadata": {
        "id": "BZ4O2OU-IPnG"
      }
    },
    {
      "cell_type": "markdown",
      "source": [
        "function: A function that will be applied to each item in the iterable. This can be a built-in function, a user-defined function, or a lambda function.\n",
        "\n",
        "iterable: One or more iterables (lists, tuples, etc.) whose items will be passed to the function. If multiple iterables are passed, the function must take as many arguments as there are iterables."
      ],
      "metadata": {
        "id": "gBbC5OnaIYtc"
      }
    },
    {
      "cell_type": "markdown",
      "source": [
        "Return Value:\n",
        "\n",
        "The map() function returns a map object, which is an iterator. To get the actual results, you typically convert the map object to a list, tuple, or iterate over it.\n",
        "\n",
        "Basic Usage of map()\n",
        "\n",
        "The most common usage of map() is to apply a function to each element of an iterable. For example, let's say you have a list of numbers and you want to square each number.\n",
        "\n",
        "Example 1: Using map() with a regular function"
      ],
      "metadata": {
        "id": "j_KVAQx9IcoT"
      }
    },
    {
      "cell_type": "code",
      "source": [
        "# Function to square a number\n",
        "def square(x):\n",
        "    return x ** 2\n",
        "\n",
        "# List of numbers\n",
        "numbers = [1, 2, 3, 4, 5]\n",
        "\n",
        "# Using map to apply the square function to each element of the list\n",
        "squared_numbers = map(square, numbers)\n",
        "\n",
        "# Converting the map object to a list to see the result\n",
        "print(list(squared_numbers))  # Output: [1, 4, 9, 16, 25]\n"
      ],
      "metadata": {
        "colab": {
          "base_uri": "https://localhost:8080/"
        },
        "id": "7PQ5WZllIiJq",
        "outputId": "0495886d-11cc-4021-8aaf-a585d1a558a5"
      },
      "execution_count": 32,
      "outputs": [
        {
          "output_type": "stream",
          "name": "stdout",
          "text": [
            "[1, 4, 9, 16, 25]\n"
          ]
        }
      ]
    },
    {
      "cell_type": "markdown",
      "source": [
        "Using map() with a Lambda Function\n",
        "\n",
        "You can also pass a lambda function (anonymous function) to map(). This is particularly useful when you need a short function for a one-off operation.\n",
        "\n",
        "Example 2: Using map() with a lambda function"
      ],
      "metadata": {
        "id": "D-lpQKbaIkxw"
      }
    },
    {
      "cell_type": "code",
      "source": [
        "# List of numbers\n",
        "numbers = [1, 2, 3, 4, 5]\n",
        "\n",
        "# Using map with lambda to square each number\n",
        "squared_numbers = map(lambda x: x ** 2, numbers)\n",
        "\n",
        "# Converting the map object to a list to see the result\n",
        "print(list(squared_numbers))  # Output: [1, 4, 9, 16, 25]\n"
      ],
      "metadata": {
        "colab": {
          "base_uri": "https://localhost:8080/"
        },
        "id": "QQqCcjywIpHG",
        "outputId": "8451e95d-0bc9-4c19-8506-8f3b8a7d7031"
      },
      "execution_count": 33,
      "outputs": [
        {
          "output_type": "stream",
          "name": "stdout",
          "text": [
            "[1, 4, 9, 16, 25]\n"
          ]
        }
      ]
    },
    {
      "cell_type": "markdown",
      "source": [
        "Using map() with Multiple Iterables\n",
        "\n",
        "The map() function can also handle multiple iterables. If multiple iterables are passed, the function should take as many arguments as there are iterables, and map() will apply the function to the items in parallel, element-wise.\n",
        "\n",
        "Example 3: Using map() with multiple iterables"
      ],
      "metadata": {
        "id": "1xl7DGIHItX_"
      }
    },
    {
      "cell_type": "code",
      "source": [
        "# Function to add two numbers\n",
        "def add(x, y):\n",
        "    return x + y\n",
        "\n",
        "# Two lists\n",
        "list1 = [1, 2, 3, 4]\n",
        "list2 = [5, 6, 7, 8]\n",
        "\n",
        "# Using map to apply the add function to corresponding elements of both lists\n",
        "result = map(add, list1, list2)\n",
        "\n",
        "# Converting the map object to a list to see the result\n",
        "print(list(result))  # Output: [6, 8, 10, 12]\n"
      ],
      "metadata": {
        "colab": {
          "base_uri": "https://localhost:8080/"
        },
        "id": "FtBDcSK1IvUh",
        "outputId": "28e96709-4008-4ed5-d690-905bfe914fe6"
      },
      "execution_count": 34,
      "outputs": [
        {
          "output_type": "stream",
          "name": "stdout",
          "text": [
            "[6, 8, 10, 12]\n"
          ]
        }
      ]
    },
    {
      "cell_type": "markdown",
      "source": [
        "Key Points to Remember About map():\n",
        "\n",
        "Returns an Iterator: map() returns a map object, which is an iterator. This means you can iterate over it directly in a for loop or convert it to a list, tuple, etc.\n",
        "\n",
        "Efficient: Since map() returns an iterator, it doesn’t compute the results until you explicitly iterate over the object or convert it. This makes it memory efficient, especially for large datasets.\n",
        "\n",
        "Supports Multiple Iterables: You can pass multiple iterables to map(), and the function will apply the given function to the elements from each iterable in parallel, stopping when the shortest iterable is exhausted.\n",
        "\n",
        "One-to-One Mapping: In its most common use, map() applies the function to each element in a single iterable, returning a new iterable with the results.\n",
        "\n",
        "Functional Programming: map() is a great fit for functional programming paradigms, where functions are treated as first-class citizens and operations on data are expressed declaratively."
      ],
      "metadata": {
        "id": "c7R06Ua8IxxL"
      }
    },
    {
      "cell_type": "markdown",
      "source": [
        "10. What is the difference between `map()`, `reduce()`, and `filter()` functions in Python?"
      ],
      "metadata": {
        "id": "tkociD1cI6F0"
      }
    },
    {
      "cell_type": "markdown",
      "source": [
        "In Python, the functions map(), reduce(), and filter() are all part of functional programming tools that allow you to process iterables in a declarative manner. They each have different purposes and use cases. Let's explore their differences:\n",
        "\n",
        "1. map() Function:\n",
        "\n",
        "Purpose: The map() function applies a given function to each item in an iterable (or multiple iterables) and returns a map object (which is an iterator). The function you provide is applied to each element in the iterable(s) one by one.\n",
        "\n",
        "Use Case: It's used when you need to transform or modify every element of an iterable based on a function (e.g., squaring each element, converting all strings to uppercase).\n",
        "\n",
        "Output: The result is an iterable that contains the transformed items, typically converted to a list or another collection type."
      ],
      "metadata": {
        "id": "umS_WiPrJFG0"
      }
    },
    {
      "cell_type": "code",
      "source": [
        "# Applying a function to square each number in a list\n",
        "numbers = [1, 2, 3, 4]\n",
        "squared_numbers = map(lambda x: x ** 2, numbers)\n",
        "print(list(squared_numbers))\n"
      ],
      "metadata": {
        "colab": {
          "base_uri": "https://localhost:8080/"
        },
        "id": "_v9YhfZ9JZid",
        "outputId": "25577955-eb0d-4f90-cda8-3fc289019a0e"
      },
      "execution_count": 35,
      "outputs": [
        {
          "output_type": "stream",
          "name": "stdout",
          "text": [
            "[1, 4, 9, 16]\n"
          ]
        }
      ]
    },
    {
      "cell_type": "markdown",
      "source": [
        "2. reduce() Function:\n",
        "\n",
        "Purpose: The reduce() function is used to reduce an iterable to a single cumulative value by applying a binary function (a function that takes two arguments) successively to the elements of the iterable.\n",
        "\n",
        "Use Case: It's used when you want to combine the elements of an iterable (e.g., sum, product, find maximum, etc.). The function is applied cumulatively, taking two items at a time and reducing the iterable to a single output.\n",
        "\n",
        "Output: A single value that is the result of reducing the iterable with the provided binary function."
      ],
      "metadata": {
        "id": "o0vwY6efJeaC"
      }
    },
    {
      "cell_type": "code",
      "source": [
        "from functools import reduce\n",
        "\n",
        "# Calculate the product of all numbers in the list\n",
        "numbers = [1, 2, 3, 4]\n",
        "product = reduce(lambda x, y: x * y, numbers)\n",
        "print(product)\n"
      ],
      "metadata": {
        "colab": {
          "base_uri": "https://localhost:8080/"
        },
        "id": "X5svsLYBJjVX",
        "outputId": "083fdbfa-2719-45af-9a35-7d59b832cd37"
      },
      "execution_count": 36,
      "outputs": [
        {
          "output_type": "stream",
          "name": "stdout",
          "text": [
            "24\n"
          ]
        }
      ]
    },
    {
      "cell_type": "markdown",
      "source": [
        "3. filter() Function:\n",
        "\n",
        "Purpose: The filter() function filters the elements of an iterable based on a predicate function (a function that returns True or False). It returns only the elements for which the predicate function evaluates to True.\n",
        "\n",
        "Use Case: It's used when you need to filter out elements in an iterable based on a condition (e.g., extracting even numbers, filtering strings that match a pattern).\n",
        "\n",
        "Output: A new iterable containing only the elements that satisfy the condition defined in the predicate function."
      ],
      "metadata": {
        "id": "s65puZHxJn7W"
      }
    },
    {
      "cell_type": "code",
      "source": [
        "# Filtering even numbers from a list\n",
        "numbers = [1, 2, 3, 4, 5, 6]\n",
        "even_numbers = filter(lambda x: x % 2 == 0, numbers)\n",
        "print(list(even_numbers))\n"
      ],
      "metadata": {
        "colab": {
          "base_uri": "https://localhost:8080/"
        },
        "id": "CpW31nQxJrtG",
        "outputId": "f18d488c-b558-433b-da6d-6c9c1ba98db6"
      },
      "execution_count": 37,
      "outputs": [
        {
          "output_type": "stream",
          "name": "stdout",
          "text": [
            "[2, 4, 6]\n"
          ]
        }
      ]
    },
    {
      "cell_type": "markdown",
      "source": [
        "Conclusion:\n",
        "\n",
        "map(): Used for transforming data, applying a function to each item in an iterable.\n",
        "\n",
        "reduce(): Used for accumulating data into a single value, applying a binary function cumulatively.\n",
        "\n",
        "filter(): Used for filtering data, retaining only those elements that meet a specified condition."
      ],
      "metadata": {
        "id": "Cg-_lIngJzS3"
      }
    },
    {
      "cell_type": "markdown",
      "source": [
        "11. Using Pen and Paper write the internal mechanism for sum operation using  reduce function on this given list:[47,11,42,13];"
      ],
      "metadata": {
        "id": "5U6qN5RsJ2TI"
      }
    },
    {
      "cell_type": "markdown",
      "source": [
        "![Assignment Ques..jpg](data:image/jpeg;base64,/9j/4AAQSkZJRgABAQAAAQABAAD/2wCEAAYGBgYHBgcICAcKCwoLCg8ODAwODxYQERAREBYiFRkVFRkVIh4kHhweJB42KiYmKjY+NDI0PkxERExfWl98fKcBBgYGBgcGBwgIBwoLCgsKDw4MDA4PFhAREBEQFiIVGRUVGRUiHiQeHB4kHjYqJiYqNj40MjQ+TERETF9aX3x8p//CABEIBkADLAMBIgACEQEDEQH/xAAvAAEBAQEBAQEAAAAAAAAAAAAAAQQDAgUGAQEBAQEAAAAAAAAAAAAAAAAAAQID/9oADAMBAAIQAxAAAAL9SzjQzjQz07s40M40OA7uA7uA7uA7uA7uA7uFjs4js4w7uErROEjRctNLNa0M47uCO7hDQzjQzjQ4DQzq0OA7uA7uA7uA7uA7uA7uA7uA7uA7uA7uA7uA7uA7uA7uKOziOzjDu4js4w7uA7uCu7gO7gO84w7Th4jSxQ1IKKFIoigAAQoAAAFiLACpOfUjj2hQCgAJx78TqIXl5ruCgM2grz5OnPn5NQDzSvPoAPGU2+fXKOlx7KACAFgoIsBRLAAKAAAnn35jl56eDQAKSgAWPnXrw3PosvjLbPmdK2+8G2X1ZYy8+3uukz+TTcWw46Meg6ecnuzN9LINV85pdedxs798G+W8+mM0M3qxM3c0OHVZg3Z7PoUzVDB76dbMHXRyPj/e49a5TRM3Jv8AEPl/Y4dLPYzcvfpjrXZ4jD9FaghYFlAAAJQAgAoAABKPHjr5j2KAEFlAMvTsPL0JQnn2Ai+PYwbZ0rm6SJy60zzQrm6Dm6CeffzU7a+PZagoOXUAMT2s0jNWKqCoFgoFiAoAICgAAAAhYKgqUAAgAoAABKAAEsFlAB5PQixxOzl1oABYioAAolAHyvqkixQAAKlPn7OkAAIqApZSWBYLAWUAEKlBCpQAy9joAIWCgAgAoAAAAACAWUAfO+jjJ77Sznn6+a6ozfd5+Tvy6YrPpvPqVw75jp1Dk65TUIOHmtLDbNvyPqfOPqTNwl+hcWk9sfk3eOeU+iUce3zTZ1+bsrtPGWNwiy8K9dMHQ1snM3vndq1sveOgI+fa2z5ew73H2jr1zeDTfj/Wr4/2vnLPp5O2GXd1+ZrTQw65fdnqM3f5uqs+/B0rV6z4o+q5ej3m0YD6DD4PovPoAAgKAWJLzr3WY0kKBYi+aJQSjn1Q49gqU+T9PNsrH17jj8n7nz67Z93SPPDSjF10SvlbNI49gmD6I4eusOE0Dz6Bk10+d31DNe48PY8e3g93zTny1cTD9CdDy9ocew8qPHSUvmhKIoSjPNSufjuPk65sqKyZ9CuWPtK0cNaPIAAAFlifO05dNuL31TnqyeD3u49ovPphXv3yebNtw7ZRY4GStXfDpOnr5+8qWM2jBupc/I3fM+h8uvr2XLL47dajjnNvn3kNhYj5f1ajFuJ595TSw6Ds59YkuCtkuc15NnI89vHQCIoiwqUiiAWUsUijzaAAAAAON6qA8AFAAAgBYLg3hLB59Dl66DlekpZY4eulrN06oy6PQlgzdOyuXDaMXbvCeiOHVyrrz9dInDQrn059Iy9/asnfp5PUqOE0K5+vXI6YdwmfUJn05jQqIoAAiiKIAAQt80qUAAAAAACvIAABYgoAACxYgKlEsAAALAAAqUsogKgqCvI9JQAAgoBCgIKlBCoAFlEsAAACACoKgqCgqCpRLCoPNKJQqI5562PI9AAHk9CAoSKKACCWgBCgOXQtiKCAACliLfNAVBAKgqCyiFIsCgCWC3zSyCoLEKAAAKACFgqCpSLAKAFjJy7ZtTt151Z0z57N2nPoyYN2E3iXx7lL8X6vCtPrJ0L15ezB9H5/ezt0cZe3DPTd5czswbDF9DN0Try9fOPp3FtWy+IlwTT6SZY1vPuIuU1TlTpMsqbcfc6uXWDFprrceuLl9+z346DP2zaavPplj13yq1M3s7Ofk7TBtMG/Fpru8fPj6bj6Ol8eosoiiLAoiwWC2CCgAiZ9Kp6gvzfo+T0AABYjnj+ha4XrTO0DL42jj570xddMODQPnNHuzN01Jc/Lb8qtemWLj2eYy+PoSsvH6A5+6i4dsOM0Ws+X6QxTaMXvVTNx2ejHsI88NSufr0jDtUcO8r5f0cm84+ug8PY4uw4c9YyZ/pjNNQx6vUgAAAoiwlUA8qIAoiiKIKAAALjjr2+Z9OgBmNLP3L59Q9OfuPSUAijz8r6fytPrjJYLALAABYKczomStdiKgqC2CoK8+TolM+hCgJhreeY9IKQqCoLELfNLAEPTyLYKlBCwFBAKPKwCggsLl05ah6s57eXSX18zfyM27h6r34eY5bMnSzXfPrNYe+etePXkNuK86+hwzaDUnrLyofO+j8itOv5uytGW5E+o8dM2/O+h8uvpec3U7Mns7c+PmzppzDvzc12VcueXj2rXMPo3Mvk1cOXStGLp5O/vKjppwe62MvuNFljP2wd6l8+bNl59M1k0+K95/PQ78PWKz6NlzbfIoIKCAFQsAKAsIAsc66Xj2hYLJQCPPoWD0Qopy6jz46hKjj1oSic+oi+D0Q9QKlApKAMvjpDUI84foYdNqzKKJ59hYFQqCxQCKEUgLFAPPjrDn7ogACiLTyoiiAKIKWWPne9krjx05rOnbx7l5eugxfSx7CLnjxx8+tTdce2V8/6Pzjztzyt2aZz6bz6ycevzq+i+f6pv+Z2Lp+V9A7/J+p88+l44dY6vl7Tu8+I7JQyq1OWY9avI6OHSPaZ60cs3U7e/Ejo8ei3z6Ji9q0smA+04Yz6jPzNnDzgPresXo1PnaTR65+4oAApKgAAAQoIo80E9eQCoKgAvn1jM31cuqlkj1IKg9ebRKp59ABz6Cce48Ztg5eNA4Z94w9NQw6Ow4edI8+iOOfcr5ujzrrH27o4+NPg45t9rL26ox8Po+Kx+t8Muvj0jm7czz8/6vow8/pK+NfsKwcfqj5HX6UPmZ/tj530ayCABCpSWCoKAgqUAIL59Qw6su2vPr5+49M/s6vHssviLce0MvY9ufSghfPg6s/c9JmrU49oPHqqAASKeD35o5dsO0oAoAAAAeT05+TsAy6gAA4dwAAAAcY7AAEqgUPAioKlAAAF80WU+Z9L5e+svbpTF5+h7PldfoSzNw+h6l+X30Svm7dOZMX0fXI0WXN+TfrctMm/x5jrz98jJ9HFuPNnoePY+by3ea0/O3ovHTwOG75/0DLpzag8e4CuOXbxOW3J0NHLzwrcIYduOtvnl5j10zWs/08msFjNZTzpxbRn05yr5OnnmL78dD3h05q28PWY1WdIubpxNiUpTlQAAAWIWUgLYL5vkt80sAnOuohYLfNEAACoPWbQrJs59AAUgAGDXDnpAAICmPYPNonjoAAFg8vQqBYLAxbQqCoKgqC+aPPsCC+aKgt8+jwqIo8vUIohSWUQFlHDr8qvpe8Po22IzaM2ymTXjL0+d9Yw9u3E0LY8vOGvoPn/QB5j0w+a+gz8D6F8+oHmnr52s8afn7yZteM2CACQ9EKAAAAAAAKAEioKAAAKCAoAABZ6PKIoAAEo80EolU8cu9PHnoEoyaucruljj1ozNPOvVIfN+krBu9eR68+oz5/oSp836g5+faPYr5f056OWXZ6Jg2Q6rzjpKEoAAAAAAAAAACggKAAAAAWUiiKFlPCollCCpQQWUksKgrzS2ACxSOPQ9gAAAACgAEsipQQqCwKgqCpQgqCoKgqCoKgoAAAoAAAAAAABYKgt8+jxYiwAVYSywnrzRLBm1fBrd3w9tT6Dnc32+TbPp+sXqXP8AT+VrrT4+D9hNjLml+m+d1O3b5eqtU58Y6d/nfRpz6fOjT48ca+o44I+qIc+mOu3XF7NLh1PVx+jTc+iCwPnbK6zBpOzjxNjz5jpxfN02aOJNTP5l1vOeNV80qABM+gXnDqlDN0rpeXSKgt80qQ9IKB68+jnQAlgtgsCFEsLx6jhe6vHPv4jBtdq4+ukjDNN08aSOPPUODuMnXsOfjv8ALNOvj2GDeMXrWMvjaPHsGPYPm+96sHvYj5/rdDFr9C8+iPjePufK3OvP6niXLe3YxcPoQwet3Qz/AD/qdD49+uPkatvIvrz7yOXs9eOmczdnjTz602PVWMHr361M2zl1Xn59e06UzQCgB68+jwAsIsKCywllAMO3H000OFjvedj2YzR4ydtO3Xl6y9s+gELZQB+f+7k01+2ONjN1OgABjNhkNbj2BljVEALfNLw7WgAABxjsgqCoLAnqCoKgqCoKgpCvPoJQAlAp68+jwliwCUWCywlBKPkaunjU5voJfn9tQw+9kMuf6fOvld/oj5fT6IxXZICMGv15rFt8dK85dHQxb3iOoPm8Po+684NXZGDZ5XR7lh8v6mA0c6rn566jH1naPfPpnjno88a7ufg6Tj3rtk7Yj6b52yK4U1cIO/rNpiVjNef5mrTRpy64GaNL530KpInBn03+svmNjH7NPPnnN18+oqeDp68ezmsAAKlAJYKg8eeqqiKgt80WCoFlEsAKAKAAAWCwLAACAAAIAlKlApKPHsOfQPPPsM2kHHsOV6Dn0Bx7DL16gI5c9KvHoKBKPPoJPUh78ezzKJPUIUAAgoAAAAAACpYSwtgqCpQAAAKAAAlIAQKlCUiiAWUEFgqCoKAAgooAIQKlAAAAAp68+jyiLKIAlAIKAAAAAASg8+osoFIsFgoAAoAAAASKACUCUllBCgAAHg9T1AAlEBYPUCpCwKgqCoKgsCoPXrn0OYKUw6M3HTb2+TqTZePz5fqsewYPoZDUnqOPVSVTBqx8tT6jD0l1z5Guuf0Pnek3sO6WyyM3nF70+tMvmO/bNpLw74zt2w9a0s3KNzJTV8/Rkr6Hvx4jqxdjuSPRDx6xea+g49oUOPT53atV+f8ARFwbovHt8+voce3CO7J0rs4WM2/5u2uqo5+fGSvovHSIydK73NqJ548zntx+bPoOEl0OWc2vFPXyvp/Gs+1PPiXSSKlX5nfa1OHnQjjk+j5PUsi4dtrx7IAce4+Dq+o0+Pq7aD5X0J2jPNOQyfUyay5dSOPLXa58tA5dohYPifVy6dSdeiXz56Dh41DFy+nD5F+srD5+gjx7I5fN+p60+R9T16hKMHrar5vbYPna+yGLaPndsf16zXQjHw+mrj79oCMnvQrH70jm6Dl1Ccuw88NIztA58tIy3SMvrQPn/QnQ5CKgWCgAQApYioKgoKkPUg9cOwz6AJSOfQqUgKCywAqCigEvmKAsKlCWiSPQAAAOPYAB5PQCCoKgqQ9PMPbzSoKAKCCC+/Hs5CgAAhQgoACljh1+b9OoWM3Tjm0+h7w6Y6sestWMer5uvTu5542+b8897fl7661cpyvzq+q4o7Mnmtt8e4M/Ws+rB7Ndw9DUx+Tcw+ja4+Tzk3c669MHaNZzjz74ZdNmjDI3efXzT6Vlhg35K6ZvW0x68mwZ9OE1evm9K3MnuJ44abNVlzcGzjorHsy6hYipQB759DmsAoAAICgAj1876A+bt6qEjPm+law+tY+br7jz782PmaPPvR60Iy5fqDhe0Klh836SsHvaM/HcOXUjLdKuHPXDnx1I8erTP06DP06K5ukjz56CxTl79KEji7q59JYEPPuU59Ac+g4+/QePQSgDL26WsmoPD2AFlie/PoklEsAAoAAAIAAT18evqsPs2mA3pYArHoro49Ir5uuu7yj08ej04dj0cDu5dTz59/Pr6Fljxz5WtLL1OzlyNbNlPp/P3/Lr6nmeMu0w9q0OMNFlhOOCvqzlyNV4YT63L1kNfrn7ismsMO4oPF+V3rcvOPd5+ylJPUIohSVSe/Ps5CgAAgKAAWWEolguTX4ME+h70w5vro5dLIT1zPm9t/qvl7OvOvlfT6jE+iPm/Qc4+d9MOmTWJcfs04tvA7pY4/O+v8jTvz+nYy5/ojI1jjz1jC3D5O7QrHdaOfQjl57q+T366q+fdfQ5ZtyMnvQMfvSMO4hm0qwdNYz89gz96AgKACAp78e45CgAAAAABYiwAefeE2nk9OcrtPA9uHk6dfm/RJ7ZY1AAqUzaMfStF82KgpmrSIcueiolhZQnM7PPojL7NCeD2CuXI1M/crj6roz+49+ffA0AAMOs9uHYoDnmray6Ys5ez05+z04digAe/Hs5CgAgAKAACKAFYtqzJ45/Tr5+jQjLz3DB37U+dx+vazfP+rDP53yMWjqFIy8uvnTv8j6Xg65NljJy+rwrlbT4/wBTRwMP16j1k12Pm+tvPTrcmnJi3fJ0+vLMrQ8Y96vn6uo+d9KUwbPmfTLn04jbZYePfGsmjr6rh09+oCOWXVdM3Tt7jBp6Uwd73rN3nqLZYIL78e65IKgqCoKgsAIqC2CpRfNM/X38avsvHuDl6PbjTslCCwAKDx5zbaoiPPoXh2KgqBLCpSpSWUnDQIoACggD5v0ikshYFgoICoKgqCpD1IKgsCpR059DiQsBYKgoAAAqoKlFiL8v6krxn1Q5c9PQx++9BY+Vp0edOLtY559viuHbr6j5GvTnrrx6w47uMMv0fn/QjPoviPQEsAqoigEKgqUWCywqCywsAAQ9QAIsAACwLAolCUL78dDjKqSo81C2CpRLCpQAAAeT25dCpQABYKgqCoFgqC3zD2lBCoCwSiChC2IsAAKWI9RCoKgqAABYKlAABSLAABQQL05dTgBKJPUIolABZQCpahRk18jLzebPc+l88+hz6/Ll+oz6DJrwbzFty6SljFp49q95NmQ8aeGszfK+px1PoWXFsAAACpD15BYC08rAKACAAAoAAABYioKgqCoKgqCwHXl1OQAoBKIshLBYKgqC2CpacO4c+gefQWIxa/Svn76KiPUlLy90yawceooAJUKlCBZSLAAKqeY9wDl1oAAICgAACCoKiKgooiKgsCs+inXl2jiKEFiKgqWosiKIuA2s/itszaYrP7rqUTz88+k+f9AM1NKUMOo9s9O9+foNDiPGn5P1T5f1fg/esWM28fOGvodfk/VKvOMXf5/0tTr8f7Hzl+nTIDJpyqnLl3s3sqXR6+dyr63zfofOj6Vw7SmQ1p8s+r495R3+dtMv0MmwnjpyidfifVrs+frOqol4+K08fOc+hMuU+p8ztk1Po6Jc125dY4CoqIACpRYpYL876MPnY/vebPncvo9DH62Z40Xx6Xl8f7sPka9HWz5WrYiL5X5Hf6NPkbNY+P4+5K+c+nIwetoxaegCPE6QzdOqqljN16UZNanHsjzUJ59iyjg7U48dgzTUPHLuLw7Uw+9auPjSjPe8rx0iKlMnbqrP67CUhw7jj4008eeo5dLAsHXn0OKiKPKiLKCAoIMytNy9joeT1PnQ+kcjs4digPnbz05o6M/avTz5jq8U9PHg7OPQnPz6rtPmbjPu+Z2Nvj5mo2MmsqWOPbDrPbNoLL8uvpMfo1scNrh3KfMj6TD1rRcvk2Y2Gz6vXLqlS8o9Z87TZ15Yo+ncXM+iz6AIsABYKlCC2C9OfQ4oKlCCwCUAor5mP7PWz53TVDrg3+Zfk+fs+ayc/pc456PPoePY+fx+j1s+Xt7pfn6vY+c+qPj36nusnL6CPn3fTHn+oPldtwxcfpj530aPm7OsLfNjhz2Ky9/aJi2jJ43K55dw49bIufvThw3KytQyc/oDh1si49dPladis3D6A+Nt4/Rqce6AAAAAAFiL05djgsAAooggBYKloAAAAIACggCoKQWUWCywSlISoLAAqCpSAAAACgAgKAAAWIACgAAAAAAHbj1jjSosEqCCkLAWCoPSCoLAqCoqiAACUAAAqD15sADHpr2AeY9FICoCUCgAAAAAABCoAiooICrPPA0iCcDRYKgoqd+PU5Axeelrjt+XtTr7+N7Po9Pl/Rl6ZtXmPl/TwbtJ7vPLoUcO/wAutfvBpNbHwPqPPqD52mtF+XqTVjy6K878usJ86Xvrw2trDwPqsdjX5yjZfm9TF9DPrs7CUfKPpXP4Nvj3Yw6sfWs30OHc9gZNeE7euPOzfMiXV6x6z1w75Tt7+T3s2eZll3W/PPoPn+T6UwdjU4cjbk8k1+M+KvoZt3A99sGheXf5f07NAxRSKHbj1rkDnh+kOfLSMOP7POzz2M0Dj2KCAHz/AKCsHXUJw708eyMt0qxddEON7Dj2sL876Izct3NLfRXj2EqEqgAieOlOXPSBD1y6Q489SnPoHLqMvboJ46Dz6BKJQnn2OV6DnOolg59JSUOXWiWCwKgoAAHbj1jiQ9ILFqCIBYKAABMeevqPj/TOGz58Po8M/Cvqe+XvL1y6/Ir6+T3kPp2U+J2x79R289I1CUAfHPsYO3zbPs+sSNM8+F1HmPVgvPp8uvpsnE+h45Zq97fn9E1dMXSX16z8q2ds+iOHXl6PXHTkNVAfGPsvnZLPre/ncz6c5eJdnLjws+nz8ZZfpebzPHrLbOunB2l0sW4lAAB249o4ASgACASwqUoAM3jZax+tUTF61l8eOsPHTn0jzx0qz3uFlPn8/qK5c9KAOPYHLqjzaOPT0oIcuoqC8O4sDw9iVCpQQAvj0Jy7KAc+iOXyPuys+f6FJy6jx56jxz7wUOHT2OPT0MWr2KliKIB249jgAAACEKAoA55OmbU+n5xWXV55fPs+3lx6Dv8AL+riPocsXg39MHU1dsqXUZo0iqgoAABCoiigBIoABKogKAAAAAEKIlgqCyhAAAqCoALfNAHbj2OCqkqIsLAEAqpYqUfG+18vU+lz6pfL0OfPQOfqoqCoKgvmigCqlBCpQICgAiLlNLNpAqwFgqCoKgqIsxbaqI8+vlfUqiOfTBvoIXl6Pc8+yMeo9PNKxbC8uo8+sesqUqUdeXU5CosEsgQWCglBZQKA58vl/ar18/6XyE+k955enT432TjO2M78vPs7dMuqLx7cTrZS49nzLPpZ9ONenfLrM18czeICgGPZlNWXV8s0+8/Wu3LrmjbzcDvM/o9+/Ivrn6OvOeDnpnM8bM/uzN10c455PoSsn0J6lnHuMHtpr5u735TN01pcV2D5uvvDz6cY5avHQigB249zikPTzSwJLAQqUWC3zSpRYOHjWpk1jJqI49pRfNOXSiKJQAuDda8ToOXUIsKlBCiHDupKhKAAoABLCgAAIioKgWCoKgqCyiAoEsCiKJpz96zyoihKJLBKIABQAqD0809PNBAAAAQtgqCgAAWCwLAsWggKJYCgAAAAAAIIAAASwrzSpQQqCoCD0g9PNL24dzgoiqgIsiCioiiKIo82iKJZQlCCoKgoAABCgWCoKgsCoKAAAABYqoiuPQ9JaAILCAAEoAi+CqIyaaqolz+a1XzQBfKPXfNpOIDxzruwajrPOc0uXUvPpgN7n7inI6vPosycj6Dj1o8exUiy+D05Za383zE+ullTl4rRcns0JQkPU8eDuiL87f8AN1PqCV494jbXzT6SWOHb5v0aybMmk9rmjQ+f3rTeHg46seqzQM3l4YtPq8uPSPXrFsKy+Ddfm+zfcvo6esvo1Yeng6dMPuzj9JyM2vP6PnfYx/RIrNiwAmjhpOCUy+deTU8dtFXh8z7Xyk19zN9ZNXqvnb/HsvLrIXh3PHDTjrz00UwbvI6/L+nDPx3eTx8T7fuxj19pefuWPk/SsrLz+h4s4cPp+IzePoF+d00e6wdtVjL52CKjhl+jawtoiozdesrjO4ePdMvbpDzy7jl69gIWWkoQFiFgsCwK88jsQqD1IKlEBKIod+GkzILfI9SD1z9+QgWD0g9JQAZDU59Tz6+frrr58Yz6HrP3ig8evPoOXUWCs/crh6rq4Q0vNgfNPpT52mtLzYrz6ADl1ByOvHr8evspI9TkOrzmrZCL59fPrfz6Yza8e4HOs235W47XPyNrLDUx6z5u7P3s7c8uaX6XT5Peze+fql7WIqCpQQujPqMdCxQB59eSWUShYKKoj5nrda+P9DUsw3bZcnLfDh3WL59D5uvurFq89AIx7Muisfrt6MzbCnOOvj1T53Xt10zzR6j5f0qKI+Zt6eq5YvpDFw+orP51IyNg5YvpDl0IuPWrzy7jn0IXn7Pk/R8+tT1y0WXn6o5eNAnPqjl69jP3oePcIsAAApqy6I4gSwAefXkllFlqWUAoh5os5dSpSOfqvV82PTx4rp5nQsfHPs+eWM06c2kc+nKOgADNa0s/cqWLOdOjn0ByOrDsPSeT28U9AHivbn6j085TY8eimY0mM2AHA7gAAAAAgBTysAGjhoODzSglgvj15JYKBYqgEj5mv16r5/1PHQWI+Zx+t00+Fom2zBs79Zc2ffY44PrUwddQz6AZNY+Z6+iM/fx0jFw+hdMHfp2j5WztT5fTZ2rNpnrJ49j4/wBDP1065NHaM02BZY4c9mes12eLOPPfJcHbXU4Y/pxePz/rc7Pd8+s1PQjz7IqosgAAABKIoih34dzMlAKgvj15JZaCKlKKWIqAAQWCepaoixC3xyNCCpQAAgWA8j0g9QAKgqUELAAWQ9IKgqD08j08ioKAAAAABYAAAAHfjoMiKoJUL49eYWeiT1CeoPSCinzfpZDXx5Dv488TZcusz9/kfTO3rzY4eNfza7c9/gvrFtAjh25+69JYfM+pgrRz04Dt51/PPoACKAAAAQoAAAAEoihKAKgqCoKlBCgAAAAac2kw30IAB49eR680tgWUlQt809fI+tazXRCce44d4PHqot80vLrSePYlAogAGbSPPnoABAKqIqKqIWCwALAWCoKg9IKgsAAAQoACUWCoKgqCwLpy6jLPUJPUJL5L5ollK80qCgArzT08U9PMPSCpRZRZRKCUqcDQAAZTSAQsAAKEKlAADh2KiKwbqqIX5n0a9XzYqAAKXzYsBYLACgCWKgqCoLpy6TOlECefXkhC2UClljJp4q4aM+8+b9LJoPcejn6x7CX5f0y+vPqMfnHNz7frP3zbMewGU4fR+Z7r6LJ4jfM3k1/OnWzdFzZw7466e/ibq3ceuKN858Tt7xda6TP2TVMyXR7xdDH9HF0r32+V9A+X9nORzuKu31PmfUgTNqUSiWUSgAUgJYPTzQBYKlAqac+mMwoIksPMsHrx6PSQ9PI889Csuj0jP06KS2MXrXKw6vYlljBfoKydO4zaaFiPlb40OyJw0U8dJSeoixSKPNQWBYoQtiL5ovP2AKgiqAcewCABSKJKJQAihKAIoiwqUurLqMiKoJLI8yypYLKgUlBZRYqiLELCvKoevFPd80ooASLFJYqgCAFgsoiCpaAAAAAAFiAWCgAIKlCUSiUEoASwAAWUac2kytYyzWrJNiMXnerA3jA3jBdww3aMTajFdisd1oxtgxtisLcMU3DHdaMrUrK1DK1DK1DK1DK1DK1DK1DK1DK1DL52DI1oyNYytSsjWMrUMrUMrUMrUMrUMrUMrUMrUMrUMt0jLdIy3SjM0jNNQytQytSszSjNNQytSs2kgKHM6M6NDONDMNLMNLMNLNTQzjQzDSzU0M8NLONDONDNTQzjQzw0s9O7gO7hDQzjQz07s9O7gru4yO7hDQz+js4js4js4js406uI7OQ6uI7OUOzkOrkOrkrq5Dq5Dq5Dq5U6OQ6uQ6uQ6uQ6uUjs406igAAHLrzjiolCS4jY+D9883z5Pfrnir6SSPUollDLzrbSJQS8TrePYSwtgoAHDvkqa8utIfMX6U9IpzOksFlKAAACwKgAAWCgAAACgAAAgKCIvia0jWQAAHLryjkCoL8z6eKtPv52gy3vbOGXd6NHztENnrLqzQOeH6Xya2Z+uisH1PHAwa+G5PPF0Xzx2+EydtXRc2TVR0nA78O3kz6Hg5cdHSteZ5y4dHTU43X0ly68muFiKgqCoKlCCoFgqC2UAAACgAgAAABz6cZrYNZAAAc+nOOQABCny6+pMtNMzjReXWAKAAUlgz6So4+TSy00zMO/jz7Orx7AipQxWtbINbNTR45ejsIAAAAWUgJQAAqUoJQEKAAAAAABw78JvaNYAAAc+nOOVBLABfNKgqAAACyiUABSAUEsALKIogKCwAIsKAsABCoKlAJZSKEsFlKAAQqUAAAAAAZ9Gab3jWAAAHj35jhQCoshLCkKgoDz6AFCLCoKAUllEsAKCKIolgoB4PcoiwqUSiKAIUSiAAAWUWBZSAWUAAAAAAZdWWdPoDXMAAB49+DjUKBLIAAlAACUFlAEolABYKBKFlIAAAAAACUAAAJQAIAAALYAAAKAAAAABk15J0+iNcwAAHn15jhQJRAHzj6LFqr2IM+gjz7Ivya+slgAfOr6IgACoKBWGtyIrzzOycDQgqCgEFlBCpQgoEUiwAASiqIsAJZQABYKgoAGTXlnT6A1zAAAePfk4gCBDJi+v8TUu/nvLYzcWj53bTfisTt8ndtPV8+s28Ow+dx25tzd159MVn0caz9PXOujloM3RTr8z6nEmfX7Jh3d4z49Xitd8+sgAAAABSAAAAAAAtgqACUAIBYKACpRk1450+kNcwAAHj35jgoiwAePVLAWCoLJQlAJ68j1k1WsmqiCFgsAQ9Xx6KlEsAAoIAAATxhr6Tz6iywAlAUgIonqC2Aok9QigBKJZQABZRi24p0+mNcwAAHn15OMqIAsBSPi/QrUyeTa+Z6r6Pz/AHmT6t+fsl6efjbq28ueSPpesG+KmStjx7h8z6eOpp6ZDVz+d9E8d8G8tnOOrLxr6EIzacfKvo+fOI+iIuLbirtl+hgN8y6ThpzaRYhYLAACkoCKACgQCiUIoigAQuLbjm/pDWAAAEqMwAFgWDlz1K4O4z9fcHHsjJrDN39K4O4x7CHj2FKfO+iMuj0OHX0jh50+K9iMHTYqcuiL5tOXDYrn47+T1n0IlDxl2q59ACCUSwqCvNAKlKgqCpQAQqC2CwLAWC5NeSb+iNYAAAAzKiLAAAQoAAIoAASiLC2ULAUkoiwoACiAigAAACUAJQSiAAiglPSUALAUASwWCoLAAuTVxm9o1gAAAQzoioKgvL18avtvifYOkvzzvox6S+vnQ+m49YtgMvevc4/OPr8p8o+3eUjuz862OPk0CHnnir6bh5NIg+forQ48zSww3sewp4hfjaNPpPOeNbh2PU8Yj6DjyNb5/ivpPmaIa/haq+k+Vvjtfmbz36+f9AIi3yPSCkKgWCoKFSxPXj1F0CwAABLDKqABTn8/6ivl/R9hx7Iz++qsfrUMmqoAwdNkrhNAwzfDF61jLNgwddVPNsjPn+grL07UWI+c+k0xtaMnTRDh66wvn0jC3KycfojP3onj3Yze+yvPnpY80M01SuPjSM3jWM2pIt80KIsPSUAiwCgAgeF1iwAAADKqAEoASiWCoKgOMO949gABEKBYLZnrSiAFgGGt6Zo0gqCwDh3F8ca0WIqUEqnk9OXuPUQoDl4NE59Q4+jox9K0CD5Outdy+zvePk7+ZhPouI7MPY7Y9fI08/fOa2C5AAAAzIigAJTj1yZ9Pp8OXE3MFNvvF6jk6dLOW/Nol9ceyMmjP3r2Z45+se/T3w88ztmvdO04+1d+HuM30cOk56OPs6fO+l8k+p8X6Xiztm9xenbh6jDr8+K8dfXo+b9rN0O+bTcvmaequszajJ478a2+PfnKqM+ffa+dr7D5P1Z6Pn6cH1a8+vPvLBz+m0+fd1jH17jjx2UwdtIz89gyzVzOnPpymtouQAAAMogAAQ59/NBCgAILAWCgSwlCoALZSWCpRm0q59EipRLCygAgoICpQDL60KCLAAEKlPn7yliKgEPSD1IKlBCpRx7cGt4uQAAAMiIqCgsBYLfPk9oKnI7EK4dxLC3yLLACPFPSZTZ6509vFPSUqCxCpQsKgEKABLCgAIKgoCCpQgqAQqUAKIACpQC5tOVr6QuQAAAMdIAAePfx6+v445z6PnDTfcFNPxfqcNT6Zzxc+zhorl7+X0rfPm/Qh0+R1r6Vwe44TtbLsz6JcOzHtHn2iULfNAIsBCgAAsACoCiKIsLAAFIoiiKIogKUiiKIoihl1Z5v6A1gAAADLPUiKIsPXx/r+a8ee6PHntDy9UASjDtsJ7g8+Oqs97hYiyUcew49lIAAABAAUEoiiKIogAFgqCwAKAAlAACCoKACoKgufvwa+gLkAAADKIAEKlJYKkPSD0goCUSgAgWUAEKgsABQSiSwIPTzSpRYKgJQQsAACoKgoBAQqD1AQKgt80qCgFHDvmmvpDWQAAAMgipRL5K+M1PszLqzb5x6y3xDpfi69PosvqO/zdvza+tfPrIUjPoCUWcDvOHCt+HZkNl8e4KJQsogICT1CUBAQ9vNKBKAAAIoAKJKIolUgAIoKIUlBl1Zpr6Q1kAAADIIAubv6Ph9vredTNqJfnZu+7U+f02+pcWP7fzjtw+lY+d63jx7IA4e+glgZtNMXj6CvPDSjh3BUKQoAIBAFItJPQ82iLCUABCpQgqUAJQAAAlAKlBCgvDt4a2C5AAAAyNaMjWrJNiMjWMbYMbYMd1jI1jI1jI1jK1DK1DJdQytQy3SMrUMrUMrUMzSMzSMzSMzSMzSMrUM01DK1DNNQzNIzNIy3SMrUMrUMrUMrUMt0jM0jLdIzNIy3SMzSMzSM01DM0jM0jM0jNNQCgAP/8QAAv/aAAwDAQACAAMAAAAhMMIMMAAAAAMa3uESuIEyiy6yEAAAAAAEMAMAAAE3/wBsxjgAAFPqj8GMMAABABCMJnyOIo1HAIPaFADDKgDCEKHoDHvridul/gAAAJgrgEAEuT14l8igiiX5jYlufwHAIJRzXopflr8drqcbedTbiAAAEPgABKFLIEEFt4V67iEGwjEABMQ4BDLMIoEMsMMMEMrzfdRagAAAAAABCAAHnjAANvfgCAI8PHNGJjCcRaLLHKABCBCACAMooYcgAAAAAALKAEqcDhiQPFPHqjc3rvvuDkAFhCtsGBOOMolPXLSu+pJgBjiAAPBG2JBAJrnplznb7Lkr7bpMULAKEvOAJDng1/3z7c9440cUeUUAABKxP6x6JWO0toOYifASttikHKAN8ckEDd9mc/62ccQQQwQcRfOAEMst4wr01K+f270ENAWI4Y8QQwdbccUUQQcYQQRqQQQQQQQVQAAOwAMMG8i1v/vn/wD91FEMM8sEE0EUE0kUX2lW1Gk/484/EUlEWAgNgQAAR5T4BSIgxSDScH/qCanB/I893rb132l29f8A+/oIeuP52AA7tslL/SeSSgd42oenb4XY4yfbiS62CCxYfqEEMAGInR32zmvNAAywAYAAQj4cEo4EwR8oAn2efL5S8A+uwjLF6hBhyCi2d9dBF5DOOX/jIEEcyeQM8QWJBxkOmf3++u9cu/8A4TQy5wSRzwRSVaXdTZSwVYXcZkPkvTYipCgaStquEeZgAXipig5WKcsjDPvkKA1dQoLncj4cMtpygPGukApXcctpwcQU0045/wAcsFEUYETHPOUc9sFNvlsPdP7/AD7/APf8/L7p1log52M5DAx/DFmjaPyxVpgzepn4fokkcgsqwQwVwQQQQ4fdWp//AJPKd+8vEEEEOEPIIKIM7yIrhoQzzr7yhChyEMMduEUE0sE1VSATiPO/DbL6kO0EEcNEMMEEEEEk0UME0f0kEUMMMW0Tb/nHVUms7JqUoScF9Sq3BEnpKMJEMGoJQGTIggiZbJa6qjzIbxCgABC+v+V/4/g669rLJcGkHgkE4EENG5jBGywwyxxwwwwxwAxwwgEHXfutu9VoZgEz7OggorylWeDIEE0UMMMMMMMEEccMMMEPGEFXgUEEFH1vHt83glNGupIOIAcHtbRVFEEEMMMMMMMMEMUEEG02DDBQGk0kUH9/cX1n8EMEEMEEFcsctE00kkE00U0sMMMEFEEEFHHGExy1nC1WPO5FwlLrsoqhKBeYwMXCib5PBjbqyHB6kXHrb0SIK00UNOOm+11v/wDt/IXEBRBwmhDyG988igxTnU4YK4ywXDjCS5HIBnNRDH913dVrpI0BHgTzHhDQmDBBHDrHN/NZBBBHPNNVNJFNJFFJJDJB05ZJFVl9f20iU8AUVG88CVsniUWQQCH++AM0SwjjMIDMDAEIWTHfG+/Z9vLcvPppFpB1DxxhRkYc0DBBB5dTxxhBRBRRBBxDQNBBN/NRR7NpQgAAAQwQ59NNJDBDBB18hBdJJRdpFtNJBBFBBDdJBBBDBVNR5p9AAIAEIAQezRxlDDBV998FBBhJpFBDBBxpxeyVNTCCDiSSS/RklmImW7jD+ABU76m8HAO2+gs5Fa1h6YnFTN7qxq7cAePW+UvWlMA9qKQFdzQ4iW+3a9PtXxhOGCyDwqBgACE2WcBDuqjBDTzRAxq/P/RFKAvffxHfPLL+LyVVxHx9X11JJPDDBBjBDDJNHHPPPDBDPywww21gAUBo74uczwU8cxu/GjaKq8uPiCD4qkpWWdFI0/LSCi5x6GIAAyAAeH9dSc4vK9OMZNSiDG1/7zhHjDBHgrXrBTr/ALjqYEAL92VTjAAAPu97MkNsuD7v+nxwUQf9EAnJ8OIWENiH93w3tr6Veyu5wEMOgAAK/f8ANSZbdKihCI5EVIvorzUAKAKNaogOIKNU6IEMEENXoAAAAAADLf8A/wA/FJUoscS0ZzxQ0crxy9wdSywS0wwxzwwQ38yww/xCHvgAEP1YLeIMKiNNpg1IjpGFvmyNwPYQqo3nKQeGA8GrqIKTVTDCDCEExoiSfg1+yTXeRzA7QxTVmSa48QQQwwVbbQeSQQx3+nm/RXZTQQz0DGL5lirOfOrPomLHk/RkF8dfcaUzUWcdUYd/jhhsr5U0C77y1Swikvgussogggotq05z5UzBP3+gJlXzTvsoiyfeZdfYWS8s9++9aQQOBGbcjJICgnMAa3cdfTWpu5iEMtrgDCAMIhljwgj3+qgAEJlZTTQiMIALrDP228/wcZyb6pzkB3gAAMoAMADDChgDikgCgBIhiJkVlEwcHuMiAMLCAg70At7+ox/mwLCrBChHtLlugoDnjTK7O/YS4JFBYZ5Opa1LrlBHIUR7HewQTT8+/wBt8r2uW+tXmF8vEcWPOP4QMQ5iARYgQAT6h5csmS0rZQ1v8WJ5weJZ1DpIKYjZ/L7l2UP4p5otIAvVRy6AAnK6qAJqL54Gw+EO/wBE3bd8Q2a+s4AAAAAQwibmTMwOBDIAAAw+Oc++fFttDSPPfyCLqy2+QwywwAAnqAAAAAAAAmg06y3dtJCCSGMy2y+yyyXfygAKS/L2IAwAAAAAEM6M6wcyymOAkQcr5SnUfZMy+byvdROkk6eOrEsye2OAAN68AdiCG2CPFJ09a6yEAig9CTABDgKYDwUc0yHAwagw2P8A11/EIGEIAMMAELMPMHHDAAABtwmA/YQQwzmvvBzHoFRwFKGwxtr2BlDQhCJLIAhbWhTlKXlKABKi0wwaVmQ0qh8uNwHKKAEFP60Apj11X5WZfj8APlsOEFMAEIEqvqsgwQb88Ru3ueX6XagvDAAABDgAFsstMkIABAABArnkmsETiuKuoqH5WR/G298PAPzwzx48CAAAgAAovsHJCADBmjlstjBkjxRgoiQlgNF77hpiUFCEUItjplrl5OAggCACiBhGtkumme8cILPQshss8QUBigrpupiyRgAGqykkcw2MANCBMkIn/iAAFAAACghrijhkvghgIoEUUXkn/wAJIJIqWF3keU0HPOR55gIAoAAAwwAAC4EEFUhmE0XxI4pLAGETaJKOvqru4+/NOEfGEEV37LLLNOAIogAwoEFEGUmTeKjC5bJgARQQb304TidL6v6Rrhjg4XzyB9TRNiiVbQYobYDQoWEXvLY54nEhNfgQY85o6ioci4Imd6irAOjz9SyjRwhIhAyIJJI7ft6l1LLoqd883+4JOPIB68GvuPYjgoZgdOMMNYNvx1zhtQaQjglLn677saKtoMv889RVYnq7oaBBuz5AZMSDIH44BZKKowwsbFgzz46JVaobiY9k0sOihwOPJqD4CBwilrr7QTtMGM4MMMAc8kMPbq4wE4EH0nY7J+O0sJezC6567AvBILaEyZriJ5AJazoikZ3asZ1SLLCYxY4l3GEJ7JYqjJtS6/q6chVGsMlEE2Hv9HE2sV3nX/8A9OCsRgw2awm++JBi8gkWq3WO0Cm2Uavg4A9U9w0Cc+CCCy11AhFNd+cdBFNJFBBBBBqzf7bvjDHqo0YM/OZtVx9NP7Fn8OIOue+eue/NNRxlG1R5hBNNRC1T3f7LDzzLKOzfqubbDOcO5Oey0s4880KIDkqG+8qSie0w6GOOK7qzjjwmsOuY4G7ZIcsseWjR9qKCItC2e4v11rbTrRdhL/K/nas60qDrLHWEPNTU4jG0Ymsc4gPbzvusEiefee8MMOOKz+yO+eO+2OCcoDpsWfPDMXGACHHMImesU6yizK4gYw88sy+uSzP5bTjTDW++qGSQCQQggACACygQQSwgAQgQwwgwwSSAwAAQwwwwQwggiCyywCSwCAACCGKOKOOKOGOKGGOCGOKKMGGKOOKKKCOGCCMMMMIMMMMOHAAAASBBe+CsectMuue6VECOYbo22SS19B5dNtVlBX//APffKQ9Y5gAAAFvTVuvx8+gZhIByDdJMOGKljRALzzzyzz7/AGFPPP31OMNPMcAAABI0FXxQzL0NrrYDAJKhDIozThAYLaZ6v7Y798GEUMsMMFftIAAAAaJYEk47654aYLr+NZ9PP9V2XdUX0UtnmvPP8EMUvf8ArDDzVAAAACiAmVFVpZ2iyOy7rW+NyCuLHTyd5rDbT+66jtp9pDDjDBDQAAAAEkAW+qh2uoqCSiS+iQpL1N9tZp199/hBN/uSt5hVBBBBBDWAAAACCKeGsBBxgYyw2+yOWk2OGGOhHrlLPDb3+OKxlpp51lNBBSAAAAUACGXBO4d7EeZCswAcCwaAy+++y/7aK2/yy2tFxjB/v99LAAAAASiBRqOgiY4BuYQ+uQEKPWygCOKKcSS3i7CyitBV5NbrNJpAAAAAUC+2aqAA7goOqIGa0WMCtGCS2QvsI+re+AQCx1BdxjxxBFRAAAACBBmuQAQCqgAKmA8oy0GxeqAAyrZACKWCOzabnZ5HflddtHAAAAAy2Y23zmh5GJc4iGqamW/zO6SGOKiKiS+zhdLFV5BFlNd5aAAAAEpBBIQAW2FGkSKqAwySQ2iK24CK4UWxI6s0Ag+vXHDjPkTVAAAAUydZUQTIsiVWwksgamsovQ8kcWuuMaUKik4I2uy2LNqQQytAAAAA5BRBRpNNyjhBNRtgO6m8O2Oa+gqKAEaa6CTPEjAktiMOMMAAAAANxpJMwwyPEKg/c0bUimoiXc2OqwCKEYSy+wQoigqWJRRIsAAAAApVxljviBddWSV9B1CiKw2qWSyOCLaSgybiG6YmCFXf63qEAAAAA2+yei+6i1LWDyiqe2o6OW3TC1xhVBBNNBNJJBnbxx99JVVAAAAAiO+6WG2lLZ8GmiLoERxNBx1h9JZxNxx1d95xBBx9LCyyyyAAAAAV/eMPHpBB3iEgie2aPBBBd9hRxxx55lNd9BBJBBJFxxBGNAAAAAx5nbihxFBJRBNpBFNRxlRdbLdjN9HbP7XHDn3b3ZOvvx5HAAAAAaDGpeK2YA8j5Lbj0Ynh1SLtTyHV/jVJtJ7VBZ5xtNVBZh7AAAAA2ayDwN8EQWZTTqv1HdlFxhpf77Rh15jHDPb59BxFd5JFBIAAAAAiwyyySiCCSCCyCiyiyCSCSCySSSSCiiiyyiCCCCSiSCCCzAAA/8QAAv/aAAwDAQACAAMAAAAQBEMM888888wjMTsXqNNrhJl3d888888YQ8w4884AAFM1688Y07CyFjUa400w90Mbx0V3wh/tnWhhc+ya400sS7exnPNGtZwC888sPLLMccvQ9QgomUKaloIlccjzQj9wngOCYDXtWgLxvXRmuCS08sc8r88wy4ietM7uggyQmOn+Mge4v6PZh8EP8s/MNMMs/wBPiuIlvPPPHPPMbfPIh8PPK1j/ADzz+w+OsizHRLgmihOwwTjRjT7R89c8/wA888888z886Zn2Kv8AB8Q51NdTiBjsQAFl3NkgF+LPNloEUHUCN3ssKOtPLC+KictPKw5z9K/5PaHo5MGEJ4nAYVxXgQaYmDOBL2VHLOEpHDrPPOLcndXz+5pkzJyz9oI2QVf46WSgnNGSXzDXyDCWd8gU9Q04On8PLD36NlztqUPPnjPY14f+nCDoFKvDvss0wQcUSi4YiQQQQQQcMPPBPPDDGDyYwg8+NMtkUjaFsQYz4xQzQwRWIUbDxzGiEZMjCFVuNMqffPPI4R9KF9MLHHep3Z3CxymPwFKjw9w/63zWYkzldMwwP3fPEk3kla77zyGnpWmCG95uNAk4lhjlwHy4l4mMvvsNOnH6DQE5J8PHzrNvLKLu4adfR11/ZPjpZEAuD3w8Q3UGhI9LDjfyQw7fcp6hG+4gEtOOIC6POIaOS44Re24BA01+rfdOLgcGZE+ofRzzV70djrXB14Uce7A9yh+JjHtSt5sDAso8N8xYaEZUMvys1NCyFyNn622oYzKzP6wF/ARwzVRksp31kHrjeAMBAHCdfOCx/R9XR9f6Q86xyfxmA3JUAMzAAIURzNKouatNtAPPZrGKP6BOsRXon94IlUfdC7gJARfSiwQVzUfVt+AM9PQCFCDmHXvCjLz8Tc5Xn59M3/a6a49vJPejfzZBzQTcQzU13ugNPjlb8x0Mmv8AnfMuZP3/AN//ANtutP8ALgLf/q5//tbUsDscPMf29j6llY0eBS27Pqbo8zWY33NP3Yl3hnvovTlHF1ll8dD3zyzFDwMStYHPNQc9vjKD+nb+tz3+5Ee85OPMGEX8k00FyAhU1jOOYjgxbnQ6ukw+nBP7LD6qwgsUsM8fHf3HHPP33XTHHH3957+pN8MMF8eCuhRJlOBoj2W7097RQ2nZMNNNHe02s28/0/n/AP8A3sqYQRAyQSRQ+ARI/WZARSwV9f8AhQiQlM88kscEEkPXHdf327/3W0wy4NyUs60WyREjldUIs1XGf2pgvfq9wSvVVcxvxVJe8nNOsLm8+ww/GZEeAF3QgIBpPSHB4BGXpz+uL+Blfwbl60IT/TzCiaSppkBFDfE162WVVekKQmoCSSgCM+sXD3/jxSp5qvz/AP8AcrTzWx19zzSxS27z/wB9pMu8PZ7cku9CVbN4XaTYxYmI+tiZ5abfYJt28ir/AJKJBKHJNsU6zDUfrksJUQqnPbXCxAMcupVZ9xDTjv8AoBLnjvuPjvvqkSzPHMpMiw2f67HPPPLDfW95Te3y9/fSmYQXSS0vaxbTTQwW9fYUW48z1/8Aw1EFOfzzDzjTyxNFuMPEXWoILMUEGEmkUMEsBYYZP1AbI/fZ3/MvzsFOpZDkhDfrB+kLoXUhHc9yvXZMteefEr5Yj4/OOr+EymYbbWJ9qDS1flL/AB92RnO6RMImHS+UmMaU4vM9tZjyph+/hn8O8M+ePOpMdwjmb0kAgDMcgXQbN9WTTZFCU+WLd/77DTAD1xFLoME63z172DMMMbzc8obT0E0qwI7bqCFaRyhS5fZ4IKW9p3jNLkgcOBm48Pyzt3088/8APMyMB6W94OvHxS7vyQKWtmEgBtmeNgaJIgkPqk8yDmPINC988PPPByio1rm30YkrpxBAuKyEzRQpvxww87RQBOie17ORhOwGPPbR/PPBH7WuSa6GkB8W1kDiX9A03M9X3Tu6MfPz6qo37D3ff6D/ADzzzzzwtJjLK0WgJcf80aj3SHD+hxxYp05bQ4rek4jPaJTZ79+bjTMPziQaN6BqNFksL/HZE55rRIJr6r4uO+GSeOCJVsWfefVuk3TzzjiVmJ+/I9/CHQOt2Jr+/cU88P8ADpSxD9pFgDttzLPPEEQ1VA+iDKuS+y9Rsw1Nxf7UD8X0KE9k1TsI/wBz2t9RRR63359C/wDfcMBpoxjTCBfD/e9d9P8AfvbvPvbuqXlzowItAH8dPM+BzOvNXtJVLFBdILWc8kqDSIIwZvsSaybY/PzQTDtdGf8A6G9LPy0/MNPDPeScLz0MJ1/PDSwijnv+HTbAjXVGGrjh69e2IdMvPA9PPDnPDMPPP/8ADO9/zLAD/ugO785TDlTbzzKoJDh3SPqKfIUDm/riHrrTS77/ACI9Ca6ZSkd8qaWNtGVLDFe5Xc2fUX7sburb6ATW0t6G2SbimEQwQ87FKiEXgIS7he9Zny0K1e86fZ3sW/L4KKZbisUYoxGVgzuL8au0LQvxKuiAP6qv+/0FZeECusHQdTCV9LZNyfM+SCMxmSW9TrftvEc8888sMP0zuVtLDm0888MH/gLDFPbNNQdRgfPJffLDsMvMM8862888M8Q88vE8T50diWDfP+8vLfzP/wDyEL3vNqziY9PDPPPPMNPL9E/RXz49sJLFCa2FMPOocqbjP4zfBEKcaL+E1o6tPOgTNvieDMHiEwx/PHY7xPPCraxLUrlRiQuc8sgB3DHzTS+wwRYbHZ7HLLbfsHAHDDLPPPPLtt/OOrtrnFFtpBlWiQuPMJoc3ixpYvE0TPs9tLM77rSlH1utPOBZjPqvpflPyB7HeJbkVKrKRtvfywES1b29y0vPF87xBCLPXfmeUy77CihDMmwWu14gw1PwQDPPPPvPLhjhDrHPOPPPIrpPiT7gZR1Rr0XHgpAIDBfQW4smMOHjWJecrHNlzzcabTfe/AtrTO5bgPGbQWGttIdLKgYYrbzE1hIRs69y7gthvPLjBEtptNDNnW+otGO3LDOysQI8c6UWn65As7no0LS8oFLrODKNP7HyKdPPFNPPLzSY/wDb7LvJctFBLJDW+wyPPUtMb4JaQIJJDS9d5zLDrDzzDDzzxG5DCZ+Jbbr/AF7qjt8iYLTPe4HrITCcgg3wyuO6yFxvLC0tHf4wARQoQBi+lagNMPDNvv5xBz37XNxsbobOesMpVTjU9DgrDgftT7IsYJ6lrcjNbZPPv/6Pwy6JnBsUgkq6tiJO1jE80RQSywGlBGeGv0Qtnv8A2S4HFSnWc3V5nIDoEyzLqxlIqgCIB9VT81WKFstGhFvV9fZubpb5b/ozInYB7fGxEKOgjWjqaFH2ZixO2UlTNN4FoIhqICJ1bQLbSHARw8Rox0hGoFt/PIedHJHzWUxSW0yHSptkVDAlMxPNPZhBiCkesY2MTADir/qrkrWB7DTN+CL5GFIojjAeIWMCjg6xho88F3m+vSwihEe6aRkKEgU+w58QbIH/ACJ7rlJKgQqLLq5zBv8AXYHdvuw8eNN/gXPJtPJhBmAWBJFbz8njNZCSRSkvr93Z+3vGQ2xxZBOC722+e9byKKQoFBAQ4A7S4sciMog3bXt5C3qSLR/K0AyEcPEOueqTzlcjHe+aNCvavOIDPJW6sqWa6CGSrPGhT54Ya3rjHNf+IVNAAAjqKHjPyg7/AKwiOew3w46GWEiie6+SmVxaigffKmcLUjADQbO/GGJpUtxBEJOgmtPPUKi1Z1P+Dvsr73sIsw7pj9i4O72UKghL4dH7zr/8QEEru2O57080g/8AMm3AqT3OobKkj9mtLpmXsu0j/O8CUFQAQzhAt6cGAy6jTDxBf/8A59vdv98ctdvtvvNdNPc8sMMcs888cvvN9scscsMcsMNs/Pf/APD3/DvOPvstssttvtu8/wDPvrLfPrPTLrv/AL3z/wD89d/8ccceOMccd+fPPPKkpn48omW6i/QUZbg9pXcTsgtLS0/9oh++y16wwgABVPyTw/PPPPvDeFSY2Y8lmiM0q6PrAS5MxyDtHSPKXKIB6xTzwALn/wC88fzzzy4IgLHwqXLT3U3wthw6BRHveObLsv8AzIjj36UjjHV3tJDgHV88886yDqK2Mrtt5KeNUkdsYgM2bK0ymD+MiuwwUoDxHV6CX/8ATg/PPPPtrJXjLFot9hQl/SIUNjcRRBCFf38DMODR52LYfz2cX/f/AFLzzzzyyx402BHX/wCuaijFx3C4GOXunuv/ALiJvjqE37fX9wwwww/+PPPPLqugezQogitzfEQfdopCT5ydUtOX+fAGIA8wc11+x+6zwz+PPPPPMAhk14bl922r1WCsEoSc+hgw434gr9++D3/by68Y+LUVWY/PPPKkcorQR2W6xofEDYT6wXATnDc/9+2Qyv0r27Z819/wSe94V/PPPLFVdZQuuHflFkzMmDokOwGvoCxxCSYbA03PFz3QVUbe8QRd/PPPPjmifotpH52RU5VNVW/FdjvQPVxrGe//AP8ALAHsJLnxlNddtF88884yHnZMY9OStOTn71ZZZDQw92OT73t3DbpIS6E/n5DXtLdfZ8888sOKOHz5i2ulVsyDyHD47rIwmUSghFZOwiOVC6PsBxxsdacu8888sFO4Tp0EWbCEtX5FQlKPEZPlVDThxrZL7ld1HpFTUnJst/m88888CIQS+PCC3gWyGi2sDlNhP5DDDJl3U8n7HjAc5Q3YsdCA7B88888+CGaEw6Xr7R7Iw8HZa6Tujem8Qa33h1K/o3+8pcSdue6zV8888sime+oo1SqWJtSCCWp9LNnbJWD/ACzMd/w9ntuTbTdnDC1mqfPPPPCUeQ0YdfRtEbPed86X/V3eNDWoghAAOtsjKTQkIFsffTZsPPPPOLUz3ALptFFEFjE03femimgjnrfk9xcYRXfeYc8kA8MV+hyvPPPPNvLTVFOkvtBaXTWf4wLnqmroktAg3TagXbQQSUQRngkgsfPPPPOJt6KCUjgkCEATLkxomsonpjAKgJu4BKMJPMEJMHDiQDD8QfPPPPKCJSR9r5AaHCiCDAw9Fsj7ClLROzBJl5thC8viinrmku5R/PPPPCl6/eNHFJ2ZoOBcmPmpVkkv3PMIkh50JMCCJkszvul2QVrPPPPPHzD/AK313/8APvPvPP8A73/bfbf/AM+9+2+3889/9+80/wBd9dtd8888/8QAMxEAAgIBBAEDBAECBgIDAQAAAREAAiEDEBIxQRMgUSIwYXEyQoEjM1JykaFiwRRAsYL/2gAIAQIBAT8AX2yYzAdnHBnbMZjMZmf/AKDjMZjMcftccZgIP2yItrA4xEQn5lSoC9ipUVYfUMFbcWsQF7EEdxTh/hWufkAe0B1JjDEIR2cftHuOwfsMCOkK1XLy+5wJ6+HDooB3qyGoQAAi5aVK4hMHuCohqAKF5PYlxV2NeniemRTlheRLu1tMJOoE4Pl8CU0g8jw5cCupYDoGANwU+qmcFOemrljBc40ADOfIlTWulqeTxUAhhtXl/wDyoLVNa16Dy5q61baenTxQn+7nKv1D58wmpADQE1LCxCSAQhlTU0RKI2tdoAYGy9z+7zugHGdzBYiWv9AAM5WSjICnO0dvmO3zKV5FPEt/In87kk9na5PAjwxHsx7Futl7F7h9he0Av2ERe2lzQkpsL3GxIEUL2A9i+wjjZRDcfbpxBJPxAdMcSR12IBR2seMIo7F99RV5BHEpV2JtgJ7VXIMQwZp+thUkOHTIP9nNDFr8h/QVK0Jry8NQ1QBg07kNCChJI+BtQcrAQ0IFfkuDT+m1n1A4AyIaEGwBwMwULUNCP/f4lqkE7emTVgs/ENAB2WmZx+kfJhqGUQnLUXE9uaoN9TpVAUpQn+l/iXoASi8y1VDkw0+mvz5l61NxWrwBBRk5wDCMqVDFgp6dv+17nBmLBO6g2yCxC7FmM7XsVUPxDq2JmjqEWeGlBrWDCYbEFjn8iG9i/wAgQ3aQ/cMrbiWs+JzsWyZysk8bCxqWIda/WBDa+MxnLMyYZS+QCUMOXvytZdOcrJOCxBwZ9XzCbHszkRGYz8zowahScFj4MtdUqAfkmOUsQ1Gq2sSXKkgL3aIqGeQa6M/jW1WM9TgDwAUua+AJQA3Aho8jDDUtQhbUq6g/+Sl6kWshgFS9ViKcaenWw7ZcFCbgOUrX0tV9425KgSlas1/MABEcIIFT8y30lQZcIRAPkQ4MGakyoBr5cpewtgmWOT+444xDHPHuBIjewKnJhe5RCESpNbOCNFjuG9zZmxcBKUM52QDnOzcte1iztztBqmHUJOyBCcfE4MBxiEJRuoEsizKuciCDECZVCpCbgIEqEe4e/sKEfYBfs6P2BuotlDuzO5kR7MxmEkxmM7M/bUUUUW+Ru4iQ1iZT+8a/Ii9pEWwEUUIgjHszFFFF71Fs9zK1JoK/MSpwWRbM9KpuWkKvB7lk8SgKv+odtEgXqbDHiGls48OeAT1NUVOqRXoTJKEFCNRWEHThqcIty9r2OfEpTlZFy9eNrVPgqAO0OmRz/EqDYqFiDM4nGO56Z5gTUH+LYAKZQ/MtS1TxIz8S1TQwAChJGTAYQJQE2AAeYQTa34c4nGOxEU1CBUomaiNq1qD0BK1NuojjEI2ccccI9ilbWr1YiHMqULD59ilb2qEgfiG98ZnOy6nqWbnLyodaxz5guwpbUIosYSnqH4E0bXtdcl+ZYuxMqQCy56pLYbldUgshwmUtxLg1DBdM+W4dR2Nlk9zmlgY6guBbl2Za3LKlShkQIkyxaU0yalgqa1zzc5EzkYTBYwXI6U5mG7Pse4EcYjjj9oZIAl6ipAHxsMlCLD2NdjtphUsY4RFHsoRAHK0NutlFFsOuoCobGxZggpa1bEDA7jnI7PZRbKI7VIjJ9o37mmKsglfBluHRuyu5Y0KIxNIithZwkGodmjFQvPYxLACgD6M8yoGSU1iVrXNiP7QVIFw8HAnACn5MMeJo1BuCeoafTVfM06A3+rNUYZpgEWZ8TiurHqcAgz3Bp14WZymJatTgHIEIoAS+htwI0/nM9PKnAJkqcKChKJJ6leXC1OQDTcNK8/xLaYQIxjqcB8uJmcMY+Jxqx/thcosMOEVAt+8StGz4EMUD2Q27gHtUPe62InKMQH4M5IJzDlpUw2PUD2BInKAuPa5HAheRB3Kn6Lh/mZ2Z2FjOUZ25TlMwFQmczG93HHHHHsZW9BxK6lDp8CBZfLjoOOeu49N4E1eJrRSoNuoKLUadRLjiSJpgchLVHBAZ5Smlk+QvELcrWpTKh0kU2PmaunXmgRxAGZq0rU0qBlZmnxFNT5SnG2Mdw6VgUMmCpTWJXuGluPLxBS5DWIWaziQYisCHT/w+bD5JTjmGsUrWvA5yYNNkIwaVySqmelc9VM0tG9rgGpUOlfzUiemQajyQ5YbBGIRQrcKAPcTuKKKVDsBNUviPgRTMUBQgM5I7OAkNEwahGJyt4MF/w5zOOsdT1LGcjPkwWInI8K58mcmozlmCyC/EYSU55JzkKG4yqiWyi5hZcrbiWBBqWr1P/k3SQHUGvqA+F8Q65JBNRiesDYk0q5qWNySosRTImT7RZew4qBF9At8lTiULLEIlQXLBWIiIry/MU6nEkNQ1Ne4iWhGR42JhUBjMEtVdHEBjGz2B9hBr2PsGpRIgEa9qi9hlTNUDsZBAnOnpihfbhvX/AElJT1SQAoLojGB1DqC2bFmcqW4gjqWvW1QPjz8wyuqvPjAlvrLffcoC8fM1TkDHQg625V4FpnAHxKcathyoIKB7movVspboCARSvjGHDVhryYK4sfjan8v7GIqcesfuapFtSx+dlVgS4V7D8yqeZiIYzDxgXAs+ZUB5n0ofuVG79ih3ZimBPGyE6g2UUqURLkGzEB2MEqgQT1CfqfyYSoNq2tU4mT7c+wkn7eY4455nmKGUryIBnpkUaR/9Q9Q4pWVqwZYCvBj9y3E0JFVmNQVPE2iwD8xwUJJ/AcFAR3n42EIVk8S4AAIcqXUiGPZmAmMzM5GMxlzlHHGYbGcjHaO22R7mfYhDAYYLWAQM5W+THO6j8QGGzUCQfQjcrccbD5hRAEUFrBQWFRZhuFL8wGWRSHiMCpCOYCADnPsc6g2IrFD3EXCOpxinGL7T9pg2Xs424tY2EW1TiA7Gf32f3GZyjECE5RjdichGIxGPskQTSzqVfQOZeoNuZP02Ha8wgtQaLPf7npurHyZat7aGjUVPZltCtM2JWR/eV0y0FDpXqCShLUuLAdlMqVqSRjuXqK3IlADYB+Zalf8AF/eJXSJNmUg4BK1BIB6h0/rIr0IigVPTt/pMsCCjACYdOwSRyodO9e6mChZHwHAGkJp6RtqCpQz0ZcO9jUAr4goSGpwJ6EW/AgAkdziU1twPAWWCYaruKHbqcpy9xOIIGOjPUv8AMqfqBPzL6h9SxqZzs24b/Rm0N7WI5Gc1hw3s24dWxOSZTlawyvmXs7n9wFHqc7QXsAtgVDcPAU9RYxDq2LHypazAxKTSvU6lfo8szm7svJZht8Stq+R4UOoOfJZguALAPPc9VVxUApOeozVnEJDiKcrUHswmiTPECeoAkT0lO5zPp1ry6LlyLWNjYlx1Gknl5hO4qYvcYHOI9EW88lOJ/wCnCCxiClj1PSA0Dc/y5qEFgAQ1NSiIoYKzTIBD6MFDe2IrCosemoNq1NrCoGZUMgNOEIkTibGDbqVsdnCYCSUBCYzuSYzCTHs9swEeZxEGxi9nxDAZyB0OvqBnqZfHKRnq2X66nMW8QXpxNSCuxPV+oW45EOp4FRxhuEiP1sEhDavCtc4MFq1JMsXQV+DBgTlVAISlxpkWCM0zp1yYTmUKsDjEPAg5y4TT0zVPLEuaooDPUpxNgD1DxzxHRipnP6nHTVTnLmnUG4FTLaYFhnuenUW/ErT6g8iWCtBRnuekK6tQSxgzUXIp9wUfmalOJCLYgE409O2csT0yyzPT/IlaFlnEIgcYj3OxixAbJRRTMGwO4tHGFAfcDMxmM7HBjgsIxG4TBY9OE5jjJ87OWsSBAYL4QhtGIxsRBCElBuPetlBu9ju/tL2vYMRiGE7AzEcQlT7l9o+1xQfcGxC9iiEW6iEQnGKKKZ34VNGOxL6QFq1B8BwaRPMv6a+ZYIpyiJINXDHmOenX0K2A+pl/qelY1FsZaEOlxAZyQ1DU2OmF3WWqQvyJVS2nR6gD6YxBpF1B8magAuQBNMAkS1CLXx1OFmpxtNIV9RHIRih07AOKDuHRPpG6OLIwgjxAJ6brUsdqXrxJEtQ1FSfMrXl4bEFSip6Z4ucDxf5l6qlMjqKCg9M2eQYiPENF+oUgZx+jlDUHggvpzBS3agof1hxGafHhqP4gqDUn87+sEVSr+Z6t/kueoeBqD2YJW16F1sRC29qlGDWLHWOodW/AVFvmXuTxD8StrEonE1C+P6lbGpg1LfJguQyy5Ym22pcmlC56hKyYD+ZyInIJCv7g1gAFUOeoEuOIDkytgKmucpy5Fh0syonNBAYhuT8S92AEMSlzXozUdbrCIB/5jzBdBcRCYE45ytsQzGRBYjozkV3OVh1Y5gvbE5W/Q+JazWNyNx1uotszMFiC5axtmKI7ndqN7Hs7uCOOHYEiGxMZnIxvvdmBz6oyJy/E5CMTkJyjH2rABL42FKkAvquYQivw4akVB8GdlS9CLAY/iDBV1by+pWjpY/EvUDT0y/BhlNNtkdTgWIdK3M1nRUNSKgrBlqG2rWo8qW0jlZDQnpXZCnpHgLZZM4nP4gXokEf1OW0wNNn+T6/EqHPTqaEglgw6YNgBK0YOdgBxIirUnDxNQgXIUpUHuW01e1R4nE4l68aL8iGWXIYxiXXIoRCERQCP2LcytjUsS2pexBOw1SKcSAYdWzh1CQAgh1HkS1z6VM9TmWD8QapGEE+obm2NqXA8T1Djqep85hJNnBfAEN7joz1LgtzkfmG9j3Yzn1mG5bcNrJQFTnOU9Q/JhM5TlCWYLKcjASPO5tY2BcJJLJe5gi9530qi9xUlOWonnpSteRQhG1qWBIPYiKaxPTI0hc+Slt4cNSgZUE4hCKlagj87EDg/Lhofpx2GIKWPQlNG1jbIAqGTNIU/xGsUK/c4kAz0yOjn4nAoldTzKaVrdHPgSunYhrEro3sCcAArJUrTFn8RFCWqQpenFD8QVltG1bWHwHBkoQhMHZxxidxLZe4wHanHl9TUtqVZQwZXVRJIBwo4E4dVk/B7hvW3EHAEtcWrxygWIbBkrvuHiV2FNS9bADIQ6lCiJw7LEogXBKEGlwvyJ6vTq8KerZWACBCnqWgv+J6jC4iW1SagY/J8mcySznCiy4LWGQZ6h4VGOzOZ4p+XBZYUY6QU55aDly1ARDZtjuAogoMQhwVgrEIQBsfsGYmJUcrARTiWlmIgNQULqF3NWnDUtVdQVNmhFEZlSw/gB2pkTlKu0Zn1AD8xbIwfE4GI7ClzVrE+oJwiz6isnAAR+YIiTL0tWyIiI7EFoKXIYDDUuLVJFu4inEcQ8q9x4gh+3pnjcW+DNW3G9hggnEOoy1meoyWG5yqTy8znU2NjV2J+ZW+mAakFNicguuupawOVkwQI2qZpnTpzJLfhQX0wCBV/BMpqafMOmJ9DeHOekbVKSE1dStyxVStlYGeowvkImEIAuVB4XLQAg2rYj/jEtbIJ7lrG5BJ8KamKVHJmUTfwNqn8qWuyyTLW+lSogsRVM9uEg2Nu3GCBiGz4/iXIb3BY2fsxCdlFtp0trXA/BhCMR4vxOJTWxZ3Es6FH4cMREIXcZjg6h2c5lEDo7COEypl7CxHseFuzMzMRnGIQqD2PEcxEJjciaVzQvzBaqR+XDdAgYZhuC/kiDuG9SEAAF/3AaMfpTlUVOB+IbVPQltTkegKqDhwIeXCeSZmq7EGFrYbLZRRbEv2r2uOOOEwmDqGEbCY2cCfcPyJn5mdkIhEIhEIohFtmcvmcoTsPYBuYop5iiii+0DiMzJnW2NxuFhxBXyDiC4INeIxWUHKwEOJZKq+Jg1qVHLJDEojbPUsx4C/E07CugQskmH3Ldjde9RRRRRRRRRexRCed2oxtkbqG1jUVQQhtc1qD0IpmBiE2Mdvn2rYbr2r7D2zDsiMGPcER7LYUNihOBWO2oampRisA1iOCtiCQOoQanM4njyWHsakFRFOcbKp+YpYACi8iawqDUV8VDhgpY0JD7EvQVS/v+4A7CaleIYFSFNI0GlqMMkYj2FXUQ1qLVWHXP7iPF/memeSaw3K5rfENSE4ASUJSpvZPw4sEw1xprzLrnb9zBIlqGrxiGiqC+4hK1JS8lStckWwBBTFiSlNLT/qsMDMJZJnnbO9XDtWxqWINTpjzmG9OkSFG2AOztW6FgXmWuywMqG7qK8Qm9jqosCG9DUDilPWC/j+vgT1fHEKerY+B+Ib2t3sLXHkzlYhGdGG9iE4LkCAozuZSmY7NuC9h5nO/zAbfMBILh1D2s+DBe053+Zk9wMGWvY9znZATMFrBqepaci25zsezHKxx7owNRGKy6xEU1jY0sOWOpkkKEEEgjYggNRHuLDWIpxnEprERnEem/PKcCETLVHMVHxOCIZ+lNyw2NUv1DUjuUrysA4aoEvypws6ghOWCJErU2KAnDIDE4Ekis06D1a1t85lwBYr5gzYCUpX1gLfxfcVbE8SU4KEgElCEEEg7qERRbCY3cYUew1QAk8ZhtVIApQIHIh1XyYOZW4FqldQlknb1MWHYMNgU69Q2qUSD+odWhf09wa5VQvJcOowQRiDUSXanqDAIwPEOqT/SF8SutYWeHL6lrlkw35eNuSz+JazEqeJanq28ACV1L1LENiYCQWJXUSxPULc9TLWY2YCa2Yh1rmDVsGgA5a9vpGMD7C2MzFsRsCF73s9lsdkt1ANkNhFF7F7VB9lbmOPbMzGIxGN1sooooooIpxIqCsHc7KD7azsdkUSsbKxBjMY9gA9LrLlq19Gmcsz0HetQe5ela+fKlf5CXZqCZlREyoHmW0wASPBEGlZEnAAghpYDksT0z9Oew4KGupQW+ZqkHUuR8mCpIJHicWNP8vMGlY8sjHzOByzBT6QXky2nbxLkelUccjvatTbkR4E4/Q/Px+I+peoRsCO4f4jC2qmi4ah2XgQUJIHzDXiSIETmW01ZAsEdwUySWhBVuekSQGJwRDIXzOJznqCqsmOu5XSdbFowE+naqHc9MKibPc1NMU0h8k9TIncQ3rqXr1Baz7g1b8gbWJUsSS3BCX52R8GUuaWBh1bEkkzkvM5TmcZnqWIAc5H5mTK2NX8HsQXvkiM/Owfs5WGHOd/nZlKC1wFyxtkFgw2uSzbMZ9rPzM+xn7DjGx3EQig0ia2LzXKltG1a1sZfTd78RgBymiTeoPRDhGTjErRv9QUenYr9QdS1ANOprRuuYx6AAGXn9b0q7IlSlQRcHvCMNCyvhxYLHUUMpXkSPxBQkgMQUBsnL1HMhhLucQhkd5go7gePmWQJU/pf5gyxtWrKcGjc344ac9MGyZw5xePzK6YNyCcBlytH214mPMApwBz/ACl6fVbiJYcQPZ5hFYqxCFeIIIRAjAAILkDEOpc92c52+YLW+TCSQyYLEdFTlb5hg1bCpqMBTkUtszMyu4ST2XuoyGJmcrfO+YNhsyOpp6hrYE5U9QuxXbgjPyZyI87O3zGfmGxKZhEB9hTiigmdgBBSx0bHjjkJ6fn8StK8SSSEnDp8ak2+UJTGnf6AyhK6Q5hmW06NHFl1DWqCP7+w937F9p7GOOOOOYOyjhHtUE0rIXDwRGo5zPyZyMZmYzOjGIx8+x+ziSQBOKPcdYxuxs4akVqT0YJenAgPsCf3l6iqHlZiiIhEtQ1K2tS1QCZUBy1UdgdzC4NnH7LVXYLmkKfU/jEqOVvgOatBSxAs5WrAHlxK5CeUJYJyox1ApQUNlaADMIGCPM4g1P6YPsrgv4E083EVSRYrP/7AASSQPwIAMzjRVZ/YhGnmEB/gxVWTmMHiCepc0PU51NgbOVvpglgnMueVjaDENqoA5DYl70sEjjozl9TU5d4EtfkmIpc5xuI44TBuoRs4LGAqEskqMtmAwnMJcEBzK24lieXGfYt8/ZJUcccccB2J2KiMXtEMDEzFiYiEzHCfYt3CY44D7X9kke1TzvmKZjjiGyEHezjjjjj2QiiiiMR2UURimdgY4xMQpQGMfMYg+yHHOBFRb5n94Knhy8NboQRmIqWpdVK76gpcnA67iRgAPL8CGsW1aWIaxF+NxK0sQwJWjpY/EMALqDhw0VrV7R3RTmZQD0tQodjaoJIAgrycIhrUVoR/eWAQIEqOUOmRZfiDTJWJcLRqB/qcDla1IOUVOOGsy1Aguz3PTGUf1PSCB5dw0+C/mClcZx5gAFSGMw0qK9qzhtyqKk9TjT6URNa9OFK1THajgO7lLUSsSnDd8fivUpb6dUrxCWXASCfzLWfH8CeYcE5lDRF2IhtXtPClrA1qM4mnbiWQxK3q2RK6vGlqj+rBguKsDz3HDcWFYLVdijmC4HYnLvGD3DavABGGwfXic0EsRmCy6nMxRlAR42JJ8wWILctYlsx59jjjEcb6jjMZh2B2EQmYozuN61JBPgTIRXcvVEj4laklSwRmYojEZkJwiwDismo4AygZ6dgv3MiZYcB/ML+IOROBNLT53z15iM42aLcrS1iRUPEUWCYMzOdtSn14nCyP7U9O04IAmWXpVACLg0jyI+IdIj/hrzDUjZRbDvbrYbJQbGc6inXctrC1RU1CE9RklDMGpZvzLQDHUYQCli6jY5rWGwVvzOeOvC2GJyqBVAsGMZxNS/IVCSCihsCAF1K3NQQu5XU4jAjwlOZblbmrXkKECAwHzLdwGWu6VZ6gsfkxwWPzOXwZzPyYb2OSWYz7l+YlsNh7FiIjBhmfiGAHAhYYldM2lNK1rALzLLlb9yp3FCQCsdQ1RR24lpZiIgZGIa3r3Mpx2TjM+rChFmjBUomIwUsehBUkE/AcBgz1DDtj2Mx7OMwkHYQiD9+wWoECypa3IueZ6o4kJy+pV1HHpS+q7nHmCwDKyYLqpHzBchLCMIZJlQi4L4wBLEPErqKnHPblrVZK7hvQmuMAQ6o5iyypYgmVMsakh28Kcq1qQMgw3HEhQStgF8jLlrg2tbLJcNhkLuc8jHUFgHiUvWuDXB7h7g3IighAh2ccrBMRbobmLd7HbiT1u543UUW7h9jMZjMcZh2cccOI444/YxuIYMbMbURFsZ8QVHp8z8oCca5fWMS1VZS9OOnUsOGAE0P4MpYg1+BLBE7EVwoRKfxvjxAHpnHR7lCTjwt1uovc449lFF9gdRRbD2uUtws+LnO0DbhMeJ4jI8wMexwWIaKcZSczBsvYtlFFFujEdu4tlFF7BHO4O/YooojM7Z3KghEABnGJQVJaGw+wQR2NrVNUx2HHiWqRWtie/biKY9qiig7igg9hiHES5qCF1LEkA7I8QZaqU8wU0jZPukIENeJUHctR3/BE4WQIgrZqVB09Qj/xP/cIMoATmHTAsEcKCrZIx8Tjh+Yqg94hGkCcnEQZENfp7z5Ev9V6/oS9EjU/sfE1LHUtXLCAldIG6FeprhX4gsVC9j2zEZmOPYGP2hOZ9nIpQ2OIThbepaGxOw1DjAnMwkks7WvypXOQIbH5gJHRhJjMBnITJi3TimR0ZmKZ+d1u9g9lFFFFsO9x37hsYPsKB7qKBx7j3mZMRiii3B2zHsYIth7lsR7V9xRfeUUW6i9rjjjjjjjjjjjjjjjjjjjj2cccccccccc5Rx/ac5BgfPtMe1a2vYVAZMvU1KnEpoqDTJpa3woNhPSsgcZ6i2AZUIROw3oHav7mr/MlJzTpysA1svxsPbmPHsH2jD/On9/aet9AgagLXhy2nYM2Igus8guKIg1QKWqbOtgAviV4jTvUXDKUsBU4L2obGthBbTFADQEvJ/EJrYjqq/E1bh3GE8ARVF+RuE/Hc505kkAs5nqlYCPz+JU1F24eB5dAktypAPKtuI85lrC9zY2fwDOdKalbVsqoP9xDiRyqyROWgKg8ziq4/JnqAI1qAfJllyKLe63W6+5b/M0/7+09Rb1qbYEOnZ91/wCROB+R/wAwgAr3Elsz/DWSX+p9H+o/8T/D/wBR/wCJ9H/l7OOmgef9lFT/AFRU/wBU+jOTB9o7L2ETMcEct/maX9/aeoItnHMbERROdfff2BsDs9n7Adr/AObo/wB/adzDvnZ7v7J9w3PtPsGz3e1/83R/Z+wfYDt59y9z+8ft6n+Zo/s//ntPsqDYoQ0IqD2DsQQVtTT5VuX/ABD3oOROfBMezj2rQ2FiBioZiiw1BUnqKLZexe9e1e3U/npf7vs6VwMkkIfE1NQHTFRaxgh0ybsoVfblK0qSTap7QnKumCKl8vjxDAmDKWoSKHog9BP4csEUlKIWq+nmf4ZIOB3iLTABwTCdHIFeg/2Zp6tKDUWDaqSYgvTmCV18Yc5gA17BLMqaAkgjPj4B/wDsAzU/npf7vaYotmYdnHHuCiDLFn297D31AP8AUB7Tsod3H79QfVpf7vsGKHSIq3Xpp5U9K4Jx0v8AuegfFqmaWn/i16IMvprqwOVDpKwBt4z+Jp6XLVrWxQPmXrwsRKh+ZkShxbAn8rBw6YqKm3ly4ASfUTIEFM3DH0jatDbivPcFQWCS9q5rfGZp2PSw8whFS38j+919pRey/en/ALvaeotnsLH5nO3+oxnEFiIbOG5PmepZJ4hswHAdq2Tw3CQR/FR4UeQ9jf6ieIzAlAfiCxBJj7JgJ8FbArwJ59jjj2UW4i9t/wCj/cPcNujHHH7BFuN+/cvvv7FgxX8WHtMzFFNPTNykepfTNPMqAQf1DSvDTTZbh0j6hr8eYQioIaHiD8lSmjqWJwl25p6burYDzOJTA8qcSOT8TgeJOwo62L6DnCxAIGx0yBQ/Igpb48qelqS1TVAwS+iKlc39DgqSQIQiRK0Y5GwAnEqx+DBo2NgGA0nDpL+ustpfxDVuPUOmQKn5ltNXQLl6itiPgzExFAIoothD/wCx7nHtTUNJfUtcAfEFiJ6lmC8jqc7S1iV0tuZAAGJzt8z1bBJD8z1b/KnqWPZc9SxCQW1b8RgBpGc7bHWuQGKtJqepcsOC1sfiMpberdtwatwW5Yk7G1vmMtsvblZTnYDBgvYBAw2JT2UW4PsP2l7OFuQqkSoQakgx+0VsQSB13uIBgmAElAM7PYggoxHibeGo/Yl2N+Fk1iEIoxEFQ0tUM7endNFQ1sCQRkThbxUyune3LHXc42RK8qcLCwqRkmDtES//ALHtMZjh2rStqAkr6oNOorZn6vAnojgDyH7cNNNlX/Utah1Bc2BQHj4mpYWs4JbisKAMoSwpU05AtBiCumiGCYLaddO9AmVmH0ng44ofuKqABH5c1BXHEjE/o/vNH+YLQHZmmaUB5CpL/eIBpAl57PcPpeGIbaZKKSGVDbT48WmiVNQ6RAA8eVKnjLXBql8M/JhC8wv0mfJ3rewRHgIQl25KWubcX4EuAKVrluKV1b1SPgierYhFH5JGZzvjPTX956lgE8Q6tyEVBcx5Jl+v7j3CHdmH7g2BIMPzsfsciaCuMe61+SfiAx7MTExMRzU6/uPc/aooKsE7EEe1FpZgBZHR3cccezjj979qi9wmp/D+49y3pUEWJOAJ6YV+2FPSsCe/4uDTOGQvP4lPo09Spr/IfPaPiAMy2bmW0u0fAIEOmBUfJltAg1rl/wBU9NeQ31CXq8yQsZl83MuMj9bj3qL7OZncAGKKKKav8Pc445TUNRYfInO3zOVvmM/MZgMtZlxuciB2Z6lkuRUccB6hJJJOTuPfmP7imY4445qfwPuWwHsX3s+1fYWy9rmIt7/wt9mmja5rjBPal6GtjU9iGlgAV3ACTDoX5mgDh07B/pzQrUatefXZhTOxCAO1QyB0zOH1EPpzT4nCZJhwTsIopn7rjg9r3v8A5dvcIYDxLnrh0+jqWsbFmG+lUMW5EopJEQ6lB1XyxK6j5kpkdzn+MLqHVs2g55cUZQGwKsCQ5z+o2QgK8CEkl7CP2s+9exQfYvmh/XuWy2U4xRRRRRRRRRRRTjFOMUUUUUUUUUUUUUUUUUUUUUUUUWF7P//EADMRAAMAAgEEAQMCBQQCAgMAAAABERAhIAIwMUESBEBRA2EiMjRysjNxc7GBgkJQYqHC/9oACAEDAQE/AO2kQmGInKL7CIhEQn2KWUy4RbxeKrxu0uLJrEITPoVH3EP+alF1fsxCGse2Kl3BaTKPqFtLDfkuisjfUsxkdbOnpabf5I9Ed8CUEOiJi8V3ouCIeyI0zRrDcF4XHpW7mcLmvF4Uq7qHw1wpeLVX3CZWTD7mx3S2bPQ/GsehD85p1eFPyWYqLlM+W0h4pSl1ilZcIWhieF4PDxvD5pD1wpVhQ0jWIRHUtHxsIRExKNJDmImfBCSyhoUR/DSI0a4wnGcuunnZ7YqeiiYlRsQmaPZdD8rE3iMSPYiYRBjSa2hLEIehI9/YVlZTyMSIp4GI+JBdMxCI+KxvhNm8TDpB894b7L4euNpRMZsrKysrLyv2tL2J+/YvYonhFwnhQbhWUTGbPedY0aKhig0+N4ou6edlcFRvwLHV4cE1jpsVNQutDExJehieLhTFLoXg/JU9oTp7y+Ppt5TxCDRBMeaxx+Vh7nCjSfsiIj4kPiiHxVPijqSmHT4ofSIlIQhCOQSg1hDOlERCEIRE5LEIyEPjyWa8Xg8XEwmJ4bmKXisVdq9h52hiv4Ix71CP8Gzy8MbL4LsR7OrDs15EPFZdoVN4qpSsrqKvMLoTK8Uohm9FEU1i48DebinrinmIi4TF5Lzj3jRF24ejZsiITEJrHoj2NO+CM3Dp9jiG1P3FsZ7H1aw2U6W4K7o/WKaxRtClxS7KXDtKylQ3opahcH2GeClyi84REREQh8URYYiExshBDpsh8EfBHxIJTg+zKz3C+uHuFPJYJ9lPtJ3u0pVn3i4XkjtI/wAnx2QkI1SNCH00Sg/As+x1j8HT4FmlLhlx0+C49ZpcXi1wouFPOIViLisoxeOL4whMQhCEIbIQhCZhOExuCLhvRVRHtjF7FaRHvhWhZTH6f3L5vEIhnvi7ctDVyibGvtLml7DxV/8AUQnCZoxrTF+BF09F2L+Zi62/CLo+SYmoNidQyvQ3MNl1ir8ieKVFw3OkXhHymi4mKXF3Cl5b4wZo+K/GEtbIibEkiIih8UvQ4kLwQ+JMwh8UJYaZNEGmfHUI3KfGs+MEXZWQmJtuCTkhH8qLg+Vx/wDKFKNwr+aXqYTTLllSRVZltJDcF90y8UQ8dRCIjGnamT9z47tJ+4jZ7wvI8PeKM2R/KitGbKVjbgmUohl0KzCdxdlKXLIbFWK4RTRS9yE7CzMQmZmYhCEy8ovYoma7fv7p8F2l57SJ3XisuaUpSlKym8Vpiflj6vH5YhqTYlohIX+KFjLTxRMYmx9SjE6h+CoqKOzHyVmfl/FMtiE06PF3heXj34xT3hN7/wByouH6N3Px2tsiIqM0/JqZ+KPihIaQkMiIiJYS20REJj432fH98RiWIQSGhbIRkxCExCIiIj4omUy5eFi8UsVfd1c3wXBYmHi7wi7G9o9vDZT5auKrCxC6j5I+W4VHsT3ilG8PyeRDZcLbEJC8IpcMnNEEliHxR8fYifxMhCJYap8T44hEREIiIiIsRYnKZRNcF4HiE4pG8MQ3ELFRS7mbePspR9SUOq6n5xS4bg2PqSg/WLRO4ujxsT4QQ8JwvFZYkx9JMfEnkSZGbEmhlHh+SfufFEIT9z47pMNErPjshCfuLEITi+yjZvFZcXydLqLPPD85ebhvFzVcVF4J0uG0hNMpRO5eVKPgstaYlpEIRkclIyCWXWR/kaf5NjTglCaPjh+VloSEkheWOrDIJbxCEZBLLzMwmE8txURVSq8lvk/PCcl2KUpSsQ+2mNVEITxiGyMjEh2i0LLxc+qXtPEIQhCDwuzomKylKUpSl4zOhzKxrFLi9pmu3Xoa8OjFmYaENXqFybxCZoudKUpSlKXhS8Zm4pryatLnRrjRMeUx87whMTnCYuG0UTRVcqFVmdFWVRFLcJ38nUtoSx7F7/3xdH4y9Y/IjZaXZRlw+GucI+EJvEI75PifE+J8VhpGsREypiIiIhw1CEREUokiLEIsTDPiT9ycKaymjXH3ilKey5TxRMb09YumJjcWLqsdmhNzDsc8my4pSsvBm+MxCYhNPMERnxZ8CEIQ+KEkiYhMQ+KIjySkRBqYiIuymN1CNZuJySJiYW+CzoeLhlLwvFPtXKITOiEJm4pSlKUZS5UxR9/VxonH2K/Jnz06JtjFKTDE3UfLFRS1MXhY/JVoo26Jk/itw9TCFnZS5T0Up8i/sUuhvY1/EmV7E71PsfFCGSZaF0kIQ+KJhrgylxEyDxrFNfjhS96E7D6to+abaF1aVH1aw2XaGXb2T+LLY/RcUR1ZXjHoQ+F0VzDbhcbonpXj67UIiIixCYmdGio1m5mNY0XKGkTjrGijWHy1m/xIpXS1j8rY+pwXUxN/ezE4XFLwuHiEIiGuc40vGZUuE7hO0prCdwmmMT4qCg8QnCnU2WI6XfQx+FsQxjua6uHofg2bxWV43hUg0/QtJLEEmiYWsLLITDzRYeUtEGiEy+Vwma7UJic7yfKvExc3hCYn2d4aKaJilx6xCMgliY2UpSo1nRrhCEzCE4ri8Xcx7nBkwmtjannDb0XN4tou0semJ6uVMP8AmWa0JldYqWCahUL+f/wPNZWfL9ileK2/2JHSvZ0p10nF0g1/KTQ9k8nrDpGJOj2NMarJcSEehohN4mYXklyhCEIREy8MuLzbwvQ2LNzo0TF4I0dXVFrFQ2lLijz0vRSlF/MxsuaXDzOcdF0xt0g0hY9ix7ITMx09Mv7vLVhCYey5WJvMykTlS49i43gi4bg2heEPNKIqzp8ai4qL2oThMrjGeD0fHdok9ui6dEITDIJDW6JPRGj46gkMRHaTeUopiDGuzS5ebyReKxUa5UprM4whCE4TMI+U4Ie8TDPcKXQnWxHtDQsbEx+UexrKzS8oQgu2+L4Qe0axMe+UJ3Uy8ZwXJkWUPjeLFhPheU4LCjIKOm+LN8aXHrHvjD2Ikx+wncN9U/8AOLVj0Up5WGXFNl6srSExL4pj6nPJ0eLPPamJ25lEQsQmESNi4RkNF4XN5zjcV5fjg+aH2LxrGQnOZ1wRDwNZhBIZcUuaUuLmlL3KXF7VxSlLijfGcpmEIQhMwmJwhCEIQhCEIQhCZhCEPg/j1P8AHKY1KIpdzhS8XwQ39z0q/ofrP+3sPxCoaJsflaFvD0T98I/8EIMQyQmsOk4PhdlL3P0/6b6j/wBf++V4UoucZGb4I3jZvs+8Lt/pf0v1f+3R/wB9l9lCx7JznbXGcv0P6T6z+3o/y704Lnvvrt/T/wBJ9b/Z0f5LtLvb5Pn7yu39P/S/W/2dP+S7LE+De1l8rClKUuHwoz2PvfTf0/1v/Ev8l2WhLYyjrNs9Y/fhs3+SUhCPg8Xle79J/ofXf8K/yXZgswnaXbQ+C5rh9J/o/W/8H/8AS7V3Co+X7DemJ30Ub0WrmsvOsLCL9h9J/p/V/wDA/wDtd2EIQS4vvwhM3s/SePqf+Dr7U7k4T7n6XqSf699/o9a//XZbSE6MTdZdUQyj6kN67FxVmv8AHGlKUT0LwnilGylLhnQ43/b1f9cplqiUIQgkMhCHxRMzMROGiIWNcImREXJrFKfpqt/29X/XaXCidXLWX3N5qzUQqKhdSG1rh+hvqf8AZ1/4vlrhWNul2ViTkglMIZs2bqfFjpsVNmxW4gj3lpZXl4aTIhJER8URY+n/AJ3/AGdf+L5rgvudYq4JYmNorKyvH0v+r/6df+L5TlSl4PnOExPtPo1f1/8A06/8X2WXwUo9tftj0UTPkU9QXj7mlLin0P8AUdP+3V/1zmGqRERETMxMT7uEIQ+j19T+n/vyuHm/aX7T6RX6r9Ff/l2W5ROoUx8lKUb05yo8sRfuPov6v9H+7s/HzsWjbfiEf5IQnKaJwn3P0r+P1H6T/HWu1SlzcUuKUpSlKUpSlKUpSlKUpSlKUpSlKdPVOpPh/8QASxAAAgECAwUEBwUGBQMDAwQDAQIDABEEEiEQEzFBUSAiMmEFFDBAQnGBIzNQUpE0YGJyobEkQ1PB0RVzkmPh8SU1gkRUZPBwgML/2gAIAQEAAT8C3i1vFreLW8Wt4tbxa3i1vFreLW8Wt4K3i1vBW8FbwVvBW8FbwVvBW8FbwVvBW8FZxWcVnFbwVvBW8Wt4tbxa3i1vVreLW8Wt4K3i1vFreLW8Wt4tbxa3i1vVreLW8Wt4tbxa3i1vBW8FbwVvBW8FbwVvFreCt4K3greCt4K3grOtbwVvBW8FbwVvBW8FbwVvFreLW8FbwVvBW8FbwVvBW8FZxWcVnFZxWcVnFZxWcVvBW8FbwVvBW8Wt4tbwVvFreLW8Wt4tb1a36V6wlesx/vIRst+GSzJFbNz9tHKkgJU3sbe0ZgouTagb++mj+Ab1d9uudr7JJgkiJzb2csIktc7ZHVBc1FMsgNuR7Mc2eeaP8lv67CQBc1HIsi5lNxWJlEcMhvrasHEI4dOZvtZgo1Oy47EjhI2c8hWBjlWLNI5Jc5vlslgSXLm4A0n2E26+FtU/49+Oy3ssbNIrRQxmzSHj0rCQzxNIryF15E9nMt7X17GJP3S/mexphJh7NnLR31B5bLjrTOq+I2omwJrCzGaIORa+1mtbSlz/APUnOQ/dDZptlmyHKq5m6VBLvYw1reW0OrMyg6rxrOM+Tna9SG0bnyrBvnw8Zvc21rETGN4FA8b2p5URkBPiNhTSqrBSeNOL4iO/AKbfOsM5bH4ix7v+/ZiKrjMUOZymi5bFxj4QpPzrHOSYIlF8z94eQr9mwzG2vG3max8dkjB70rasazLFD8lrDd2BSx1Ov61hiSZmP56kAnxQQ+FBf5nZGnrGK32vda3lYdjHA+qyWpGBVbdNrnf4qLJ4Yzct7/b2c0STMLPZ0qR8VA6MWDoTYjpUpIng6a1vbYt1Ld3ILVI05xQS/wBnJ/tSrMkrRLfJxBPKsRGI9y4+Fxc+Rq4vtxPBG/K4NS5DGb8xU77vD356CpI0Xd5fFmFYtN5LHGRoQf1o2CWPSljeDCkA+EVDfdJc62qUyuzBHyBefnWFmeRDnFmU2NZrYy/JlsPmKx9/VZLeVIMqKOgqCVmecNybT5UZSJBp3Dpfzo5t+5jsSw49LV6OUrh7E/G21AI557/FY02YYhZfhy5TWIzyxMsdJOi5ZF4E2dehqcFpIZALhDr9aljedbhbFWBW9bi6MH4txNZJCoVyNOdYIJvMUy8M9v07MMZ77OBdmvTIrWvypoVK24a3BqaKWRAt14g/pUeGUZy5zM3E1ul0vraljReAoxKTfXzoxi4I0NbtubmljaMFUta9KpHE67TYi1JhFSQOCdOA6bCma+bhSqqiwFh+FSYbNKJUfK3PzrcXILsWtTKrcRQRR8IrKLg24bCAwII0pUVeHYEaDlXpH7gD+NaVFFOma3UHSgmupvRAIINRxsgC5tBSo6lhbi170ISjOUPi40YlKgUYla+Y3uKCG1s1GNCb2qwIsRRyopPCsF+zIeuvaMEJbNuxfsFTNLcnuIeHWsEPsb9XY/ubJGsgF+Rv7XFuG3qHgkdzWHXJBEv8I9lEbQv5Fqwn7NF8v3alhkOJkFu7Jl/QeznjmXfZBdXH6Go1yRovQfuFmXNlvrbsTuyQyMvECoWzwxt1Ue63/CWxKjErBbvEXqRyi3tf8CxD7vGQMToVINTzD7JVbxONRWLnMMd1W5qFns2Y6DgTTTSvoUG7cG3WsEf8JD/LWHlMm9vycgVHKWmmS3htU8mRdPETYVCJQg3hu1TYuGF1VzqexiZDHESou3ACod4Yk3g71tdkyMwuh7w4VDJvIw3sHZv+rRi+gT2BcBlXmeHYnlES5j1A/WpZVjyX+JrdsmwJqKQSIrjn7RmVeJtSSI/hN6llWNbtSMHUMKikEguOttm8TNlzC/SmOUXrAZpcbiZmB6CiQBc7DidWEaF8vG1QyCWMOO1PMIQulyTYbI5Gkx0ov3Y1t9TRIAvelYMLg3HZw8jvvA/FWt7hHhzv3ldrngo6CnjV1y0IhZsxvcU8c+4ePjpoajildg0osALBaWBkBRWsl/0oQGNm3ZABoQtHKXXXMO9UscmaOXiVPhrfA8A36UIy+JnDiwOWrjQbZfv4L8Nf123sKwg+yJ/MxO2SYA5FsX6UucT2L3ut/lUTu8qtm7pLC3yrM3r+W+m6/wB6WRWdl6Uw/wDqyf8AarGzbnDSOOIGlRGdUgkZ7hgM31qUOcVEy8FU5vrSSB8w6cafEMZtzEAWGreVJiXk7ip3wbMOlYeQyISeIJB+lSP/AI2M/CvdJ8z2PSBk9Wc5eBBrFlmXD8Ad6tSzCO2l+vkKlfLC7j8tYRLMzXvdRf59jEOI4JGPSsGGhAhbpdTStfGyC+ioKjkLYudb6KFqaV7synuRcfOrvPG82YhR4B8qE5kCrH4iNT0qA5EYM3hY6mlbNqOG2ZZJJZxfuBRpWGlCySQ30XVfkaCDGY1nYfZxaAdTSZfW3yDRU1+dTzZcQe4WYL3R86U7mFFOr9POoIpY0C3FXb1fxaluPSpO7J/h08Cm7+ZrOAo1uaw00EMbZ3Ckub05fFKcq/Zhhr1tRe6tl42qGWLDwBOL9POkhn9W7xyWF7Ct7oAurWpc0Ty55OOovUbZkB2zEYjEiINbIL3863y5SJNCOVYSFQ8zMveLf0rEBMyq3gAJI61CFhw4zaAa1CJJ0aeSVgvwgaaVAxaJCelPIq9aQki5FqWQq86oMzl+Fb9jh5Pz6gW61JiCmGQIbyGwHzpb5Rfj7uyq3EUABy2uiuNaWEK2a52SI7tl4JVrbTFb0pdTq0etLGBfmTxqKLc3ULz0Nbhb5m1ajHZwydLGsXAxxJkzkMsd9KkhSbD2GtxcUIpSqRDw/wBRagAKQFZ5dPFaooSuLxD/AJgKgg3ZlY8Xa9CSWMPGi3kaU/8AzW6Cw5Cpa/H51AHEYz8dhNgTRk9ZyR5NDq9HDx2taljUX5k8a3PdK5u70qOExJkS1qUWHG+2eBsRlR9EBufOngxJsoIsDo3OvVgDcMQ3M9a9XHwHLpangHq7RLzFIirGE5AWpERBZRajHGxuVHYMbZiUIF+NOscCSTHU2416OV2wufNYuxao41QafWigJve1CNQb8+uxoFa45HlQVVFgNKCIOAFbmL8g25VvewvsVVXgLUVU8RtOo416rFky/W/OkwqK+diWblemQE3502HRiC1zbhXpQhYMvFnNqXDLu0QsbADSuG04dCSbkX42pIo4x3VtQZJsYLLoi3v86kVmHdbLXqxPGZ/aNIqsini3DZh5t6HPRyP09z3LevGXlu7dnGI1zlHijK1Cm7iRei297LqNbigQRcbcRFvoWTrUUYiiRByHu2Jw2+khP5Wv2sY+WGw4sQv61hUA3hHW36e1vWJznExMmu7BJFfeKCr2Fejkyxv3yftGqaWYOd3ayeKpJFjQu3AUZ58u8EXc+etqBuAdkkqRi7c+FRTCS4sQRyPaxLlIJGHECt59hn/gvWGl3sEcnUdrFT7hA1viA/WmUOpB50ihFC9KLBeJ2ej5nm9YZj/mabcVvFVXQ8DrTYVpCC0zfIVoLUSBTMFFyaEiE2uPYBla9jw7V6d1RSzGwFJIri6mrXqXCwbuQ5NcprD/AHEX8g/AJo86jqDcVCmRAOfP2s+H3pHftbh86GGxCuZ1PfPFeRFR73eGyFVPG/I+VLDuWJjHdPEU0cvrF8v2bWzddK9IM5gyhfEQK3bMuU6Ltxtg+GY+ESa07f4mPLr3TelZ48QVdtGW48q3kgxKX+7cWHz7GKXNh5Rf4TUX7Av2n+XXo/u4KLXlSSq6kjlUHfaOXmQSfl2PSaZ8G/lY1Gbop8qhdmknBPBtKxx7iWFyHBt8qzqUzA6Wr0bFaNznP3h024j7iT+Wk8C/Kpx3oW6NrWNa6xW/1VvTRo4swvRRFxcWVQO423HHE7xCmkaEE+ezBZwsofjvDtiCxNIvC7X/AFrMTjxY93d/1qaJW7zMdBUNzEl+NtjXym3G1YCNo1lRjch/71JGJMt+AN6//Wd3hk72zEaQSfymoxaNB/CPxPGxNI+G6CTXsSRpIhVxcVFh4ovCKaNHIJHCpYhIo5EG4NKG5nbJEWPi0PEUIYh8NJh8oy5u7fhTRAm4NjUWG3S5Q5tQFtu7lYlWtkv/AP0UIsosGNulblb3XQ08DrIJY9WtY3qHDuM2c6Fr5RRi75ZTa/GlFhx2Yn7h6HAVoaliDxlRpQrKTic3RKLgMq8zsxl9wwAuTS3twqHNnmJUi76Ujhi46HYQDxFNH9rEw5XqeN3ygcOdIG+K1EgVewvUUt55iqkgkWo35UY3aVGtlA/rsxX3D/ueyhhY1uB+d/1pI1S9ufYEYDFufZVQosO0UzMCeA4DtSwtJYFtLg//AOrskixrc1hMYuJD2UgqeBp3CIWPAUrBlBHPtBgbi/DtE27YIPD2G+jz5cwv+G3F7e94gMGjkAuF4isCEIklAsXasfm9WlAX4aw5O5S4t3RSSyNIugyNw61LiI4iAx1PAVHiMzZSjKbaX57cMhXFYu/Ox2hAGZvzbfSEksjtAmgVczUngX5bDGxmV85sBwq4rBSbyfFtf47D6bI4xGgUctuIm3KA9WA/XZlAYt12rhGFhfQPmvz2ySxxC7sB2DwqN1kQMvA0GDXsfZMcqs3QVg5Jn3m9+Y+R9jDOZXeyHKODddj5gpyi55VDKXXUWPMbZReJx/CawxvBH8u2SBxNLIH9JOL+CO1ZFzh+dve5N7mOQ6j4etPJE0bSqcjpx/8AerjEoF5Ea1Gd2m7YHTQHqKwomA76eHRas/8A1HM+uVNAOVBGeRXYWtwG2GZHxMtr2IGzlQ4bJZViALdbfrWLgidGcjvBeNCX7aKP/wBO5oTjfbu3LjU8u6CnqwFNFESSyivR0UaxMyji7VPKyPCq8Wb+myaQoLKuZjwFYLGie6kWkF7isVlafCofz3/SpGyozdBUJkaBSfERU/rAUDejMTYWFO4jjLNyFYWR3gV5NCa3q74x8wL0HQuVvqOIqbJuMTJJqdQPKsBI0mFjLDlb9Nsv3bfKsBMvqsY1004V6PPexYANt7VxwrFSuvdjtmyltegpDdFPltZiuKQX0ZD+oqSVUKA/EbVPIIonfoKgcl17+a63PlWJkZo5kQXspuawRDoXHDQfoKll3ZjFvE1qlkyGPTxNajYAk1DinnP2cXcv4jUsgjQsaw80khkDply7MQxWFyOlRqERVHIbX7mIQ8n0+u3E4qKEWY948BWC/ZYvlTSZsTGinQXLVI59YiQHkSaeYIQLXP8AanfKNBc8hQlGQs2luNYdZZvtZWIF+6n/ADRijJuVvWEhi3+IlsPHYViJxCF0uWawFSOI42duAFCfE54mfKEkOi8xQmjMm7B1qSVIlzObCgwIB6+7EA0+EgdszLc0AALDbg8xmxUh5vb9PYzRLNGyHnW7xjpunygfm60cOhsbm/WmhGVQuhXhTwmRCHOvLyoLMwAew6+dLE8RIjtlPLpUsD7yKbiy8vKo95qW+go3E+axIy2pcLu5d5GBqDf60cOGsSe+DfNTQl1ZXfj0qNJRYMRYCpod7PdWbMv6LUEW9jffHMblaWOfIkVtB8XkKeJ98XUjVbVuF0K6MOdSxKFeWSxIWsGuXCwj+EbWxsNiFN24AVBBJCmVSPryNIksTSgDNna963BXvJ4+fnUySu6Nk0tZ/lQNyLDbiFz4jDjpc0cOpB69aMJkW0lrWqL7NcpS3yqNZWg3YUgtfMx86w6erpurGw4GnSV5I5LeA+GpI5XIkt4DdVqbezRuijKCOJrD5FiUDSwrElpVAi1YMD5VGsijKF+bHY6h1K0XlVfuyTUeYouYWPMUzBRc0Tv548vgQ3J89smHicliNbcawSNkyOxsOA8qMa2HKtyvLTzoRKFI60qKvzoxoTcisjjwkfWt2x8T/QVuyl93b5UYHMiyMQSvAcqlgaVCHPyFer4mZ0MpCqnDLRhy5d2BpQw5IJkOZrfQUqTHICLKv9fe1VVvYcTf3fvo8llvm1FQx5E14k3PYx2aUFQbLmA+ZNAAADaFUch7DKubNbX2JRDxUVYD2cGjRD+A/iQmG/aLmFv7HMM2W+vsSbAmkOZcIPzsXP4DHAEYte54fT8Rx2JOGgLgXNYcHfq5a5lj/t2cTMYt1YeJwtYqXcwu/ShwGzKubNbWpJFjUsxsKv25vupP5TXo/v7n/wBOK31PuAkVmZQdV47JMTkPh0vYn5+zZgqljyqOQSIrjgR7DDYveyTC40ay7ALC34UZkeYwsn1PCt2iTwqgsAraVBNvJsRropAqKdmxUqcgBl2+kEBMHfIvKKx0S+rPck8ONO2RL1DLvEvax5jpUc2eeVBwS3616RN8OUAuSRp8qjYMikcLdid5nk3ULAG12NR5si5uPOsRipEciOPMF1c9KR1dQw4GsIMs+LA0GcU7BVJNQT73P3GWx59rHTiN8MM3+YP0rHyZcLLZrG1J4F+WzE4nc7sBbljbsQADGYq3Du/rQIPOikZOoF6zDNbnWYE2vUj5QOZPAVBIzZg9swPKi7euhL90R3oOpYqDqONLIGd1/LTT/brEBc2ufLbJbI1+lYAWwkXyq4vai6ra548Nl9KSRXXMDpUWKEspQI1hzqRQVN+lejolWIsB4jSTh5ZEHwcTUsqRLmY1HiM75TGy9L9p8TEsqRE95uA2CVjiTHbu2qSfK2UKT18uw078Vjut+NA1hpHkRi35jskxEcZsePl7xPhy/hOt7jyNRwS5maRwSelerKHJVrA8RTwhirA5SKVMo43pxJ8FvrTYbeKc51/tUuGMsbB3v0+dIsrZTJYW5edNC+Zij2zca9XZGLRW1Fjf+9ASxMWkQyE81rCqyq+hAzd0HptcyK2gzA8qjTczuzn7wcfOjJfwamoFYRuh8bMcxpGbDw7vKzFfD51GLJvww3h1cf7VOZZGw9suRjeiRCrEtd2oXsL9gmwJrF5cSyoiA2GYn/asUFlgZYkt3bk2/pRl7iKh7zCkvCcrm68mqWz42KTXdhdT50rZr24bONHDA4pxfLHlFx1NAIJ49yNNc/SmuMTGeqkVid8JE3S3J0+VerhEBTxjn1ozfb3CMe5p86iiMEmeRvEutRwrI7TNfXh8qH2UstkPeta1CA3LZrM3GsKg3mIb+K1/ltxIxEm8uckKj6tUGIhEEQU37o0FRnLiJpJe6WsAPKpSXkhfL3EbjT2n7g8HxH/akWR1CMtlHHzqeOa0iRDRl/SoDDFCozfrRZsQSouI+bdflW7xSAJGUyisOgw+9zNxN71IpkeOS3cQ8KZ3lxCbtT3Qe8eGtL9i78WJt9aMDN33PeHAchTSXyqOJ2y4b/GxTUsjtISPuxVmOIzKugGtFWzsOAY3JrOOA12OLoaa2UAfpSloo8uW73qGExrbPSDKXFR2a8a6km8jf7USAPeri9vcTDExuUF6ZFYWI0pYY1NwNeu2JCuZjxY7bDZHFHH4Rs07Fh09i7yu7JHYAcWrAi0HHixN9rgFSPKsAoSPLlA22A25E/KNth07NhtIB49uw2lQaEar4dKEYvcm595jkWQXHW1LColeTmw7GYXtfsd7Ne+nT3W4vb2sWiy/zGsJ+zRfLsQqy4lxbTL+JzSSrjoEv9mR/WsfmMNl45gf0qXExRRbxjpUSmDLzR/6E1Mzb/DqDxJvUrZY3I420qKf/DrI3G2o863jPCxUWbpUrJFLhio1Y2PYw8++3ulsjlax8hi3Dgn7zX5UCCLjb6RlVIlu1jnWsdOnqkpSTW3KonDxow5jZLiljcLlY/Ll2JJ4YiA7gX2o7tj5Rfuog/rsmxDLiYIlHi4/KnDZTlNjQ4a1B+3PIW8QIA+R2IrC9zfX2cySDeBBfP8A0pFCqqjkOyTYXqOVZIw68KRgwBHbwxMrSTX7p0QeQ2X017WImWCMu1DUbL+/MiuLGlRRRw0JFigoYaZbLvLxj4aMGezMe8OBHKhGfibNQiTNmtTRqTfn1FTKo3XXeDa8kisfsyRytWGD4feb1fG2bTWt4WkDSxkIOHnWGOsirqg8P/G3GgTQhUALtwqRt7A0YQ5ilrdKjltBEijv5bWpN5F942YH4ulZ130kd/EwN/KlYNw2E2BNPAZISxALv15CsOdyWDeA+A/KsytGZZeB8K1g0eOQ7zjIoP6VY4i9yRHytzrDd7FIdTlQgHrrWIl3SX5kgCmRW4isHAm8lbL4WIFTzmOSFQt87fpU8m6hd+gqN8S0C4hntzyDhTzqpUa6/wBKZgoJJqKUSJmG3E4gw5LJmvUUzGTduLNa9SypEAW4XoYmQjPurR9edO+W1hcnhUbFluRY1A5kUk/mNK6sWA5caJsL1DiY5iwS+lY55Vw0tl5VhUdII0IAstZ1zZL6jlTOiC7MBSsrC4N9l9mM1hy3IzG1JhQiqu8fQdakiSNTIxka3K9YnHJLhyArjvDiKXEQZfvBXr95E8IjLWvejisMOMq/rRx+EBtvhXreGA1lWvSM8UkUag3u4r12AHJ3r9Mpr1k8oZD9KJeXHRC1gi3P1qafdmyoWPlyoG4H4GzBVLHgKIaWbCzHhm7o8vYhFBuAL7LDpsyr+UdgRgdaIBFiNKTDwobhadFca0MJYZd8+X8tGJbLl0y8KOHDA5zc9elZJT4pP0o7+KQ7qHMp87a0YJpO/IRnBuo5CpY5J42jYZQRXq8zKqPIMg/Lzp4VMZQaUsXOQ5j/AErdyIz5LWY3+VKLKBslW5U2vbiKMTvNEyEqFvxrHxfYi+vfFNHJJo3dTpUyyiSNg3dHlV+7lj/WkgVAACagyor8u+ak+0KJ8J1NBcuNzZja30qc71cqa21P0rfR28VYZO/PI3iZv6ClCPjJZXIyqAFvULySBtyLLmPeP+1R7zEeLRBp/MayJFLGFFs19k9rKTwDXoYiEi4cVvoz5/SsRFiMQUjVciDU07HdZBEc1ulHCvJlZlAy+FP+aGHxQ3rMI7t5cKhwcy4YiyZ21NLhpWN5chPLThU+HnChkYF78TSxTjKqJr8Uhp985Ytw+FQeNYaPExM7SAEv58K3mKcvHHGMxbvPyrDxzQvJvGzs3T8Dx4LQW5Zhm+VRjPIHHgUWX8Ex0byQWTjcdkxoTcqKZA1ZEta2lAAaAVlXpRjQ8RTwQvbMgNqsALUqhRYVKjFkYDhSBgozcaIuLUFKcgRQPl7Gw6bOHveNa6rCL3kNqRAiKo4AUzKouTbtswVSTwFKwZQV4H3tmCqWJ0FQzxTpmja4/cADPjmP+mtv12elP2Nj0K/3pDdFPlU8+6ygIWJ5CopUlW6//FZ0z5MwzdNlwKlAMT3/ACmvR7A4SHXXLsxrFcLMR+Wovuk/lFb6LeZM4zdOwzKouTYVHNFJ4HBqCdZgxXgGttXEgztCVII4HrTTKsscfNr/ANNjuqKWY2AoG4v7BJEfwsDVxRAIINFBh5EKCyMbMPbllW1zx4VLn3bZD3raVAJBGokbM3M7YMRvZZl5IbdqGUybzS1mt7OGXeAm3O3auPdcC+aXFk/6mz0kV9TkBPHh86gkQwIc3w1FMr4uZjwVQFqJ93iJy62D6qamDIqYgJ3s+vyNbp0yzal/i+XSmT1ga3C8vnWJbE+quuTvWsTSYOPD4ZdcrqPFQmkfdqBZit28qxW+u8SsZMyX+VPNbDKy/FYD61iY8jxDDqN4Lkn/AJqF88KN1G18LJiMc2+vuVHdHI1KkbYuOKLSw+0t06VhgsLyQ8O9mX5HbLEJB0INwaRZTjryW0i0tsZQykEaUBYW2SMyxsVFyBwqCCWRN7M7BzwAPhqKWWfEQ3HcXNr+YimYKLk6VLPGMVAwzG4K8KHeHCjAFs0QCkf1rBE7o5vEXb++zGfcH5i369qdWaFwp1tpUcrRYP7S+dUoSSQ4EO+rhaHAbN6m8yX17GK++w382xWDC4qeXd7vza1OwVCa9HyR5G6l+xv1zyKASVGtCR3Xupb51hRaLjxJO2XECNguUljwFI8nxranZhJGo58aLWZV600qq2WkxCO1lv8APlRlUMF50eBrDOkcPeNrsaVg3CppyjBVTMefkKlZhESvGg2WMFjypTmF6kI9Yi+vurRSYbEGVBdGPfHSkljfwtetxEXzlda3MV75BeiiEglRcdrcx5s1rmjEM+cEg2saCgU2ERlKZiFve1RxJGO6PmetJhlQ6Mct75ewkSIWKjVjqaeON7ZlBtU6s0TKvPSlFgBWIdkiJXxcBWHUjEzZmLEKo2MGI0NuxiUmePLGbXOp8q9WyJFu+Kf1pN4fGAPKnjzFD+U32TuyqAviY2FYCJVjY8WLt3vrsKvLN3hZEOnmdnfzj8tuxI2RSct/KpmD4WQ/w1ij/h8oFyRwppc1ljOp/pUbZe451HPrWGO873Qn9dpIHGprPLEVF8huaaa+iC5qJt2gVr3rxTHecLd0UJhdol7zCorQpkbl/XsIojZ+6bsaZH3BCmxrAqggXW557chOID9FqTNmUgXtWR8wfn0opLmD6XHAUYnET21dudbplgVF4iljslv1NOJMpArCRZe/J4uA8hTMBKgHOsTFO7ZVbKh8R50VzAJ8POsi24Ud6Fsq602WOMknvcaHD3WwHAe7YvSK/Rgaw+s2Jb+ID9B7PFPkxEJPAK7Vg1K4aK/HLc/X2MuEz3AfKD4rc6VFXhQAHAUQDxFbpL3t2LAbWRXFmF6REQd1QO2FZXjsuvA/L2ZAPEUqIvBQOzYdPdmNlJtehqAewdATUEhkiVytr8vcDYixqONI1yqLD2Ukixi7HSpIo5QMy3/cSSeON41bi5sKnl3UTPbhQNwDtxhO4KjixC/rSrlUDoNkGI3ss6ZCMh/WpMRkxMUOXxg61PJu4ma4vy+dJiZAo30LA9RqKwuI38efLYXNvcQytex2DFQF8ofXYyqylWFwawxK5oSfBw+X7hs6pbMbXNq9IsgnwevCSppYp/sFbj4/IVhmyPuM17DuHy2z6y4Zf47/AKbXBin3tu6ws1Ss74vCyWsgYgedWB4ipGyxuegrCJkw0Y8v77ZHEcbOeAFejXaSF3N9ZDxrHmW0dvCHUsfrtdWZGANjbQ1gN4I2ila7o1r0sp/6jIl7qU/qKnWZwqxm1z3j0FKm4xEaKzEODe5vw7DXym3G1YCIw7+Njc57/qKnjMsZTNa9YrdxxRwgWzEAeVX2SaYyA/mVgf3DdFdcrC4pMNCl7J+utbtALZRSxRqbqgB2z/e4Zv4/79iWLeZNfC19mKBMOUcyBWIcxxjLxzADsYKZLyRhW+8blpXpCRREqa3dhQsRelIIuNkkAc5gxVuoqSJYnwuX89v1FE2UmoZ2dmkML5uAFuApCxHeXLUUqy5ivAG231uH1pipLXQeEX12M8WXvEW86wjXMuX7vN3NlzJj9PDEn9W/Eh7vNHvIyv6Go3J0cWbtGNS4Y8uHYAA4DYwJUgG1KoVQBwG0gHiNrrmUre16VVRQqiwG0Kq8ABsMcbcVB2SoziwkK/KooUiXKv189mRS4fmB+ID95h7irBhcG49hPOsERkbgKRsyq3UfuYPcMY2TDSH6frWCTcmSC+gsR9aln3csMf5ydtxV6d1RC7cBQNxXpTVYV6tSiwArOmbLmF+lPMqPGnNzp2YkZcxZrknaSALmocRFNfdtex2yvu4nfoKwsjS4eJzxK1DM0r4gfkew7UsqRIXc2AqGaOZM6G49zxEhjiZhx4D51gxIEfPJmOY61IjNls9tfwAe4Y3Exy4vDwX0D98U2TC49W4JIlvqKaP1gGa2oH2dRPnjVuoqR93G79BehHEcLv3+8YXB/wCKmcTNHEQW7lyPOsQh9T3I8TLlFLLKhhR47X0vyr0jLEs2EDng+avXI2jLRgvpypN36ostrzF83nxo4feNvG0ceHyqOR98Ynt4bg1PPiFxQjis2ZdAeVeunwGP7a9sv+/yqB5t9JHKV0AIt51EXk9ITm5yRjLapcSEljjtfMdT0qSZY+N/pyqdkKo17x8TWCYySYiULZCQAPltx64kwy5SmXL9awwnXDxCyeAc69H9yGWRj4pGNRS7wHSxHKmzS+kbZmG7t8rdjGJvYWCWLKb2r0cmXCJfjrf51NM6zwRqPETf5CsTLuY8wFzcAD50zBFLMbAV67h8mbNztbn+lDFRGNXFzfgOdQzb3NdCpU2I2k2BNK+KljE6OuXjltyoyjcGX+G9LjgyplQu5GoXlQnTc7w6DnUcjM1ilha4pnkOORB4RHc0zKtrnibCppUhXM1RS72PMoI8jWMOMCxZjH94OtQQ4hQueQfICkxcT4hoFuWHHpU+IWHKtizt4VFRYnPIYnTK45VcUMVAZMge57c+ISHJm+JrbHkRBdmApJY38Lg7cTKYo7rbNyvUbZo1Y9KjkWQXXh7Ue4NhoGbM0Sk9afCwMUOXwm4poNbrIy+QqNFRQo5ViTbDzH+A16OjVsLA5uTbnyqSEOwa5VhzpIgrZrknqadFkFjTwomIw5+Yua9H/dS9N61JhkQjU2HAchskhV2VrkEdKGHHrO+/gyio4AkkknFmqSDM+YOVNraUMJGpOVmF+Njxrcx5MmXSkjVBpRhgW77tdNawRvh0b82v67c2JmbdtFkT4jfj8qXDSAZN99n05/K9JhEU+I5L3CcqlhlzZ4XCsRY3pcLIhziX7S3eJGhpQRxOu1wYZDKFup8VuNRTZpWdFOUjh1NGHEbwTArntbKeFqlhmdVdtWVgQo4UqSTNmlXKo8Kf7msPD/iMROyalrL8hWEwxjzu/jdifleu/FPId2zB7cOtLfnslBaJwOamoJHghWEDeaaW4j51jWmjwITw37vUmoWhw0KxorE24AcTTIUGHzjjIWI86Vit5ZdCdAtLCzNvSxVz/amT/Fw3JNlankVcSzOrFuEYtWDO5E2/cZjJrU4ebLJwRGDAda9Zgt94KwKmNpmZGzu3TlUu/TFrK2S2WwvypIZsTNvZe4oFgBzoQZsQ6R3SIDv+ZqZUT1dFFvtBQa5byPZWSNiQrAkca+zxGJdW1CLb60haJhG50+E0SjYwX1AW31qSJRiImXQnjtx6JusxW+tJhI1jHefh+asDBGsYYX/WhJGWKhhcViWKxaG3n0rCrli4nXXX2Q90kjEkbIeBFqhiEUSRj4R2J4jIFytYg6GoIVhiVF5eyxb70ToD3UQ5vM9KgUJDGBwyj3fHC8mvDJ3fnfY6K4swuKSCNOA2PGr8f1pIUU31J6nWjFGWzFBfrsEUYNwgv2ZYt4BrYg6Go4xGttk0m7S/PkKjzZBm489jYdeKd1+tLg4xGoPiHxc70cCjWzySNbkTW6jyZcgt0pIkTwjbLC8oKM1l8uNCJ+Dvda9Xt3Q5CdBW5jygAWtwtT4feCzuSKEbXF2vb2Q9vjcQ+H3TW7hazewkcIjOeAF6w8wmiWQC16WQmV0ynS2vX2YR4P8AqKv8YLLSaIvy93kgSR0Y8V9xyrmzW195Ht/SGU4OYE8qwYYYWLN+WlmzTyR28IGtGYCZYralb1nUMATqeFO6ILsbDYMWCzWjbKPi86x8reqTWifw8awIthY/lSTxu7qrXK8akkWNCzcKjxKO+SzK3Q+weREF2YCsdA0yx5QNHH6bJpnWeJFtY+KsXMYIGcC55VE5eJGI4jtYzENAsZA4yAbMXmKogNszWqC+5jv024qVoljy83A/X3CWZYst+ZsPa39kCDw9mPb40iNZGlUsTfL0FYf1hoI72XujzNRf4d5VbMczXDWvenzriFmKdzLl8x508LTje2s4+7rdtMv2qgdBSmZ491YqwFi1YaSNIljPdZdCDU9543iTmLFuVRY2FEETmzrpltUCNBOZ37qzcR0rFh8REd18OvzIpcQcS0e7iYMp1LDhRjlgk3q5pM3jFTRSyIHuQw1C3pMSHtYHNzBHDbjVkMmFyuQN5rapZRGOBPyrHFTHG/Fb/wB+FFskVzyWoHLwox4kVNYYyLUWI1+lekLPAVGuovbkKW2UW4W024qWclhFKqBeJPM9KV/SETQyTODG3iFuF6llK5FUXZuFY1JLRBnzd8G1ulSTBIs416ed6nkmjmw+8ta/LrUa5UUeW30kZEhzZ18Y5Ul7ZzLmFqwkxmgEh5k1Md/hCVB8xz0rBzx+rJr9OdRvLNvdSlmsBaoGdl7/ABBI2PKiFcxtfhXrEjH7KLMPzE2FRvnTNb6VFJvFva2tJIHz/wAJtXrMOa2b68qTEoz2s2vA20NB1a9iDasYL+rj/wBUbUmjckK17U75Sgt4jbZiZGjhZl5UOxe9YtsuGlP8NQMBBFcjwj2DmyMfKsKxaBCTxFKAosOzJIsYuaBuAeyPb4wA4aW/SsODGzQ3uAoI7RAPLYsUa6qgFEA+wkQSLlNJHl4sWPWjhYD8H05UsSLwFerJe6ll+RrdR5cuXSlRFFgotUUQiBAJtyHTbuyrsQqm5vRjz+O1ulerSqwMcvAW7wvUcOU5mOZutPhu6Qj21v8AI16pm+9kLHkeFqUWHG+2aGeaeO+URIb25mvVVGgd8v5b6UkDx3COAl72twr1dluqPZCdRQAA0owyB2KOAG40iBFsNmJTeQSLa/dqBckMa9FFQF0uhRr3JvyoRypfKw1N9aOHe5yto3jrHIdyiol++tYiJpFQKbd7jRgTTJ3SOdYzeqYG4tmsLedKgjxEWVyzG+81qe+5kt0qBmbK2TIgFOgnYG5AXgR1omVXjzMLGpwJPsuvH5VCcpMR5cPltxAaZtyDYW75/wBq9HkpipYtQg8IrFwRFX7pdjyvUEWHVFyIvDbKXZt0ht+Y9KjTdTIgZrG51O0i/O1SQFkYb1+FYTDosKlnY26nhULqd499M1Nm++ufl5VaY/aZv/xrMZe6hsObUrbvuu31NXMk5twtx/4oEXy7c4zFeewe3mj3kbLUUZXMWN2bj+KEA8RSoi+FQNm6j/KNjKrizChCq+Du+dLC+9zvLew0FrbSjZyVI140YIyOH1pI0jGlCKMNmCi+0KwdiBxp4DmEinvjrS7z4rfTbIZeCAfOhhYh1/WjHGTfLTKGFj2CoNKirwG22wfvMP3mH7zD3o/uYPexYd38NDoWIDC44+zv7mvDs4nGph/gZrcbcqhmSaJZE4GhKDM0XRbntpjGYM5itGGtfntjZ2z3FhfTsY/Etho1ZVv3qjdZEV14Edlv/uaecJ/v2W8J+VYKUy4ZGPHnWGlZmnRjqj/0OxmCKWbgKhmWXNYEWPPbiS4gkKmxy1h5N5BE/VR28VNImJwqKdGbWnXMjC9rjj7CWRYo2duAoEEA9mWUR5L/ABMB+uxWDAEHQ9nefbCO3Fb32LBEsjSBe83E9nEgnFYT5t2HYIpY8BUUiyxq44HZbbptDBuBvUk0nr0UQ8NtaZ1W2ZgPYQSXxRbe3BXhfhRNlvWHmWWPMAezi8NLIrmGTKSNRyNej0kgw+5K2kH6GsKJjisV30vcX0rEf5cbto178qiURxeVQyjFBpJiAgNgtYZbNIVFkPhG3EOpBiHFuPlS2sLHTYCCLjsY9v2dBxaUVgpXjlfDSixuSnQisbiJIjEiD7w2zdKzGFkDy5g2mtPI8+P3Of7LLc+dIqxYkRx+EpcjpU8ij0jhv5WB+tY6V49xkv8Aea26ChPnxqKr3XdE7XQOhU86weHgWSeG7aNpqeFRxwp6TIQf5f8AWjiW3hyJmRfEf+Kxbo2EZgdND+lQMpQy38Zvtxe+Zd1Gvj+LkKwDLuN3m1jJBqKbPPKl9ABaoXYyTqT4W0o4l8xYKN0psTWd5vujZR8XWnxIWAvz6edYePIl7kltTesYjnEYVly6Npek3nx2+lQTrOmZepH6VNiJPWFhjC3y5jeoZd6t7WINiOh2Agi42XtWJlikw0y66qeVejJhJhI9dVFjW/izBc2vY9KbwQZ1bwsDwo+ttF/lar516O3xw0V8uW312TSyjEIFPdFs3nfbjGSOTDvfUN/Q7BIfWGj6KDWMW8DWOo1FRTB9LEHoaxX7PL/LWGbNCny1rErI2IjZZMoTT9ajR1vmlLbZoncN9qQLcK9Go+51kPdJFq3n2u7/AIb1dTcXqMPE0ihCVveg7PJlKlRanhjVoyq2ObZijaPhoTr8qwyoGk3Y7lG3riyW7tst/OpRE8r5gC/BRUku7KDLfr5VvxvhHlPzrfJvMlN9pNx4NWcBwnO1Z1zZb69KeNJFysLisP6OwrTyPbQGwWpGyJpx4AVhQ0UWRrXB7K+uwGwQyj58KiXEuc8tlPCw5UYI9NLEcxxp8NHJbNc24G/CnT7NsxuLV6Pgh3CvuluST2JfR2FlJJXU8bGo40iQIgsBsAA4bcQsjQuIzZ7aVHhMfiHSWeTIUPdFqxmGxEoR0K7xDoRXpGIbqJ2NyHWosDCr5yLn+1TRq3pGLvEXiPA1HCkYOXnxPOvVorPcXzcTzpYki77uWsOLchS5fXIWWHIGDfXbPHiHdMkuRPi60cPEVC24c+dPg0KoFYqRzHHWoo0iQIo0FPhMO7hymoN6GHhVswTsSwoJJZMo+zlufNWpoY3ynhpoRpTYZPhJXrbnW7Td7vL3bWtSqFAAFgK3UeYtl1NBJVGVXFvOpMOWW+a8g1U0caAVXdSZuYtUIOGdyQRHIb/ympml36YlISVXunqR1ox4mcSsBu1Nio5m1bxsQoRVYX8Z6eVJfDAx7tivwW1+lR5si5uNtdjSxDMGYaDWsA8UETo117xYX5g1EUbCvHL3WBLC/wCoNREmNCeNthNhemmjxP2SgsD4jwtW7xKru1K5eAY8RUcWJiTcINL/AHnlQw7w6wt81bnTR4ppll3ai3w340m9JuwCjpx2S4TOkt2JdudYU4qSIEyJ0OlGFlbeJq/O/OlEshvIAqjgtSXWRZLEi1janWWcfkA1HmaV8VvTlw9rjvEnS/WhEN2VY3vxNIrBbFr7WlaS6IjfzHhW6dT9mR53rcOpzqcz8yaXD5dQ1m5nrSJlvc3JpkuQQbGgjZszNfoNhAItW6J0Lm1ZFy5baUMLGr507rdaaC8bLm1bnQw6BFXXTnQijCZculLho0YstwTxp4SCHQXfzrcmwbTP1rJM/jso6CtzlN49KtKs4uuf+K9rUpX2SIqKFXgPa4mAToF6MD+mwwqZxLzC224vwIPzSKKm/asKP5j/AE9pigyOzBCwkTKQOvKsMjpBEr8Qov7do0fxKDRVTxAoqp4ge0wLFcXiI+rE+/WBpeHvmIiMseUGxvcfSo45N5vJLXtYAfhSwosryDxN7+PwFpEQqCdTw7F/eQQRcH2wZTexBt7O9BgRcH2y+571N9uviy37DT2xKw9VvTSKrop4twrOucpfW1+0n7ZMOqKdmnHarBhcG9Yq/rGD/nP9uyJQZmi5hQfYwu7T4kE6KQB2wQeG3GG2Gl0Jup4VgMRCuGhS5v5g1PLuome17UrBgD12yTwxeNwKV1cXUgiklLTSpbRbf125lvbML9jBxIjYjJwL1BOkwbLfQ2N6zYp5pQjhQvIisI8ro5kYE5yNPLbPiFh5Fj0FIwdQw59iSWIiRMwzZTpWA/ZIvltwzStPiC1wLiwNMQoJNYKV5os7H4j7FeHuccOT0lK1750v2J8MHkSUNlkXgaAnkx6bzL9mlxbzqHXHYryVKMsYkEebvEcKxUzx5Alrm/HyocNsJY+kHz6HdcPrUspSaBeTkipvupP5aXeYfdqzZlJA8xRIAJJ0rBtkvERa7Fk8wax+8EkLiUgZunDzqOORfFKW+g2vvdMmX60RiFxyHMl2jP8ASt5lMat4m6eVTXeORFPey1hJg0QBbvLoQeNPLJlZ42Vgp1HypGDKCOB2TzGPLlXMTfT5VHIsiK68CKga2JxCn4muvnWPcLBrzIFJ/h8OkYtn5L86in+yYyaMmjDzqLE+ITWjYcr8qbEuHR8v2JNr/wC9Y2RQkdz3S4DfKovsYrW7xNwg86hl3iXtY8COlCYmbLbu27p61N3hu/zcflWHdUjyMQCmmtPIuL+yQ934z5eVYTuoY/8ATNvpslfJGzdBQgjEZz94kasawLrDC0bnLlJ/SlWXO06/F8JrFGYovcKjOMxvyq9xpWHSO6lQN5c5z2ESeMZQqkdb1hltNiSbXJGg2YKxh0/O399sfhmktdyTXo7MqOj8Q39631sRmLfZWtfzFZp5Bnj0XofiozAwsynW3Co3WQZYRc5ePmawn3CKeK6HahG/l+lG1YQWh+p9ivD3KfBSTYhX37BPyUnoyJWzb2XN1zVJEJEykniNuKh3oXyNYdcYJHLoNbDN5CvV5UdniZbsO9f+9Nhbx2zfacc/nU0GIxGS4VChvfjevt7fBQvz2Y2FXniOvhbhxoYeGSFbX6huYpYHLAyy5rcBwFYiN2CFeKuDanhfER5ZdB+UVucZkSKyEKRZ766VuM4fea5hb5CoVlVcrkG3A7SbC9O7yzwyRRsRHe/Lj86ZcTI6S5MuQ6Ied63MxYShgr9OItSQLxcKWJuTWSWF5AkeZHN/lUMe7jVeg2YqFpApRiGU0gkWMIkeW3U16vGYwja+fOhg4LksC/8AMb0kUcfhW1PhEebeEnzXkbU0cbMCUBIogEWIr1XDgEbsa0kaJ4RTYZGfNqOtjxp4kcAEcOFJEicP1508UTm7IDRRCuW2lRwpFfLzOwgEWNLCi9fqaKqeKjb6vF0I+Rr1dA2ZLqedudBAOp+fYCKGZgNTx2RxpEmVeG3dx5s2UXqSGOTiK3aZQuUWGwxxk3KitBwFWFybbY8HAjl9S3U1NEJUy5iPlUWDgitlB06k7JM+U5LZvOlzZRm49peHv+MOTcy28L6/WsEJRh13gs2un7imk4e7XAtrxrMubLfXpQYHgfd2YKpYmwFJIki5kYMOo2u2RGa3AVBJvYY5PzC/sDKzekBGPCqXP12KGu1zz09sJVMjJzXj9aZFbLfkb+wVlbwm/uKcPdvSccu8w8sdywa1qwSMZMRM9sxbLp0FYD7gn+Nv77MVNKCUiIBC5mNDgOxhMT6xGzZbWYit4u8KcwL1LNHELuaUggEc69JYiNcPKgkGfLw51hhbDxfyilZWvY8DY0GUsy8xxqSRI0LObAUpzKCOdSTwxkB3AJ24h8kEjfw1CpWJATc22EAixrdLhJlKaRyGxHQ9duPZkwcxXjlrBfscH8gp52XFwxW0ZSaaVVlSPmwJH0qWQRrmP6CjiRu0ZBmL+EVBK7bxXADIdbUXkxM7xKcqKvGgNLUsUhx85WUDuryvXeVCWYH6Vh5DJCjnmK3jYjESxhrJHxtxJNB92ljdjew6mt/Hu8/0tzvUcpMhRkym1xtldhZU8Tf0pnnwsyb2bOrm3S1YibcxZ638rd6KMFepPH5UZ0EG9PC16XE42RN6sSBLX14mkbOit1FICMfN5xrUr7uNn6UNQKDzNOeG7Bt57I3/AMXKvIjT6djAS2M65W8fSonJxcwytwGx2yC9I2ZQbW9qvD3aXFCGZVk0Rho3nWGnUiYR947w1CJYFaFULHNox4a16vLGd4jZm+MH4qfe+sl2iYRsBm58KWQP4b7S6La7AXrAiX7bdZN2ZWsasMPPvGvZl1bzqRpmniYBQrKQM1OdxhyfyrU0MckLRRqHmOrN0qKaPcxm/KsNKI94smjmQm3zrNucQ7yaLIB9LU0m8xEBItFra/NqLKouSBSETYqYXGXQ36it4l8uYX2Y0f4Z/of0NA3AO3G6rEvMyrtmiWVCGF9OFYCWaSBUUouTunmaeNosQk3efuFTUm+9YhxG7ORbjL8WtR55XDsmUDwg/wB6wmFkillZzpmO7HQE3p8O5kZlkyh7ZtKMTxyZ4gCLWK/Ks0zcEy+ZpomRxJGLngw60fWprpk3S243uahXEgLEVCqotm60+GxMU7PhrWe16hg3erNmbrUeGtiJZW5+Ef71MrrMkqqT3SDao8xQFhY9NjI2cOtr8KkgWW+fhasbC4wrAy3W4owYlu4HVIrW041iYo4cHJb8lhfWo4JjCiPIMuXgoprogyJfyrdTK4m4twZfKnEk6lcuQHrxpXkAs0Zv1FIsqyuSndPDypt+x8Nl/rXGWELGwyk32yzNH/llvy2rDCaPeZovE19K78cpdviHKjvW7w08qm3siaIQRQlQADW/Sh7ReHu0kSSrZxeo40iXKi2HbkiikHfQH50qhQABYbHRXFmFxRw8TLla5HQmo4o41yooAoRRBiwQZuu1lVxZhcUMPAP8sU8Ub2zKDaljRPCoG3cSx/cSAD8raioEnXPvXBudLctm5vPvWa9h3R07EJRcSqcGzyfUe54uNpYCq8bjZJGsqZW4e+rw92Z1XibewJsKhmSZM6cNga5YW4ewkmyzwxAeO9/kPZiKNXZwvebifd2YKpJqORZFzKdPel4e7ekf2VjfwkGhwFI4e9uRtUcgkBI6kfpUk0cfiNPIqjr0AqN1kUMvCt9mmKKl7eJulYuQpE3cY3U8OVYCUbo5I240WUWBIF+Gz1uLNYXte2a2nbtfHj+GH+5rFTbiBpLXtQ7M0pSSAfnax2yzFJ4E5Pf+mwEEXBv2Lit4u8KfEBfb6yPWTEUI6NyJozKJli5lb7M/2gW3K99skixi5/So8RmfI0TITwvzrffb7oD4bny2LMDK8fNbf1p3yjwk/KjMu6aQchUbFo1Y8xsICTKR8fH59nDTZpcQC3B9KzKPiFb+G9t4vYlkWONmJ4UmKVsPvMy3y3rCz7+IPp57JJUj8RoG+tZxnCc7bElVyQL6dteHu3pCMthnsuYgVBvJIY23g1XlUQlhzRiMnvXDfPrUe8w5dSjMCcwI863edHzCxYWrDQtGgztma1r1HmieRMhN2uvTWsORE0kbmxzlr9b1JIrKUXvEjlWFlTDwCKXusmnzrEuZjE6RNaJ82Y6VMweBgpuXWy1hp4hgd23dZO6R51KrzxsNQLaeZqKczRqq+K3ePSo23JMUjfysedI2ckjw7VH+Ml/7a16SA9Smv0qJg0SMOais8qo2Kzm7X06C9SObKqHvN/brUcs8rNEGs0fia36UuImkX7NdU8Y/2rF4n7lxG3dfXlW8njyNLlysbG3w3qWaQvuoBduZPBa3uK9cTfOrCJtSBwzVi2F4kY2Ric30qF8skUuXLC2YfU0rBhcbMSsjtEgvkLd+1BRDit3CvGPWsOmTE4kE3Jyna8aOtmFxSQqmNFr/AHXM357DYbSl3VulSZ5sTHk0Ed7tShMPiHvwkt3j1plElrSEfy1FhQuMkfO5OUcTsxsS7tjfKWsD50LWAGyc6w/9zsPGkgs1RRYdMVIAo1Ap1W/cVc1HcOhzAfKo7hF+W2VM8bCoY8OYbmNPPSsHu1iKgAWNM7XzDVedNJHvr38S2FbxFHX5U0TSDek2Yaim3hhOWxuKguVDaDThV+0vD3Yi4IrA/Zjd8tf6dogHiAaAA4DasUaaqgFbmLPnyDN12kA8RfsP3MTG/Jlyn51iIZpe5dd2SL9dKXDtHpHLZelr1DgYYyTq3z86igjivlFJEiNIR8bXOzEQb5VGa1mB/Smgkk0eW634AWr1dgz5ZSAxuRSwRLGUy6Hj516kndDOzKOCmmRWXKygjpSqqgKosBtCKpYganjUsOdldWysOdTtJYRJ424noOtIoVQvQU7ZVY9BWCEj4gyPIW+yH0vsIBFj2SAeNAAcBVhe9tk8IxDR52Nt7a3KwpUVRZRbYsUzYhpJD3R4F/37DwI5uc30NbpMoGXhSqq8Ksp5DsNECb5mFCKMcFFFEJuVF9mVeg2SYaGQ3IP62oAAACjFGeIpVVeA7S8Pd1wyrM0tzry6U0iqVBOrcPcXRXUq1RrIuhbN58/cyARY1Bh44FIS+p9nCWaYKR4CxP199Xh7xjsRGuLwgzeFjeldW8J2Tu0cTOq3IHCkYOisOYp5cpsEZj5VFKsq3X2cDs2KxWuilQOxnUsVB1HHYkyu8qC/cNj+Lrw94xDJLNCchyq+rEaVIe6VHEjSoXyYYX8S9360kvdfecV8VYfDZYkszLpUTZHlV3+LS/SogN5Ky8DbbE8wlfChjdTfOfymo8yT5M7MCl9ad7YyJb8UNTSWlgsdM1mqTM7btWt+YionnkZ4s1shsX5mkmyySQ5szDw/WhIyNlkPHg1QZpcRiwjWXPqw/wBqZXw651kZlHENWIkKRXHE6D61hDJ9ojS7zKfFRXWWdeIP6gUDcA1FdcS730lNv/HZLHM0sTJLZR4l6/iq8PeCARYjSlRF4Ct2mbNl1po42NyuuwgHiOwI1Ds/NuNPFmYMGKkVuIyLML/OmhjMeS1hUcYQWH61DCIg2t8zEmgiBi2UXPE1YHjWQj7uwp48RL3XyqnO3E1iIFnjyHrelgIGXMAvRRapos8JRdKInZbd1f61NvmTdrAbgjK19NNqFiuq2PT8UXh+8y8PdmYIpY8ANajkSVA6G4PuuYXtfXp+NLw92x37HiP5DXoyIx4KFT0vWElnOJxUUvwm6/I1O2LOLSONwq5L8L0jYhcakTy5huyTpbY8qoUB+I2G04n/ABgg08FzsnxLRyxKF7pNnPS/DsPjsOhtck+QvSPnUNYi/XZicQYjGiJmdzoKt6Q6wj9aj3lvtMt/KsYXGGcobHr0rBp9phdbyd4yHyPX8aXh7tNHvYnj/MLVFD6R8LzIEGndGtQLu/SUy3OsQOtWF6P/ANzGn+T/AL7PSBxO7ayKFUghr61EuIveR1PkBsmjSPFQSgas2Vj9NmOUHCyfr+lLwG0yy/Dhm/oKjMhXvplPzvsngdpYpUK5lB4+dNLiIhmkVCnPLxFDXWsaWENhwY2Y9AawyJhX3K+B9UP+340vD3jcL6wZueXLs3Sb3e/FltskRZEKtwO3FwYiZogrBUBuTz0pFZRq5asR6PE8uZ5Gy/lpVVFCjgO06XOYNY2o4Yv97KWH5eA2jDwh84QZvxpeH7gFgCBfjw2mW0oTI3Djy/AIJ99mIGl7bV4e4sQoLE6CgQRce7vio0nih1zPsbESn0isav3RxX6dmKOFbmMDXjat9Hvt1fvZb7SbAmoJcZOu8ARFPhvxtVsYP9I/rTnKjN0FQzYjfIGe7Fu8vKxF79nF4lcNFnYX1tQ1FQ4nPiZ4SLZOHnWIB9fwZ5WfbmFyL6jbgpnebFo5vlfT2ADAm7XFT4pYpIo7XLmpPA3yr0WScIpJ1udsjZEZrXsKhlEsSuOY9i80SOqM1i3DaSALmsZjckZUI/e0U8qwsW6hRdq8PcMVj0w0kaups3OsQVkwkhGoKVHMqYKKQ/kFYbEifN3SrKdVOyXEJFfRmPRahlWaNZF4HazovFgKwWL3gm3ki6SED5VBiM+MnTeAgAZdmKleKMZBd2ay1hZWlgR2FiduDneVsSG+GSw+VGVFkRObcPpWIldMixgZ3NhesO0jK28tmVrG3CsbO0Bw5v3S9mrETbmB5bXsKMuWHeMOC3NYeYTQpIBbMKlT/wCr4c/+kaYEqbGx61hIZmxmJbfqbGxNuxLPAqvmcaDUV6MkjjwmVzlKsbg0e/fGrclToP4aUhgCOB2TPkidst7DhUYmjcZlMKtwytdb1DIxZ0axK8xUrZY3a17CsJGMPLZtd4O63/8Az2cagdIweG9Wnaff2itZV1HW9Mp9bSeJDntZ0OlYje/YzMLZG1HHjWLJMRRPE+grBteBQ3iTut9Kw2X13FEcwtYsSz4uPDqxCAZntSqqKFHAVhcnrmNZTp3a9aO8Wy/ZXtn89s88kcsChLh2sTVxe16xG9T0hh2ucjaeWzCSPJHd7XzEVjAvrmDJ/MaxDBYZLm2lYAAYOH5bZ77mSw+E16PxEvqqrHAzWvc8Kgm3oPdKkcQanZXkZGZgAOA4k1AHEQDHXz2zmRYyycqndtwTH4jwqCZZIg36/OmVcSZDbQCymo5n3afZs2lQI8s29c5SCdKxE0KyKJHAAF/nUpaXEwlhaIc6HDavD3DGJnxGD0+M1Ivq2fS8T30/KalDJhcA7DuowzCt7D64GVh3o9aglaEYvOCDfMoPOsPiFMf2vcf4gawKZITpYZiV+W2WKBu9Kim3M16PlhD4jeIqhnzKSOVYNh65iHy5VZQV+Qq8mJN45MqLwP5j/wAViXkePKUO/Vu7poah3qxIm5IIHOhe2tcKhlMeJxbCJ2Rm0IHOnhxDMuI+NeCeVT4o72J1ifQEG44XqOeBVsGzHyFLK29IxvdX4OmvWkviojhVvlBsX8hwob94hhzERpZn5W8qiXE4ZRCsWdR4Wvy86bCMzb7N9sOHT5VlxkmjZYxztqaOEyNmgbJpY6VGmRAMxPmdrRRtqyKfpTQxOwZkBI51JhQzZ0co3lwPzqCMxRKl722y4WOVCpzAHoaiiSJcqjZ6oMy/aNlBvl2SmS1ox3j/AEoA2F9jqrqVPCo4kjBy8zrsIBBBqKCOM3F7+etPh4XbMV1p4FbKQSpHAivU1DZ0dlf83G/zr1dm+8lJHThT4SJmvqLixA50Y4ymQr3elR4eOPhc/M32YhWZVKi5VgbUIZQd8PGeK9RTRtOLSJlHz1vQjI03hNerlGLRNlvxHKvVkYHed4nnS4dRxLN86iiWNMo4bSLgikwpjWyTMB9KjiEd+JJ4k0+HDPnUlW60I3+KS+3iKjgCHxE9L8qbDQs+fLrRwov3ZHXyHClUKABTQxublda3MP8Apr+lWHTsLw9yKhhYi4qLDQQ/dxgUURiCygkcKIB5VO0mXJEvfPPkKQEKoJubcdpRGFioNSYeGS2dL2oAAWHYZQwsRcUAALAWG0UQDxFAAcB+4C8Pwt2yIzdBesNNv4UktbNy2FlHEgV6wGxjKJBkRNfmdruka5mNh2VnRp3iHiUXPZNXFr0CGFwdPYgg8Dtxs7wwZkHevYVA5eJGPEjaSALmo5FkQOp0NYzEerwlufKoJC0MbORcrrSsG4H3ReHt8TiocMmaQ/IVh8VFiI1defI1i5WhgMi8qjkWRAynQ7GNlJ6CvR+Iz4fM8gvmPOvR85k3+ZrkSm3y2TSiKMuf0qCQyxhiuU9OxiPScEEu7Nz1I5UGVuBqSVIlzObConZ0zFMvlWIxMUC3c8eA5mkbMita1xQZWvY8DrSSK+bKeBtRdAQCwv0q4pnVBmY2FQTLMuZb8ba1v4t9us3fte1F0DKpOp4VjdMJP/Iaw6hMPEByQVJjp1vIsF4AdWvr86yQThJCobTSsHFC0uLbIv3tv0FY6WSNI0i8UjZR5VGssGOCb9nRkJOblTD1lwLfZLx/iNRfZTbm91y5l8vLsRX9exH8i1nXOUv3gL2qPEo8rxjiu30rvvVWygZefWnGIbDMLJrHWB/Y4P5a9bXeqoU5SbZ+V6xgzblD4S2tYe4gjv02tj7Yl4N0c3w+dXxSMjOwsWtkHnWIJLRxD4+PyFYVFXe5RZc+lesNnW4AjN7GsNO07Ow+7BsK9K+tDdsoTIGH61h1xCoofJoOW3EW3El+lYTPhkjil8J8Lf7GsfHvJcMhsVJoYXDqNIxTb103qS5BfuoOdYvFHDIjZM1zatziZBnfEFPJawzl4lJ9xXh7eT7yeXJnK2VRUcJw5w7ckJzn+anlTEyCNSMim7Hr5UmVMUUU6Oua3Q7MXiIMkkN7uVtkrCCDD4fdzqodf61gnghWZ2WzNKe7zotOhErnuc06Vj5V3UZVge+DUTRLGozg7ZCRG5HG1Jh42wOS/iXvNWHzYd3O7bdP4ba8KlLb+GWVLRi/0PU16zH8PfPlUeb11jLa+TuU2IjHA5jyArCy7tXQr9qZD3aw825jMZF5s57tYlBDCrt3pTIuv/FTRGGNcQ92lzgn/gVFG8h3sw/lXpWFmRc6Me/vG0qbJHi4pmFrowvUkbS2mCnMvgFEHEaMhCdDzp5GigeFg17WQgXvUcU2IVFljyRD4OZqOPEou6GXKODc7V6q6MTBIFvxBF6nwDPkfeFpFPyqD0eqkvMxkc9ataolnSSVmizMx8V+XSow9u/xO3dH1necslqkw77/AHsbAErlapMPohjNnTgf+aW5GosdmKWSaN4QhF/i5UqYgoI3sBaxI50mEZRu98d2OC00UbR5LaU+FkkXJJLdRw60qOLZnv8ATa0F8SkundU1Ojtuyvwte1Tx4h926AKw/saCSEBCMq08BeaL8if3pFlhLAJmUtf9axEU86flsbgdbVGXYEstvLbiIGxBCNol9fOmw2MVTGjI0Z/NypcIN0qu12HxUvrQ0OQ+dJg5Ectvb/wngKmhaXGwqZj3RmPlXqxJ78zsOlAACwqUTlk3bAC/e9wXh7doImfMRrVha1tKaKJhYoLVHDFH4EA2ZVvewvRCniK3aZs2UX67BFEpuEArIo+Edjcxfl28KeNH8S3pI408KgbLDjTRoxUkeE6fh0ULjHzyHgVFvc14fvMvD95l4fvMnD8BBBFx7bFzyRZRGoLG5+gqN86K3UX7BaxUW49sG49+Y5VJ6VhZt9EH2k2F6jmZ2sUsLaewThtx08sSLulu7GwrATzTREyrYg2r0k7JhjlOpIFL4V+VZ1zZQwzdNjzwobNIAavsxYnMDCHxGvUxhYTIJnzjmTxpblRfpUofJ3Dr2XxMKSCNmsSKixCyNMB8B41DJvYlfr7LHtlwstmsbVgXjTCxrnGlA324qRkOHC/FIB2iQBc0rKwuDfbjZpYpQXi7pVlW3nWGclAN2y2A49mRxGjOeAFKwZQRwOyTNu3y+K2lYWVvUkd9SFN/pUb50VhzF6WXGTGV1siLe1xxtUbZ0Vuo7AxaHEvAdCovUM+9aUD4GtSTZpZEt4bf12E2oMCLg7Z544VzOajkWRAynQ7FdXvlN6llSJMzUjh1DDnVxe19exe2y+yW/rUHyNEhRcnSopY5lzI1xTrickg7huDavR4nWCMFVtU+IjgF2v8ASlYMoI4GsXioURlL61EQ2o+XsE4bcWYMgEjWudKibJlQ2sfCa9IxCTKACzf2AqKKFVzxjlUCqGhcH7Uuc/WvS2IyRBUPezCskcGHuwzTSfqSahUpEinkNjGyk1PlkCS70d3XKeFRSbyNX6jYsisWA5djFejkxOKR5JO6B4KwsaQxYwqLDOawH7JF5DWhiu8SyWjvYPWHtNO0gYnK5v0tVwNk3pBY5tyI2LcvOoZWZmRxZhU/exijMbi2Uf3qR3aTdxm1hdjS4mWdsNbuqWN/PLXpCOOTDOHH8vzrBrH6tFlA8O2CabPEWcMsl9Py1i2Alwvk9z5VjAh3Qf7vN3qiO6wwVTcm+Sklxec4cN311LkaWrfTfd5PtOvL51H9jNkLEhxcE9axd7w81z96owsIa1izG+VaR5IXlRrsxN1+tJLJESMQR5Ny+VYnNOEeMXEbZvnSTq9st+xBPfH4i57ugU8tKxMqW3ObvPpUP+HZYCbr/ln/AG2tDOiyxRgZWvY9L1gT/hYfIW/SsQ/CFfE/9qXKoAHLsSw4QYlZJPE+gvWHCq2JI0GeoGPrc9xbOAV+lPNJmzrrEPFWLdfViQbjS/yrDbtIuIsTcCgbjZa+Ja/5O7UYME+a/wBlbKfI1iZHdBkByX758qEkKqMpFvKtXxoziwCXQVoKT9vd+selRSEYucM3dIutTyTCIzq1tdF61mkhdDI5IYa/OmQyq2YaW0FYds0KfKoSImkjPW6/WoGeNmjlPO6nyqfMSsif5Z/WsQ6FI2J+zv3qh3scjSov2JPh/wB63qMO6b3qL7DuN4fhNYjM8iFVOTg/yqSRNy2VuVTSb+ExRRNw6VhUyQRjy9gvDa0atY21HCvU594pEwCg3takjVPMniaOGW5szC/IGk9H4dGLAG553r0miJBGirbNIKjw8SaquvXsHDQE3MS3+XbxeEklkSRHsVFYbBugG9kz63+tHDasBIQjG5FBVy5baV6sgbMndPlSoF+fXZJh8+Ihlvol/wCtSwsXWSNgGAtrzFeqsXWUy/aDnyoQAI4DG7cWr1aPdIg0yeE0kIU5ixZupoQIJM4uL8em0QnDO7JFnVunEUkOZWMg1ca0cFn7ssrOg4LSRonAUEUMzAanjsdEkFmF6CqBYCrDpsYBhYi4rh2GRXFmFCCIR5Mgy0sESiwQUcLHnVrtob2vp2IoljXKOFz/AFqXDQTW3iA2pcFh0cOq67I41jvbmb7J4I50yOKhwccQtmZvmakiSS2YcKAAFgNKEUYNwgrKvQbSqniK06bLDpTxo/iFCGP/AOaeJHtmHCmija11GnCpIkkXKw0vVhs3MWbNl1qw6UVVuIvXCtxFe9vpyq1ZQOW2w6eyXh7CSNJAA4vrf35JI3vlYG34azZRe16v7kvD3S+3BTNLG5bk7DbPOsCZmufIUjh0VhzG11jcqG4g32YSdp4yzLYhiP02z+k5UxjQRw5uQ+dQN6TM320SZPnwr0lK0cAIF+8L/KsLGRnlYWL206D2GDxDSpMznwyEfSlZWF1NxsdnHhS9QyiRb2tyI6drOucpfvAXttBB4GnkjTxNasKWOIxlzpmFqLAEDmalkESZjsSdXcqoJA4tyqaURRliCfIVBMsyZgCPI7MRLuome17cqUkqCRbSnz27pF6jkfOY5B3uI8x299Fny5xemdU8TAVI32TMOlREmJCelAgi4qWeKK2c2vs3i7zd87X2FgOJrES7uF3Gtqz54cy81vWFlMkEbNxPs14e54XGJic4AItWAG7lmiN73uankzSu/wDptZR8tSaglEsYbh1HSvR2XJMB/qtUU2bHzryygD6V6yfWL/5Phv51jJR6xCAwNwQPmaXJGirmGgoEHhsew9Lx97jGaxE4gjzGsKNwwTNcSa//AJbcfvh6SjaCK7hKw+Pzy7iRMstvmKxqhkjQ+FpADWGJs0bcUNvp2sZCZcfh1LnKVPDqKikYHdy+Lr+apFbcY7INN6P/AHqAoJe4e465qSUjEy5z3SBkNLOOYK9Cah+9nI8JI2Myra5A7EzFPSKFVLfZ9+1O85s6L3RxB4msS7yxXiF1BGaoEtnYEWbkKzLuHJ70j3FqgO4llEpAzWYVJvGkimVDlW+nPWp43xMVgMvMX50d/KuXLk01POoCIIxE4Iy8+tYt3cRFAQocXaojGq2XXZikLwOBxqKRZFBB2TftGH+vYxsEmIDurt3dFVetYad94kT/AOmP1r0picTDcxnu+H60m5bDIq95iOPnUroMcFka43fh461DH9k62sDewoSD1a3xeD61gzlj3TeJNKxK7zEiPkQP6U80cXj0phcjEA6jl/DQqWGOUWdaxaQphn7t+QrDJhzh1sOWtYFY0w9/nS4jv5XXLfgeRqTI0+T4tCvsV4e5yxZcrxjVeXWlh3rmV1K8l60uCiWQvc68R50+GuxKOUv4rc6OGZDeAhbixvXqcW7Ctc63v50I0CZMoy9K3EFvu1/ShDEPgGx0DjUn6V6lh8tguv5udLh+9mdy5HC9erQbwSZBm2z+skkerK45G9qwuCZJ984VTawVeVTR7yMre3nUEBjLM0hdjbX5bYYREpF73JO1oQ00cnNQf606I4swvSqqiwGlLh4FN1jAoqp4jsblWbM+vTy28qhgWMs1yWbiTt3Uf5aWNF4KBRAPEexyJe+UXr5UkdmzMbt2N0lyRzqSEMBbukHQ16XR1wgAF+93jWFFsPD/ACCijf8AUVa2m72GGIvny96mjjfxLW4iPw1u06Xr1eC992Npw0RkEmt/6Vu4818ovXq8ebNr8uVMqsLMLijhcjrJFxGlj0pc3P2C8Peswva+tS7zId34vxMgMLEaUAAAB7uvD3GUExOAdbV6NcvhEvxFxVxe3Os4z5edr1NMkKZ3NhT4iFEDs4CnhQ1F6GLjbEmBdSBrRefMwEQtyN6wBnfE4mTKNWtx6VnXeZOdr1iMSsOQWuzmyiop2Mu7kjym1xSTRu7orXK8aknijZVZrFuH7jrw9xxmJ3CaLcmvRssYwwF7nMb2pmK4oSP3UyWFRvmxZa3dKd2iExDm4uif1NYDDb6N3l1FyIx0qHFfYiBT9qLr8rc69HRKmHB+JtSalmy91BmfpWEkjw8JSQgPmNx1pWkjxLTyKcrrZR0tWJSa8eLy6q3h6LSb3FTBx3EUEX63oxPFL9jHxS1eqrkbNqzDxVGMQbB7AD+uybEpFJEhvdzp+4i8PceNYQeryG3BpWU/7UQDUkSSCzClRVXKBpSIqKFUWArcQ5i+QZjzr1ZL6Mw8gaSNE8IrKt75Rf2BVTa44cPwnOufJfXp2DKgYKTqfbysUXMOXGgwIuO2vD3KRH3xRUPecNfkPwTGS7nDyOONtKwhlbDRGTx219wxcrpugh1LdjDTLJipGKkEadiO0kxboT2JJUiF3NqB51nW9r67InZ8RN+UaUTYE0rBgCNkmIkU3VLqDY7bXFYa654j8J0+XbTh7rLLHEpZ2sKGJVhdUc/SlNxe1qacgzHe2yG1qjYuisRa4p2yKWPIUjrIoZTodk7FIJGHELSORh1duOS5rDy76FJLca3mIZ3yqAq9edRtnRW6jaXf4U07E2Mjinii+J9jT98oiZiOPlUU2cspXKw4jYWlJbLluOVQTCVL2sQbEdD7DEd+bDx+ZY/TZipAqql7GQ2FYdmBeFzcrwPUVNLksqi7ngKi3uT7QDN5VJMRKsSC7HU+Q2CQGVo+YF6aTK6L+a9NLGpsTTTqLmxIHE1nv4dahcuGvxDWqSQRgE8zaibC9QyrKgZaxVt7hieT1K+VL8+VB2iJzvmBI/XZD9niJQRpIbqaxDWyLmsGPGhnigYk3tes5iyy73MG8S/8V6PB3Re/iOny24iR447omY1PebCh042vao5o/V7g8FpgMgde841qOZWjVutQvunkWQWu1wetT5pYXEfSoZCY1XKQ1tb0gniJFs68jzpRKrMHTuXuLUJV8/0oHYuuJkI8u2nD3XDNFJJOZbt9roPlSyIdAdggUTviGF+/qOnnQIOoqbftmVFW1uJrAx4hsMoDKtjbz02OodGXqK/xCwmPd37tr3r0d+xxfKsXMIYvNjYfWklhjREDX5abTL3rZW/TsYmDKmc+LfA32QjLiMR1Yg1LpiIGHE3B+Wz7vFOTwkA/UVhx/icUR4SR+vsAL4xj0jH9dmMVpMZhFX4btWJE6FJgR3dG+RowNmSVNWHHzBrO/wDpmlV48TI7LcOBqOXlW8voqmijJiN5lJDJY/Sp0mfJIg7yHQVJD/hZVIzMR/WoYsuGSM/ksaw8AgiCXv50sciSSWtlY3qaMyRW58R9K778Vy0IGR2MbABuI863SshVtb0YZWTIX4HRuderIVIck3oRngXJoqpFiKbDwsLFa3S+f60mHhTwxgUqqgsBp2EjlRimm7vcf8UY0PFRSRpGLKoFLBErZgtj7A78/lFJGEHbTw+6teM9yO46CljleQO9ltwA2MsiSFlF1biKw2ez3QqL90HZFFu83mxPYhiWFMi8KIB4irDp28XDiJmRFa0fxHnSggam9PGr2vxHOhEA2Ykk7CAeNWA9hYrPm5FbbMq5s1tbUwDKQedKLAD8Mj8Oy9X/AHjQ9395l4fvMvD95k8P7hyyLEhduAoG4B9yV1cXB24xmRY8p1LgULEX24okR2B1JtWDzbhMxufYRnu+03qbwx371r+6RypILqeduwxCgk8BQIIuPZcq9GyySpKzm/f07DgldDY9mfERQ5cx8RsK5UcS2XeZfs71ft+ktcHLUH3MX8o2yzJEt2rD4mLEKSh4cdkcokzWHCppkiW7Ujh1DCldXvY8DaldWvY8DrVxe19lxs3iZ8l+90osFFydmC4SjpIafEonG9uZ6V9nPHxuprGQRokfGytc/KokRUGThWJxU0ZLIoKqbNTyHuheJrFSYle69jZxYjzqIWRR5ewTw7XdURmbgBWHnWePOoNqxGKyTwRAjU600sagktSOHF6bErnMa6tUcme/kbbY0Hr07fwgU0ih1Xm22aVYYy7cBSsGUEc9mMxPq0YfLfvWpMZvZ40TmpLXrefbGPot9jyIguxtQN+wZEDZc2tSO4ICpelxefEpGtrZbmncIOB+lYCQJv48raScPntOIQS5KxqlsJOB+Q1gTmwkJ/hqTExxtlN/PyobQykkA8ONSSLGtzUUwlBsCLcQdr5shtavRuf1bl427GJxQw7QqfjbZ3kZJr6O9iPLltx2FVi0xPBbD9aIzJbqKxIywLGEJGg06UhUgW2OS0yx8rXNYR23uJhY+BtPkaaYq57vcHE00trZRm/4qWYGNch8TWrERi0qj4o7W86wzBoIj/Dt09YOb8uleryRYmSeLwninWpWMsDbuo5I8g5eVTXM0TsPsxW8TlrUWaFpAVPea4NR7yKWa6E5zcViPsRFKdWz/wB6KTBRMLl76r5VujKhLceXlUUhK2KnMONTQnexzAXK6GnQzqVbQUhnVcrLc/mrdPC7OgureIefWlzSwmLdsOpNQwT4YZEsycuopU45udDDmP7p7DpxFHDz7wtmDKeK1KkrZWjXK68OlPgjL35G7+nyoewjHd24wI0DK5IDaVGPV4kGa6gVLGJJY5EA7hvfrUhRoyP6VExy3K2J5VCWXE4squZzb6VBEY0seJNz89uWRJZGC3z2plf1uFmPIi22aJZoyjcDSgAADgNkuQLd+Aqy+tIw/wBM0jXxrN8JXKD5ijJJvjl1RePzqdg08WvFWt86FkQDpsxO9hnEoN81lC0GaN1DtcHn51KVGIK83y5fpTsXuAe6OJrApuZUnfwSZgPKjLGPiFCPcymc/wCZ4vKgQRcbDn32LQpctYrXCHv/AJdawJyxCJhZl/tSkZsUnFy3Dypw2RIUbW2p6VvpZCsAbvg98+VLJLlMdu+NL/71u/V5Vf4WFm+fWsQ6CbDux7uv61DaJSWPec3tUbOk8hl0V9VovKTmVe5/Wixk7oUgcyaSJ4ncLbIxv8tsol0ZDw4r1rcHET7yVLKFsFpsPNlyibQU8U0ihDlAuP6bZ4ZJTbeWSlQj4jRE3JlqKNlZ2Y+LY8YYg8xzpsP9pvENn5+dImUf3pY1XgKkw8UnEfUUkKob86WNUJy89uh7NhtIB4+7p4dpAPGnwUbtqzW/LfSgABYbcGScXjCRzHZkjzNGfynaeFQCUR/aeLYyhlIPCo8EiOTnY+VGNCtrUqqgsKMMRN8gvQjUG+wqrWuOHCiobiK3Mf5RU0TuoCPloRIIhHbQCkghQ3VBstbY0YYg8D1rd3PeN6aNG4ivV4g2bLr1oKBSxIru4Grcdpgi/IKyKOVEA8R+EmX7UR25Xv7hGO77DKoJsOPH24IPD2DOFFz77LMkQXNzNvZAg8Dsjmjk8LX7ODd23yt8MhHsPSM9sK1r8ah1ijJ422O6oO8ajljkF0a/tU8PsD7TCzmUSX5NapJo47Z2tXKvR19y9/8AUakkzSSJ+W1LKrs6j4eNTtefIT3FjzGoM26S/G3YcqB3tm8G8CcyL9h8QqTRxc22GXjlW9qilWVAwp5bNlAu1r2qGcSZhaxHEdj0nNNFEhi45xT4l2wecKVbSsRIYsOz8wKHAbMwva/YaVFkRDxbhtaVFNquLXrFyiXEYWIX8d6JsCaU5lB61HKsme3wtapJMtgNWPAUt7a1Jickyx249jAoAJT1kOzEx5E3sejJ/UUrZlB6jbNn3T5PFbSvR90bEK797MDUr9xsuptUcoeENflWGmvhwz8RoaWfvZZO6bXFGZ1YMw+zP9KxMngW+hbU0oyisWN9E6IL21/SopUaIN+orBP3JA3EOakly40PIPs2FlPnROXHfYDxr3v+a3zwyskhzXF0pnnjZZW8B8Q6Us8bEANf2Ufh9gfZx4nE79862izWFYbOGnkC9130+lPHiJzIuSxZvEeS0sm6jyt4hw86w+aJCrLqWJ/WlhmV5HDavx8qEG71Tjz86lwzyyK5YC3LrVpj8QFDYzZax320axR6sSPpakk7tmBvTxk3m+IcKRsyhuo24lRmhe2ocbMFoJweO9NYfSbEryzCpFKYtJfhK5TSD/GSsOGQdh0V8txwN6xk8e5lXoRWJXfwMicxSSjdKeduHnStIhAk1B51cnHG/hsCDV9uOzb3ClBdg9/pWZm4aV9pwP61h4pYzKsh4tofKp3VREuuW+tPG7TR4lV8GmXyp/tVKDQEcai3giCEajS9LE0UjlRow/rTQvvFlB7w0I8qzn8hpI7YuRpAf4aub8Nu6ljdjHYqxvY8qXNl141JvWUqFGoqJMiKvQdifDA4wkGzFLr9KgfPGrWrdRg3CivVkzluvKmiR7ZlvbhRUWtbStzHkKZdKXDhdMxIoACtxHmLZdaaCJmzFdaeKN0yMoIqHDQw+BasNmRRy9lH4PYH2ckayIVPA0iBFCjgNlvY2Gx4UfjQAAAG3ExPII8rWs16F+dNEpbMND5UiBL+Z12AAcBsCWdm67Th4ixYrxoACsi3vbZYVbblW97e6G+YbJ42bKyeJahTdxhfeE8PuiPnW/s2JykjpUTM0alhY9hjZSegrCSNLh0due1nVbXPHh+PJ4fcyQONCo5kkzZTwNuxJJHGLuwFKwYAg6bL0ZEHFhWI/Z5bflNQfcRfyCri9tkk8s0ZljmCgHRetqMyxxK8htpWKxbph2fd9wi361hBbCwj+AbZYlfJf4Wv2cZOcPA0luFqGIjMWcMPDesNOJ4Vfr2EkVy1j4TY08ioLmo5FkXMu0TRG9nFR4oNiZ4ifDa1A3o6C9K6uLg0zqvGgwIuD2JGyIW6VFIJY1cc6LKOJptFJ8qwUrS4dXbjc1nXOF51w2HEAOotoTa+xJGOMlS+gUdifELDluDqbe7J4fYH2RIAua9KN3IQDrvBpU2Jiijvm4jSkAw8SvmGY6sOt6G0ok2/aQXykhQa9GesRw/aKbHhSyXxeJ3r5VW3doyucBIcp4GsOCcGtgWkdePzp8263C6tktesM9owjaMmlOzviRIngj/repJo92edxwrAQjDx2kj71/nWKQ4mExqPqafD72MJJ4elYYFYgp+HTbjg5w7ZeI1rFb4GKdCco8S0FmnzOSVHwCsPJvIwTx4HZjVWXCTC/L+1YYQjBobalK9Hsq4Nb6Zbg0s7cWSyngaL7z0gFzd1Vv8AM1PiBFGxGpqMGCeK2u9BzfOsSZPWMPyXXXzqMJCmW99aGzdpe+Wohb0xPpxjBqWTJJAo+I1njkLx3151h1liklTxC/GndklUt4Dp8qgGWaYDwaEbcRvso3XG9KzT4dwdH1B+dejn/wANrxBNxRAfDs1+8RpUOIzw97x8CPOsCwSIxNoyE0+8MqYhQbLpbyqbNMlo/nelk0sykGoSfu5Ftla9+tNIdci3NO6RssvBx4weYoEEXG0qDx92Xh7kVDCxpMNErZrXPU0MPEGzZBejFGTfKOxkW/DZh4gcbjGYcxasSpOGlCjUrUCZIY16KNjRo3EUqKosBpWVenst2AxI57DGh5UI0HKvV48xNuNWFbtOlZF6UMPEr5gutEA8ayjp2PVHWffLJrw16VJhzJlYv3lNwa9WTTqOdIgXZYDsGH7QsGsG8Qrdp+WkgjTwisq3vaiik3t2LDZJFHKLOt6VAihRwHYXNbvH3VeHvYUAk24/uWvD38mwuaBuLiiQBc8KXERtax9qSBxoMDwP4snh9zJsCTyrAYxsQZbjn3flsaZQbDvHoKjkEg/vTzxrzpWDAEbJ5t00XRmtV9uJjMsEiA2uKwR/w0flp+lYqFpgiXsubvfKscUiw3TgBSm4HY3972Q0D2MA0jSYrecd5UzMsbZRc20rBuXw0RPG2tTRtJNGD4BqfnWiYlFX8pzfiyeH3MgMCDRRYp4bCwIy16Qcx4SUjjaw+tYKDdYdAfFbWoxeTEW4afrWBS0JjPiVjesH4JB+WQjZjmxDQq2QABxUSsq9437GEnjvKub/ADTbY4jOrW0rCPmM1vDn7vYaMk6NagLdiJ1GLxIv+WmKgXPCsBIjREA8HaiwHGpLCXeRqxc/iyeH3TFS4l50SOA9175qMG8H2ve8qETAZc5tSKFFhTRHOXQ2NQQ7pLcybnZLGJIyh50OwkMSeFQNhjQ8qAA4exTCQoxYLqadFdSrDSo4o4xZFtst+LJ4f3mj8PsD+7yHu/goINRPKZJA66fD2mxFsQIrcuPuazo0rRDiOwMU3re6tpbj2Ma7byCJebe/r4R2j7HGYpcLFnPWwFK10DdResNjVxEjqF0HA9axEjRwSMoubaUsZigSRj39L/XsMCba89lxc69iCUtiMShPhItS4n/GSQn8txQN+16PLZJY24o/ZJA40GDcKnU/9Qg/iH9uxNOkXH9KhxMUwGRvpU0qRJmao3zoGtapp92QqrmfpQPduajcSIGXgainEpkA+BrGmljQ2LU2IiU2vTYqNfP5UDcXoEHgaeREAzHnsw+uNl6rf+tO4QXNQ4gPI8ZXKy1JHnHiI+VYfCH13E/aN3fPrSjdpqeFJiM0qpltmFxU+KdM5RMwTxUCJsejjwiK/wCvv6eEdo+xnw8curC9gbVB38Kg/htRiSB8KEGlyv67JkleRLWyrr86Rw6hhtx7yRwh05ML/KhqAaBZMTPKPBcA1fZxFJhUT0i63NjHfjWIwqr6QwxHxXvSrHF5Xo8DWEdnBJP/AM7cRv7xrHzPeNYe0WLxKluIU1iZW+yKg5Q4zGsQ7AKqHvMdKGJ+zH+pe1vOhK6ECTnzouPWGzHRUuKwMxaWa4sGN0qfM0iSL/lf1oEEAjaB/ipM3NRlqCGRMXLiVWyZvDU/2ksDFfsw1GRRw1qLTEzNKNTbL8qZywKoPrUCzQRCOwNuBqOOWCWVrZt5r9aWFhHIzauQa9HRWwq5x3je9Q4URxuvG5P9awhfdBGW2XSnQxSLIg04MKnh9aFtQBw+dRTdzv6MvEUoePEtMR3ZBY+VYiRVkhYnua1JE+JxG+iOXKNPOlnZh4CGr1cq4lTx/F51iHdoJAIze1YdkNpXPeta3SvWsomjEbFi7cutej45FeXOtvDb2Fvd08I9vMsrJaNrHrWFgaBMrOWqTDPJIG3xsDcCiDbjTJiCLCQD6VFGIownTYQSKbDvNpK916VuXAskhArcyCIxKRrzpFyoq9BsIuNDXqkgn3+e7/7VLDM80c35OC0sTOxaX6DpSrKosG0qGAw3ytx40NssT/8AUMyHjF/akIli1HkRSQKjXoQRiQyW1NMoYWNerR3uda3am2lAC1KoXhtKg1YVYVYVYeyyjYYozxUUBbsZV6VYdhobyq9+Hvkfh9gexer7L+7SxuXR04ioIt1HlJub3P7gJ4f3mTw/vMnhqx6VY9KselWPSrHpWU9KynpWVuhrK3Q1ZuhrK3Q1lboayt0NWboayt0NWboaynpWU9DWU9KselWPSrHpWU9KselZT0rKelZW6GrN0NZT0rK3Q1Y9KselWPSrHpVj0qx6VY9KselWPSrHpVj0qx6VY9KselWPSrHpVj0qx6VY9KselWPSrHpVj0rKelWPSrHpVj0qx6VY9KselWPSrHpVj0qx6VY9KselWPSrHpVj0qx6VY9KselWPSrHpVj0qx6VY9KselWPSrHpVj0qx6VY9KselWPSrHpVj0qxqx6VY9KselWPSrHpVj0qx6VY9KselWPSrHpVj0qx6Unh/wD8oSEg1mbrWZutZm61mbrWZutZ261mbrWdutZ261nPWszdazHrWY9azN1q7dazN1rOetZm61mPWszdazN1rMetZj1rM3Wsx61mPWszdazN1q561masxrMetXbrWZutXPWszdazHrWZutZm61mPWszdazHrWY1mPWsxrMetZj1rM3Wsx61mPWrnrVzVzVzVz1q561c1c1c1c9auauauauauauauauauauauauauauauauauauauauauauauauauauauauauauetXPWoWvmv19lLx9hb37ESbqCR+grBNIYbSm7qbE9gmwJ6UjB1DDgfxDDfH/N7KXj2sdivVoMw8R0WsHi8WuL3E7Z8wv8ALY7qi5mNhUU0Uo7jXp3jQd9gor0c90ljzZsjkX8tiupvYg27OImdMqRpmdv0HmaEk6GMs6OrNl05drEGRYXMdswGl6gfeQxyfmUH2eOt6rNw8NRuoaUlgNR/bb6QGdkTllZ/qKHCtBsWSNr5XB/DsKfvP5vZS8e1jVV8Tg1YaZjW7jDZwgzddiK8mJxF7dyRSP0qaLd4qKZB4jlekRJ8RM7jMEORQf61gwMLjJYvhk4eR6VKSInI45TXo5EAJX8q3+fGrgdjdjeZ/wCG1YNcwAtpHK9YzEnDIHyXW/er1jFRKJJ1Td87cVozTlBiL5UzCyfwnmabwnWsGcRi4RmkKqpsSOLVDdDiYcxIUaX141gv2SD+QViim9ijla0ZuTyv5VhCEgbXuBmynyqSeaFVnc91j4Ol+FSiWCP1lpDmHjXlbpQg9YAkkZtfCoNrVhGLR2Y3KMVP0qaWNpZVlmKKugUGxNQMVwyl78OfGoJd7HcixuQR8qSdWlKW+R61NgMKwlYpqw416PhhOHR92mb5VLJIZN1FYG1yx5Vh5XMsuHklzkC+YC1Y3DgSxEmQhzl8XWgAosOVYOR5Yc78ybfKpn32N9WJ+zC5j/F5VMYIHiKqM3Cy8SKbETwFTMBZ+AHI9KfDNKhed24eEGwFYNy2FgzHUoPwvB/5v83spePax0DyxqY/GhzLUePbJZ8PIJPygVhhiLM0x4nRfy1JBIJTLC4BIswPA0sUzMrSsO7wUVuZ0eTdlcrtc34ivVYjEYzc3N83O/WhHjLZd8n81tahw0mGXLEwZejUkUufPK4NuCjgOzh3mWXEZYHIZ7gnuisZFNNhSlhmJFTwiWFo72uLUYkMe7I7trUMMwGUzuy24V6O3nqx3eX7xuNQwlM5Y3Z/EajhxkQEaPGUHC/GvVC6fayXfNcMOVbgHLnYtb9KxUBnRF5ZwT9KniE0TRk2zUBYWrcyrM7I4CvYnr9KaFhMZEt3rZgfKhGxbNI3DgvKjDNvJFXRHNyenWpILqmTusnhrJPLbe5VX8o51uJUZ904Ctr8j5UElhmLWMgcC553FerzRyb2MJe1inl86fDyTj7U5fygcj1rLi2UKWVerCo4ZoRkjZSnw34ipMAr5WuN5zJ51DhFR94bF6khWR4mPwG9qIBBHWoMMYst5S2VcqjoPwvB8Zf5vZS8vecNhxAJADozlv12XHWrjsl1HxChiICwXerf5+2zpmy5hfp+GYLjN/N7KTl7B8VjhiCi4S69b1vMZ/oL/wCdZ8V/oD/yrPiv9Ff/ACr/ABf5Ix9ai32u8y+VvbS4aCbxpfzr1LC/6Qr1LDfk/qa9Tg6N/wCRo4LDflP/AJGvUsN/p/1Neq4b/RX9KMENrbtbfKkjRPCLdqXCF3zCaQeV9KGE/wDWl/8AOvU//wCRP/5V6qf/ANzN+terf+vL+terLzkl/wDI16rDzzH5saTDxI5ZVtpb8MwPin+fspOX7uYHxz/P2Un7uYD7yf5+yk5fu5gPvZ/ZS8vbk2F/f7HNe+luH4dgfvp/ZSfu5gfv5/ZScv3Gvr7tgv2if2UnAe5X/FLC97a+7YP9qn9lL7DEtOuLwuVvs2NiKxDSrLBZu6XtbrWZb2uL7cNiFxEedQRqRrsynOTfTptwGb1jG3/1O1Mz/wDUMMoPwsT7TD4hpJsQjDwNp8uxFKkqZ0NxsadVmSI3uwJH0/EsJ+1zfL2UnDtzJ3sz4lkHIDSp0BnwyjEtxJ8XSsWuFD4cPOxGfW71g1wwjJg4E8eu3Baic9ZmqaTdRO9r5RQ1ANYhp99CsXGxYjqKSRJ424jkw4EVDh4fWXLr3JPBqeVAWFtuIYpBKw4hTT+tBI333d0zd3Wm3eGx8ZuzF4yOpvUbs/8AllR57cVMYITIBe3H5Us843bSRqEcgCx1F+tTyOsmHVfifWp5TEYtPE4X9almZWCImZzy4WFeuZsqxx3kPFfy/OlxPc1Tv5suUdailLZlYZWHKkSRvSGIEclltqR50DJFMiM+ZXvY87isXI+dlEjJlUEZeLE0L+rje6HJ3qwZfD4dY3hfS5Fv1rDu0kSufi1qd2aQTJ4YTr5340NfxHCftk3y9lJw7bIrqVYXBqP0bhmxsvc+zUDS/OmwEXrEDJCgRc19KChRYCw24XE7uELuZS1zey9TUvrGJjePc7sH4mP/ABSLjUVU+zNvi/8AavV8QjmRZQzHjmH9qTCzl5GmkHftcL5U0UbpkKjL0pVCqAOW0gEEGlwxACb0lBwWsfFlkhxKDvhwLdb1FKsi3H1HTbiYt9BJHfiKngMkSKpsVKkfSnw0smVnks6nu5eAqXD4iQLeRbqwI00uKiiyXJN2biagw5jmxEht9o39BUWHySzSE3LHTyp4Y5PEPqNKXBorOyMy3tw8qTDBZN4zs7cr8qkhzOrqbMOdbpibyPm8uWwYawyiVsnSnixGTdJuwtrfSkXKqr0H4jhf2yb5eyfh7BI0QuR8RufcMaCYRYE2dTp86gBMskuQqGA0Plz/AHDw/wC2zfy+yfh+KyLIV7j5T8r1iIsWIWf1jw62AtQNwD7ce7Qftsv8vspOHuGKklSaEqdLEsOvYLKCtzx4bJpY4VzyNYUGDAEcD209dxEf3qR6kd0a6fOsLhXgz552kv1pnVWUE6twrSpJY47Z3C36m1LiYGcIsik+WvsJsSsMkKFT9o1r7Q6kkAi/Ywc8kwlLrls9gPKp99ujuvFUsKwJvFd84I4m+by2NqrDyrBm+Fh/l/BYf25/5PZScPYxYnHHFywEKOanoKw7S55Y5GDFba8ONYefPLiBm8LaVDiQVnYtfK5tTy4uHdk2beG2X8pozYiCRFks+88NhbWmeaEh5Guh8Vh4a9JOtoyG8Ld635TW7xDR70zlTa4UcKifPEr9VvWFZpZkcB73JduVulThppURGsU7xPnUUzmVomTULckcK9Kxb6JIxq+bRawUn2McUmkiixU+W14Zi7P60VHIC1qRgy6MD5jbhtJsWv8AGD+o2YoH7F7EhHubdKxkyyLE6XIjkViaeJHKlhe1BV/6hoPDD/c7ZxIYXEfitpWDdnw0RY962vzFR7716UOe6V7nyG3G+GJ+SSqT8qxWIDRMIHu/EZfKkbPEGXmulCBIWw6r95fvHr17ELKs+KBIHeB/pV9LipTg5bM8oVl4d6xFYSYyq2t7NYP+anNkY+VYT9lh/kH4LH+3t/J7KTw+xEIE7S8yoFNhgZS+8YX4qOdqbDQPa6cPpXq0OcPk1FSYdZJopCfBwFFFLKxGo4UafDwvGY8tgemlNhnfuvOxTpa1AAC1DDZbhZWC3vakRUFlFNh7y7xZGUkWNudergXZG7/5jrRgnkZd7KtlN+6ttrxRSWzoDagqqLAWG1WkjxWI+wchitiPlRnk5YaT+lIWKglbHpWJiM0EkYOpFC9hehFad5b+JQP0rEymOPu+IkBdhNgTWB3yxhWhKjvG58zTrP6yrqgKBbHXXZDLvUzW0vpsyDKQvdv0qCLdQol75Ra9erS795Fn8X8N6jRkFjIW8zW9+33YF7Ldj02eq4cuzmMFjzOtKqqAFFhRVTxAqRmUd1M39KlfEmN19XOqn4hUKlYo1PJR+Cp+3H+T2Unh/BCilg1tRw7JUMLEXHbVVUWA9xv72v7d/wDh7KTw+6H8PPvK/t4/k9lJ4f3ct/i0P8J9k/h9hvot7u84z9OxccL1LiUilijI1c7FdXUMpuD7OaZIVzN1A/X2QZTex4H2+dc+S/ete1ZlzZb62vb2qu/rkkZPdyAjsA32BgwuDf3X/OT5H2Unh7bOqC7EAedSNhExsc6Ncs1mtUEkkWKmSKFyH7wB0tUe8y9+1/LZEDHj5rn7xQw+lY5Iyg0797JUlt02Y27vGvRz5YEia4YdeYrETEzGISMtlv3eJJqIsIUMnG2vYx0jx4WR0OooMMmbyvSYiKSMuraDjQx0jl/gy/CQTf61vgIBK/d7t6x/rDwI72Vd4vc51I2SNm6C9JKGgEnVb1h5d7BHIeY1rDyyTM0gIEVyFHXzqeXdJcC5Jso8zUEkjhxIoDKbacNrvKGAWLMOt7VhGkGLxMZQDg3Gp5t1u7Lcs1qGI74SRCjHh0O2cy+sputSiEsvka34OHeROSn+lbz7DefwXpcR/hkk4lgNPOjimhNsQoGl1y638qOLeIrvosqt4bam/SlxEmdBJDkD+HX++2TeZfs7X86gXFHHzk5A2X+lBZF9IqXcd6E8B0NZ0DBSwv0rEuwMUanKXJ16Aa1h825XMb+eyTNkOXjUW9xUe93rICO6B/vWHkLwI7c11rBSZ4dWuQTeo8Qiy4nM/wAQy/8AtWIlxEMRnLhekdqkM8IibfF3ZgMnI3rLjF7+cP1Th+lPJJiMeqxZo+53jzFjUo9WKMryHvAEE3BvWNmDyJh1L875OOlR5khXeHULrUWeBUcnuSHvD8papXVEJb/5r0dZYN3azKTdfn7r/mJ7KTw9uVA6EFFbyNSx41nw4+zADX05UcLM+LUs75chBI7v9qRFRQqjTZNCsuXUhl8LDlUeGCvvGYu/U8vlU0CzLZr02FZymaXRTcWFPFKsxlisbizKaeOeW4chU8uJoabcazSI0CIxZtL20pMHGoAzSEdC2lPhsO5u0S3p4O/njbK3PoanhxUi2zx8QeHSjhHnA9ZYH+FeFerSsFWSXMg5Wtf516ovDO2S98nKvVFue+2Qm+TlSRTQ5hFkKE3CnS1TQYmZe9Iq2Nxl60qTBFUKq9TxoaDZJLKji0JZbcRW5xBl9YFle1sh/L50YHl++b5BeRrclsud82U3Gltpw+KikaaNg7N4gdP0qOLEvJIzosasLMAb3pcLlsu8YxjglRYXJJfNdRfIvS9YiBpJsMdMqNmNTQb1oiT4GzW61iIjLHZTZgbqfMVGJAO+QT5bGz27hF/OhhZd5vt99oeP5bdKlw0hZZVa8qtpfQW6UMIjId73nPFv+Klwk8gUNKO74T8X1pUmzLmcWHIDbFGsUYReApcJGumZiv5b6U+Hhc5iuv6Vu47qcguOHlUsMcyhXW4vetOmxsON6ZVYq5FqGHu6vI+crw5AVLCsmU6hl4MONGDMe+7MOnKsRCZVUBrWYH9KOGZirNM2YcOn6UIG3qyNKSR5W91/zE+vsn8P7uf50X19k/hOy1vwa/4YrBr25G3ZckKxA1tWHnn0E6Bc3hI2H76H6+yfwn3FJ0eSRF4pxrEybqF3HIaVC7PEjNxtr7WLELLJKmU9z+vbOgvWBjNpJjxla/05bMRPud1pfM4X9e3DNvd5p4XK/psc5UZugrCzb/DxyfmHa47GYKCTwFRTRyrmRrigwN7HhsuLgX1O2WVYlub+QHE1FPnLAoUI5GopRKmcDTYkyM7oPEvGnLBe6tz0oYrxCRcjgXt1+VYZ2eCN24lb7X9I7rGPHILJbu6ak1BjYZmKDMrD4WFqgxAmMtvga1LLeaSO3hA1+db6PNlza0MRESRf+lJIsi5lOlRYjWbIjP3ze1b1d1nFROXS5FjUOLjyAO/fvwrEsVhZgdaRsyhuorE/dE9CLUKb76H5n2TeE+xxE6wR5zVxa+yOeOVmCnhUjrGhduAqORJEDKbiopVlDFeTWpWVtVN6wIInxgPKT+9elN76s+XLlFib+VQLiN3GWlQLx0G2eUxRlghfyFZ8WeESD5tS5sozWzc7bWxOTFiJyAGXu/OsTiBBHfibjSpHWONnbgBUc8pcB4soYXXW9PiWzOsMecrx5CvRbbxZZLfER/vST58RNFbwAf1rff4rc/wZqnmYSJDH942uvACokdUs75j1qKaR8RfN3CWGX+XnsxjZcLL8rfrSjKqjoNnpEfsn/fWmIVWboL0s+PP+I4x5iN2By60JhuBM2gy3r14eHdPvOSUuJUx57G97Zed+lRSLKmYf/FQmcz4tIiqgS3udeNDFZUk3ujJxtz+VDEYlpd1LEEV42K9frXo+y4CLyWppJ0jTF761z93yymhqL7JhJJIkd2VLXLD+1FnilMET5syE943y1gh/hYf5djKGUqeBpomjk3kK6EWZP96wNzG7n4pGOwquYNzHDbKhLwuPhb+9Sx77GAa5RH3/ADvyrCuIl3D6MmgvzHlT734MvzNPBP67E2/sShvYdNnpB4Rh3EgBOU2FYf7iIWt3RTFVFydmJw5kxGFcDwtrU2Dd8dHKNFt3q9XmikdoCln4qaWLEo7tcNnAv5ViIM6xADg4JqSESPGTwWtz37hiAeK9aEMkWfdopzNe97UcJLucm/P6UInyhdAPKpoyQmQC6m+tNvAc7pm8lrCX3IuCOPHpU/feKPzufpsb72H5+ybwn2OO3Zw0iu1rjSt1jJMMkTWB073yr/ETLkKmPTvN/wAVhEfDjKyyMwFgeVqnOJWVJXjzRj4F1IPWsOZzvrQlM73GblUeGmizIkgysbkniOtCCaEtuMuVuTcjXqsqtvUl+0PjvwNLh2Zs0z5+i/CKGEiH5rclvptN7aV6pfx4iVvrb+1RwxxA5BsmlkTLkjzE/wC1Ju8Zi81syJH/AFNerQ5GUIBcWr1V5Iyk0pItbu6fWooJIbfZ524Zs3/NQ4fFbvdsyoLm5GrG9LhTE94CFBGqn+9DCvE2eJgWI7+bnTYZ7o6v9oOLEcb0cKbo6v8Aaj4jzo+t8hGPPU1DhpYd5lZTm1uahjKL3mzG9yaxMZlgkQcbaVDIssasPr89mIEuLdUQFQneJI+IcKvPIMhiy38RvS4ZxdN59ncmw468qhw8iZVdwUTwj/mmhmOPSX4BGRSYUDEyTE8eA6U0Bzlo5ChPHneo8I8LSGKTxW8QvRwTnv70GXPmuRpTYUyyrJI/BbWFepRi+R3QH4QdKhwMMX5n0t3tdKTDpHwZ7clvptSGJHZ1XvNxNLDGlytx5X0pBLJJvG7qjwp/udk8joFCAFmawvXo/wDZU+bf32FFLK3McO3lXMG5gbJ7GPFORrmyfTYUViL8vbiJFdnHE7H+9h/m9k3A+xMETSLIUuw4H2g7VgOA9q+HOfPG+Rjx6Go1ZUAZsx6+6YoSWjdFzFGvasJG0WHjVuNtfZyQzNLlyjdlw1/l7nJ97B/N7JvCfdr/ALjS/eQfz+ybgfwC9X/G5vvMP/P7JvCfaZ1DBb6nh2Ipo5c+Q+FrHbFPHKZAvwGx7N+ysiOWAa+U2NSOsaF2NgKUh1DDgamLwvvbkx/EPy+fYv8AjE/3mH/7g9k3A+wd0QXZgPnXGo5FkW6nTZlXODzA2yzRxC7tavRuIjTfg38XShR0rAj7AN+Ylv12JIrlwPhNjQqR0QXalZXAK8KeVEaNSdXOlEhQSaBBF9noxLRzHmZWr0nIEiizXtvVvWFluiJu3Fl4kWogEEHhWGOSSXDn4NV/lNHZb2N/w/EePD/9weyPA9vlWBb1x5pJ0F17oXpWD0R15LIQKwLJHvomcXWQ/wBail/xr8crr3T/AC0JEGPbXilh8xyqSSRs80bHLHy/N1p2OJBWJ7AC5I69KjxkeQZr5+a21vURbDzSGRbCU5hbkemyfSGX+Q1htMPF/INkMpTFYvLE7DMOHWgZYZ5GkUkSDTLrYjlTNiTjl7iDudzMf/7rQtFGczeZNRSeuMwmGQ5e6P8Aet602CK8Xa6fPzoMZoRBlYNls/8ADSzTqmRoWz8L8j51Ej4ZmFiyNrccmqSN8XGysDGvLreoWnOkkdrcT1+VEgC5NJ3/AEhKRwWIKfnxq341iOMP/cHsjw9hBGfXcYlyg7p0oRBY8kZy+dLhoVHgB8zqakijkXK63FbiHd7vdjL0rKuXLYZbcKREjUKigDp2CAQQedQGSO0LRtpwflbYiqgsNjojizKD86GHgU3EYvU+Ew8/3iX8+dQ4eKHwDtYiETwvGTbMKggWGPKPqep/G8R/lf8AcX2R9hlUMWtqef7qT8I/+4vsj+7mI8Kfzr7tf9w7e1xXgT+dfcr9sEHh2fSc0kUS7s2Yn+1DgPZXosoIF+PCr6XoYtiN5uvsvzf7+6X97tVvZYvwL/OPccVjJY8fAmZRGeNY/ExyYc7ssba3ANYaZp485TKOWxsfEszR5WOXxEDhRZcue/dtxppFVM5OlSSLHGXN7eVei5QsDaP94fhqXHrHOseQnMtx1vSzTZ1WWMLm4WN6TEB55YreC2tRzK8kqD4DrXpCJ5MXhFDWBvSrlW2YnzPYnOI7oiA8yeziTIIJN34rVgx/hYf5BU+b13Cn4e8PranQOjKeBFqxQ3eE3UcbNdcunIVEVMa5Tpb8Zxf3Q/mHuGIjRwC0bPbkKl0xOFy4K3HTSsccQYAlkXOQLcTUWHKMGaVmNvps9HqrQSseLu2aizNhXw0XeYZh8lFYmUy4VEi1Z1B+gr1nfqI4eJHeP5aiSTChkWMul7r1FRs//UpHkjuVjFgutqUSTTJI6ZFTwg8SaikMLzrkYu0txpx+tQrJhpJMys+fW460+HllYTHuuvgHT51GHy986+XYkjmZu7NkXyGtImQeIt5nsYufcx/ds1+grBCcQoJFC2UW61LFjJJkYbtQhNudHPl0IzVmxf8ApJ/5Vh4nQNmIuzX04e52/BsT9z9R7e2t9mlMqta4Btw2n0d9qzJOyKx1UVFDHCmVFsKWKNCSqgX47YcO6Y7ESnwuBb9zJheI+6WrXt299ttt7a1W7Ftlj7W1W7b+A0P3s//EACwQAQACAQMEAgICAgMBAQEAAAEAESExQVEQIGFxMIFAkaGxUMHR8PHhYHD/2gAIAQEAAT8hC5gXMC5gXMC5gXMCgXMA5gHMBgHMBgMBgMBgMBgMBgMBhMOBwHmAwDmBcwLmBcwDmBcwLmB8wLmBcwLmFW8CN57oFzAOYFDzQLmBcwLmAwGAwGAwGAcwGAwGAwGA9IHmYd4DAYDAYDAOYBAYDAYDAYDAeYTDgcDgcDgcDgMBgMBgEA5gPMAgHMA5gXMx6Mo5lfMC5/8A0adBP8a1yyrSHy1IiL2fJREOWALGz8xIIf8AAP8A3OdKZqmxp8adwDU5JVdLW0RkvoI4R7UpsDPoVJQasCDTclEIMfuV7SsXLlkIPPRJBc9mkozEGIw8tulXN2K5mJtnwVr8ivwWDqqVK78QAPFMHs7y9+3a/h1I2qgVDTUZDAMhtuPTPVLhYjZoueJC5kejjrRyNtYiWIUfzHGZSzR76vZlLrxD3kR4J1vEUftMq3A8TNGjiL3M3mX/AJuepWufuJk8RaNQQ0NuU/SHY1HB/FC7Z4otJTQ4DfJUNNZIOlukOxo8c/4jYXj+oi5cf8pdqKwHYCZRr85NOjZmWM4bH32M8Y/uJaKRXS6j729lfB+ckYv4SJ97wma9wkV6lNt5kPOr7qGvY3C7h2wMVqbo6SQZLyJVPPKtDM0l56iq92HqVfIg5/8AoYirOOTdN7mrxdxuZo9wAmVGJLYirMS06LvhKt4Jaxvb7Jimi0x5Z40SYWSVZMArFFkWVh1PvqqYDH+oQ+9/dc3S1rzW0VdRv5/EMr/oqEfIIqYBxf1HFeo0FvtYwPIn6djo1OE6NaOJgDwrELAscgMyUi57XEaQ03HBDfaKBn8MXmoxsL2OsRgQq/EG1xwYg85CXtcJcic9QhFjF4go7i3HQCFlsQWINjvv8dlfEQVCukaDzKKgrDQv1AKJPM0KCtNeh99L6y1Ifj/vrhKYtZ6z7T+yZUM8uWHfdWlNQimkglMalsRzUoEpLPMpA4t+eY2dmx3HmGFsCCCaBLSyqvdRrAnEVIAFzPzn7PVB1OthrzrsVUanmOYAwV/cfNcv8qvlr8cR2v6fK3Yu+ZdCeEOtffenWz9MNfd/fff/AOGvpfxEu53H7ZXxJZR45cXPGOdt/wCBvsfyPu1Xjs1imkdHVj9/Nea76XX+JGSUrwEqBqwo8/Hf44/Xi3mOWsDYqPUNxt5gHZyArEuwQ1fDWA+nL8iq1wTSY/uiFW6T5YLHuJFSbOOy3Ae0sbBGlOYTCZ9Z8MEkrZOE1+B9ltffXx0rq3HVp67B+5IF4Q+3rYuvQ6eAC5oMCzsvqdVCCJZNE/ZmgPpAyatBqrNNhiEmhfp0/syzNFL4I/6BuPlAN2GSX6YD0DxBEof9dzlYMvLCCbG0goQA3gQSaJ2Z2hVC+q/f4B7seBBCis2Vsm8piOpXiVFWlfTXmCwrXmXgWwb+BN6IxNHknmHh3N5aBsbh/wBwVlRRyaB1Q4lSHXTcmL6IRdohR0f0vU+ydL/yyurbRylkXhE5TM2NrzBn1Jf3DfuxP97BmMHRVVyINK0i/pGgsXQY7E+TQS0ysjSkPkKq5h8LG8DTh1uagc3wzVxKF2xgWXD9jEyFEkAB5Hery9jw0D/bENv7AdvqPxY/LM11UeWPp+Tz7n1AeANW/Jmg8XYLAbMKyfxS89bY6Onu2JjEEf0R5DkkTQAIV0swT03Wb7o+cBgbqWJS1X3mB7ThfJmhvf8AYhmfYGhqwwSsLvcPKUr7eEqRWypbNQVBauagWg2Vu8zT14xx7hyk0bR6ItXVnVaGF/plHLLl6lJu1XGyMrfJQaERkEV4vMfS7XUBuzW+YRps1oFwrbO0yMzNgUZYqWg1s7HELFXTrbmAi7oX7+OviuXKKtrSaMDqKDo2eI3DtVl6ZcNytXxAADQ6nqWts1tN/agx8rzbNmCV7N+DiPQhwOSVHD2sDkmwBWZveYCimXQ2S9rfVjaukh9EqLijLFXdf6mJ2O9Ad0VkGSN+UH9Ppgy6LjZDQXYNol+CnitKmd8k7wqF3K9IbSnS9Y5jZu9VtgBw0lfsbtqmcgKPWEUVWR3SJwtp+4KzapS+PEvPPUmlaci9IWNOdP4gbMVjliI1La3WOSklKRvW+TXoEi722VnnCMqKL5f1wA06ab5lRBKYJR+kqaGuepUCjzNEEzg3QyXFLaQVmciIiu5tC4KE3LUp20xAAAYOpm5wq5XijWGXkcJTbXNXN5Hw18j1ZP4dGUPilXW+l9haOL++rCNax+/Z4Dv0l9bikxd9uPguX3k2INbhpLEw9LhpuiaUZnQ6svpfzcB2PruW4oR/CL+J+jXyoKt1hDBbrI4l5uDaDRoXfuaRIN972IxlBbKc2/NPJCM3L6Ek1UOWLb39T31I9Nb9pLYdf9NxGDf6WXUOp59f7iaBQqGZaFZlVQW0e+jDiXDwEOmJGqmyOJVBekioF10moNSiIOWASyl1fwYxNqffSzsA6M3mgZmwIgI6TEjcOdoaP/pXSvzh4i9hFfb1Ly/K7baoP5QHukzgS8T3HRyQtrft+SXX9yI0xVFa3ibWAGMqEAADpdeh/sQhciNONpbDpXhtHHVjkp2MfS5JVTWGTxCX8M5bdqsdcQKz/wAYDqRqGr/SwLbUy8wGfpGRxYuMmFGbWuPUORrUOhv3p/ASrY/rJUO1ulpsXKgRd0zfBCjoE10F+VzaBhs2/eeqK1J8wXFUzxRlgSNVNEbGsb6e9le5d/VX0uVncRzU4f8AIbQisw8bf0dldKlfCfn3Lh0ojeS9bErqS513fWX33TCC6LhJB5v9dCYPWr/5RSw/6ldoUnvtLlKqa3J++ZrXEAAdCLrWS90jGd/FKrzVlN/cWgxF6kEo+JiU2fobMQBs89F9pX7ZgHiXYays61V7My1FzQWK/tY2HhPXSx7RAI1kj3P9USBUEg6V9NGH3GTSq37JgRnZurgbt4BKS2IRNBKKIUGMGZo0uI0Jb56GHmo/bDAeul5r57/Dr5r6Pc/LfenLDPRRbL3qVvsYuXi+Dx2Okr53X9y35IglMACgrqwcXTKzhv5X/wDS38l/4O/wnqadHpcv57l/Bf4ty+6/8PcuX1377+G+lw/Bfznv692Y8EMG3wWzQGFnckAXUcdROeoC1og32WdABVnbZadcLO6F/PfxHSpUqPQ6EuCPdfRS9ZiWL4/LRixo1yay9Aqm4R2g2s8TY2/om7DfVPum4sG/OwOjx1VN0up+1pf11W0sXk4IAA0r0KQMHaxDVJr8AeqEER3JcNWjqFHaCdAZa0v662SGj/q61wvlgiCdCIEuhFGvSZig001z2V3Gpoj+ofQDZT9HcdTUT0m446WulMOZc6/HAy+jlOWFh8e/RAmnKAL3YtUxp+XnN/toZsKl0bNosYx377RNHGBfBMqrH1cy+5rQbpRAX5M89FoWOFwI01jo3atZZClPHTT+TDLdlHDGqvBiM2nDaptDpP8AaxUhTVhGLyvFzaGb6a9DkSf0r101LPbq+kBrdf1EXC7+5VwjHViSYufqBgZJ6dIJTar4phrKV8FzQ3Bn9AlXx/4F9CKsK54MzH17LLZlhAXV+pYtizaB2CwcqgrGqGHR66MIaulIit5oE107ooQvJTgxpNeVU/RAsC15RC1MpYoC2WFKUsq/U2P9jd4hUUjRvXMJruYH3NP4Dr9wHp10dFrysyTm8bBEg09TR7Rf6l1yOa2cs3wfsgNIMPMo2CxYAihJeYgTORxUzPMNyxc9UwJlB5DmKbJLfHSpDbpoh8NfJX2Z5n2ZUNAAS+h4VPrsgGhXYTTLGvDzPFpS5B4jFAcV1SMYsW4Kq2zdyShoMIYEW9dsWlAK1saW4l2nt9BApsEVs3MNiAPldzaMDh/8lnIFUKmkyxW/uJhJw3Vn9spym69McEDQCl218EWXUt3KYlY/kfcvUg1VGCewr956EdnWh1WBaZy8jWo/5AXpkpuJBrvaf4weMdLfK8RwKG9lda/UUybYllqvfqVG17BRzzA0hBVjDGSU9o2jnadqNRmNYtNzeLjapT/YuCyIm4+iKrxVXDDD/RCFVGb1q74hFNuSlVfGjGwSnoZYDEfc1sWlUddhDciOSfh9UWAYaViNJkh9pRHyd2KKGW7rKaVmhqcbJ4d6JYQN7pcsLiXDYu46WcyzFLGpZTRG+u98zIFVeTglZ1S820+U+bRFke34r63L7DtpdSijmqjVap7HsvdFdbzSCgoCjqpYTzXU7aMDCr7zopaH1AFBXQ7KEzADTq6Pqeyf2f5JNFoX9/DjUYXXiX8HiQuXXr9K7Ll/DfZcfmYjop4/OVKldtfJmKgB7hc+l4HYduHjefcUWr0XFacnTYGFX4lHZ1YWB7wpG/8ARBk/+9/+fgXW0AcX0HcE2N8NOy+ty5fTSUFs3oUd9hAWqqOTodTsuX2X1vrcuXLl/j2Rysah4gKKSnmVcsY91mKspry5ehC12TdIOzborzAxrowcvEo77KXVG0wqos+UuRrg8rZqfhUOpk7tS64I2xqv7SkoSxo/5iO2FjDHAoHsiZ0EHWFVGr89Kj1xwrcf7Q3nhmcwUHj0sUn04Oey75imNGDAooUzKvgXUFAVNSUQNFyTAqspbRZcizytS7xTTi4dzNb+4BfhLw6E8Gvcb21fubwXWkYICq8mXWVlclxWsojecqFjXpKMaKAlMh6ITuw8jtMBRocr4mdyl8hLLq5dby4dkxjRhXHlmabrTQeeukvCsJv/AEQEsZrB1Ho6XZXgLr3BsHtuX231e6uhAlIobh3h6aZhVBsQbyrXvUW0NBOHaYi3JZZLHmAyd6J/SXxFeIco4WiYZvlMLXj35JbEvvBH1bajioZLLdQKHS/uCqbMbS4eANpQof0HucEEunmOkSShp2i8yBw//Ex2Fyu7C6Zcwn7dgJ5pWellp0JzYuXB93NA/wBoPwHpmYuxj14OYr1TX/pmYEoAso4meDwXF9EAjvG4xUWvdMZOw2Vj7h2Ch/cutDW/2lUdx3c7jUS4kNLbzeoLbDdwVC45pjBcVsmtQw3mVzBnVXO1w6r5c3X/AEqXFGLO6TSitSwl8BdVveP1MlWmhvDHMa2tf9Spk1mn0ggBjKsr5gB+gPjBXSKF1CKC9vre411km58xAYCcAYIfW3KpTtcxMAOSx9HmB0D7F+MQIDQvljkNVXK8S7qMRqhtG4yPEIwb1IE1grDeZuIqDyzLRXL7ZnVc3luWfoKMxYlog2dldbl9l999l9CxbJtGHdntQdSVXW63yqUHMffiZf56OBZaXWPjx1AugLlFJWJaY73iCUlwAUFHQ6KahgBp2oOpfVCNVs54JmVLbN89Vdow/uBuzcYg6kQSkgCgA8dbG2z11U1D20ZA6gUBgAUGOiDqXADQ6gaHXWyWm/rMrtq9D8dQ16OdMX2JY1oD9dDoLgXx1uVfs9nU6KH4G4F8dT4mW9r4fuv++zRA6/u/iv5L789a/DvsFXjXhCYVNA4yYTywV5uXK1Nv/Vhg6+J8gIumip5ipPEfwl0YmvUZbRS2+TfpUqG6fuCpRSAhN1ACWOj1Txsg9M0Q9i0YqwW5cTKMWiy3PY4v0WwRLIoS9aprzl0sS5r4hpFsrLAtmsw3+q8VQgOeW+jj4wMC17OLmgwAfXaCJoC2JlnaPqWtU6XjuUBVwRaK3+wffRBZUd2iUV/MdDydEFW10PjrtqVK+KoN7y11V3cxMkPOZqhliw+C+Jco5SSm4aYog6M7vxfM1FORTFyasjr1DSqz5eYjiX2wF7SqRW6WJ3h3VoVxcE2j7U17VlgW+ypQq5maKrwpzE4eFNXHqKuy4lXzAL0X08WFynReRY/H1EuV1r4S1Vh9G32zQ0A8cZmxSllNN5kiCfwitFJQ8rKXNUO7NWt+cTTWhdox3d7UubqwNEr6lF1y5lfYIWJBUpw4g2X0yRtbraooHj6bEjl0qXM++W6OalY2OhNWoRPUG8MB6GopFrr2gImg1Zb48yr9SkvNLvnEpMgOYWwareBKwjywUIcnQDo30K4oGPmHSmojWhosmszTgvmICU1rcqjLi8mt/UVC2wRsrxmNxQ9xO+zDpEOj4rI6Dn0/uIXA7zFbUdpseZeN00h+HUrrXffYytBbGQqzDw1e7EOiUpb9AFQZlDA9P0dUERmPtGwukXkeE1QjS269SkH07krEh8D+o4suqbS7Hb/0QJWDwpmk1+gbwQoEPYgGKpbtga2nAppOAkj5MxVKo4KoQyh1Dc6zPF0dEwZb0MzYJI52gX2e77gZVuDK+JWNVGrUMs0HO/8AuUVpteszGslmPf2YbTcUqhprQjPWEL7XUx2mdjWVYrQO2hOFUYeWEdtUWK8Jm2V2rCGv1MUShPUILVQlL8ZNNn7JXw3tdiKSmOtH7miNU9PtEWgNVenBKKuQTMsETSYesNSMQurlSTcVZeZbBDimVyyhc3oNpZytI4htLwliUwQ/AVNC/gfhJTN2wvPMoxXtvmP+Dfld79MNDsu8PMprUrjE2v4QegHBAGw3zGb9k8CBAAFHECjQSwc3x7lgL3VARGGGUAacxXefCG2C4g4YAKCvhzD8G4g07Y3m1miUpC6t896RgFqx9rCx8da+A/AoxBazXE6/x5+Ddegj304i3UeaCzLD8a9cy8XhN1wwZCgW7ql5qNC2oQ6Mn6gBSmnorVIqYUF1yfqCI0y889iEwarAFDNaZq/i/NQlzV84aesdF5x0Aj1SwADYlnZfSzToGpI1hgl06MNixKSF0C4jsw+ZwgKryYGFWo8zw80rqhxiB5d+5q1TD49ClP8ATuQQXXsPwU/8hMQjcuB7RXdQL+piCsDc3SI3OKWGiovJzg10qjWgbZvV7PUuKC9Xy+oov0w3jE3CrXniYlPfjKBkqHj5lhsj3cIn0Y6TWM95FffQmlAHfJqLXZ90r2Zg54JjoBz6RM3Pb7mEPMrUgANA6XLYTlNTJKAEwpAgPCv1F9YbzKkFS9keVRezOMIthwy8Is06Kef9qDTtacN2NYZ1JdmbJqYQ3yxWnJ0TGt7BfiudLIWXX6mQsAV9x08YlnGnWdajUcTTzDClt5zzZcebeu1MtvGIG3Sm5WBTf0h0GbfxDqtd629xZYLrDV7mfrurb3P40v2iHmBWo2tM7DkjQBTDD8jIIDRjB47B+DoneNbbx1CprUQQp0XaZ+e3qIQaDWkw9b6X2cS81HXKwNwl/Wrq8wiLYGzriPjI6mX2ZwErYL2V/bG8zwqF7TVTOXFzw4BBFvD2uJlhBP76aw3NXC6L61LKiQpGZ6vQOpKD6Y3Av80v66Ui/RfM3+z3PQZ1W/t+jo6Ksl832KKmbIZd3LMZWHEoWxa7DmLbgy2cwq2vN95Y9D7VRVs2ptiBln/R7lTqbujWZNU1vzrCL6E4p5jEWVijdDJ1S7La1rAYYtQkMHN1vqshio9sFk5MeYtdKicKY+7QTZz5gOzVeUuGAGfMNm2ueRiWDRzvHvTtGWUF1hxzK+6uG1WxErEpk7yqgNKipN5LiO2dxcrLo6n4WdQXrXS5fdcuX0e25fXA5t9MXEVH4wf9AYQWOQ9mXwIJTEvEYN/s5Zb0F8TRh9zTKvjEAMB1AUAda4R5lII8dyWJA9srdvP4z6BlrmO1dFF9h8h23HPwF1zE0FWadj8AXLNEX864HhYmSC6R8WC61XKdiNn+SJUqVK+Z1oHUlxgAaJfQlwMI+0IPQDpatGLeU5WDwqVIFde8Y89kbv1LMqqtuG/yX24xNNNc9Mqlq0av30NACkmRp1OXp/kj4mHdx0D3MJ7y+proNTgls6brb9H11Ypuv0dakaOnKJowG5gtbGsa1DWk8wrL71zfeXW+XKY1uXNwcQC4/wBcHW4fI4GW4XRbjow9mFXBsSsr8z4Jjjb4juzDqGLqyvcxQgkEy3k4iEV0bA3gEK6Y1/pWT83P4p8r2JLBtMeFdXJ/MKQZxUXsm4dTWwEfp2cSRP1KiQVfqFmFVhvb0IgiJjeb+wEePuOnQdF4G1iCNKgpLOemPjU755lKnDTu80xwtF0axk97N9jLJa4u4NYs35rjpYCsDNYGzAw0uLXnsJrXUWf5rxKlNu19K+xP8av5ah8A3NOvAmjDLo68Pk7r310th56V0JoA8SjWpnQMXDzoMdaShps99XvO4nEMBoDrfZzWjoxfviABQT2sdL/mbSdU5Vy9FiG4Gef8SXv36JUPjel//l9HxnR66FwKdNE6323a8BrAMMA/v8LPffx3L7L6XL6X+do+J6vVQGlKZrhAAt9LgKbSeqL65KsviNDLUdyitYQJoly3O2PNQDNgJ/cFmMDLAet+21Fh8BwdUSAGqwN6OevnDZplpZjqFt9dwe9UwDbY91SvjNj/AHWCX1a08TIqpWtzjpcv4bly5cuXL6XLl/Fp+Q7OfYnO00+d8NSV/wDsJWb+4BfJMSXfT1LTrk3IuhGV6T44FwVqye6b9YX1BtKPAi9BMR2nDGPLHoRdGp0RCd2nbAqpwxVmkNpr8Aruyosag6faFoDTtVwmPkBstJs+D+DcqKLml05YzATSOvExALLOGvUfvVYjBXMMlnaHd8ONYbrspWpKEZEg5I7FoHi8imzEKhdvcwh2Y+JKtn5AqHQBliV68HXGwyRMk2qVswp1g9AQ0C4ZolD2fPMEAsMf1CAauityxqx10dk2mfuyXKeSIVnHyrRNFn7iW13oDKvBLZZk0aTmcWmAydpiTmWvl5WU8DnWFRy6NahlzJL3CeGCXSYgrOKxpfvvXN9J0ozfLU/g7erlLGvNG1IlZabUn6+XT3X8Sdh3GYqDZpEavdaK/maLsG5tDZjW1npAHiIOHaLF/wBMqV3xdnIzUgt2R0l0Hg+ri0Lqb+jpndMvg7QebSpEo2da0DaBrSjuIoXazqPMXWoy83zcbB11XKzWQDaoBju/d0ZaF8ipxAq6ulNH9EoRQ4gxjxACx/8AszCqmgPiHXcta06s7LiNRvDA+Zv5a2l4qzbV55jCHBLe4BuO9xYWUjM/2fc4tg1CrojTLGvaMZmCxTx01RgH6mvti2vUZT0qKbiHJOq3AifAeeQRXat5Q49sX4GUZrgzcMQvOCErfHe5dxMRfPEHraMc13jmW40G39S1rKfsj1jop1f7hcnR8b8+IYsAU/USgEYA8QiHB26L0Q6RxRhDy4lxBf8AmxFAuF0zgRlorudX6W+0CKK5pf8AlXVO8dE1CKnLQeLmCDbdF7ael/Bp+J+LW1S+42FlF9lFF8hfiWJVud/iZdHq7hB30KPwbl9gF3Rc26gU8631fRu8/K2/z0NC1mgaSfYgbQOydEZ6NyeQZ6UPUMncBsyo1c2rqr0JNTxzM2Xj+3RtkcU/uWRalGrNWMIVWYNy4ujGxv8APUsC76kaVAKoKv3Bjw1V/M9xJqJa8WwScYBUPh0/E9XpSV7LxcKQTR6nZqONfUVwNsQIBRstAC+y+4fReU3iGnwfwXutjsHG9c/g3BWBQ8fk6PlZcJiNvuEFrpV61tKlxY+TtLKLF/BEbTRc1KX7Kt6WAHquR4EpFFewohURBsX5hZ10eI+dCWDUWDVnjpXQ7AQlaF5lvZQr+0NIOWotrS0VBhYQPLKhianvuAU3d8PQr+uk1rWNXLa56rAM/wCu4fEUr4y8vwX2ge17RbVnx6PiegViPQuqCpj/AOZo17XBEGdYjJ6ibmR4uzNpVTqttSn/AHB3THdq92Z3Recce4gNDQM8zkbo0XH0DuE6cVDAsN2/a4aZDq/qEXb3VBzIcw6r99kGYVDPhZzAye5aHlDpiw//AO0NLcdOHMxaueSxUcgfyVGWEK1zFsY/Fdkd0VfgHLPWz6dSLLjWpsleLAqcUYsn6AarLgXjxgzWb0tBN2iMFzWnRFVGX1B1x0A5u1ld9k6AVzOLk+hmEauFpCyTIXdO5peCXM0nF4N49wviaNdAzO17SzHFz+gcwywOR4JtPI4V6jlCrV9QZYq3FKuGDiZq6eiNBzVTpLnP/HnrZwaoOcdBRldNYrB7AaEZkKqUL7XN4h3+AFLGjkWbIDttr9GrDM0SX2ael/Aw7AIYay5C2u17Qep01YM0iaiW1CAUgnmAGnbXRbZ4TUTeZqx1UQVsPJ/hpP8Am6/7lLszaOH6mQgrW83KDnAJlrNp/A61rOs1HSbCtm2IOUgMAfMBEqUvjg8SxYWg1AzZN39XHcqUwryetq+Uywxgv/2cR1ZrdW2Ia8uotL1p8wUCgMRHy2UvOlkAf+z0PLSqPMVApAkI96atmd0ucF4lSoptvjj3PE6A0LmFLKjUDiZTgh/vmJ/iY6LGrDDWstiv4nnt5YBoy0t/UFDm99AIpkcVtiHl7v8AWGZ5Obv1W75w61wmrArW8jMfbxdGkGznqb0Ox1HibCorFrqwoXpFBnW5NncNGOS5+ibgA02wAGzfjUbzA/8AAgHZab0R+0z4gdDkNOooHDXpp776vYRhWl0ZTojRp6Ot/Kl7/m33n0D7l7kNaOvABRHNwgW59r93K7MgA1daZWORenEqTnww/slYP2tsfBc+oeEY3ekSYfoU7Qvb8dSHWNW6fUrsLN0qr9QQhiJdJmIAaEodSakSwrL16VKXfTTK+F6vS+++ly+16V+DRn42H52b+PT8T+Kf/h9PxP8A+Gv8bT3V2P4CoWGTsP8AIX0vuely5cuXLly5fS5fTT+Wqgl1pvXYf4l1jRDk6V0qKFW66QldblOq/hl9Lq1i6bp5jYWcEhkk99XSCPW6AObCt06uqsr5hv2W06CbpCJXTbpYzdqWFNbRF7yPYZZ+qn7CEaSgtYLYqkFPPWt2pGXRq599+UEK1qRiUkKbQKA71zx2w2aJZ24M0GFoV0JYWCx6X1WMwoeRt0BGaBv1x0IzQR/XZoXlsvXpsuVLQp3lS7VZfHUqyHiH3FZ1MGltX3qBbAeuTtZVDbaF4hswV18da6Y4LoXHWtLl1N4xOOC2xtKb82Gqi6hs0FuXQjSL2sNbszmY+jV61fpfRyxuqaYSaZhRBHROxreYi9Mcws4pGo4gTrjMvjyqI6wEdmHCYyEbNDh+4GXn/UJj5LYcLMCymqOLvoRlmhTTTGol7crigTuRdP8A8jdnpa3/AGqCNTZ5FaSuiv0NDrvrCO1gzRUfFMpIqtPOstdU/RIZ45nvdPBM9zr2mx4iVNKc67StVeVXmNYVTJuTA6vt/uNCSmDAb8vJ22xDWy8fQNII6J0QFdCEhwRlBrP9Qg2ATRZVvjspQBUZWjLC/wDkCLSNUq9HQK5gq3YdFDoP9nR6goT7jOQoo3TabWe0qZRB3Qe5wxAB1EjqkWavMqKx5AD9dRezpQIACy0hpEVpnUgwApr4mDm5HJfuIM08uX9QOu63qE3FQHxGI11WKL3qPMMvDBxcjVIcxgWGhkXFTD42bTEzvnb1BUKvEDsarHfRaUmvG4QeGSnJpjT3CrGX2pkgRp2ORisW3rRhyFKiXSLvwGKDssr1C8TAPds5hTBoDTMehGvjWkLlYhYOgACg2671ufMLfgu37hmV7EXxLmMqfPqULbeMehDi3sJwwIGdQ2vay8EWudmkAWDSCDx+6p33XX05gy9R3LcXqzvcQvq7zdfuUmoAf/cPmVFDwaXzXY9UwfA/1ATtGRtT6iNUqlqHmbY/iIFYFAS6oopYPpWlbQilYROyZxGxYQB4+4p0Fav2VzK3uS3mwnk2kLTfEpZRmx5DzFUxczod0tYVVTpWKyB4nhMc7KpfBpFuWhAapFel3RxxCr86SBM79chV63lRAHk6LxzNYHMwub2YBRCl/u02np2Db76DSA+pwQwJMGsrmH2xVdVYNSFg2r5lGXEMmaZdQ6hpfiPuMQDBsmVR+xCVrzVdUqM4cQjfFsAeG8cvEpNYf+IOeX/3Rsii1j0MzXENAoOiJaMQejaQHHxqogyBSM4+4AS3HrBq+xnOspUTunWu7/cM8GLezA7COXl4mWLktr9zXA6pKwy+5hqo9CMH38LSVAYrQj1v4Vo0gvt03Zz6vXPZoermYNv1YdCXL+Bd/TLaappNd86iw+llygtVpZK29WlnyKJ2PfX851AMAfCvo/Bcv4MbaH8w5evyG/7lfCfgX+AMWhb6/P0/G/LfS+ly+l56V19FS9iCrdZfyvxLUPCTk+bXWKadOr2XL6tC1oh4CO51uX3310fgkqbx/o9mDjPe+IuWvT1B9AhHh7sLGgf10aZVjeGelEYurJg9svapo5T4fhweZeMWzSCJY2digWsAtWcnXaeWFukYI12WWZLk2hAPoBPvrUZ/lnmtA3MBY5c9Q1fgXnsTAnu5NYuUXkKbJZxYZd+YQgCpRXUNtl02hzFlwL7DOwu+vU3SUY0plKAC7imxdHo633f3fE950/1zLNV1JpQ5tPhlJwPzXGIobCKfVCF9dT4GKw+Oq1kY8SMELh7qyUzaKP3GVXyus/3DxA1WHrPXZkqpRwF4KiC4XRD+odM/2m0x0W0ayuYrq2tRhcNE3hTTKMV2iq5jV3yuvKmaCwJ99KJlTKsapvMIlfazfgUxXseDVFmsZnNnL9EVLFIuHHuChMirc0YmKWK1zp6w/wBBjN8PuIPKrYOEyGgvKEuEC9gax1Fzh4bpq3jtWDRme99mh4KFXdU/06MNrgmM3kpcuxFF4tbkdxO8eDR9zC4r5jxAWocYj6yNvHh7My3awOeYznOvRKC2tY0KM9RYxBqvYwErdT36hWoDFsQ0iDQsj/Uq0F5ajMMsxrjyMx0Ko8nUR2f+YENhUAKKFz9/Az+78Kqc6iz+ovubNQOIeLBLGnEqoRB1Zehh+vMtWqjT7jmNeDi5kbmhCta/6h2+CfR6gawX7YAFreejGLJiqsZ2mGPSwqc5iwDoT7GE6NpNXUvDdqv9sT2VbA8JqPbDTwTb7Q6p56gmWDaa10su00IM4TXMkU27R0VK63gwho2CGCm1IXcN+JkfoW+ECNKOpMRioqa/UQhjnyc2S4AStqeLl9XaBdrQ1NCzRTQpkiACOpAAr1EAqmZtu00HvPP2DCeoTi26ptfcELzRSWofCFG2oq2/z0RBY6kwxY4Rr9xcUJpZ0wlM4/AQJfIr/wBFxy1Tldg4TXc1EsSGDodf5ixQWvkax9T0giulyJ5qANAHiVgAur0ciO8rat1bSIGN3dM9EK101aNmyV2Rrmu7+6V+DcuX1vpcvtbIJpM4CTIcK8BbOty5fbfxMv47+VQ1fyX9vV/DXBA6DmZlNS22al3Q001z+OGIFq7EOJO5Z1zgbGiKoVTT38CGNvyPQFLhwcHafCT9AYIobTsvsHUaNNckxz87P7Ol/iGHN7pPp5YI2UavTXojAujY+5fJrWezjlW70goXFR4Ybqjpi4rFgsYO293QxhstQ30DBA6NPc5kig2ahZeJovFHrmJEVPmNvA2uq9EAWJSSkvg+ug6qNQWYYxpNqd8Rb34wini5o1F4I3TS08+fUbpq7OSzWPTvK6qyo2ujWak5PJDGoLsp/wAwMwbqIKuYt+4eI7qZ7kBtTX/Qe5TqDmuyHSt16V6Dli9wcywERdIftlFA+JC9VbqH9Oh4PEMDQn9zMmGfrEOoul1Gq5IdCUVrJN+iGyS/ODDo6QNI27iY4S4pUqHaL4DdmfVtnuqVKlSvySrT6hbMTu2utC92XY6dhytZTLXV49OJ7Ts16dNpXIRzVHVgMaBauDNQD3esX1dfWwZmZJ67YB2dP6nswa3l/wBS3SYlb2bQK1uHU0VC98aXdtYT1kPDglYZysUe4mKdj7hXDLQHozRst6BhAOEx1wTb/pvrVdW8GMxjTnBHvXgS0vIhLFUlYvDqywYbuLd0MFKErdoHU1wwG0G9WNCRpBclv+CH+rtNV59zTREO9cSw0EG2nHEdQAA6Cbs10XV+eCc+ngOfZgGUC1ZyRXLzPRcSgsO5ABqUojRqkEzV7sYovAbZ/qBGxJAsOoaKnF3GJg0AxiaAuUP6+pecLX/RDzYNimNkVsCZOsVSm9Tc0gTYJik6vuu8tvniYZW2fS9maioJQukgozjR7nmCk5Dl/qVEA45lq+T+78bFKuzxDpC2Ol9HrSi/C4FYDAdKf4UC5YZ4E0ENpWtM9XpU2Y6Jh0vM8GxZpLrPcHRBESxj9YNR64m9Tf6HRzTgV4tq9gmqif2f7/D/APnMGGhHh2q/iBR+Z/d+FfYaJhQPbL7wRdAth9lan66NYC1Xz6+B7obVwHxndPsK/H00iDLC/AuXL/JK7TsSF9MyTkgSdiL2TYokUOK/F15YDcp5CxTsoNWG8oXEIirb8G8yBjjijQ5jrZiF1jQKwU3dA1eL6XLh1bbkhwlMe2orB5O0MmF/VfUJhYV9Li4tleQ5M9gmiMHC4KPD1qCVZfIqVnb3qEGKo87h1ztdgFq+Ioihcej1NCxVv+EJR+gXsiucvYXLm2O/rZhqUip7mGYUCwPDftoq0stqia2j3MbI9w6kmAbzPdZS+IOvHQN10psd/cAA0YmzVY6ZaXI/qX+QV2Ioo0Lp5jcABp/5lamq1ioXPPHvOoZdth04Jh3TwAbEp819+y2WukCwGM0jFeXM1FAsL7Eqa4g0b0QgyHksmksWOHEAH0x2PqXYlOPX/wAx1Krt+ji+SWlvAHlh0zH/AEtiOAH9M01kfxPMkTgKlESL2XWt0W7YmZb/AMpfw/dJsg1WTbmClVmL8QA3NEUBH3rnzCsu5jtCaxgu1C6+5V2iugLY1L82Wl+oQpLa+DVSgsLiaCOFl2+Uu5XQiI6S3DbZRft0WRx1CxyED3KVxS3SqJnOAjgbLMaY1trE6RT0FhaKWgWswlEoK6FRuiuyo1mszC8MYs1qawjnTaMYeMoyMID1FWjZoxANqYJlgazSFGNwP9kwgv1DMCNg0yhF+GmxxL5sXZllGho3Aq06fmAIblQuQWwOFU9x9GeS4fQB4iDqdHlQ8T+gTpQbQ+iHCXAAoMdb7pP5hKnKDiMqJcIdsYpfEVq7euw3US2NnlujgvaGnn7OqgBoT0CDeYrMdLmqzrLVQ0Bd+4MznzzlzB7L7fYf8xswlK0hsAUB1KqLa5ljGGUux2YxuyrZ3oF2gH6gKuEf1GbFnBbddK8WdoFATzB6A9S/AvnoxJVBagDBHiVM5Jr/AHOy4gd7C/cVoq0eJaU11iwVH12KshqDhi9iZb65V0/8qAGhUyhvC/pDQoCif+SwSjD80upOhaW1r3C2iUOWHyXL6k1YwCsDTR9vjfgRBYlJMayxtv6+NsBSONnxV8ty+l9xcvpvd/gk3SF47Q9bKg2WTKYqHCwSfcDkErLZOGkcImz8Z6qoPrsBJaacX0PgJWeS8dz/AIK+ly5fS/mL/DBaV98cQl0vAlb0NjwxGSoXnD3A3nEHGfDCzzlbw2lYs/2TV6JcUUsM7qfuC9zR13dS+KmP5uOdMtHkxcy4IXqvRLFBpr6I2ZIy1ob+pQ3Quij1GolL4RVRaAGdeORiBaYfzhCcXffb6meq+iPIwgNy4WuXHhwOlpyuLB7H/wDEFxcBW003IvjecEmRv00Yew/GIt6lXpJZWR9x+zHVFX1GEeZk422rKvmGo0qeWCcPcNRBQE8xC6ptEwv1KFLmN3weJo1oD2Qb/wBHly0W3+HT7lJ/TFYGmApbXqCf3Tq/gv4Nda/IL+a+l9L6XLly5cuXLly5cv4n8V/Gr5w7A+FraUrwSs68P4pfrpyzL+e/8RfUvuvpfy3xS1Ef7IwORhI36Swt42Cjpd/rFYvrgYsmvJ0sYF7CPvvOCEBsFPQbjwzRRqsvz69KA5l4UP5mnpr4ryxTSHnNLoPkahKlfk3L63Lly/iqldlSpUr5TeattLBgY2R7g31mla5moovmZ52HnoSzzzUHiEpysVj9vQ+47kXh/XTYNAPtXErvB0aBalrO8rC7FZoQqUMm1pr0jYi1J9mYgA0SybFT93M1QeQ3uvwLl9K/x1XSvnqu5Gnp6KHL+jd9Ai5OhALx2l4StecQP6lvJV6VxDBwY7lOlourKfEX1BoLvcANIglJiDx+X4Vy+lf5vv4bly5fS5cvpcuXL7RHR+C/gSAHQ56tZ124vmvsvrcuX8DguAEQMPNfNV3CSAtYSSxLHur47ly+xm2uStg56B1vqrXWvbqOOSxcdbbXx1JTQLZsN0urliWjIXnRHOLVa9S10U9CHrtvVw0PMQCblzLGR6J4BH3XUUo3Djq0VfWH4HuwcFaRPOnK28xI5zielZ331yMsNGuIW1F3wio6Ji6jJKCDZLQclnIlZ9/hidez2mT3kqafOiarpRDC1RrCXmaYgtC2po0uOqgPOltSxbhgYTL5sH89HAwCdLYGO1YeGuqU65cQwXEoghBxEcrBAZi1vUO9Pqsq7Xq5gLUKY9XESiwGX8Ff1AnGYpdMCLDDz1rsFR2ZMxHsQlLbIF/oA+pXLFrsLH3CITaj5TTPl0XBHSNvR3oN/wC4pmRa5mGKu/l/+OwgS3m/uPVk1+7YMTYD+0rgwE3i6MFiXYtXneLhxU8MJbpB5rGJchSKmYiRo+pr1WT9R352/wCjxL6Ei8IoIgLNSaQZjerzGK8TheGB2YI1a7DQ8/3KlQagdL6gFq7CDXQgZQ61wwmpstI9R1SN9VeetbF5JyTPpAxinaaxdt0XX7om5E0MdZVfzHtVyVuuGYShHKWKwotLIhCNncb9t/BujTP0TQ1lNVn+mKGEuIdIA/D3G9HEWbD1wOkw1hxKuUDJM8nqH4ldJYgikD4RmfMOLwXFF+k4AJYmtk5viMcAjYq4aLW7xQWtEMqPPCCmab/2/U9swOEjg97LT3y3KrA6AOZkchvEuX2xdpLYrPeq/aWM9pSoY7iZ7CUNzd2z1xEALx8hDf3MsnfUV6piQ0WNOTSMzmK7/ARRedp01jzbAhAtM/l9zUzGwxsrIJxv0MbGAXTyYQFbWXoLNqEgdRLavQGLEpIutUq1gcFz2n0Uv3WsaAGsHHErt0LfyI0TizF91FViBagHMdkwqELtct/bp7SAKoppNa02D3A1dz/YEhwjeav9ylrdy08xDfoFeuI/fG3uoCvpdffXyAVBnFn/AIl8FC9QwqUlU3PM3B4BUCuiCDoy0VzTCyP+f3L5JdUjTaCVRvLeaTkN20XKRUqu0qVK6V0r4KLGtOjUyGR0lll+Jr6QJpNWDD2COP5LKOIL5dEEpBOIUHGgkZYIUbY4gAADQOxOZNRgYQaB1AaAQegTzBqAPHw3+BfW/guX1vpfZcuX0v8ADK+S/wAS+43y7qepS7qvo/mcagSiznhgIlnRycdVgiWdSWxU+DPagFWiIJJQXcOGVonwi2CeOrIChZ5gfYK9XSUBllmorGDgb4LzKKCMBWSeOl/CfkG85oasYGs61MQ9BuXfFy4YF9BadRgXs9UaXKdWkX0EotaDVeI91LvhXYEFsVMW5hFk+o1/3TwSxKzha15gJF6Mv0TNDIp1JjG4KbM1sXv2QCh6WyzJVlu0ZhCLSBbBTibC/hYKEvpzUQiGn9/QlQlEtEcCbwYabMDqaONKJQIFb+0p/A+GBkiXbTg9EsmY8gXXYyKGz5g9XQXgyz/+F9euus6he6GYgDsNV2hrJtl6T/oVCsU09rQuEC3t0JlZM1742GntESqzb9kD4yejMqauSucQfKyrVTeWUFVrftFewND1ZoiXxF4YvQuFHGYjDWjgJW6AKyrMz0CpcdBnYRR7uL/bzz5+e/wQZXrnvean6n0Hh6lOcdvTZGKnENj/AJ6WsXgMqvqb8IiW24mBhin1KmTo0DTzCPCsa3AdWNb1ep44NJZA1k5crNSwMajRn3Nj5jW/SCtXs0M5YOaK8G/3KkscZSxGpfR539Tgalurd+oa1u5XekBJiZmhhiIfrPnzA99dLdYqkEab7EzgEUw1v+55fvV/+Zm7toDtpvBRHNWjz4gbYVv01K6mu8DeamI2tPqtJgKkqwHEAACg0Jp+RprjBWosujQ8Q6Uq5e88jcdqKwvHiW3CXyXqe0ZXnDXpi7Ets5gIFsWR44gvIsBTXC8S0dPAYr1N1VMKuczai4pfUNqDzmV5Glpq4rZGNtwPgetNrEBCiw50S9+hRpPK5silr7ZZnjhd3QmORtRz4TCvQNYi2Wm3j4gzFXnn6hdAVQMrxLilaK9J/HJh/ENBQaEcQGB3Pwq+249/8orX3NseEte8Kljk+DoAhc1azFBFTRSZef4Z6OFTuEFWA+uwBsOt+OlQDQBBwKmlz+FwmLuZMC+Zc/bPF60XdRB1O2/mvsvtv4bly+p9tQ/8vHYfBffcvuv8S/8A+AXmz+ZcuX8t/PfZcv8Axl/mt/HcuX3gkE5PmGu0BfbAP0L9uwrw3rG3vuXEzlJ4/EuX8Ip7LivFXfUmWgRinMV6/Gj0/bri+1THV+zM3mtJYqgW7ugt02XMAgkIwFVA8RpMVty3FS4ilFxiKGmYFdhO7wuaONTscXMQVX4kUDVH3HteHfzAAmj1WjXPUUNWeeldESAcwQMcmehMp4Z2rpxG6UxpvHbYTlNRBrAT76Fk6tt5lw3yjchpox9y4gwbGXhYezHYNl1uEMKyTfEC7DmeegBa0QsJHc62pB4LZbuCyXLpgNR0+P5ZcZQvM29hddiBa0dAORvoLA40Y9rAyyuq6rjlIbgMMkrzmCdVsLZoBFkyUGJYaVU+vjbz8ZGtzW4WPf3H8DVBxqmGMx5rAItO4PPqLn4jWwMtBm9/6AmqII9MMXRdR1MNayfMAIoJ6WFW6bOpNAKTlMGgQ9E0zhQHCMT+gJcxKEBl6AiwFy7dFKXRxTBF11Bsp3JoLKs4bcpRGsBuuCZCCvP/AKS+g1o141C0KgOM2a30cC+I0KGjlEt7+kVVsNfS3qNMXL2sBdaXEQUW3YaQbVypppga2BG3UmmhoDppi4RYLaE9YMt4fUpS3JY9kNflzNuxE6leuKr31aNZX8g3Y6iJdG14HeFVlMvjd0IlDfV95URu1tfwmtAs+tzAnFCjsr7qr0WQuD9PBLhUtu5hBVBNcvZ6jgtuDN2zGejUB0vaBYdHxk5edYPCaV21bmgC+X0hxwBF67sN11Yo2oEN6YH2zHUob9KNamPAF+gWsy70VNjwjtrH/Ow3LnB+oq39s4TnEnutvqG0nY4bzdrK1/cxk6V52k0nQxUWd+V04p2lwmllfwgKLhWsBfm5pDrUo3fMr4tlg7iU1dw2r9wxy6g1YtB9VIm5I1tzHSNreJ1cdWX+eyyza7YoDHdf2ULarzC7GVQotux2gIfPuCFNCqlrY2ukfqZ4zuWsMTHynHzDVCLYkvSqqhodqmd4+a2UW+0ajzBOy2z6IutFYHJ5rrZzFm7dvUydVjwcTB8Aj91rDw0ys5alFCu3NdKzx5lSFcQDQHRaZNmFAAx2ZjCDDQ2iegdbzF7EluXZkTkZ8rjCV0O8agDTLXQQ3yK28vRDgajuPJMBK7q7MG9AjSfqHgA2iYNfEC0L660NTWkAFUroDoCBhbWnJBN0tclmpF0OkHvv4oetAP6llWHQJAi1mhhjSGUQ8wAUEyRr13PqACggqwn118D8LpwgD2fLfS+9Q36X2XFAtnlWqdPmvuv8i5c2U2IWBl91y/j7/DA6NxQrPRGrf0j1qlkoyKzSSuL6qcYUvM2YJhlOoQjxkrKYaHxB11ENYfKPG6d2NO5Q1ehjgC2oQWVNzpgr9c0Sh0hUao27hy4BeD0UC1h9gniUtUMSIP8ASLd1KPUWadh++mFmHIm3kDUVmqcIhSJt0Q+4Y5S4wQpxAnU5JcrUCWGng7Frr/G+4VYPlqUq6NEih5SrASWO83WtEJ/2tXSioL5mGaN1DIi6H6ig4s9MfN336d2hcWbGmd/MuBSgfepLKHFIFb7fscTJF1LMzTgL1QXZ+j5y+6yzTFbMAABrxDbVnRJVxkviPja0K5Yah1u/ZOoy4G9n3Mm8ytT7hL/pWHavOc7HrZ1Grx6qtyaSjpsHJDXWUngqE1VEhoOjBRBxNGtaj9MfASHn0HzWemqMaLdXqS1OMGoLwxR3xofHqU9Ibbm5NqkTRMQb3RDxX1Gq5/qUkSAVncNwRooCBgo5hYqWll/SOtBsU84hWZjQ9QM7llM2u/ThzJ9NzZpZNx89DlNbL6rsKz908pdDOt46wWsdJ4hodU7q5LKbXjSD51vhDKG/g/SNd1mHJszR5WXi1spxeK6Mqk879I7B5ge5WniFDkPJcw16RuMHEqmz9zVd6r+zmNSwT0ISvjK+BL70R92RsdSW5FUDQPNQ3La0bEb9OWhPh4izG/uCWwJXpVrpCwoFcJVQqhCz9PQ8B9qmyNr8vNyselAfU2xGx6ECi28VHHHlvZ5g62acHmCwEKxj06klWRfPVIuEIoDEpuOEXMHiAgKHMxVSg06KoDvV1JaLrzPa6ix0o4lDYCLq46oTRh7qDQ6XP5sRundFS/Y8B47AikdReGW/yRGkrfW8BNX/AIwmt2XW99BNXlHBBTR3iIE40d5zfdmbUviBXSglG16vU/mZKGNTbbVzUXl4GXqwWaxjXTV7cQ/wOKiKak2pwuG3S5fy38ly+l/hXGplGRmLoCiY7h+K+j8/UqV2Vyk6YuO0T6ZWb5FhN14niJ6b/uUPQtzcQAbHSawDPY8SxMdStx9VW3Z4TfeN4mRNYd4m5mLEg4v0cBWih/8Agr/A7l9qZa9WMHlg+zWjdYN+Qzz5j41TTvTmIAXg4/8AjNGGt0HMSpZy9kNY6O7W5uImOPlgg3zSXaHaVQW7A+4xSr09zmI8w51fCX86K94G9WC2tcWv1NFM6Nteg/4Kn5V/5vQCJBCPriMAgwZoOMQKYJVTb6IlHMymZQkl4BCUovV3Yvf5FZ+B1m2u2z/ib1TUv07OL7nz12s0PEJJhO/T6VKlSvltgHh5r8Fy+l9Lly/xV01/YzWDX/AP1A/11cDi5bovIg31Hjq9GOwrVLUBAOHSYtfhv0zU4R7huaBc0Ck6VBay5+oNl9EIOiRN/wA3NO/R7b+I7haBvBAt0Zo0vBjTB03X/wBjGUDXEDRlj9S+4FnTWnCTNTR+i5pgrdR0LXepkEXkh0u6w1Vr9Q06oEVK9e+j37n6LT7Em/Z0HWd3ljr6ER8B4ToFp1WWpwfI6RV/36LLsBb0hgQZNOhtwa+4S5wPqGqef1fMHDQRoRwGZLvaU1BTrxNiV/aAi2JptNnpJw9k8WYlkNWPZlnQAvZS6JoaBzOSCmTAhqNNMoXWpi2EzXrvCkWtfs6pPEJVIpSt8ZJWl3zcqYZ66f1Aa6NPMtJaawDFrOulgoMBRVSuJW7KHiOfyvlrzNGH7pYaQnFlB9kru0fxbL50SgaYvTvjpUW2PB0gASx0n9jCXA0j6NyBFDoh+4tYso0k8zk6K/3Ns/sW6XmYA1Q6CK+nGENDHUba/wCbVXQyuhfVVDvU+kvpVzqqf4J4vl5pnurp4Rh9ugX5sPBFWbaH/aoRjKLQe79kwBgZsIsrDy4ImIRVsqVm5quzhjtgO/Mf9wAhCdN0bLfZDFlyqezKFYVNyKuO1P2I+YqwiHA0bJ5PE/6hwGkoTSZni7PE21Zwx/T1DNYaHZyxBvmA0VeuJXEeIkGjfe3WNYMFj4yyqH29+h3PS/lF2xNgzzAlDml9vSl/Pv5IQHkMQgEjj9r11hnQK/tuYcH3K9Ad4NNfkEPmFvLZY0BhIRCyhdugFATzAFBXc9FCuMnhOmxtK/E0xhTKc2K/Cv8AOC+57bly/wD8OfBfdR0VK+e5cvpf+evsPhuX2afznfcuX+Vf+Evq9L+C5cuafyV3V0O6/mv/ACFy5cuXLly+25c0PgetdK7K6181/BcvpfS+l9Ll/OplakMjRL/CzBF1+ulEwlRjGEfUqVMNWU4grtRq99xKy+9h1G0hYePgel/EjvAv07FroLWG2sSz4L6OE8Eoor/XsaHmIS5fSl1tBLpK6QbBpS960uFjrv2b1pV/uf8Ad8dbnfRrLQ1qDqRSrYxcpUPMsfi4TDTzia9sj3ETdi9ptC+OiFWhfTYuF+kxQHQVejbwpa2fabTlBjkXPlYBPKQob+XPEwWV3nYlva1JVhqeHB31NPqyVWmCik4veHab65BKUSghPDK01tJx5YA5WPfXnE/eiLdSvrr5RyaSws6OJnFPcMdigMlQLX0Le+gINmoAEbHsAsD0JofardVUt/b53qGLW8YXFtcEpkIGwhLtu8W7F6XNQCC+GTYqqwWW5iEE6EPyulxLh70G68Eu0FWoJXSpc1b6R6RX/Z2ZbsFuxMay7L8JW6tBQhw7iWj4WWxRSl0IrOzoUVLWl+bQ3kfZ0B7M8Ura/lNhMvxcDn/sYJnA/WOhH6ln/M4bH+4Q0KqevqYRdDZkh1HmKunlhV/VC32DaZ2hxgDml8Mvcwzrw0lEgtbqto4wsgMHwWN4mvpAdmDwufdyqYMAcMsQ91OCXGlwT+oyTV2hcaiMy6F5uD1BeunzyTzUg5HDKXCqK0VBR8Fg66gQB5jUoYuLZWLybSrWvCWCoCOVYaFpc22P5QhCrLyVVSi7IhtiHTzhUHqgo6YWNeXVmw/cwL90ZI6nRrzX/Ep0Yxg3rQHSza/yjvKuh1QkH/2EUaBa9/BHUYEvli5r6PA2xrbX/wAUNLY79AFJq3qoYr5P6Y+xUHfZNFcP5DEw+VHCIUrK8Y0/cUh3aGKihF5v/CCyJx9jEVzmsa52i8ADwVtBloam7ySvdHErHE0/R+W8roFKdxGsInedWIKjQxtwyoqpZ1CtqUDLUtc2N4PVeyD5WmAoK6W3TSEoGIUuHmFTrf7S7qLhmi3eg3HgtW7mIIq1p56XEosMdKJRx0o0OoFAfhvpfyaHUWhcENW3uIACglHSnRi/XUemXazfx1tatahS42dOOhJWtZn2ihOA4hDSNPErvRLN8iDKWml56MOy1+DCqBIY9rxPOP4uxlc7UplKB5jSUwAoMdLqo6CYitdmVqbWkKQT900smgQ7epREEpInV/qGgMEoGH+HuoAxZq7Fy5fxWDpfdZRHU57Bl999b2w011uD2bWbqX8V/hMmzHt+K2oa1igLLOqmvbaW0j133i5iEtC6qWM6MviWwQlCA8dt/Bodc9l9Vdp2bTFm3/SYsW0mGxxDzP8AuggHN9xrMqou1CvI3RCJQ62dAXvAKiTdSPrsSl1qfXR9r1PqaQbBv36hMiF5Nuy564Ubxziw3tmGnQRKnjoiELdDsdLX/TraDnetpVmxV3CZ3FmxCc0C4YeguedRwqiAsNM7wRr2BffQ6XNzd+mJZUejMr+wYR+gPX2B+0IybDPJFK6KqoFM3+cd1qewxK0B9gJlMNX/AGYe2MHtAEvARLkU8LyqG3GPQ8TNVWo7DLOPFpFEgnplQJrsjV3I0l4D/VgYraV8J07g/Crodztbbf7hGyim+y46Nc7BsSsvRqF9KUrSDQf0mlRaP7/7SmYcgx7S5kHggoDoAtH6lgFivbkY4BjhxrGrMePBxAG0s6hrqofD0Kg3J4mIGLH2Zn9LV7kN2Mry9L6aosT2RhFE77uWa8vqO17pBGNidnhmTsNheoB36l3ukekwAvJYXwBDqEVou1Hps6nEx/PYXvL3iiYwkh+jeXIzfQmVwHYK6Imwp3nmX4UOeurWTcTArozUopCFrzPAwdlCbG87GBjCmTzBEhdcQE95W7L5mKlt+ES3ZakLwF7QLwQW6mmEw0C18wASu8RKOzAUqv7i1WGJiqhlBOy5fawESV3juOwa8GYFtBR0px3HUDYmIAghtUBR1HMDfmpiytihnfd0Opd2J3jSUkGwHQLh0/x1uYWFNrJoBAaCMaSmeMgDqBiXz2UfgDwy+l/gZq9xj2Wn4ddul8DD4yom6fr4nBbAE26JZCTJ2eexmqIb60cy1eT8Fwl/l31PwK7tD4H4zMg9ygYmvjM9y+jKUXzA7K0ZfmUC1xH6ExokTtOf6YgL5dCKAroRSAKtYaFOu+ZrHO2/B7GhFbAdoEtYftj5esF+IA8U06WdDm5+0lzfXmD0w9XRYGmEQor7QxZEItDWZiiajhYCO/YLRgXNGERAALi8EprIP4GIJciwimS10vr9fvot8vDy9mTzEqa/i6H4RAlEAyy9OCWiLwTKs59gNyKwetSy2BUQ5yazuQmpYFt5Whby8UbQWyoe0biyD0NoT6he963mTYaf5qlqG1ANW41UXN8JRhtPogFigYeIJ2f6Oqm0Qw8TDyxDcYts/f7YmjOHyQlf+/7g3hooarxNxuHhGIzEf+kU6hhxwQsqjQ/3GGmZDqMxOnvWYqzMnlVisOgdIuCV0ZHrFOP6m0cUPcYGir6wl7GyGqby3h26111cGovEDrSXAmhX78uKkNrxdoVJoFvWBRzQeFu5eiue9e8I2pwFjJmo7gDkqYCcYv0lIN+oiJdDgKf8QkliWPWvpdOIda+auzTl96/Ex0GK7qasuvUojyIASJpjs1SJRCUOOMwQATmYX8QAbmgLC5jhMl0iD0vswyiq6A6rd0sbOdYoUSo8tLTZZiqsRTbAxKUw4QGni4DQGB9Tkqa8q4/wxJgqLaKjybTWA0RBKSGgOxL8D2VvMeiX+EvSbQvmDkV5gBKOimpACV2jzChoKDq6Qiljz+Lpw7rj2X84Sy1eeh+FfxX8Ny5cuXLly/zdP4HtPjew6gyUGrAJLExGSUNWLhM6NYfis6gWgOWF2SePwHpefguXLl/k6Xex7SHaOmhbMHRl1OKOEERoOzLIdOtZiV2PTKNxYWh0vrK7l5Opv7whqxD5jaYRlcIKG7OwKsaauWA9mnAaPEYltUiV5fsJowSHPlMH6oD+IfFf+KJpS+t9j2V0JfQ6aZSUyj5Wv8kUuv8AQIRDKz5ZyKpcDloP2iKOgXS9V/l1lYtX6h1DT5MdKT7Sa1V7DJAcEYUt9jeJf+kVqHJn+t9LmtplkAPFef8AB3+ETSmYX1eu/W5fSuh1JTsBZpiHmf0SiOLzB5YhLHlPDNb2lOV6aXkCgIQiCI7wUMpenTVCwehXwVYk5jkssYLUgsgOIgyn4V/4MZpSu646919KlwYPwX1PkrvfzLl9r8Fy/i05XSu0Q6XL+C5fW/8AFX1uXLCX81/gUHuYMew7789bly5cv4rgFjcCoFyOO7Y+h+0r4L+V86iGTm+xL6tUqtfR1uX33+HfbHqOh3UAtYAaVTDmiz1JU0cHmLpXZ+dnZjKKt0GAFmvjodLMn6xIg7ikR0MOx0YdHNPply5fQW1UKtWQCbf8vsHG6uzWJgK/aKno/tjXG2zDVELrxMEqxaRJr0IVCMLEE8QQrvjM0i+fCAQ0SyLNDTmIlN0Pb0Og3X3xPq4HLFQAGncZRBXdVUzTMxuSRylDVjoMKvghtuD/AMzO6E++1cWXLl99x2ly5fzp6zodpKW+/cQXWLu/qUsD+glXKhWsHdNwDpUair0kEblxrLBP1n9QCCb9KEOYc9NeVw4MVfSZ+zQlhjjEUi8+Nx1dlo9YTLu2rqzEh6ImiUS8cx9K7PW3lQPh0uVionk5lq2dNwh0XS/bWOhYmOo3n+kNYkoaeRukd8Xr97MD3Ngl30zmp4RkmSr6E/rPbBAj+ic73n/gj4qit7jZcpcBVK1nepbAeF53lTcC1Gl2LmrcmAlPINFhe8rPnaHVCtaXgGt8HQZebRQ2Mt3+MqLKcGniGv6zcQj6QeoadXXqnVUqV210roX8B3h6PRhB7CMRvuLhlJ/EY40iFXFkFfMb2TfVDMryejEGnmHCwbrgfceFi3r1MeG1szneBcaB+ujU0PMwNaVaHhMV7f7dZUlemyJl12WZIJYbLbllqzr102NntU5s35BKJtQotuiE7nMohZMWyml5qIgjGkBQMQKhR1q7CAFBiYKqVbRTaUHwYiraFyiqmqr6gYBKL6qbJ4iUSuhXKxVbSutfFXSuypXcTQ7nsEvqX0XL6D1O24MHrfawQGmdKY2oQnl7r73/AAVfMdCaXY9XHY9ty+h3uZXQYfBfw30vqy/8iqMvtYx78dKh8Nx6HQfwHtZf49y/yHjPOnnTyp5086eV+p5X6n/hT/wp/wCVP/Cn/hT/AMKf+VP/AAp/5U8v9T/xocr9Tzv1POnnTyp508qPKj/8Kf8AlTy/1P8Awoc6edPKnnTzp50eZPMnnTzJ5086eVPInnTzJ5E8yeZPOnnTzJ5kp3Typ5X6nnQ508qedPOnnTyp5U8qeVPKnlTzJ508qeVPKnnTyJ508qedPOnnTzp5U86eZPKnkTzJ4meRPKnmTyp5U8yeVPInkTyp508qeZMB/wD1ABT2ATyJ5M8ieZ0HkTyp5nZkHac8yeXPMlu7oDmTzuqDyp53SeRPOhzTzvcoMPK7gEF5XovL0XldRjoJ555p5us3mnmjzdJ555p55555p555p5p5p5p5p5J5p5p5J5p5p5p5p5p5J5J5p5p5p5p5p5p5uuzZV1X4tPtp6VGKmvy1ns3ld9SokqHV09zJIPI3OqhqwGNBb9TRtLO4+Kv8AvitPsolS6C0o8wOZGa+/R8EN2KE6a8n1Lioxa1FYxZa7WTomLxTTddr2x62gIBMgq1Z457jvVzYjtFKh7PgvqmV2guA02+PXIbT+ozIeoAAABoTSOhM1pvsP8pWh3WjG6OjRB8FFNc0dM4AIdIasz2N6Q0+yAco7OSumx+s0NyH6mk+3eWW/uNS3s9vo7VrLf1D7vH9zYOtNSZdxNWh3Yl37ASoBw0w5hkvENLzxBVPFuwHS5Vqg6gzOozSHN1seeJf/q1NH9kAuoNmvsPEx5zaJL63i24i5irlaJCXeMxEsV5ja/MbBbUVKmNTF8Uw16hTbipdeY/bi20wmIU07yw7Y5Zx9Fb4xHiorah0fUEhQMEHVX+2YiBSGO6gIq1C0GlEcqJr52fO5ecDR/6erGGxrO/xl79t/lMWfiNLuXP98raIorha36ZzUfE4hUPA3Ro+4r/aw0Xy3Cve5WtdajqBBb97maujTh/1Ft0XpNvkjrwtzT+3s0zBev8AmoZu4Lci1sX5iPQuM8DL8R7h0OrriyYfTEC4zALPXRRxR4l3C7BgygOm/QHaPg5ji3KEtCAvuFcQQBSnEABoFEvKoKWEx+0t30H8sMH2LWWj3zCpg9/PAe4ba6nt6fDCsqG3Lhy8TIjbCX5IORivAeDifWeQdX2jOilLbr3O8+0OqngdInyBq5f7mlMuleU4sgQoIhLkGxdL+o79Aj9xyk4lR9Gr+Fe35DpH8S1d6+r1O++o9MKAhx0JNInkOxQ3g1oe2ABXoA7b7L7LmJl+Wfnzfj8x0Y/wpZ+tjFZ7hwf/AF4n/b/8T/pf+Jb/ALDf9QV115aa+5Xwpns0jX0f2T/0Gef/ANvMBx/2/cV/3f5gfL23+4HEm/xqT/aLuyjrm/8A8TDkXwv9yx/2f1OL9N/1BVSs86/7bS/T7R/uA0WwaQNcuemOtfDXZX+XWR4h8T27/FXbUr/Duk/gfi2fDf8AhM381/4B0Z/BfEa/Fb/Ffa/iX/hF+0/JjkuX2Mfhro91dEz1SVP6CN+ew7N+j/hP5p8QwTPbXSu061K7qidre3Y9t9XX4a+Db5D8b+n8Wnov4H8W5fdRCj88GF54/Gw+v4jXsmfwQc/Jfdcvrcv83b2FXvX438I+LQe/gt5OB7mPIDpugzNTUvPRwLHwQqasdDccAcOlR0U/8u5mPBvj5CmH7OjqoFu0HW26fWOg3W4rHyK/A3/G/gvi0PfeBmRmB/8AscXLljANplApfaAhxWy6/wC23V8LT/cNliyjWPzhcvWUV6BioQZfJMtHHzqzhn3AAaBXXVLY91KZNzSUE1IGqDb4RmWfXbfo6lctEe01YgA2UM8VV6hcrG454ik3LypyLL3bWTWGMplLUWqsceIyHq73h3lTjCYW9k150RQyU1K/AAb2r1Mx/sNZmuQALEWMbegcG0yVVv0q+iIAjh/Dr8A+b+C+KoPfeWMVIzXsNm1yuAMIyukKGDQCg6OjUuW/ebZvUp1HpBdeC0wVhV1uoCL8NNjw0lbXQOsbLlx6lRflQotv++oIWJSS1S8hnG18RL6U8GEoUjouq4erm0daBVtVpfOIi2VWTzesRcPOi5Jra1/6zwRALAlcE1tzGwjApZoiv2ReLvaD0mK+0ngPATEb0KXY7MAqQbCVb/fTH/ltwO16y9V6tTYvEExugv1/kcfX+L+74DRb+26X1v4B6rN7gLaIpzU3HkNvhv5N9fnrPwXD46+P+I+L+/4mX330x00767Ul9D4HpWO6pFyMLFVGDvWsAjRBPx1fN/3fPxCa6Ero9iee2pi5+ACuw0oXXk9KSD3YxdhY+HuTDWsa3yYi1RdEv1ynclebrFGrU8EZRb9xOrFBbPUrvYFwRoPnqkENQcnYGG3uPaYmt0BdhcsF6sC5GrHQHOIlg8T9Y638h/gWbl96/i1J/wCszxCCZEWeEIHipSeC9NqjT3r6RNMx5lsDEG3qaFyDB5+uZf5RXzrDBTEripw8yxjQp9RuxurDpDLwR3IbCAyDIXlpNRpbmx/qZw20HqUGyYD3d3CzQ4dCzXqK3QL9fQNIDStwqAPRTQq6mu4aHTM0VOPn/wCXQiCU3fzL+2F/QxE1kg2TqKcZD45R29e9xyYr4sn7EL203cFZPZutxtaxR1HFRLzRB9MsunEKBzPATYa/6l/4+xX3+G2bjPASlSJtP7JiJjRWzjEVqMFcY0xFP6+G3eDVTRcXKU3pOUzSE8ERfwpCQKAwRAp8GsXw8TH4a+5cARhYGmsuoj/+OLdGgsKeVerq2VcICDQMdUjD5FURuR+n+47JjNrqGQKY+Z5hWYetKPiAzkNcrCYEWjQ1mcYWByaTWwjUybxFAVaDWBRQlluG/wB9GlihyCI36wuIgDDDcBtdy4ru8F/xLuPeRtj76Ounv/IgNQ0DBNRXsgTO4spCRcQTcJqsAfo77/B0ly/j/nfzvPW+l9ty+1BBttxfS+rUyajAqgx3Y0i7fPdfxgdH47/Ax+/8jvq9UB2ukO57Lz3HSu1Om83lfBjsOlqaq4Xi9eh0rrXfXfnrh7fxan4NfDXfXSu0+ERvx8L8D2H4l9D6m+LX+AZFKXzgjdN9SxGRqRxGEOx7i0K6EIAKx+Ow9Gg5wgw+DWZgffdfwjqmlm6uZtD7iu5789IPrTNdgCxHpVEOTMvsvsv5Ky/EavW5nr5LQqmkqQLipWMXG+Wu04XxvX89BfB7zikR0tXJd7TbVa4AWO0cixJnVOpekBFhqvPnso2GP8xAWkMUQUblcyh6xVoVejSAARRG5e0LNevBe7PL/wDpAHVf04yg1YDgKJmuIXCc5kL4GV7XUPSmdFBb7y9eMRKMNy62ueegW/Q9cbFwGux7jltcp2RoyzVV/wCm4TTwAbvaW2rZ/wCgxo5g+wOWZeEizbNhtcx0F/8Ap/4lHyF2LlVVXqOYIdDQiAh6WyymmZ4i1TOq85apeJcWZrlKDjA9N+U1HLFtNpmW11iAiYWtiV/KZ7Zmt9LzNC7QDwOKjVCuGn2iQXVcoM1TLCKq6rF7y93baXETyYd8Euhck3GEmX40rdOxM1y9alrO25cvrfxEP7viFPsqY6cMF0blZNOq4n1Km0hAeA1SnAOgisl6hTFWKNp4bQowpsp/uO+BgI48ywCLAXW4y0T6jv7toABsdCVf4WhHdYpS94/pBbHKqm5sVhYHJKHxAzMq5ipdMRefMLByYWVkN/ua1/XiAmBc83/HiLsWWNrwl4g4XKs4HlhhnkvfJ/8AYKC9OhBn1Uu+KZRkSlMew3hohZnScl8y9fFJTI6bTgJz2NIElOyKbwxYC028XxEu3ao8rASWP6cQKdPeNo5IAzaGQ5bdAeDoViP1S6VcFC/QYR644BTBEBN6aP8ASogYOxMrxWyGbwdX++tk21cIKro8MA6NVi4eamwFp1n0lUKFPJKSNMaeOixQUlIh4YqnoNWOa5lgKl6RDNEI3xhzWsvaycWPlFrNcBSKwBTAsOzUvrXSodalSvhuv+7T4jn08ndfffw1H4a7776+B+V618Fy+lzf4F/b/T45Q4YAAaf4aloJZr8d/wCByxeR77bGASEUv2WkfD56fzv6fli7ZQOOYtevAd1wQkAeA5+QgFC1W6ekrbuQi0C5QvbeOl/x1ve4H0xhi7GvUdEpsTuEFjfRKwC1diUfc0wYbU1s9E2jYOa6nrytAtOCat1uvTviEUCWr8NX0T5w0Std46eDtVyovrsbAbreUe1lXnre+OkmEHA82FQjGMu9ZnjkeUZbFC5bCUXlFnjmFbH6TnE9Cv3LqzSYHDfE3b4S+IzYIozdx/QMlawDnAJK4haPa5kE/wCs4/DiEVLDHmIWIHPRwT66+SPp6MsuTn/cxYbEv5IehApjkgvZ/gyme9olq6JicAjXHNWw6M1rA125q8XvX/BHxB4P56ldh3zbJBmKEezrFS1zLnxJwbMvF5+jxfMZCjub3f8AaYgZN8wmgrWudale9LbQt4CTv1r+pT2MabcvvoiDV/1IQugH66XW4m6NEX1DdJsyqQ3OBe+syFd65lOb0qJaAtlGbfI6o2Zd9kLJGlQHkSA5NPtGWTM3hF5vCL+5Z4zr/uXECNEuEEiCwq+0uMgCyz/mAVcb979A1sKSGwNBYutB5Jpca7jNdEuCpPt0IPI3WeBUXA1C0LMQczzYZsMZQIxnL/BMewmHj2uEbwMFbcFWNCp1wRRWDeDBqoy/FRI/5fapVOqS4E3Khtdc6XOPEyn/AFjeapyteYm3qhKN5RN7kRumXDXX3Myn1LW/bF3BY0O0zxAYy19OsBHKUBTliDKf6cE/n/6+L+J8Nev3l+CY44TfPhUvaTY50RkW6tK4+4qD/ogXCldDYU9cw9pvAnZ7l7r15vcVCrFGhf17VNANsV9G8bKaW7NfqaN9LFamsMFl4jD/AEhRTbnKr+4yo3RvNUCWqApSaNo+SYWF6tY4qhmD25YksI1enrRA3DTWheu0TGsEss2eYVaQXPm8cSs/PkAaiieoRbz1HxEse3fwYgtvSAbLzXqJxVXkPE16X7DM9ZA3BqPRwi/QhM26qQJW9VDeNlS1WeJtkJGvD6S8x+8MsV48eFL7mxKMAeVO8AbbSagNcVKrAPESgqa9m043rrMPZd7pwMTu0xLw4Ec0nUsPXQYKk9kxmha0X8IcdF5m/wDrXTjUkHKsvm1f7HRkGr+3Xfog1Z0WYZAPh6avEj9IGIwm7WG1/OcDvq30X7X9fJsy5cvsKsOk27XrfYtTt0YWKS3NdifDceMN+8jrQ1e/e+Pl2yxdUqsTRO29nPZXfqFtL+ifNcvsw/79Pi/gd9wl9XHdfVhbqy+y5cOy/wAm5fxXL+G5fS+ly+xfFv4Uv4rl/PcuLLmeoPx6Px2d9/JcuX8/8L8X8TsuX3XFCGanNdmqiz3HRjlq6Pv1rvFCWA2ZXrWWPLYWPhl6MUf1H+4UgnS4QPZcb5mdL6OTtVso9/Lf5r+LP4XwUpvKqCCzJzMk1k+yXmoqsLleB6VA4g6RXIukSuWZAxUV2IONl77So/ufvtegWlF0bq+Jn6/SVtkHuRKqAtYADhLuVmKnuf1NUAlC8DG3aNB6gIWikdyeKFf0/qCkejTSHffRf5tSu2vhOhz/ABX8bvWk1eJfocWYP3MX/heDkcWtYylz6MNouqpaeJttdbBVwqNtP+qjM+ULUf8AKIEYaNNEzSiBexaGQitG39MAE/6kINqcx45gtIoEBfOTphFc6QVDXKMWsIxGm9rpuOIVe0NQcskkrD+72hJg4D+ZLWbxLU1+mc8UtY0fBACxFWXaEQAN2Ld6nkxQMG8CJKhfWulTSVKlPxX+QPx6n/vfxakTpXRvoSvnNmXctd/c/wAw6K7uux5uUMbBx6l5SmA6ywYYqHUeg7NNAU/cbeaCyxpfmbSkNZv2+ZcHD7xS57zJz/coaUaaP2IPWzVrbXS5fXQuC+IWdc2+qbv4lSpXy5/I/wCt5+LQ/AGBNbc1+bmZ6/cxzMdbzXe/Bcv8K5fx/wDcc/Foe46P5d/Fb1v4b7HrfZfZcuXLl9bl9bl9L7lX/Sz8To/A9VhF9L/Cvqwl9ldG4y5fQe7PHSuxJUzMwvf4HnpTMw6WuVnsPgVf9LPxOj2b9iDV7NGJpCAWh9do1nK/GTE5taO6+0gAOhzECTQFrG5dXW0pwOIVN+j31Kldr0t0vpx0qV1rpXwBE6HWupXZXb/3/PxOnW+tylft5/MzO0xLHmXipv1fMIQ376PeDuOpwqN6RLuCagaC3PiXzWrdklyzSmpNBUJlFvqDNMImlbmu0DFsheXM1Pr0aVljAn+C/wCOpLWX3syoGC+h0ehq148yjLe5BdVSjm0WR2l6Yugo0vYti5dgPr8LMzC+mZfZfZfwHv4L6V8A/wCvv8x0tIjDV/xCWBfcxMSettRgQFStD6CEIA/s0ey5ZyN4B+MOMrf9TUFJjwd/uNCKoTJs3FNNVLfnzEgWt0MWxPt2yCYYaQKsb8yIYIL8g3w5gcBbbsPB2F9E0F/ZmMXO71zLFthAuz5hbQQu/tLEKLqmyr2hw+cTDEd15tX9RHc57F7H4ipXWq+M7b/BNr/tmHxb9lKZWQmoazHm4rts9LlNnh5nEKf3h9xhZqBrKrQJtN/wn+pcu5cuX2vbfS5fyP4bfXMOw6Z7t/iJ+o/3DT4qbZTKZTxKeJniZlMR4luJUU8SniUyniU8SmekplMp4lPmU8SmUyvEplPEzx1p4lMplMzxKeJTxKeJTKZTKeJTxKeInjoprSV4npKZniZ4meJniUymUymUymU8SmW4npKZXiUy0pjCmBKZXiUymVKlMrxKZTx1KZTKZniZhcFj4mg//Wf/xAAsEAEAAgICAgICAgIDAQEBAQEBABEhMRBBUWEgcTCBkaGx8UDB4fDRUGBw/9oACAEBAAE/ECNQBQQBggCggCggGqgiqbgGoM1AmoOqmCVUHaYVphWmFaYVphWmFaYVpgWmFaYFphzAwbTANMD1BWmC6gDBBGoHqoKqrQrUFagrUCYII1BmoFQPZqadBRUD6gjUGaYXq0E1AmoI1B2mBaYFphWmBaYFpgmoC0wrTCtMK0wLTAqBgRVMC1ANCAtMK0wbTCtMC0wzUCaYVpgWmHVTAtMK0wrTCtQYwME0wDTMNTcOoGCYGCaYJphWmBaYFpg2mGYGCagbUCBTDKqDNQLqAKMAtV/CB9fxgVV/HmobmL4ri4w/McJK4rheBhd3fJxUZ3FmKhqG/gP/ADDmwlxYNMagkRlMr5JyhUxQI8eQ/DUBlQeGGuD8Yy48sSYjV/Cnh4rNxIjjAhEheLfBEIJMXLzB5PhfHVwP6uPpT8VnCYd7AIFMhYn4qzKncYPC/jrgOUcLC+auBEhxRxiHwqDxVxK/FSWbvTBauGlSZkB5ZUObgROGDLY4x63UwFA1xn3GjyvgjbC0yg6SEIcUgn2pKy6wsI8K0wBEIEg1jTUXqDS83gTN+pL3cA6YBUuZBFVqiDYMAqLRefhsQr+iZBwhg5hgTav16wrMvauSHf4CoSpUplTVRhCQOKiZl/jFkbOIkRwpwCVA5CWyswXTtl1lNtlRfChLEmHmyy+ahwKiUXQNgXhIpQB2ngQCIPTBq08LzAUQIqteoHTv/AuaeMWvA8swqtOlx9mQrX7SgU0EsFx6pK4I0O679ldEJ6Sm2mk4IdJAHhyILqJXsauMbRePhCI7IU3A0fqIlrMeZ3zS4EoeiCPEgdZwmeqlpwMtwcERBnsEMSNnurID9RnN0nRiE4tMRgGIdUNa9p6EKsmP7gbtS3ttvAgW9DEwQPabrroPogBQYJeevqMEU7VBLrgLhcLch6MokEtXsqDUqFWgg5n2CIq74iVzfwCiJwwuYfwMHlOPLLXH8MC1xQV+gwC64vsQRWUemYEuPSFhuBok0Va7U5o+4jrXmlxYwVfNOVYrRrEK64NRwqPXU0sa+KUeXqouFEX9iy0qW7ZbsQRrSVqo1TMkVC/0qCHtFdbqez9cKXK35sQnzv1MQgI7QG5Tifu0sTtyaqQEgWa5B9EOIKLFWjDKdh0dwf8ATLkR7cPyjra7zeJEyGq6aLQEleJyW0+sZZWS5gZU+4EFvMKYoR7xbC2sghHlFgq5+hJvn4MWP4YEBcstEf4YNwSTwfJUSILQaIOyMHRAFp25tdWL8JKOhA0e4aAt+6ewR1j3UeN0S/cNu2BrUcGxCrMB0XMkjEUCO2NljgN+DEdy0B/qXkLVsltxjzUuvo4GCqFSPZFsxCR2gj9HBchXuoAeKAojM9y+Ll4lJiDL4BltxJiUSsflEcvkyuVUOt6wPgBlJpFYR3SCzpsB3AgAHqNyjTxduDAFpJQqfaq/l4GIgBEpGGxifYPqZ+Fvct57239jMvKi9MAF4WXo+iAVag9MPSXTkNDDMo1tHp5IZQLYIdj7lzJWfR6QWDZHAew8ykdzwoeWHtUVNA0sjDyCMQLKy6MEZ/u9PBAsD9lzqoTPlLXAAUFHKTkSNGy+hDm4Se2Hw2QoObYLBl8kNvhcXm38FweLZbLnUrjfDX42P4A/luCQs7A/t3yvC1i/wNfQsULY0xpVRP1wcLl8WS+DfZT7oz76V95R+N8LzwTt/wCAX8x4IKQljxkY6lf8F3CHzoqJ87EHELTqd/g2jpsykxZcUAAwEr43xcGClNg7Db6T/QBlfJePib4GXH4VCM6mD4X+G5cIdS5hi/Cfgs4D44qGj3bVfwJoS59SvV+6h8yEvEvheKU+ZApLdEXiuB4YPKfCvgcZIrZiHNy+M8IymEuLLgwlvDLlLqYCvE9yrhov5lS8xqNPzsrg+K8PNPRFLGRTMNkX3MQygyr25U6qyVFtnqAIPdatEeGIljQ/xG2MwL5A4HtTcOqI8+RFMtGiGZoYJC2swbB5CMs/SUco/AEKmBdif2A9y3QbXtVD5WQLhcsR43dYnFgicsTHC+D0ntDS2FzPAGqC15VTIqz5yjgBTfwEhpF+uPnHcFjqIDPCkWOQFUA2sNII6YeITqggCnmFQxM5UYsugJfLXZA9M27XS8CoOC0D+kNF1wbWHdt5jBvU3tWSgiATSWTNPWmCbs7YsCzh2KpHiy64IEcBHfawKFxOnqVaBiK1NBA+BaLH4Uh7VM4e4UJQPhfxeD4LC/EYBXCUTByARP8AiWOEyrb5w6E3RPVgJSrBLIE1Lb6pbH4uNO/sj6LIFT1CKXWitgVKeYeDvpH+YaT65N+ly1QqYDgyyz4afQKlFq+FCoFrHBQDe2nKcRDcL/oJfA5SABoqCFtJ0OiKWLG2xkFlw974VLRek/5SLMFX+AQI5hTacIQACI0KpAGhwKRS5eGqtOsPtgGbhKfsvhgg1vS6mo7660GxFiWMCAG0SGw2N6MGgv0Df8h6pQB4L4LIihQ9gVhMMrg5oI9hQSjmppbT9lD230Mdjs9RxZcb80Wr7h9CMvTfRu99xo73uE2+/BHn+xSXZHVH/wAGOCXZ9KlUf0y7eqGasfYlPocYbFY6q52sgH2EGJpbTNadECa3NrJf0RcY5rduxULPqTDlwjpvyWNR7EhUCvWRKma/Ty0PvO7RRbWYU3GqpqHl8/y1hCpZsCs8dh0q4sbfRCGksKKlPojB3VQhDsCA0lK/SFATlTT4vmMHwXe3gioVqIUBJaqj8BTSNs3roULG6ar37ho02Fp/iJ4zL5Q9weCymgFf0TPzIXzkn5V9fcRK0Bd80z8UjL+CqGJxfyIZcFUhsdnKwSytkBpR2MYQq84HCRMgv9v0IfYAAHQQCqgSn4oJodIG1BraZciHKwLdPiNairNPQ9QDi2ODYfshSVcaGrFcFVj9CWCq00Us95hTKtNrFsR+YqliLqGq8EqgWc6NCIxSnBe4AFVEyucol13C3bV4v3Uoh2a3Q21CXNjQuw/bAKhrtu/J4gDuWt8ePqUbE3FouhmdIb+TzFj5FPcCBcMQpFWvRLPZetfRO4ayzal8y14Ii1N2r3KljdvndYP+h9QVPWnxDAG3aQAKONoVqL0BWIQdZcC1oTyg3U7i1TdrtgoKbFCGhKUpdIGZZCik5MOkxVDEUCO0ImJo2KYAAANBCoEwluq4gCxKSLhTsFTyDxQalEAl96K9I5vb2qt7uW0X1f1QaIyu6vDE/JdmF6CJFs6uoLLmIWmmodYAAOghwgQd5j0WV95avftWbBk1AfRIE88IUrDX6sD/AAfF4OCCkZRzUHyi2VC8lPXYq4/X4FHAxi5aLLgzxqfsi+EArEIJGrFNdMJFX219iUWMpqUNwW2eAX5rMt5ElDQC7mPkNQ4F4vlQLjHLZKqIDwZDSPBFOzGM0rZ4Uu4bilpbLEGWcsp8zMGHx8Kv6cvk0QiDZa01fpV/BlfFIAKovudqdRmUPcLOW1guAJIbdsGTpMWw8Qy81ZflwZc+AmkAx9JfFTmkmVOiO9sV6o6Hp4uLE2hE7r7qJYSugHuQuBJh08d0X4ilwpYphez1QsuuvqmmmIeDCraIcyBsataI6WDZKTXOIiu8Fp2v6hTop3XcFKOAXLUFEgoF+WLrLqyiUiyAFQ5UNpCCOnncVa26GyWXV5iG0IcVLuhppqDrFaQaCQ52imEI9gto/aevOERmMrkZs5dw4OKZUolUw1+OlKyHrYXB7ZAdpb8j4nCBF64dWikDnpgDCkeNP2Ae4fui201lklUgUjX+mO3BlsHoRJHoLwCExQAB6IbiymA6LAWGEDDN7Wl4jWYG6TBigF6ZbfvklgYS/wBQ493P0qmcQKzKB2oUIcxtxoeKoI6ZcU614+pC6wm/shOxn4KsQP2GX2ReQkdSHAr/ABwvlUYpVdt/8Rvb94VAdVYZASCH6BsuW6ViI7JTA3ECNgdWaxMkLxgj0VVm6KggYgBFJA3cAg2A1nUMKQWDgnbU27BAQI6G51hiNDZx8Ubaj6q0uWFcA2uBafzhxD/+aSMx1P4gK+CjgqVUJh4eSJ/4Fw+FyyoHxuXLgo4TSJCO6QPoxByHSjZLDUAKVUdWw7d671fAuIZQG/AohNokLH5CHS9wSbV0dF8EK5pqKwrs9hFKheGPAkze2wixtRgtYOSOimG1aRKwb1QaeBmWap4vwdsuTHi3r8MoSqGR3q3qIljMVoYGvMVIW13xUHh/iEp4wEyGuibgPtYgoFBACWaLiwliXptM32DFfkvGCamW3cNtCAG0dFViTCC02Ml6LV44BoHwBhhRhMUSs8zcrDofUGVjyaCEoi0C+1hQgWr0Q0EWlmhWygQeRHQyIbvKprqBUEV0/aBDT8AlQC763OsfFJWIEd/G4KD/AME4VwfiGpaXbA8EogwxNOTE7ly5cWNMrEJcPgvm80WYEuZOpdJcFtNffwSVLRfwfALRdWQ1WLVe1dr8s4VGeHbEACOxg4Q8BXIUQah45QMmIc0fjHOeBSXLf+MR/AcPFyuKxzfN4ly8S8y4Jw7gsHhl5g/Bg/8AFvm9fG7i1FS+GVCWcnF8Fg8Zv5WfA+JuJ+EYmORlxw5r4jhODi64Ia5DcyZgqSxAq3FxaHyMv53KQHLBeGWfBTwxFmpsiy6+FxZcZcuXCNpfwYcBl/K/xX/wyWguFxuUx1Bj8CO+GWxWEuXCL4LqdfO4KxCoHF/Nn8wy5eIamyJUHhIcEEjrYDALTwEbe7eSgE9PRGSav1PyXmVE2/blCgFN8pjBtcBAAjYnwEUEs2RaFgNEMI2PxGAlmzlJdtW0stg8DxtlfO2EN1w/G+FUKjeWhA4pEGCliAVYII2PZF4uXL4XBAoLoiSCZZbNfKn8ZCJAea5DMqe++6VUO6l10rwBoEnSs4gRY18sNhtiObUlZy7vplAAFMaPQEOvBUAN2hAuUV3TPCPJ/ty8cK4Nw+b3NLy07hPqoEM2l9rpYtQnwsV6pTwE1vIP0xv0dJ3XKi97tVcEQ1DKFgCJ5IrftLe105Ev7QkR2LEEfTBneOtQKvgJTHt+ab5veuhsfgrm7JfG3FP0LjpTO6nYeQ5fL8mNYZTSIVGHkVWhQu9avohwpeCD9kz7eL+ItS/hYSiyDRbUpD6kr7YsFaL6fiMMx+FQlfAX8JRLjNARzer6ZUdypg6LsYOvjt1S4X3rCQ0LHcO16oafP7YNUec+egfbKB37dsV4E5oLZjbHcm98ZgWDB5mUIM+DAuWFl/OlUXDMFlNBphtd/rAh4Wh++j7JS4pQtb1KWrHwEMLpD2WBK7/04Lgi87VTV1tXolCTAWSJsJfpnZqK/i1zpdb4HIhzDQAl9sKaPb6RZkpGKaTXaxWzUEPYDkRjyzmNDEhlSAzdnIC9xCizZF4VkEpSCsAP3ECRt1slx6cgVP8AsMIelx7S5lKIrT0CIP8AYx0rOb32+pTbSi+2L2ytVuFBUp5UrFbU8scQT8lUo1y4Dqy1jWZ3FVYqwwiyeAm3GRwPIhJKHGxsA9rDTF6bXD7Imf8AcTOMNuhnKqtKXpseA1CS0Ycat/8A0MbX2cEwWmAwheAIIolTITHoIh2Y57Up7SZ9DqP3nP8AAvZWe565VFYV1ND1Fm4pZYV8ESKag4pCxUE5Xpk9Fj4gNe18BEkxD+0UDjuYjXGZUvKTgtlMPkMWTU0GkhnHAtbDzAxtQBRCBuO84fX8AKgHgK4HhE8RI7BkESkIC5Y66LKkGVQIKSAqL36ffpm1xnqWrO4uQxamvjwMxqrs+VVdMcRWwkNNHuCgnvKXn2xsIib2G5a9r7nJs1i4RsdBDon8BirPArdcDaLwwh2x8dkLUuCOlhKEdaTYxXlDoLdkEbCXVuU2b7PMZVOrGTgUdsLtLn2OGkSOw21WorVjtsnBsmBXV5QT6VC8h0fyX/UuLZ1MiISjZKeAhiEJfpvJIKKZbrZWVEHtBqfLcF0BMdNOIkZMtVYtO1JsaUi5efcetm6aVJ8+CXIo02tOXumiIKTO4NQH4w9aN3CjXSmN+2W7m/FrYHHWzu8MxX6hYMd26g1yoNnYRJQCC/cRwtLqtBAAhM57WdB4iMSQqF1SpllGVvdibaIhbu4bWFhJtNp5WPUdjXBIt7SUfRQf4VHDTzGj9srBK3gBO8TwqeOlZ7j+DFibh7S6pvTartnU2VVh2oCVQdVSkxeeRcmg9EqoMHPOJRGA8OeKcEuX+EaYKQKe3Y/JQ5uacF1KTKXLqMod/E8PlwyB9YiRRp/V9seAjG4nttPoIRYIDoCuDTL7x0A8KcLIuZcEg6CdnepZzfGYqZc92ARCAgdBRE+JQAI7GAAAPBz/AH0w/b39fl3wkr1zc7+NSj4Gv+GE+hkoirm3m+UWg2b5R3D5K4J/v/gSwl+/wryM04OflbO+F8XCNoMvi4Mv5pYkRYjaUE3R8xGP4bZfxvl+COFpUCVArhUrH4QEJ629+4Nta42hf00y+QuIUm0dE2kjKaKtS/TS/wAnA12j9zwhQ6NnVtQgGxLH0w+W1YZ+4ZraAvWh/EJXwuEqdTUu+DgiLD0BF2Fkbl/Gf4sSldpds6l1LS3jSGXAbjkI/wCglriC/dMsl8HKC1CVJlBvyzZCSKHn4iLly5aLBgoLFOS0tCBl/GpXwSVEr4VyQjSFVARlp9hGbIdAViqIv6MkXYmKV4hywi4FH2I7Ucu6UmCOLmYO+gQqkl4wlQyyonfhjt1meoDRwrWjTnQc2D8HlgQqdDUatMsF6PMEXP8AKGB/BPm9YeUdrGRXSsA5BAGpSCENTV3ndrCw5UWSmT1FaVS1fri7k0LVjS+AhiZTRs0K7l74hpGU+dBylaalgzQXama51iKTIG+lb36IsVIXBHco2+cdVBGiQfouI+sLdKbxE0jpo8C/bKghZ/8AWqntJPopJ93XlXmEjGT2dESEABlYiiBs9Km2JY6xBdLVQOL4rRXrE6TruXEMbbT6hzUm1AAC0aB2x1xKMKpcgLNniIBYLiDbMuNmXQ8HbAlAh5ZFLlSJgtBXaYZBgTAVcEo3IfTur7CJwNXdeSFkAHCi6jg5RgrWHumpUHZLYME+BZwy6m34usxRtTRtOCD09kFmKLeyoI760B4jcImd4+ZDAC22u1iqW8C/xUIKOVqGNiYiV8QVmkEPIIGwCrsIMrIbIMfbKuc03LWYbZiyBiTxmiQJT+VkaTkcqFAetXww5DZ/cJWtNgf7lHgVzQtgy9alscR2jORGBduBPyHT0ljBvUYBHPPMAzr8AQtSDNTprPAlgs2QgpKMgLaJXynK02X8xS2LaVWg9spgWe9xl+iFc/PJ7WUYzA5YIbFGqDZ6GBNZQplEcw3PtDQRAjX9I2hiD97FCInp+0Fzf6jbJlmzY+031MUHyE6lDi/p75V3srvXYeWMQ4WZYUixtfmEPQX4hsF2bRIKeC/fGMR56gsZhtXRqXzsKsBeu7hurB6UEIeEaurNQfQYfPRX9AqNOWilgUgO2EoafcWAxvDX/wBQ8sL8qGsHWqHLGF+IQOUrH1ALFI+IXlmMvhuhz6CXSENj012y4O2B1OWKOFeIBdUhFAK9h2nqBrgsasDCrFAMBVZRFd1oe1lu4QaYF9Muh4G2miCDsqi2bXwS11LjKMrUzYsbcbJe+z3qGFvLK8glQ0lyoRLI05tLS+MkFF+Qpvi+FxwDULbIMUWPgMzFi2EElwCgTwwAoA57wtYrNGIo8V4mdfoqX08HhFoWiPWVb6BgH1KL4fTiyhVxdAsUkw9eClWjq3qPhB6SyAAB0FEsqLhe0PKDAKAHqIKNFnwPoB4S5RwPYSvgs0xxYq2XeXkF7UJCC6EMvsWLCCmrIgAjsYQOOhRGERW/JEKMHD4oGlL4ANEou6L88CEJdoc14nhgoANAYhRD6Iey4NQH0SuNSn0c0jmOxpijBbYDC+YYBn/gBHgYMX5Eq4/OuSbQHvhGWzX5aYHULlwEqVyQlDuxZGW8XFKgXyE7HlVBlJaEuWfiPgu8KW2zXmoUkzcTLhfzIovL3M4/+hfOGWfBg6tscZuZYEolTMWuVkWWfG5ZLlzaHxb6leUSUvwISpUp5JT8K+FQVWR6UNJlptSU3QNgYPlWs3pH3e7BuBz/AEUPIVvJXBKdboKlGKnmDCdGPGASW5s4Kt4CKf8A6RhWpbADdw1AhDSPAQtQs1KDcrYBrkwz+ZycIYMT9hVrdC/ggFaNSwUgiWJALUPuY/xOvc4ERct1RFIMawYQQxWMCxj1vnoxqYOo6uV+E0JiUjDMt8cHwIuoBh7ReqgtV9ZCvhRa1mFqQR6CMETQKsVXDaB3RaNRcQmODaAKr0EzV8jiysfaWRsUNq0QRBJcGXG2WCLijaqoq5VDLmCFmi3cYvxVLQFmSBxtKQhOSojyQmOsIHSJpGY1SUrZIVxKoUPq9RAHUsBTaZ2JfAm8T9L3ccVRdgHuiL8ytmi2DVwjSlUBWwvq26Hl6iD3Ox4R1pimq76gHG6OJ2rRXmWp0Cp5cvEBFpPgh4ZDBZVjGxFY0KZUb6FgLS+IRH2bgL+wfwYfXzIxMEMbsgKVdeIQENMv1FCxa8TX0hNzcFQAEfF1ZKfknxeINwdwAHuir+6jR2yVuC06hNU2jhFPaEUz3JwiBZwYRSr+pbkeJQu2UfIuqhBXFJXaaIjNhW79ZzKX2WbNYuB2Paspf4Gi1ZIZBseFzXhKqjcpfwNy+HyShrCWj2z9Jg1/jx99A6tq8sJBAG2CqwzHMPPWSg+XgEXUDUJUwAS88raptptGK1T9uA1hTKNdSgcppSe7FERi50lnGGGnhhHOl86c6lXNCxKJc6IFv6Ki2Wu+AMmGOz1epnnUCt16gXrIFI//ACrU+01DRS0sNvvVRywTUhUApEXQ1/thqyt+6xAzPLNYA9plwFAfS/wg/G8CIw1EMSuBCWVwMYWZgwqKaPQS/jUeVm2wuWEuXFOG3GzCAM8DgOyFLECIJ4YLQD0IAYCjgELEpIdh+LQHgjwgUosqG0eTH6nULMw2TSeRmcLgsNPSgWHcMskqjGmurGRPUEFe+WIx2AsQMDJ6YC6kLf5PaytnQxEuALS6iuiCiXdhnAsD3fFY+iaUlXR/sCWzZkfLwMW0htGmoYQAfaGqjEsU1XsSUTQ/rdM7OghXchUXcz4uCFBe/ZhAVy20nKsBbYBWqziW0zf4H+zDrA3DUK++IoFnJgp9sotjpmb4olbmjdhqEflO0b5ywDrHPfLsmGdV3RV6kpmwKooseNLSddAT29gYgq2YoQYzdq/RPTGGS0V8XwmYiUFuQyJWogMTPFVWLVumFCACxJkEGynDHRUzR7/YaFkzulS87JiqVcAOExepKG2xLgk8gQaPAQoZ38r4PwFX9D4pcrhXFAm6eRqLyMwTgcukB3qnVd2fVFEtAxni+Rl/kYPK18V5IwlyncDPqZfJui/gMCexGWkEt5D1LL38hZCInoKIjJWwFxGVXyS/ueE8CYhAxKBgCAl0ggEn1bV1qEQU29L9QMSFJPFOEAHiNU/a+F/C4hIW0MwBATwyuMeAr5sL7ixaoP59sqfIXFHLlqVC5tohCmVii1QfEhG3k0gECqaLSpbOsx8OccC3BIY7iy/8AxTqtAQiexYxSf8A88YlwcQ+DOoa+NwlZYGQeiczAuFdZ/jRE/8AbolxHmBg3HT+28E2HTFkB3cF3UBsL8QCmFAVrLKhrhbxAvYF2FCARv1KOliSqLjtYROsAEnBKYLubUAE2P1E1ASa91e6RUwyhkAstAbgo2NEwAtWDZBqZbqCBqEQ0j8EFW8ZMi6uooEQuBJNJMS2wabpIGd5GRGHnE2l/Pq765c+AgqHVxdQPADBBvgB550hfyYWjfaHbxX4HAwDaa673r5EgHQ7YSzjTkZhg8biMMyq4GLbxrjZhYP2nhRJEJlBECGem0tUikYgqzsbFbE1z/wdytLK0r77t4Wc0KewMUzOKbXrXxFTFK/g2S8gy4pd7eSHX4YYT15WISHuFnhp5hDV/eKYbxNctEikvsP6cZgTSWaYsx7ErwoyaeKEqCDQj/pGNC1xCmVjVhmThnTwahWK3BUDMtIWJAloAHgOEG2p1cMEyPm+6wqERYlBMhdtxQqckadQWs5TQ1FwCqmPWY43GL3Y4dPuX6VQtL3XxBxsmg+pcg0lrQYpBv7gzpSD/PCBdWCmvNXyQ77rDyyo6pit7VMtojd8Q4jh0C1ajyqSnNgGeaXcrH+v6CCmh1AH0T7Q7NiHBK0s7fctv7Wv9OCZVA+VCLxIo9Rbtc0WF7fUDIyyxDogyDkwWX8om73lTVuduXRBN4ZRARb8kmZ1wIWEA2IV+Wsy2+gS8YZeVU2rQpi4c6fC4MuKXLEl1BEl55vBB4bM85GzQjGciOlxsjWhbeQZ3zLacsNPlOF+ksItjPcIsSItMbTSvQxGUiUzLNywC9hl+0IEUOFbk+o+y202vKbifer5dXj164GDiBA7aJHGqrYtXqYKqjSuCwB1S8fRUD4iB1fSJqlK+7QBxQStMtEIJWhl8vJEukdd6ilEAMdjRreM/sVjcor2WPBugZnInLT0TGuxAY0QliAAu+IDKaZ7cfCulFICr9xtaLI7GsjL9NLC2lKwBQWzlfaH3/hfijJLLU2lP6CFika4FHC1bFIN5MDSGJdoQT3pg4/YOiW7IUqjGmdE+5hMLtAYX6lRFlnSy7IkGqs1zaIQlgdZmZeS8XmiIvHKr5TPOdR39sp9bKIZYzcdVKL4+zzEwpBcTswdcFfArH8EALtGYptj4X2dr3DP8XdfRBqhemej2x8hSdQF2iO0AESIuGAwkHRClrQ7qHCQorwLJfIt0ESKUoc6yqfwHDCO5cHkY11aAXBSUj8luJbhZl83LQgeEja+qDcQLL8yo+B81lp8+wCJMCDxk/MiILGMq2UwRKmFaBawPbN89bQLYCAfVBiPvq6X7CHgAOjhBKQSVBngKgBx6o4IuYm0FW/IEOyoiDeYpi6TA/FS8+EuX5jZDL8WAxpQU+Gsa/DfAIhAgweDAk1O6dEYmAbbL+AuaZfqXtqFrovDK+JqPxvi5eGveEyIws6lDeX4HyH4nXUvzAgpfi74L7flfFy+B+Fy5cuXwPFy5cuXL+Fy5cHi5rzPAlfFhHXA8BKipyuBdsuakC2rF1GYsQfTyMqPvGqDnQH9FSsRUd60HaZppa3EaqUzadBRB6p39Ks0gOUK2TUMrlQ+QsIG+B4uFv3LobGKArH58A5PgVpYMRQRRYjE1ll29/8ArX4L+V/8y/wa/JIHqJCyZTCLyS5aDAK6Voi25cexm2IpU0GDYLe2IXY2EnH38Bpmqz9k7wRTW4tlukjMkWUZ19DEudiuxdPkhONFt9E8dn+cwbeM2ZVFtEfvoqvpwC9/bSlCkYCxyY4l3GGX0kUtzpIlhn7cTEZkXEP7sV8sUYRCxtybBAboRiZpEHzVMZ/m/nkPshWKgaVFbGhWJhMjBJbGvsmPyhp/4zBH/EqHH4k4ORuBAV7al83K1jxd40WdghCk5ScWJxbm1vhcIPIWFqn8EjDZR9dZDNv2Au6B4ULkoQOkhMj1cEyGaADsPgRUbVhgU10ON5/wD4Q2MWCDW3aWrtUmy70LVdBDuVmTfrCW9z7niX+6l5q3TCxXyOFoUAqyu0uaL2kVijkuojBq0Yr7GVEOoyDZjfqxpC77BfXi/QTOG2UsLy8JcDgPwV/yK+FcJK4ONH74X+FB4dRgcDw3xUq5a69A2+4DiLRpw9vY/J1hG/Y8PMSWhrM9NyFEXRBTTUZ6jh2DupQtAHOjhWF0Ozk3AFbHkEOyVBy4rxdAvi8E8iwUIAwGAgl32dh4wYbBsqVrtO3jYcJKDfH/AAq/4ZKlRmLLPz3fceCz5uocaTPATi2Xk47h8M3/AMG5Wb+F5+Ce+D/+Pcvm/ju++a4YsOVqbcacqImgLYOqbVYy4VCB98HF0j2CXoj9gaOwF/8AAz5mZ9iWzPFe3hUeHZXFyyWSzlEg8g3MS8cL5Llr4vnP5LJcv8Vx5ffweuD4WqHGnAQ4IKOxQ7M19trz/cWhWwuuEIgUS1bLCZIG1aJbpPeoJpeA+mAAlDt3pgHUGH0VKf4M/wBIFyAHQLVD4LfZ3BgPRyd91RQBC+DBiU8glr+HJ/YLnDRVql2AX5BFe1lqwoNJkmnNsEqZuEYSpiJcQx8i5awVB5WGAD2jwQ9DALH4mtqDU0hAkv4DLlnmWguBDyr5BSz8Oz7hglkYqRfi6eExWBlb4DQW0UKYDFZFl4pB11knCP8ATAua0eHsgqMPDbS4odBy30yY6pGzAPQgUHuL5PognVc5VhftGLYArUiJQQuOnoIvEXKx6R7Kismydviem+4evhtmWEVyQfrWMtmuF5Iv9h36ItsJABYco/c5KmRYDtXnFj+RlnPXP9ANEdNARiF/YuXcLCialcq50bgB0jCtWjwu1ARA1t54VxGB5xcLF+yAjZXBW59qw4CY+0zyMOOlCl1aSMOrNmrmdFcXwhLIQG0SlDkE7Do2iBC1TqHwJGtCERGLHHI3NKT6JsYrETva0shIfKrVMhEH3N0+CXh126ynDuKVXbZcp8ESGdWoQ0SQh5XUWvCg1toO2ZnWY28JF9q4KCKGGTwaEcjYZbXJH6C4BnjZJtXoIuWOz7uGQK1NN1DoKihauulwWXxbH1C6zCUwHNC9sEQSGlRoStDVqN1NQnUqscSxaU8YS1aS/wAaBcZVPwHh4GX8Nn3wRjyNcuuAiYlQqFUoELACxG6SOkAuYrtoNQW2rFtqrasICyyfqNaHHiCmEIWTT32IdkfEyrrQ8DqXnoCDQNImmUDXsbruCsFOqMBiDg/u/wDpcKkYTUu9TG6x7hm1ld3rYKVBgZmx3fdNwxOVBAKuFsLzI2GTsuKUytqj2ssklFOKLWX1Lu+0ZctTVXWI0VhFt1UHmD8MJ1960CbFYwuGp5bnNNHSH6VXgNLDio8HvBQ9BwQt8y2GgncSvMco7gf2LKvjcESugZho500r5L2Yz2xSINU/0TrRA5ppH2i1RZlgDdDewGrcsktNgz6HDj0we2kIPUPJOpMUG1rWwVgILwi2EMrEoA95sZ61zCvixW4DPGjAPROFlr9Rsb4AivZBJqlodWsvdwmJQQMuJsHtvUDUOAlsXn1SOhBuNNorAzBNgszkG4Zh5VPu9iM+stnfY+tsNo4koDKMZZd+6thliUb4oiXKq0V7IcVQsZzqPRNCXrt/7iV/AmbrIe6ipwBjj2wGETlZX1liCgYWFJiXleiQHgTS9adT7qDQ3AIApXpLWEFMsxL+Oz7iMJv4dS3xxpwJUdR4FuXiDBn9VzEUKlKKvkKjxiPAWWiRI/YnKvzvjMWVdOlVLQo4YH1+IeKDR8XLhdMOBoAtoS3B5SQUDRGpkRp6TsgTF6UX08Kva20v0kEXGUNA9LNc/lRKiN/souGhYPGCBGkvvR3Dz+y97RZUGxoLK+gIDbVeGvLh7PSsxv8AtL4qLdsLJeV32g+oBcDAMEvqU9qr+WVwrYr/AIAgwoBYE84dKVQiz16RAWPEQHC2TELNLW4w8dIeMwZiQJR8v8sJWZUCJwPxBNIEo0B7ZhJQgInYwfkuzpU3RthNCW+ymO5S/wBmvqYR22zuLDgPxBxHxbraPWZ/g/K7M/AcEvUODqAS1F9h5A5/Oy4khaDNPXzv4X8TmviTd9wYXxqY3Dcohw6gwmkIOnLzemSPshY/kp2VM4mOorqLUvG1a07mopq5YotaIJV3iAycYdFSZYuugal2LbLDzFtSsuBu0LuzBtdoWq4AIj23+88VmID5C1lZoVohnsv4vdIKEdzqW1IIA8K6hei56kG4j5egrzLCXKbPQIsH3UYFzyyvKpS+ekjHjcGKLX4bXScbVg3wOfg2vC2FxXqXWWECIj2cZhyLmfPFyqDyHHfwz8f80OVK48TvnWBmVKcAtiu3u5RRd4IdvZnsh/Qiz8LRA0o2S3NgCEqAdRilAOguz4lCRStzirNLHowAAaD5ohD9kJHS9jGgmKDSP7YWpq5U1dDhiJSPlV3+4A1X1E2SsQEMZKt7h63G5dngAQKB6I3kZuJmxOnsXEpCpTdwaofBGz9gWg2/RGsUIezp/MycZXmxCgRHAtLzuFn/AKHcP9tr0SkTdjmDWGK4IVSWBlYMrPsu3gmB3YCuAv0iMvGpyqlWaCNg+2SoRZ18ttU++5oYR++QtRu2wtCVLrC7F6Q3ugDuhEZAnRC6doTTbAYAKz2EdDWUgobvAO3FbZ3wU1Z4aft1FvlAjps3YNCuSyqphkSY97L1CxFavOVy/wCoUV2FmGoq8kWWZpMe6FEFXueaHH0GLzMAqwl3QCH6Xcc6VKusWrDUIf8AWaWmJhGwfgVZnkbhZ2pt1D5suxdsK8/NiGlQ/RGPZgZWHDr4lg3gC09BDTaSWU0/F/lg8LxN8mocacnUIV5XRO2EBSGSMG0SjFRhk5UH74GACgAjGDARV7WIVjYLIAAANBCuq57jBHNA04Slg9jH8NE68AYCDSRa0v5zitw1q1T6sxucJYV76EAyDAbryrFzkZIDcYOTQsL/AEcErvC71WFTTETiT2Z9t7YRllWWNARnj+OXweoA8ckuFLdRJqekqKVg9oirG97Hh7tK0vBfglwlpr29HZ6QTpzJsK9ENPQYlaOqCmgADohBxW8AhuxQVVbUyr7eFhjH3jioIz2IBmZhbEGbSmPWmAXzmkOGHlonZ9xiKJkIuVx1/wDYCbIMGr0fL68UocNdVyF3iDdpNS9yay1AsrWrcyMBXXnZYCWP3BXtPIRfu0XLlCeoBI5HLG8Ina6/2c218N1dpOlhPRDQGksuNWyYe6ugIihR5XD3DhHaf40fZitQ2ViC1YPH2slLlOwSgNnomZwkJifBRCGzkK4AoqBg39lL3PLC+9YQ/f3cVxdH/wDNy9V/Wfb5hv4kHgewO18wGNCo6InD8ERFOLgxZffwGXL4HGkJcWKBzOWZBGy40e1QoAUeg5IGXwtQ4JWbOVRgzAyPr4X8zm/g/EfjcIuoMuXxcBDRwC57d4Rcw4ZWvc2nV/UAAAaCHQfpisbTkZ/yLgXDJkDzrfJT6BmJJc43ZW+SDh+duf7WIXF2TOeVQyHTAqql9WgbecAlEqjyt/t4IGKB1x9dmBlOWMPyyqKKuh1j1AAvcQAVWIBQB4I1wH7IWVta9RJoK0beERHAX5gTf9x+QIPyDhcuXyMIuPBZ8KQh+ccAKNu4/hzBNuKT8x+W/U+ipn8CSpv++KifMUH4xH43Lg8X/wAQ/J+NA8GHgJn8F/mIfgPjt+/gkB4IPC/4NweHcJ1AoJcvivyvyvm/nXCfFg18e2EX87z+b/L8GdcLqpcH5rJf4cGLRdEQCdlwhGZcam4vzL+Ncv47PyMvMuXBjrhcKQeL+Aa+VDg05HFcef3Lg82a4uYhiOT5IP4tkTJC5fR3Cefi1DdzuX+Dv5n4aPxrv4DFXycqIw+AFUF28FHNiCYYAdyy57ZdwvlZZLl83xcslzd9y4PAbIdjQ63kczLwPJ5GW87SavgmoMQWsD3ALETkayCHnVfMEGyxgQRK/nwFRHgI91P8BHUs37pafqNMEQ7YGHih8C/EWkCH2Es24nu8MKs0nkjjDVfV0EWjRX6yjyT56y6SLnX2kM/NtJSdtZDPgEpT2TMl0Bcccjy9wtoW1EDsyeni53wOncK6cBhMKBV9EGgQLSMF+A3Im9tKeBGmDEa+Y8NC1wQiwNVfUjxRH8RdWWiASPPUZ9kGQL1iBhj/ALjMYoFrQTJPKtCTDK/fsyQXVKzwXDJc1M8HqCxggARcdmhiqoiStQtlDxADFAaYpJ3CAgynj2FWfDFo2iXgtElsdMJjBvL7puvfGGvMfNlrZuzVsx9HZm77bfiaUI6HgmBKhKp9zoOQEWIYigUgBmAiK8gSNyuDkGN772kxB2sWtJOyr1m72Eb+AwCmQlYZfeRxx4xgUUhqiD0QmSfSMc5VAltFDJ+ky0qQeFBlbw1XpIo7rYIF0CWjGiBGBCWj5bQFuN9j4j+SPEfJ0MFPWtVOlMM8I61pIdq5bt0GU8sw8fsMu4LWlHg7AFMsvi6S2GYktpUfCH+TEeUKC+xBk5qtkdeCF5Ldm26hFzxaq9wRg2oFVG/U7FSoEIBqdyHUWhVoNwq7WixOGKoFYxU3zfUzT167waXIUBdJwweQq+bSujPRLfcMtaEFUnKiQ6zAvSRTnhbKYAfQcqh2LO8UiIJAWmPtsjGs/eUps/aBCJKsIbowQ2ooCCunTuakYaXIwT0Mr7Qo+lDldYEeG7WE8ThFHEGazTtoGphUiRzaOydE3G0qB7AugZaqFbUCdqZFgj1qF7scxuu7qmrVDGWIVet5aEytEKDqLwRBq4FhekMnXZDRFM0LL5PmECRjpR2A8xN3bPihqLBYotmvMKEu1FU/oOubRqFH2lgIQPIxobzGNQYKQ1Ylwe12povFL0xVmdsq+fLFzY245t2m7l6RrlQ7gkp7ECoaaghnDVRoCzbhEta7YTiKlKrEcj1AagoBQRIER6jR8YZJqJkdxXVVSPvKVlTKtA6cQ7o+r4XuuUVN3quIrEtRvnIZcWw2y8D1XUFRQML2BMCSPYxcIQh+YNj+SRaRaJDuBzbB4TmGlVztihF6D/K+2VkIsYA7OmMGdvQfBoPFjjhVaT+kW/NomdaeDqvpBS7t7L2N79wCr9D9KgfiDUARU7p5QlOIuvia+EwlxWiAND6ANDpiv7wRfb0YdeyU+30RSdOysuq6IMC6muvwhieCqLX/ACFEUuKHY9SMVihLLpeoRFhsGmxsuOSgCbotzRmkaKwXVBx3acCmgLQW/omNEiEuxUMsN3xL0eFIhSmSJFXjZlTCplHtHKyAxPa1mrlBh0HDFkXtUEItOEOxNniI7sUrXxrLc1651PD6rqDzjQY0uEsYYotEajKn4KNwgahQWpk61GUjmll1K+yUIn7hznhkgJpTtZQoGBqxVa7goTVYPgDRBhkmRY3wYC7Ukr1QQmgUFLEekiiICZB9+2VDFsKZfD0pSTwpAApaOKgavcw8ILdI3oJpC4IbsX3CBg69+b8xpQAtqn7RgDtrkKjOTKCi+/Qh5btA/eFSlmwVarS+42dXoHlk0YLdsdxuocag8F5zwELSIysYqE15IVuDLItPwuAqToumzhZ2GvaXyrVr2DkhDmbnoQTPD6SssjDUuXzWdaEbj03EMH7iCX8bl83GW8tNzcaPq4y7DdBr6ibVdoGvq/gAaA+YwFNWtaVW5fN/O5f/AAjQMPJcpAAXMwhfHcJpi9nBXZE18CLMEoYAgGXApvi5cOHIH5yDWXEhruiubVoWxhLie+CpfuU8p4uWQZfzcQSXL4Xwv5Xw0hm6Oh/wr/IT/PxVfAU4MQc1wuB4OFh8b4DwuyEMXK2MWdS7l5ZtCGu8DRLSBcCo0AFUX2wghwhC/FSpdS8/ETTBLl8b5LVs4AKoBtisHpLGX+VMKUINvDXFxVBJZFlODmXDcAZVwE1ImSxlsHHCkupcvm59ILx/l/B1BhHfxIOFyKRYdFq4IQLK8kCtVKr6HzVtgAL3hEofiSzOqvpVNRE0quXRKATuVMmVWbLMJFXLel7OBuEzmUivACqQRjMs1DkjknqypKAqwQDoSXLIRQAAtXAQGVNJY81OwGVC4MffyUAv01Lpc93RGZtK9C+TfBRkhBa0YR+hOd0L4S42QBaQg+uajLyVa2DKGulYhAPC3kaXREj5kjIlYhKuGBzh70vBLSBB8H+YhlxASw3wwaC0aIQ3XHlbI5laWioZdlqUCUTMthA3yRamz8AuBFR8iB4R1d3uoh1wIP4XdF6+yGd2JUTvf1E7uv3lhMhXnBKrd2KmYhXbHSwoU8XBmhxKXhvT4Z7YrfsJSTDOv2IVKwGPoPA1gQmiqgAPax1oM/ZMeyGvA5kuefuCz3ACe8Th3CxZEaqrxQRLLV60HDR9ZKoyMsvCw4Dcf6hYDOisXqSnhkLdx7xWvQ4wakOh2ow1k/dGraKNAjPZAYKl1BhCMsDaGlz9patGU9GXXSUkbBU5QZf40tL7Hi+IHNPMzC0DpAQcrY0Ss9QgZ15tq6Rl5om3OmgZP6Bz24keqAfa+kjjcyXvIbaxMCqltdv6vALih+0FrUSiof0QnXaq9kDhMRscYPUYSyAKHKoCGGyGxgSAc8yQut8VZKuM6LOvCmHaPowBNogOz5qJdWGulUrhV4RMFLsaIsWt9G4SHSC8AcyxPRe8TPv+EE10UKaSABNiyplSJqB6r4BiLK7UvbBMxGRLIWgQDwv4DUHMvhR5/gXX4B4fgUG/wseQvbImc1hZe6WFQGg4D53ndKC+hHZSwyHFKtpVeN60ygCNaYIDwWj+kPauSz1alUpV+Vol+jEIh7wUQg2zRqkNMVgVGiXQbTSPUbjQm2Ez50B3Lik1/NX4je2W6Tf2iBGleBHUE39bAHpPmGekhHcIRQW/oIyTg6jVTS6lH2UciAsUowVcPQ1U2buLWs8u9F9BDEUNSMAO4R8LU1rilYdRKr0dzexECPOWWNLDQlLcpoRgsjoT0IEi6Zcr/LCUwuVfz/Jjnce/RDyNSFiTFd1hcpzP7X+WNE+ttW1UiEAVpWnaI6sbu+4poUWak1B+AVX1UIne2zVb4HLGiaRhaFqwDTwKb7ygU+uEQAjhGNylrb/FwwMASz6eFrZ9urHNyqoPn0EBDsqXiQp2qtq8r3/QymtFW2+C0sgF2ovCFQooCiDT/sLhzwEKIUh3QZa88AdIBLGmD66rsiQ4zYjxcyPuwX+FqLUCOiZhRKnRFxQvrk4cE3wwn5xCUlOF4g8b4Ul4i4ncGHE9UKuunthZbP2bCDLlIiMLcuDBlvhbzfKrhcv43w3FR4DL+A8XLzzcpqC2i35LUtmfiSo/CuSFE0ma+3FZgI/M+JGHNtRz8UyCjogoFAAUWlICyVZXQ2fDXI+alkuLGDYJDiuB5vl5ZVqA2s0XoBC+DdCzsagOWoOuFwYc1DmgkcaVwhHcA6A4Ti5pyszLZlTMvhtX1JWkvBIel4WYrcpBHhh6B26bCXZNuahxTKl/EIEFkDf7S/gr8dVwr44phAjmAPluLeqo0TRE2qsvnI4xyTX6RPKibVsf2l8N0oXRGZv8NHHG4jaSiWSpQEl9BAzCA7HgeYwkypu3qKAE1HSXUsR/UK2QFoMr/BCypalqS8jxvwhCIZVS2LBUC9++6GVeBUrILEemFDa/+spplEIMepKBhm1x1SM6Y1hpvcT28CW/QS+MbDl29DvC5AuKwmIvBQXWyCUkS6oS22jcWgGcb0+ytRqJewxDsuPFpVAYPNV1dd4EFA+yhEC2NvDpxjCbQBW61nwnJ8+0PIG/USid9U3+yULa3QBFsQJ9er7oDE5r9V61BpvJUeVRqFOgEeqXLTFRPaYcz1xq44SkFPFzORoSVbbxKjgvxMcCTTjZ9RgpZJQWUM6gQlotdkG0nRGbqfMkBhfKDKcLS0pDin8vheJfyr49So75KhlN7GgbMjb2fmXe8QYvxpMiXaZE93lOoCA8wDdcG5wBNu6A/cIFy1vFUqbq4s7eujwDCQ/injW8CGhHEc0Z1DJdHaaIZH6y0UQjim5flf6SM4N6fU08wZDxVy9AjqqYmLxcdow44CdKjV9XUTDJkARmJtdYeDeuzG3iqRaPrj/s9IEDkmUaR5L/AD8eNv6DipaEqW0iYuGNMgDrqyARssdAHqZLxHEaKUM+U74kDWMEaaBjkUTKsaHarR4lI4Ad29h8kpC1wCD1C0KNg7i3hGbKxhQVQMELzqi3ArFUyU3FsgtY/ULyfERKZjrbw1R1KgQz1biUpYJB92hN1CPBkiqK3hNMZK7f7rsYSvGUsJg3BZyD993EWalzlClBmD/DorNkoumxUU0uCkJEaLNhfuEfQrUp9CB2cWqvvLiWJxfPYa3Dg7PaejoisMlPhN9q8jdSgBZuugi6OJpSjsgho2XauMSsXfeO7DTBZUqZrZAUMAJykFK+NfGuFl+cQYcMLllwYUR0KOxmi3UFxBdkt4EIKKtUUuUYrCoA6OG7AjT0mk8McphSGSFrPvCmhuuRSi7ovzEEpBm2vx2SwE2DD6uWhfbYxbFdkheAzARHIjL3MLvfYiIiaxNhAJnPqEUAGul/kLLa1wSvI1hnARr3A1cuLF4H8pk2nr0KwV9EeYtINbXAANBX/KIzBfb/AINsYJfFmoa7wBwuLLl4OGKfTE8BM7sAU2q4c1bC1cu4u5bcuXxfA+0IeauLD4XL5GHWoDMjhfGZkIOuRzL5GXzfwWuGjQ7aFf0Eu9RNIidI6fwD+CkrKS/nu+/+BUw4qVUNQd5L9jL+MWWShVV0sINBm/KpmauzCo9GiIs1I/RIzB8pSJhE8krm+VFM08sHYoGJTeHFaah124WwVEFeDzEoABaugJfxjeN8beRcj/6sk+ZET3KE8MMFhyd59UFxy2EqtjQqANAAtWHk3Sg/khkhLlrjGmm4hVoNgSjMMwjQMxgIMMtY3I0msyyFaIqxijQfuOoVBpMv0phL/C2YN6s0xDdqWezQ/fC2Bd/sEK/CrKfcOfYxwibgckJOqXEGmMX6zoWfaZ5UDLFo8ZOkHoHkiDAdtBWKzlRiW1RcxxSKzPSWmGLLEthr8EAr7oiM2Aj6ZjYX7gaYtCuiP9QFsBHtdkB8t338gPxjcpExAmI66quPI+yJ39r1+bQlxHi6W22JCM7hUyC6lJdus3iAwxKuRWCIN9COa5jophBstct2PqKNQOYKVa0EShSGplisyM2/fu6hsso3zjtIUosXlbDApnarTC16DENqyYakzualFoR+ygdKB0QbT1xJQ3sT6g32omvIJE4sq/cJsB7Yqf0wmilMO1RAt1fvCA4KZYKUZsKH0u9u5ZcvzSBkJyJxvCs9l4YcnhxQ09vQhCg6FUlN6YrSz9hXNA0fUOGKiQJ1GlVNTaUDyIoNgs0LAi86LpGgBJb8Jr0M8RCCMq2Cp3ZpHpInur9IO4KNEtXA0Kw4Wi8OPaIKbV8P3mx7u2iiNKNMqLqoEbeWEQyzbGxGGI3bNdC6GPwDAN0BwN3/AFMbl84ilKWmoAkYn6IjXIYI069XFehhxMp6oDO+CPN60AlkuvqXJd1UCjRsD3hYWzgAzUiguLDdDkfEr31ASmvqPq1fqrt5sjDUVs7iYSwGwK8sLAe1Nw+P+T538Vh8DfGZfiGYTAiI9MBMvB8Oc3z6cAQ/uBPDwAmmH7JQiJZNzjE1FL/M2L5eDQB9EX+LUP4YOAAwBQSjgOXOHgM1dpyIx6DaS27AQe13RMGAuI5DQRECkLdhroDxETZgt3R/DEuKC22ioDDJGJUssYfRgIy6DlBl3Z2gMOOIYjI9luVlGW7WzV909yiwYBRAMsGoAmOPPCE0FRQV0IG0bsmuvRpWz/ojKqJXbSoDQSropcW5a229Iejh0OwafI2cHABELV0BJUH+ABEFoSiua4u+U5kVsNrUJBSgFTaHlHDrFmYBRzbqgCKToEbOyJhR2JARXa1tX2sOmdKF+A88X8CvmgIYAOwuABQURVXOtuEHoR6Klbzu332IlDRg8BHVG3dLb7qen5B8Sf5PxDL4zfqXL4uDFmyEGE4Y3rfZ7RZSDtgXEvBxc8Q+N5lPgWSPPSeEekgYZUhg+mF5zG5cIS+VmEIc0WtFsIY1ZGkYCKW13wD0fizTiOXada1G+75vl5ZS7ouXzfzWWRBwuEXfH+aDL5BlNbarUuWS8c3zcH4biVLIsR5jpCZhASRs0n+YBoIliTBpjerqDyfqIXFABkWh9rRFtAp3Zg5SXrlIQ4d86TDmzPOJZRc0WXGVMahQuRwuoPGyW4uES+/zkotay8tTRycuocLnh7vktFlvjTwcf5vgwHzSZ4olEwckuEsC5gVCxiwp9k/YEkCr+otKS+bifzMD3DSKsHpl2c5Ftlpaii8G3UMwkQVSFBqgSglpZVkbHXEVA+4tXBYEHVQYgYTTehIllNuGBcMI+D363pm6WXL/ACi7Q6DW2PB93c5bOoAIdhPt+HxO4Hu1NplaBM9u07QkA2nWh6MbGoAAaWuu4U1vnpBFqaIfSXGfJL1/loMI067Fk8WfFbLxB47lkslwYS5fN5+F8PA2yyD8c/lCdwCVP8nOZfFcV8L5zXIy3m4QVRKWWJBOtq+68WwKlE61eLhEVjVgwAKCgl8JeofQaJjLi62kQMaW6i5mmmzUyIqJegbA+SJlZFbbtTZQ4piGIwEwaWy5FdCyNodKYrt8o/XuoFG80AMtUhKdab8kq/W6h+8mKfhCHSAq9Q0TotKrwaqFvMRuLZsYGr3wr5LuxSnyQOBn4jUHJFZi+CMtgtzcLHjCDy7hMamyCku7ZbBjKeElRRxXAnfCQhUo4SBx/klSuEJqDL5rgtfyOBlwZZwLNpbLS2Wl8D4UTaDm8pKwHzY/IwYfhOFlwYb4jHPF83LuZmZmBwh4gYl08EfUtlXwPj/k5SMqEVJeNxS+NQBXzwQ+BKhT3E6C1h+rSdy4PCw+N/hYkKlbRQ8pDhfDjjExcdSn4XTDUYv5kIy5cHMV8/hzBeAhwc1C7lkEhyzbMuf5uFy5e4tdRZRlniAQQSHFw5OdclhW2e3in6vctcUNo0VAEKXsjKNjoCRoqBKCKoLYLpeuaLnb6hAK4uMCJhYj7XgKOFCGFrBH0QlsWUo9nFDgAsNqjR/+z82QqeU/2AxmIFTKoA+iU7Rh5beeEXARJnhalXUqVKJiBytUs+8X+AeT8lvwLuC8LcGLIsuZ4uXctlv5wlimAxGUleQJXF/AwVdzrg1CLbNI6uFD4ZBl1BxySLiLg6ohTIMsNLH6NwER1UtXTJFi5mZL2orCdt1flsv3AS40SPqCbGFn7SBGtTRdBbAPU0HYqvcY+vuiAglxkVddpBmVsoHdNyP7YE8jDBIXsuAJDtFzZZLT35OCZnUtgwiQlkuWzPIiAYgxin/ij8r/AB/54ifGuFS0rhF/GMBB3zpVlwlJKHvi/A65qoNabmAo41dznemi6584h01mta8MqaKAVcfbBgkuLxTeRVpLzYlIzcj+kLWAAAAoDojYStjkhZUqE0pSzqHDMQCWQTjHf4BcVPwiPxPwX8rJZLJZLJ2twR5/zMv598JwsJWeLgy4MGDGn4luFvgEWwfNaXC5d8E2D9MWWwtjLXuXwKuEfkv+kRzTLUt4ANmqCgapXv8AMB1Fly5SXLmEIIsixISuCIRaC1jV3H/NwZYP783L+bhEjBZVSo/BitAQRgwNI5Hi5cuXiAzOoss4GXzfxFsHggAQ6A3wGcCXIqa+nkeKTg7YIMEMzpYzrfAM3Jr6AuXuGpusK0tbVqgtSqHX5IupVbk8uuHqCNzuBB5JH5HNawD6Y4IoflIZGwf1M0ZeGxwE3NtWcGQqbcM2Ij55xJOB9bJSYt9HaiOIiidYihFFLXOJEj+127wIw4YDslcVK5qbIpsEL28XuF+IMEVqwbUdXAHoRfdZeCV/nBl8MuXyMuNypXFQr8NDYiP4K1bxLk0EZqYIfwcaTMAoExuEBwNW8nojSOZbCengmncg0/VwDc3mhojYPT6E1mOwxuvLYVQBqWmEOAT2dFUEYPjV0LWUBEtsRdLoIPYywwg3aV8vWrzIdBa5aht20hAsCbnjqQluuAfuArOxqOhqd2fmFEnRqocqnCeRNBBwpMTahjuAgXOtv2IL0E3YLIouMsO34g+ngNvJirRRx1VCbMdeRLnI71GpWgI89W9A3FMSVwH/AIC+JVRcx1zXQQJd3sNxrXMikO1gVXH1CbONUQ2x6I59ChzhxcVOriFMW/G7YugUgOUtjdHksuCp8CzKMcG3Hb1T2xcoJbvXF2gte8SQrocl6siCkACnlBA01uP7YhqYo5YZD7MRugTE3adTWK/zK4Jlp4KZ5MHmWBapsYtsl5M+XHdtPAgK8ezxHtxUM9OMLp2QpCUUCrmVLamClgMSneYd1v1sQiZbFJjNoZi+Veg6qZUkN2tBLb9sBhZC1IWJwBMf35t+kZcuKwgeLZcuNQhhR9ZEaNCqQ0fQSJP4LraJHpdZJVqdxwwXcHQJTjS9tabPIxRG+OzE4IUCGwDX7YmiigfFNj/BzS6tKQOwRp+9iWrcONxTQRFzwNP2bFWAMKcjBceHDatBNDreribnNrSu7e5Dx/3fCyshCy0e8WcEAkQSetcgCRjYd7iwu2LXItwFk7RLwNAWToMDqyCV9d2PbDYGpqbsSBC6YUdKfTLpEtdaFrB4Qw1hKMSvIkoqFqgrNHwuGXpxTHs3ggxAIgiZGddWiCZEIKI9u08pysQQFiUkQVWmNTslDg2qf5alVzwEVb28UgzSXT6R6SXrNlvPKxYGdZGkYLbgXo+7Qm3gGAZ0UEJ4cgIe/YiP5KawvQ2hPYIz+0M8AzY8gIrW8YoA8S//AFUp9WgSsjsEG/ILM172PcXoeYzh4QCRrQ1DxfFCz7BEAdX6GB0zNbBVkjWPSX+h4/6RF7KD1a6g1LITilljZZC3R6Iz9xlpM1qTXtb30BiaDOw3+6ggCUXBisET0wCwNKKHggkeVqKC8gwxtyffr9N1D6owQoafX+RAlE0AR+2H2xoQQh1AEqBU/wAkr4CuFMtD4XyugLo+IglIJKr9hWiWFNZRmPUmwFXqJC0asGPKAaqBxdFDFG2gywwRcsFKLGa5JCh9DE+SyuTtWyApagUBLeQnjQrGG9CgUEI3kcz+mwqeoLASE/GQA4uXLZnjFS6eC3BZfAy/k7i8XARTkRiy43Lg1DguWXwuWlsvi3EtLOF8DLII/OuP8nxYp4X1D53wG+WovFwfkRKZcupasEOFwZdkuUxwgWG2l0QCUUJtAUmSADaaqt/MPJKw2eP4CAkESxNJxWqXpFtQQgiWMOO0vW4EwJuXFncHMBarQQ0a4TQB3DMLarE8nClchFZmKBbM0Sq0JyCwVFlyJoHzykOCPrKYAJ9xikQLK9mSRJU6AKXFhU1asslspBPh1xcdTCLw4m5qXzo+/g1ykc/AiSmGElqDb+iOBKNQcqdlnygagfiwkISQEFwFEKN3xE0kLPUAKdKlSiyzuPAPaxSwBW1KoPFS79xYe8lYOVdhqy4BgMHanQdrCljrv1o6WK0NSTPAJpnVerOkiBba5dHTB1VQ0lbybGsxPoIgWWhOWFaDKwGdrJd6saJzWJuagcnc1W1HCmIV5Gd67LNNlAI0+FKydNurLCWwBrQJPTV2zskYT28ekblHDiD0B5gRTQFbFYvXiXDcSAEV69IzB0nZIahnk8yldLfu2Hg3MbdB3QOoDVQO1LDbVMfM+GvCWW9jLlxwWR4kh2trq+VOkA8F/wBExxrVnAR5UiSLI9hWD7haFnxFAiX4ukXTd14ahj2K1b6E+kL4XgiifE5P9vBLLWamrsh8WBsLnLxog7i7IEAD4WL4xYSfzWEzGTRtlyB96OkG4FRRElFGvwreFvi4MBxp+4Mv5OPgclcVLglduUJoHvrT5EPdKlDdPLGhUSiJBcaIJkpxQXgYGXcS9me8pKPLW0mYoO0Lu/Tdqdw8dBuA7x0QMwJQqmVhSDwzxHTyGJgxlmlziMAjhUxq6l7wwfLQJCA+g/7uiHetvYq4rFa63Iwx1ogn95Wl2J6m8Zbzbrnp7wTyQS1k+qEJWZp1JHQQ6zarfleTiIMgVQtFqXutHLVSV/NDibueTC63ySm8J0Iw2HXErMNCUe38znHrFNd20R09hE5Nwm4q+2HUyl9XiYjWiBLokKuCgwES0hSAGocgRVZqyj0IIQN6l3cExfe7OqNj7yk1hRZ/Vo9kKAX6SVHRbSpF7YJfBaiKw8pfZY5BfuwtKVHQNPgkvSqBT1Khur1QH7cDE2YH5MkKdQgglXGwaWshSCQaGH7/AC+rhJrtm4p/EoC3erJBD/BXSJVBx4N0uRGM3XJRAa6x6gkVITe8JBe+PT9MCVnAVEeWH5VZuLU3EOiQgRigx9oxWvupD/ioNAS0zc9vjPyjzl+7NcL4uXxUuXx3B4sTcLyCmqGGAV4VY4qEh7SNEPHesS8H9aEW/c0LIBSAgDdX/aUNiWPU3NyCM910APwdg3YZy81qURCIgjsYVX1gEL3q6Mj6YAnu6GBZQvt7lDGLWGYGp5nsKufcFGBoAXbWWaAfhcpBl55dcXTB5uLL4X8DyNcRuKS5fLBqE0lIIxJaZhNP/CJp+48XLmeKiMo+I/hPxHAxR3OuXfwcnF8Lgy48DBS0thHm07l/K4q83xfxHgtv4C+4/C/iMWP3CMqHLwESZ+Aw/CcVxTzXFMISowuESHBynNkv8D8Dg/5l/A+FzV9stg/BcSq8pTkXhhF4GXxfFkWJRZ8b4I8HF8DCFgwYQDgxzfzP+WsHm+Fy5ZwS5cuDL+ITT9so5zHhmYRZfFZcuDBlvN8XwfmWAq1HhvSWP4SXj4BFSkgK3AroIeKX8HFaAiyhd/JUkFeiMSbaK/4FnDLhBCcEI4nfOoBV+iBHbwPA1yt9IV9ESCLcNPZ1A5uXL40/byDUknRi1YSKxAoguJdpuoWCXa+6l+HIFg8pGgzNCDCQjAiWJpODN3C7K5SNgW0DzoVnEDwpKM0Cl0XmUAu/cLOCI/tfoQa3ArsREV6IJdaIXfdRGDVC/DUvPNn1HayqjM4rj5xOxCxOaf773VUgKgB24hkBSMCl9y3BkWWpoIja6UDwBiPGi/Yyhj9sBVyoHkl5ruDIkVLaJdmN+QWcWuw/FXEbcJrsiMCZCB2AuZ+emPz8EMUrG+LPgRVbmDxEp2KGs3QKkWuqFisQmAtXAE1MWSxg8D0FoEZ9BCj3xMBVggIuJq470OAMp4CA+DilOfJLkGFl8hzcaCDatEu6TULBDyNzcChGbaGIaU6CKBhIdJA65YUEhwqsiZuHfQBtjb2FvSXAeBgAUtdKRlAkId8sQzE4Jp+3khYK0r5FRbak4ZUuvaXlwoil0eWOw0l6vtZlxHdpET0h9D/JuIJZFROth4goN/dgcIW29G2owsdnC/5kTECj1fHZRiB+l3C5UMYXQFhRCIU/8VgRNCvJtCxg3SMDYuCjoXTGfHwkAqYoPR2eGeR15YxbRl1oy4bfVAWw7oJn91sPoPLMzz8ciVrw0i5jSdvgQArC0oVD2uFRoxdJmB0YBkutkrjZddKj+xl6s72QtRHVy3JhlJl30ER/K/UhIHbFDrTQfC/9S5zwmuFkTOc1Xb1uKggIoqVR4PLA3FmC0Ml6FDhMN7N+wg2iqy28xCKvdmP3coBQHuX6v14EYTRGls4Komifobe465PQamncnaWtv92bNKXtlQrnVXEr6DgR08CIikW4+GxmBSMUlVXl0wJhYhffzkJeD22pYRRubgB2CEiadWVCFTH1DJsRsCzNsfwQsRTARNzWMXAA9v8ABAO3WK6k9kegXnEvAbWcUM2fQbJBklIkIbo92UX/ANdjpAkRibR3WPZBv0N7kcGICAfZvV9GZGi0MZv7RskBPbgkuGVEKUGAEdrNUcpAodOClp2bfOwutJAPUszabsMChpUKgeiJMFCiU7VgXZSbWM3wri+czV9vL05VC6spl6FVliViK3UW+3jy+tG6Vd+j2rhrA1GQPbC4SAs/z8idfyA5gQAAKA0cYlcDBNmNAnIahckdmLb5mVa43SrYbAwO0wVsqK3Nor9uMGKHYX7gBGeCw7pAMLhhBcxTUo2LI67roF5eXLwXMASjhmx/LuHWV2By8GCDfdCnlNL4IPZEqG0y24QUR0Os/UoUxDtceeUUCqSpAaLYC0J7xrLZlD4gNJ2SklXpE7+oK4HGGQshAwCgNEx0By3A/U6/gr35+5fMFoWftYvsNbAcDTMQa3wnXBbXTYmHoWcB9k1p1XW80vGCm6ZP2Qi8mwJoWkg43u5Cu0gelu3rmEHowXwUAxUet2UMTv6wHN3U3Jkik+hWIUYArxFLe9AQ311vSeRMkBJ+mF/mLsdCVA9WdQptF4wjgJBrLsiAKrVl1CIrm0YF81F1KOxMk9QMAw4IDolVJvZLZ5dYWAB0RoqdoCdUgkMame8vmiUGg/C8ft+Sy4fQMPS2Mv8ACyoPC5SXLlnF8Ulgtotgw5EQJmIEAC1Y8XnWdZ/AfE4XL5vHC5cs/wCFcvMXgg+M8jCMvJdPAebi8HCDiX+DRCLlnL8D4pKr4WdVGmm6ZSEC6F3xmAK+sUsuuAtkJlt4If6ELYGN1C4yATHWMXXiNjBbTRChPl8qgzcOJW6kwMq6arkYMIpK5HBJSzWHD7+AXGUFBbRbOll1JooGEua9HPY8OKitk/VbPtcKYlLjwPA6XsEYB4RAA2syvKrVk3ptXA2lPQZ4gVwfa7Q7FNA2qonVxlSIDAdD3KEwgF4wCFqFqw5RxQ4rJVloJn1MN2TUFOt0hP7UsnrdnZLbMchshy+RNd0GuDQkLlXLtpon7yxpLWGBFYGxJ1POFYhBNMTuUwfdqhEx06wXHIbiRxM81BbQqLQp5JUUIWD0cHyJo+3i+LgJs4cS5ibZZs/JpFoLZT+edQ1SZi0S5t16Ehr5G3uiD3og9aCLsdqMG8nL3u1faJFiaLPdu/TqVfNoUqiTfD6oNKnrEHphBch0qYan2xfiITsE1NPhEbBQ6A9paYNaVhTAvAib3PdTTzTzLnmE0jy+rS7Q2QYYHWsv9nkjdj7GW/WXT3iKbg8XGWNzVWjCo57J/ONQWiS1pNEcadlSFnR8FISl3lmIBLbWsNo6YeZS0E2x+u5eyn9bFFPuVoII4G0epDARj01W+yopBBCjqZMnCbB2A6JoC8OY8JXicEl4p2zHzyvUl2gT1SJ2CmECmyD8pUg31oaOwDp4QLs/cZDkiknrPuFOHIXevcOD5RNmyYi3wsmXqVGpDZFr1omTBq/XIRoAC7kSIlKMZMPpIwNzB0rD2wyn1X8QGXHl0Law4d9wTdASDyKtWivIkvJMdluIwDOKVKROmWAwmc2QYMrMwPB09ItKpRR8oBC35jc1ypUqKUbeM8PDOoGxcuDG+uSkgESqYTi099FntdmFWi6tBLmXEmuqfz0yvqaVuhCKqSOt5X5QASgpdIMFptKQEMmmACgKJSFWxd/ySjrbCo92FjlKw9oO41Aqxsp4tRcHu3SWLzLZ9XCDtTcIlIlRaWQQT8UlLKK5MblRbbvloAHeSBAQ2XsfIzYyL8r3c2uKRFLYIAQiKwE8QBQA8EIUlCosB4PPFkQhJEBsmFLr1o0PQcBCACFiZbaKiVosAWUGAyWXUutQalkwzCImJUoA9cEKqktkpZ1zDF6lFwUQrwh8GqIpIR7qCOBrWo0A5pm4ASJdRCCfh9QQxGYQ6wbvV0v3M8pvMB9M1geH/vNT5EVAFEI7bK8tvL2nWnclLMSGC5P8yKUGwliK9Gl0LpI0BJWb/S4pR2RPjq+V8moy+GGvgMGDfF83FsxEXIOlIze19xvMtVt0XL5F4GWy+Kh/wA8lykuXFlzHK/gIPFJCgFiMNEGDwEbSuL5t64v8BwEOKhw+2WfEY8MJSU4VAgRsRM9jUfGu3ayUIiOwhKRvfzFXLpgBfeATLSksDlAFHYw/1k++FtRD+maYt+Ryq/UVHvvXerjTrOzZNsBxWtx3BgDSZbKutrL+BiXjhh/wr56lwK/JfLcGXB5yS5RxfAsuXnhZcuEWJE4uLCX+BJkhyHBLCNiqazKnRLCEA7aWWu9x1e/pcSj1uOcobqgOe4+4ubus30RF2pA9JeUMN7UZ22Cqcez0R7ZpZs1ju4habEysB3Ahd5sYC+07YsJsLoYJf5cMA7+dgqrhrnr0CJHpisrt6HhY+/jA+2HBzXyuMOL+F5l83F/4TE3BqY4F5Tm+b47lw4uDL5YHHbE4eElvFkWMdQllQ4IdBEpGJxAHp7gCmeEuOgTRSj6SVOUj4gOwUEAQ+j2g/XKutdtQeNl7E9rCyA0wjixM5IUAAB4JcuuUwZsLo7OSDLObPlWYcvwL4vhgy+Liy/kMuWwIKK+1u+N4ZghPhKlsmeLg3wnN8HG4ms4e7zT6lzgSP3yMH4ZCUm43KRhIzRw5le+BZbB4Ic6Trg/z4+CsuXFlOCwiyUiDhm/jiBKicGpcH4nFTrtXviIZKCtlVzbL5H4DF5DoFfdizlKhILo7lyH8026shizgiALVLxhw1KlQ4FIU7l3oBR2MRaLLLluOky/VcsbOlL6JcxSS8YZYkcGsjRK1JkOzg4rQJ6ZneWF5zQNw4GWMuf2nm2Wy0vhu+CVE+IZfKEnBXlhaSsED/NRkmT3ErvYMpgJ7WEIKHu0C5XVZagzR7emG5Xrn/wAhEnrqyrc0I+nztZqXXci5AzXgmNEKnjk90+Y/6RqFKsgQmgFlovcCyjahoOsFZdYksdHSdk0LBTCXbkLBTVy5Jp+9ghwc3wb4LL8gx/bAAoizaH7y5SN/WL3vn2aZTVy30AbToIgN0WK6dTL4YK8hmcQfD6kppM/ljwJuGwSB8LS3UdrlHuLowEOgdLDTpNSrZLIKDry6JqURYtWRDtFIwkvNF0mLRitoF5aiL2E3CnIepRFaCU8WwzCoXb1qCiwH3MhXLaMlyuWNZ2/8OUlvVkso4GV3l/iZWFOuqAaLD34FuEGkYG29vWrXY6hbUNBv0hUUkn2s7IDTjBVvgllKaQgpi2aAZ3aHcLDOZLa6l9WPhKZ6x98KJr/Tj5L4VcJKYkrh4uEuPUDHy6lzelMfIuwA9X+Hi11rCwVAITAVo0kBAGy1bDQEUZ7RsqFW3ibxU/QqXeerghQiEropKdNozShr8BgtAXgSyXzLQl24VaK/caooU1BhABzGTrH9AeKLz2HXHWhfz/0kgQOdAujDZ9kZKfRgVR8QuMEs5/jdq/44Izc/kIqP7q0ZbArBtz2NHWHquoaqvaiKqpk06VEhA9VE7myrcRp6bnSSJhDIy0A9hlIAnNPsaMcY77GYB1bUUUkPFn2i6kKawrIqnWOpl/owHad4lWbdmk8VLoML7NlkXkTlsid+Ew+CLAsPNQ0B6E1KUQFi2jSMxKUUoRPZKp9kQYbUNHBUocJiGIVtnEVtIQKFWGRgwb6FRVckmrZQlIMoJjmjshCqPQdRVtPdobwqr2K9vzp+x+WDHURaDaRalQeLiweD4FrkXeXbtcV7y5QkErVxnzTGSZGXIKDsx1cUuDCPV7ri0qogEdJTF+UNe80FA8bADmH9LgJoluKl8kWh0L3bAjp2KuUv3GRbLxOGRS4O6DhX4qFkICB0FfC4NRXwpEjDtqX93Bn/AHkeV1Bat/1MBkoYvwY+Fl18W5f4Vy5h4GWcWc3wk1Fhykp+GoTE/bMxRuUSE2xYsoFlxMIS6ZcBCDkMv4PF8F8387lnwripUr8Iy53Mfg3MkPgy/hcOb4HMfELODLly88XLiuuKhwEqDtXhtKhA4SJxTHguZ4ppCWkvkIshFwzHhrgcwZfF0y6ZZ87ly5fLCpmdcH/Eea/BhLJfCzHfF8XLly8wpD5gXfweLjmVw8khgly8wZcIpCFvh3BiQiSmVyRly/kb+LA8Vywl8X+fudQj8kuahAwYoISkslwYiMVgy4fAAgSvgkcRYcEVKlPwUyiWSjgl5lkYsiTbNPA8URIYmInxdwebg8VngZcv5Y4GXBlkWWS/hcXhj8jlLiMVIRVNy1xXDCFplK418DONECvi8A5VwTMqVCCIJMACBE4xxXAvGZbCWwi5eZc6nUzLxLcB4XCLIQPCkuXL+F/C/hXmYqJXYg+mEZeI8XL/ABMeCJJPKplERM0TPtE+lzDBr2rJhwJOKBw4WpAkS73OeOpfwsSpnllpfF/MFhZKPwVBlw4OVLZb4XH4LUMi4Pt0wZUqC1YVoCAIGQ0jLhwMeL4DH7IYldB9PCLUNRYudEr6MsBe+BF5IpVL2FYmhAWvgI6UBNbpwwCTssmYS2Lg8Er9n9Iastv/AFIMW40dXQWvoj6xXFJAJAAtZWkvkx7kHNFQDawYUbA2mMV70jZBNKi8eETLslls1O46HFRbVvBYxHve0qCuC3ywpm/SOMWuQls+URYI8UrrwkUzMbJqso2uYWymGjrneBNUZ0LtmY4OcgCvTFe2J+6lQKlcdzpjhxa4sSI/ojTPFdUOyBXPe6JDuDVYY8oCkiWde2ghcEYKWPgQgSqdufdmYc0j/NgwZZdWNIpdnb0wRiWLl6Qs0ElKWCCTJX7K4JEUL7YX4FidkqWDVl+IQvU2rmMyti4On2wLyBXtqGm90Fcrcr9JXCks4WSpqZn1Lyzafo/RcQHZS7NsidBc1EYsSxOyLiBipmAG1e5d1kDLVoO2NtM4pIAKlRKNK74d3UqKT1XfOpUzbaTUCnAWvqUzbXLTCghdwIoZVvrCQHT/AOQJ2DLMgrKSxj2V08O0ZJpS6AhWWjyaItkPYG7rwQ81ek7TwRCFapvuvwzC8WjKLYzHWXjwmxy3IDD0cuEHFa0iq9+wh/jtJahz949igC0MdVGv2lsT6koDu6BBBLE2u68JAMgm4opSfuJjRCsGehSh/nyAq3589kHsdVAjsexiH6E5ZYBbAfqYaKNGp8p0xOYbLrVF3+GrCLuFPFy0d2eyIolQUwj1DU62H9DsQkIxYzPZDUMBEo2BLuFBaW7oJSj0RIWMT4BCteXmm6bG0jKix4Q8wxeLGUKoxiuxfZZmoxrVvhRRKALvRO1g0JhadtRcB73iuSah6u0WtbgQsVQr5BuA6BLwEN1Ex5B2WCdxwyXh4RHAdLostUejJE3kIexBtwidOspH2QE9w0Q5Lm2AYZJT+I9ehg870vThBDW5Q2xuB99XZ7hmk2ET6CFZbodV3h7dIQMxrVDiUUMacUInS4Mzpl5Q2iCcZDdhs+iGbUq+0/bGPHRM7L7lxtjxeKWzYHhDKQ3pFDZIKjlS20H0S/E8uHiv3Bb4qlDAIpGgDYhxI/mYohLQGU2g6APT0wrPkTo7sYYFXuvk9kBlHX3SGggSmyDIWXKyvc2NoBY1EGg9/wD0x4ELWCoEyJP3Kdj6hh2ZizxwpebVPZ3F6arQmdRkpUNOJ3XM9mVgaA1baHBFoUqyzUAIBoCZ7pcxSJiGYBLxTMQcEG6S8kADhCEsuWSyYc1wHhcuPLKvi0JuBB2S+G5B4Y29gKG9kDCKgNE9BEKjsah+hB98UQgZuX73SUEI/blfcI3jPgnBCBGCgexhpBn3t0ivp1sPsQ3lqvte2OVF45l9GwTT6uMMU890dkd+MkuBVn0diDUIuNRKqPoNIXYT0h4ZgSAiUjAggaCEpWFMFp6ZUBkJoE9EZYN3Z9M8lxN2+2XNQu3thzz7tWiUN1FwEdjAwMGwQ0xsSv1CwAbLLgAoxKPgJK4JXFy5cvgZZLly5cvklwbjxcEdPN8jwgWtEt8n6DTqXLl8hFnwCJxUIFiXCBl8XwPNYgZR5hxbF43cCVCEdRgeBkYiR0nUIxpwDyTRELBeWBQTUIQlweRl8BlXHm/gP4FDQofBcuXFl44OHRbqo3TEQ0BbDL46HZBi8VM+aj+RwfBiBbAXiWB4K6O8rq7FJRLQkXe4ohDmm2n38SLg8N8HwLfUKbl3zQm0M8LxB4zFBldwuNiZRkVo6FRAcmgHbLtFjYYJ0r/rijwoLym5cSP9jHI0oavoQBaoLe8xc4Z6L0t1AANQHqQPSqZqWy4N/o6EjiW7yUuovYJe2WCOxNjHRTcEKvVsSoON+0GXFbInyS7ix58pCloGH7dLflQjA2hf2S4KhvHL8KToM+ZM8MVIBouj2xUZD6FS+WRjBzWR96WvoLgtoEX4Y2H/AGEjudND47fUvpDMCWTNoaYYaKlQep+p2AQERYlSoUbgUHFqnT+zg3K6t+ghpXuMqi7tkZJG5+cldPu5loZ3d+EtrFu8eM9kFGIPddehgUW0jFiwv3CvgAWDDyl2SgisBKps8KIJkfnSiyUce8CvcCq0gw6woIGNttEUhOSrq6ZUTtpXO/g5ly+VafbCRinxWYW8kSLHAcXLI1HdcpxqFJlC0gYftj7aqmmrGs1YgV6iRizyN5bpYQiw2LNEGDMUWt21hLbQsgN1KYdl3f3KE6OArJfS41MenSrYAqcAsI7GV5GBuByr7mjVD9xgjLpVHci0kGIGbadJxDioR6G+HKqnwO7JUIspoVYQKpeSEXoUbetDGmESYwsQdUHxvIJS2g8tCkhYsoH/AJErbb6WQpLKgA80YzjoZTFmSw0nqMVhdU7PRPQ1xIC4QjRRXAsH7Y3ipFPMQb9oopBNEvvt/VMAQ6aFzVOrfuUUMnjoDwkKSrvaEtKm2GFK/aBYo7W+BmdkWEV2ldMd8uppfqFsKbNArRMu3/U8XqGoz4UdL0h2MAY+qhhI6l7RS2Uc93/j+Zf2rBMr1BZApCxJo0NeZiFXN0eIKAAR7QHMC8pK/KquFPcAy9JWStdWbVfyxtOdFMkqxBT1ELd6AiZG+L4MC/DyhbwhgclTuWv4UlcacFTDLl1QGJR8M/RKCKtoUgBmuF50hGmOqEu6Ii6iVacNKQMQwHQRJUAXn0ukgfYHUQjAFVQ8y+a2qVC4SdjFwSugqEAaICXggYMDEkLK0KeYGhB6iFUbUIKgJMVYj1NEByoIPfaIQYtyzYMANEAGdzqDMRBjXAxZcsl8MrGpL7gy0qbqDSRQWbK+1tgy+Lncvi5cv4ZlRIRq5TiyMBgeeuGOeablw5NQlXKeFoWX5BiPtUXHFsXEsjSnBwhEAC1gjDSelrEKLhPp+APaR/Rc3RT9L4Y6k1z/AAEL5XjuK8FKcHzvi+L/AAL8jhWIKiS/gcV864JKgcHw9RG4GOKriQ4OC+Bm+LYItWqLYKxAljzH0idIcALi0Lq4cNbDTEl2MQdIAtWB3DNXFCyMJ9RGm1D+zFsQl7EIzVAq+iANRzgVZ+4cQv2glgFQvRpUC8R/YSnja+z9kY33CVcMO6R+qNhbA7ZVD3te+CNcJIKW6hB3ID4i7wFABanoIxxZMlImEeUwFBdIkEx9ngzAy2MeGgVeAhY1ifSQ66f0s1ImDZ8FvK0G2XV5xEQywLSxxtoP0TXYv2KTMh/qEOBCwt8vF6+gOnjCXofFPkGGup6N5YIBOy5XCfhT4JxXAfEtMCuGCah8DjuDDwBtYqxE5VzrLZ7X0iKJkH7vcpA8kAjsGEZ0KmMLhD3KO5xTHPed2iA5Fw3vYHcFDjyK+IwQWPG1lg1wRwAaBM5M19v8CGeND2wqqjv/AIvJaldO+mgFczo6OgukXMK59mjyBM32R2kTRnhbsIQ7HOk+oiVVnYMbBADhf1ySp/SC6VAjVNG0YYYZHKHVY9lQ67AY0TDZ69w/NqsyoWXqLLYBTEKpSLsNuoikqzUItBdqhMYyFCqj/obKaD0+0OpUgjaEaYSXcztB1r6Y6db5014phBSakJdQBgToowGYN8QUZOZhFTQgdFf1VFYPDAkeYZgMGEyHWwJESEiUW0UDj1ASX6SKrJxWjdoY8gTF/wCRiP2JVjzXmBODA7GDKhIPIsaYKI8qZXF8Mz8SVwqVXPtcGXLjLjzWwmODgODesKSDVGhDHi0bWHsRRQWkNcEYtal7qAgAR6cWhoqXPA92su8pX9kLAFu2Epcbsht1oQAAk7qbAgB18SAiCM6wqqqAFVLozSaXzwcHng3GR7SiUvVPrDtIZMekGBx6xqYixSVLlY3/AJKJXCGaSaccgRaSoHLNUbGQhYgFdEqUwQW6mu7SLbFW1cqx0BHphlARUgwZXEAHS0gqH9MVyC2VhFv46zChUoRmCUEA0SialZpCOFfoSpwnhBxcCoGmpVBe4FY+DzUept4rklSvl0cXLgy4w8vNpCBuHwGXzRNRSbgwcQ4sM0hSfBcs4uXzfwuXBlxi5ZLzwPwGaQfikMQYfMBSWSyXHhg83y54v4HJGPyYMNTHA8XM15YEXBD5F3wYMI7mEIQ7AFTQEP4Mo0jBXltGgCV0Dp0fQy2ePwXKXk3CHcdlW0onsxyuGAOLeHkl/NUa4MhMwWX8L4MElpZzcv5MHi5cuXB+RK/ATjPDbjwxi0LExYh8G0pqeiMtVV83qLRB5tV4Wj29Rv690EVsXoIPuoDM9iQG5hsz10piEBGx0xcWCWHjE3f/AHsPrpo3I1rTp5uAdA5O4cXAM98FDUwYll0y+GwUImhpjxpiM8ABjKS6NVT5EZa5VDo0QhSDUADtLW/A4zwwYCXGDfGa4xDhh8KYagTM7gy/nb8z4XzaUhlLlzbi4xQdQqpUYSKuWkIbNuDyMqebAxC/ShPag5iLfUl6aAI8BtIvNy3baxi4BF0KkpgyrY1QY3K6bChfQcCWArLaKJd3CX1ZmLMRK23E94zUCo8WCwaIPSvLwPCTJOl7awFa2lEMKoqPJpKLDGGkJiO3lDR8Di5njqXx1CDFhGWzrglSpUqVK4S5UqXyvEJkg8vxeL+GkrIpD2lq1PEtwseApDgcs04RDcIoC537wUKhkpRZT0BQ6HgZXyEPJlkujVkBbfMe7XjEoAKT0QBFFDawEYZeKK7PcfEyX3xcrZHgKmHgfgRsHZU06G8q1CnHpISjsAiGSHhJiPBCPFy/gcrUIg4HENS5f4kxAxKlMI3UI3Bj+K+BnEqAXGXiWRDGggXAeKqXDGYZgwhIEs6JfLxkiuBzFLOLlwhjlJUrhm4yuLzLmlwf+FcuXxcGNwZfJcu4vAlwYsebuYcFg4lyyWy+fqIhSVwWXFhEuJBg8MpYEKuMWWVBQnUIBFgxEfMvnUGEvMeBhzUrmuFmIy51D4DfCcDxrmyYlwMxLORJlCEDFg8PxH4Uly4IwAV4ElmuLjUGajUGEqpvlmrjdxVyMEIxcZuEuY4rdUvxLi1BMIcoKZS51cuDwBMckUhDyQTq3te3BHk3M2eDejhU65IwYBgxlsHEOLHhj0NNtmHzUHMS5hHSDb2x3C3BbcSy355IXRBeAObJ3w4eF8WSzm+LZm4uYMGMOGXDKPguLNITeOoqrHZmDCHAXDNPvIWOsp9AJcyYnHnpjF16i22CO5hBcvmKlcZVpYdh0xMx8xaI5XuBAwySsmR6RGUrGAsH6Yox4Nn5ElnR927yAG3ubwi4lKPLKj/ITs7T9rg8bmOBunmHFBXoqUe3Adp0RgbM3VKwinR5MS4LzVYtlMJWo+1pPkhwSl7KHlqXVQFqgHzU6rgLNhe2NLZk9MJXagN0+GEmJXd6CGUlLWJf6tjOZtAbToi+6L/aI74WZBmwQ8ewZgQU5Xtozli3z+5fKSrF5d+/0iHfR2IJw3cGoRkmErfFikLg1F4FEweUpKQZ3wy5bxmZqdXzLjwuoGYEvM0JkjcL5FUDi6EQUDTY2UWgE2H2I2xApjVRzusdEYjFv0jSQuEOIFE9sxxbDH7J43eZjIe4ZoQCJ2MGLHoJDrhVIawjoPJcpnbmpbuIDtGjy1LryGTeRgsuOsUlIsw0LuLTIy0rcuPGFSO4KGWDml6LvCr1MI+gBQXTBhrwas5ESeu1MLEdS2uNDRIDQZR4ZU7hrQJTrJQmqTey+pGYrzTbMp4IfH1ZdxldCY0zRh+96CrPE2SAsrJsslT4XVFX/UykEPaYgiuIDnKqWKb6P4SyTT0FhIykTtkVh8pDsTNd8WDa8XkL+QMoimoWyimeCTYMLMGodo0m6fUMqzR6+12Tvl1bWaYAewDVMFcxLiiDVUC2lYSXwIV0YsUVCIwvMvEKllModzaHIBmeCMVGC2DsRuZ4vgZcXAcK/gcSrwKigJwVGuCFO6AJlopbwFbwQ5WwgAhFxCTGQpJrDFIb2KtqwjO0MeEtKtGVdQq6tUftMT6kGF9/tDEkNXbSoFVG7LrBFrFqVdKUwhGTCCsvMHJIRSKzZhXD6YKVG8xa1hrvfaVALlkSsDk1LElR5EGBIcS47ekQhERUNDIwqJBV9B4jUR/FK9ClVHecLXRfKicmllah4RS4V4hrAlBYlrBGni4AGDigliVAGipai8oLYFRowTZYYfSCOZRCxmIork3iNo5vNTNYcAplG9dDlcJCpUYqVmAwJUXMM8VGKaqCJUrNTRKRxgUSiUwuZgIiYcpGCVMmoY4sXLJaGcCcayyWxW5VswJdRKjHG5WVw74qW4bl0ZgzGjt1Qw6hlPa2x4uXLSEXLqXLly4kl/BhxczxfHX5K5qBAjwn4mueoEAY5MJ4CHAYjcWKHay4NS3ngIvA6hFtQVLlQhki8AFS4y2JccGUMLqF9xgMvEpE8cHF838AYkCZjAzEYRnvi8/JhiVK+IQJRKiQYfDCSuCVwcJ88QwyknC+GMEG4KrjvgSPUoqBFE2ZgQnuE88My8OUEBI8wc8BymY6g5hviuCnnc1LVRjiuLxUNQscEub4eDPwHioE65Di5bBRi+Bpl8kYFzMCODi5fFXxXAcXAIl+f42f6Nn+pY/+Gx6v4WP/AK6P/ror/wDon+2QL/8AZP8AdIf+sn+4Q/8AcT/aIVZ/kT/ao/8AqIEP86f79D/z2XH/AFsP/HY3/wDWzL/1s/8ADsFr+RBKv+ZH/wBlAa/yJ/49h/5bD/yWf6Bn+hZk/wCli/8A8WHf/Gyh/wCln+lY/wDhM/1LD/y2H/ms/wBCz/Ws/wBYz/SM/wBKxt/6Wf6Fn+lYr/8AgxVj+Nj/AOewq/702/42DP8ApZ/rWYP+lj/5LD/w2f6tn+vYf+ew/wDLZm/6Wf6lh/4rP9Cz/Us/1bD/AMth/wCCz/Ws/wBCx/8ALZ/oWf6Nn+hZk/62f6pn+hZh/wChn+oYf+ZP9Iz/AE7Mf/Qz/UM/0rP9Qw/8hn+kYf8Aks/1rP8AWT/Us/0LH/yWH/iMLbK//wCoAymI9TnuTBvxVLsHkuw3eCEqeKjy4edKDaLzg9QhUuYVEAxKl34ExBu8o7sp6oUwPMlzwdprhCs7T3J7ETNoeZEUlky5myp7UPJh5UJXtT2Z7UIj5sPIi8WnvT3ZX3ntx86e5PbntwIN4P2h5M9ue7KO8OtzJvPbnvz257c9ie7PYnsT34eXPbnsT2Z7M92Pmz257c9ue3PbnsynvHoUzbQpKkF+KPxH+CUwlEAj1MDERhhJ68THIsoEAu5dYhAaeDJkqUJKhiULAJRGuE6lQIlWjhC+CEqUYjYrhpYlM/g1iXcsd+5/DKxKxB7ALq1l9d3swLYoyjdEafghKzMZcvjUolhRxZxS+L4cQXjv/kJBzel/g/F/R+CgRp3KzfHW8dK87tMGXNmpoAs3RLE9qkj/ABQHzfFy2UzuutuEVSUIWeGpZAhBxB1WEdhk8EsLnO10KtpKJZLuGOFuFHwShk2LQwsC1l2WMPfBBlvC5Ue6BNKQ9daEt4DxEVCjCl0E7Iu8hhlgoMAEUCtAbZpbCNH3XOeRwJGWXXIwZiVyL4mOBPynyPg6hXbpf4PxP47AdZgSRMzMhHoLhTCh7KcYxZ+AnA3JKUAutguh7ZReNbZMqj5g0LEfZGeE3pcX7IJRFoHtYPvlfK3b7LQlLJDQHH/ELNHY0XST+GUisXYTULeGESeUbIoEbUasxsuZ4lfNfxhiL3KirUSqxV/BUC3cloQR8ZtIh90vE2p6iyLmErO22bbOc54PlwHgKbFLcuFsKzu3C+0iKbPhie7dBH5Go4EX9wm9V10xLhrRL9wy37Ja+y8FdBYos5dLcMxNtmqWgdoH6LG9NJ8iXfUe0xHpVMZBfQQLA4AqgyB7EGp0UnUvFWXuL6lwpbKSYtntAIGL8ll4URpS6q2gZg55+51CKXXc3xmpgKU8DMy8Sl9y2Xwf8bR+oBZ1+II18RGBbWhbRYFFBF501KTB1VelpuLEGZ6MRBABlmumKlUlls7oBVOmGdmMrf0IpWCJbX7F2YsHvVtiTPYRJXnK5+AoFXQXDkHNBSQuaVV4ArTAPzhBajUiwvWVDcSyCjsQsFsAQCn1hB62dCgdAhKAB8i2CEyhgZnSsoQEBqIhhoEFhKM/2vAqU3SwLAa0IPRFg3kB7PTCJAwgaXAMNNQXBQGl6eyIGoykxULz1Y0rfdUqnzBL5XVV9QtRY7gnbb+yaRKsyW4F/UCSmgWw5Yd4fZylsDAsR65oD+mCYcx/0QsusQsFVa9wIldVEY0EGF3XavljJRj+yUXuP6GahUp0qge49CHxOV4vi5fwreRZsl+4Pvm/+Hs+oeXr8QV8oYwvJaiWxQZfwGZcK9EtgwjiCuvSZuBgHwoMEcfzQR0xlwC0Eo7/ACJFBbSpeTEHgQbiwi5cuUIOVCUJuG2ublsGWxivi5bzcvj3GH7uDUeLmLgw/MYPn/QhH1vxWHklc6ahKorth5uhG0vmEGm/01izo+z/ANR0f/k+BDDfnslvSZWRz3EUhcIQCVzRc7gcWTOkwAKYdCDKgovo5srM9D/iDkEeI979k41NPj/Nwrj94Z7XClA0qPVk/tjYQyXB4IoWWZh6KRgXNxkQfqkAAYu6xWlLHf8AmQS7PNR/ol1fsS/6SwYXo/8AhhsdIAAbartlaxLXS69HCWm8nnjIuU1iBcTmokq5S4cEYrg64PhqHzT5umI/V/EEYOEhXFHA/JG4mOKYQBYO4EI5eUhEhKmkJmG5WYlQGeKeBxL5SWlPFSoz4SsQhMDEHqVAIUMqNUwJVR46mOCXB+Y/k2fUeL8QOI8VyDlalzSDLl8DLvjvgi8WVVckbphF8QZcTEGLAzC48KPJMQ9cfwVF4zBg8PDGJGXUMJ4lxcQqDxupZXB87hxcv8f9CLB+KMZ5+FkXVEeB5OFYMuXLlQvi6hZfBOk+FvJxBhrEDUqCOka4uXzcvxLnfNwbmJ2y+rjcEsJWEogVwMxxiXy8Euq+WL/M6fqWD4/F6fHZGdSpUY2JmXCMQIWtBtYWCAl8EF1NiFxuHBDhhaEDcIeHlMRwYBWoQE8QhNEpTDaNWLt23xRUoqp0gHRyhlAOJEwwgyvwkKr5UfmdMqF+Lq+2FDKTPNRioRVRqUXfJlHiAGYOCCwgMqVAROmHOaGPBF2lyrJTUqCyBM8DKTYwupanFxuoalQYMGFO5VOOLiMCJKjhQla4zM8tc/bwzxczwqQVmfyswL3+KKIe+Nq+C8Epsb5Yl1LiwZcGDD4W/C6gy2C4YeMwiEeggCgo5o+LwRhuX8LlkQqDmub5EleOHjQWF5Zr4C5x8D8rpjoL1+OJtiXLjxfCDmXL+Nt7ly4xaDTTXTBIMWDqWy5cF4zLr4iXAcBiw4LJcuXBlwly+BlyyXNS5cRxxXF/G4sKPpOeSr5zxfFw+Fy/w4D+LWvrgnweHxw0i0K5nXZZVt6AI7AViEHs4YgOC4pjaVBfB3N6dou37ZRUAx79RUesoLDkuLKq+40BeB5Xi5fITDWFnlYuXGTABV8BAMPFKWtW4Mo64WnYX4DwS575uA6McPAsthLzLm6l54SExwHwVUzElHmBzcslweD5VB/E/wAD4DkIqgBHkYXQn0digKcx/haDowAORIUeHbgQRNz+lJdGx3oYJgh+yHZF1oyi9q4inSCpe0FIHD/5L7iEzuQ/UALVwe2HFmQnnQi3lXylQtHQRuSlxLbpRZ/YNcEK6PXao17jdt8KuslNw/BdxbfYQVst+HaMuuNMBDbwsNvsyTIMmtl5NaZuPxIq0FgeyH7JoWWtxERQIE0AIkcXmatQHpFcRD9FCyDrO3C6cME4RR97g+6jD/WIgVtQBHyPN8NSzg43y38C+LVCPDwPAZh8G48BJgjyVM838WV/iyGRcuLww+o93HbDGkA21K7YRxMQ0gudwJcUMD0HCRxaDRMR3pAuUtxpCtt7RDwniazgUG4PYYYrodOJdggF1XTBUwRgrVeEmANLB0eXJgQg13kaRwkbwKgYaPdEbTd3Reg2LNLR9hwQWBQLQiMWDNFWohTplp6GvlU7YXsJuk81ZX1q/da8HQStdt60C77Z+tH0wo9tZlCpoCR2WjTKG/gAAoLWMpATHdpXAWAwmIBtG7IKrBJx2mWMIjkYr3HQ5bArQmTwzpymtVjMAatoKg4+N8F3GzUvi51EOOuBJc6jdcXBgy2EOMMI0iM0AMdkJR54ZbwAQ4uHwWd+KzP0iTMykuDBgsEUWq3bAlzZIQZbzLly+xxL5uZIPCQZPqcqBF8OWN7YEVUxCDLJ3Fls3hBTuXFbiwZct5GU0dKbODUfiJBlicIctLGngl2POblxQamZDi5bM8jKPEBivgRiQqWctP8A4s/iqU9MyyWSmtwOEa3UBO74GbSg1xczMy2Wws1LqUpXiWogy5m+ExKPMwbGJjdTMq5uVIwpuDydkT4jSSiNoqdc4uZJLrH+Izj6vixC5dRi7+kEuDCaW4I64dAw4o8/hVKlSoBNocblV1O4XxmVwc4F+IoH3G0Yp5DKgsOCVMuFwdyg4ylaB/6UH9g2TCCSrrBfAJ6mfBdSm4lbwPmdGIVkk2kLGD7mJiYhE1cGr1cT7LdrEdqY+q5T0ktGGVLQWJWUWaLatZhtJGQjwweN6+GysGVwuCRplxquMZnHvrctRUcfsOSNWOjgBPvLvRNiAb7CVbFtmgktZg2FkeWRL9kZxVPsSITKO4VEJp4HcF7OUa3XAmSXBPnUo4qV+A17f+x+IBjqzhkcCa4buEI682DCasCLH2LaNQQ7KmiVtFbn2XAw0/7xr5X1L2Z0BS6jKHc87L7+tlkOL8Us0e3omMbUTd2v7ljvaD5YaXD0asDq7R53TvrHcMsN1VwVOd32TCGtuNNsi1E0Mw1UQvoimkfkEwE8kCGyZieBz6xw331grFpCEycqjwseKk4pCSSBlq4/LAB5RmrYHa1GFIq0Ys1eoAfT9clbgHgXc/ckkRk/kd7AB/KvJNaUC6mmCozUHY9QQRBadDYXAwbN76/4vggy/REowM7+oX4FLSsfqC8a0/vdVkaruMywajCvP+qJnPb/ALFzudcXO5ceDDzfDfjguP1wVywfwX8L4x9if7PxGvmnIUb4GDwS6tZQUlcQ9j1gaBbUOMzbt+xhZG0BVCl91cWTcq5bY7xuhr2N6irG0UlXZHOViMljYzz590fD2kAUIBoDqNHCMpq06FBeQqzanartgGt+GWXQ0lyjSaSsnkNY9EcaQ/pFuBMDUIsr6d1NReGA/RwRv2wpVi5SCU8Pqf5m0ehQn4sjPFK0bEIKtSU1YZqXyPoA1/7hBe1Fy035NotV0ENn9ba0IGFfxSwqT9KhtgWnQEAndfbUH1F2UmJfwCqkU3UuChwaIG7qTCKDRiLXJ0Rl1gFSutoBwyfvgY+WLLb6OhDqfR6Pon8hoMsnbFCA8rLwQIKaDxKEg69gMGDGY5Ivm5+5cGEu5ZLOLYcfcuLMtxfyG+cfd/mIfh3fZKlfDMuA8N81GOiXLly4sXBxCFmEH43h1cE4K+QT9lQYRcu4WmKFYwAAAUAYCDO4szWGuHw2XkTtXtjhccLLlzwhDhWEIR2/cWmLUPUEurh8D4WwZaXAZUpmYPBceMzMIwmInf8AnPxbPs46hRvg5OLGWwuMaOe41E1LFQhUALewKF3EgQuJmC2RaxL5aeoEHfBLILCExxRKHuAGVmKiTPIdwCVTJVKenGSGuFIBLyEOlxvMrJEKlAquLbuHF6uOoq0zRRcOJbFPAPiKYELlSpUT5n1wIEuj/wC7IfhAfcc4lkZfBL4ZdS5hIlcITLKruAPdQxMTXP7iHHhGEJRslZ3xYktKzwQgJHgZW3jsjLl/CnG1TxcWXLl3CZgyc9xqXO+EaTDMS4MUGDL8fA4s+F5ly53xcWC4Up7mPwkIXLmZcvkYsvDYPcwgo003TB4SUTMmS9XGrUAr7YFxQKvgJX/A9JLJfIRq5fCPmZuWVKSlqlOBe4PwvgjoJMZ0OvjcsdS+FqXBjyMnFZwbRSXM1bPZq+LhCUViDXwSMr1KW6FRZSi1BsHpj5uURlphvJhJYFuAhS3UtBZ7OVy+BcuKSkuMuXwVy6huFT+AYfhARuLLRYFZmMBpyQTSoJtTMUQev+m1rdgIJatqieLgit28esEiYq71ZYoGxDxWUscMeal1DAZGn9c4QjB3aFe0G5m4LKuUjV4pcQcGU9Alw1SkMVrQTLWYty7MMJhKMyD+0PvTUsKg+eCvSZxoaXExAfILtDBE2MAm4aAAWZ2T0XohptrNXKBeiXA5y4g4Xm6EBzb4pFYnlax1rS9kx8XX5q2fqV9fUeoPfFS/IJqXAp47keMerlRr6YWBZV2WyX7NYzi/XMSOsilmEiDJVrY1MFlI9FQrdZQZWAKohS+G93Kyx7gjBem+dJA9lGLYrKwyN25C9EP7sDX1t3EmdEU2VZr1AQtJRhF1BdhMOjgo3tKlgmhbtiAK7Xe1FvpISvtboAPdiVk7BgjomZrWHKjLahYgDY2rR4857nfn9IIhTrIYCdtDdwe4ThRG/FEsdpF15yKwGSLt/pEqCTSSUJeAC7WFb/cIhxm9RZfIcGNIIxYMvm40nKwv/wBx+IY7lSpSClDrhEHVnF+1jDeyJP0ruN0/zBG1wnWypav2rlZdRGf/AFMRHsivX8QToMQG0O4Czw7IwNCjnw3I4TPqRqQaSJmBShOxQAYBMAAejllPHEeFTBvuBj3r0mKsjcQ6a2S21MpGue86Zht2q1SDlxKE4KFbKzcogblh4CitElUBcblW9t5ZhUExIN5fdnMPUDhclAWiyxUvo3Imytb3HnXzC2RoFuV+5c14eLtoCE38ki1mhu8AYyinSKyiLg0eoJUhUptVX1K4DGcmh9VLlrw/tiAKYjzA6WqZFsjoYx0xgNWvn1G9lx3ZWseThAEEqz6mni2SLLmcrKGV5OiZiU6MhfpiCrGr9JGbHmGJWSUaLV0Iyml6Hhb7HWN8fV6G4lKcwSMsNtqsqcRG9ytiqJBFAoFbS3LSQ3QXdVDd1FsI6tLJ33VHQ9LqFTHVYdLFyR3pn6QYRBTtAXBN1K40lDv2ZmzDNK4f09kPdQYR0QCCVXOvnYCzER6ag3fCGG/zxqURNwudypTyygj7cCpR4n0IxbxKT42nBUKHy/iDI0G2FIJY/A5LL4GXL4Pk4eDDLlxqOBwt6ZcqEODHIKIwuFksg1EYqXBJiZ41EcCxTi2LwCyATPFtQbmEZqVnhL7IROBKJS9wAdsGEuLM3lg1DguUibfLPDgef8uH4kgQsSkhVgDB8giRObqXGXUuWy4ffA8bjL2TNQh6hCXUsm5mO4LcuWwVC0LyX5lxcy5bLl8F8LQu5RlzuXwvx1LixnvjHwGXL4OFl+YMIPPaYYaoRfh7a1ChqG4OzXvzakJhn/3/AMX9aAyoSvgQjrmwa+C8MklW6DB+XWAqhhgFdAGGoR+GNSss1C5dS8XMo65NVUKi/RIAABRHHFnKy0hPgJYYJKdGBKgmyR2ayblvF8ZmblwHafflKY437PUuBPZBoRTi4MzfFcQ8jZLifW4YDKsBLrVLKfCMaK9Oro6YQ+MFdyNqOKyZhki74OghEFgodIqRIWrXzCfoZUAQUOKjYPIwb2rEr29QMTRoR6MPoqVUduCKcLFhE4lzzDfvEAtdJtgXcKtnxaFJ2xDgo3nUvF3wku2lQ8ZLyihMIjqJQ6AUpKN0FlU4ClkNWOm4QGLmwLrDN0gaF2AHcCl5StU2kvtIXkS47xLy6Iqo7TtJc/8Ahz/F/Ug4lzEoickCfa47dQ1hnJozAqNOFlUAurXZZHJAF0UXAAbWCm7dUibA6SJyWmYdtRWEVVgtJKAFkXvDgdLNCbhAQhxXe3CdjjAA0CtlEAEQlwekkwmxhvR9Q64JwlRkaWT7hmYIVXRHvCnM4ICwkyuyIYagwa2wr3V7nLioUyu6mpCM9yryh2beaIQQ4auK9m4R1qob36gONJZxgVtmAuKNVF9skSQDnoVLiodCZ/WTgLgn6SU2Xph2VgMil0eWJ4s2hfrqQ/nqlZGMO2BsBUwkqQ8kbUNWw2kXJRtRm2XLNN6YrJ1CXlTT0lgwsL0psFbxysdSwBNI8HrZdYGg9I1N0AbtXKdBgaryLy+AAUXZEYO1DwT2NBBn6q+DEQuOaI70bVHg0gsfd6nshCowGyXRWrwBRct3Lyw2tAfAhLCpDdnGkdjMwl5AS0+wJ1Qq6FBDYbygIJkSeF+etMM2DPNh/YS5oEcGq+SIcI1w7PdJv58usW2xpyk+b1+iNeUIVU78nuoU2ZGh8wOo/pq6nPRABCqJABeQsjpRcEANLIj0uKvfa0MU/nBhZkdYjAYP+Mj9sOCXH/8Am8PxFcEeb5NwgPpTldexYJ0TN+wXnFfPQFK+PV8sdV6II1hlfaD241d0DopRs3XEuBfZUy9z27NXDAQoLbwFNhgHAZOHrBPRBJnkR9zsvbL3t+ovqEQp9zdJCDboounzUTVbsH+MxQF3NSHapWCZPyhptHpy6CU/xe9zZqCTZy9D7Y8BFZxH2xD5aKuv3lE91HTK5bOi2IRThrSlUnBNpS6njYYDtiRaRDBWIez33UAUM14VFdA2qeWhBoBRytVBrJsiRTkUeEdBFAq99sMcrKWfCe0Mo6IzLdMLMbCtTktnlK3G4Bgopqt9nqFDXSo0bS9iWJSucj5JYU4bDFiduaykZL+B7womkSay1K2X6Eqi16t0DMRkg3A5tmmBMeSi+6Bq45/XWVVQEz3I2fpjdRoJYRoM3lf3svdKtgLlSWI0Ax/kHjgFoR2rhoOgJYzFJTy8VtvOW4rTwE1AxBAppTUxLyviIgp/UCUsKA9BFEAAdEr0WR/Ik7g8aZZfFTUs52TUZjry506B1Bgn/wA2f4v6UxMH1wOAYwS5u5TSvogjHTCDFyUQZrhjCj3jjsiMFxZURsDDEVkqgLXtqY41LESV7h1xed8LwS1+lT9pjz7IXdmhTZuNQeV1CBotUOG7PFS2dyrjZuCkEeRzL8rSlJaIISq74dRGp9zDiUI0nNy7hEunKkN1bVCJDi5cWEIJLPEuWy+BF8Ev9n/b/HRFhwwiKYhOFwYL5gnCy5cw3HNZhBCGHlBMuLIqRENooMxHuGAmT1Lz8Ll8hc7PlbfFxZtccWkv4Sy5cuXwyyXCsYuDLl85g8l8LOQeCV+4/wCPx5a9cixZsn2QhFhGkxLlweRR+AwY8KDEFWdzQyy+pgwHmAxBcMx5hRgOL5ZqXwrR/EuDx3fcsjwS8+uBFOzfFsv3zcotdnF/C/hfKnC+DJ+HMzCYp+L/ALKDfJSAgtzvjuW9ykKGFdo3qNxWDiXCngVVLUDhIrEoNKEHeJ1EMumoEQjKmSOXEyDqq/WweV88rvH50CvjOh69UXbEQRNIwczBgNRrfHXFxWtQwgXhAor9iEFgb6hGXLgaBLbXqW8HJ8VgwtM8jLfEVxwS/cvMc9zvimViX1CuyHNSnqBRAhwHFX4m/tJUqyBAJUqVAiu0BK/uGHELA2I+Iuq1320kpaxZ1EQDH3sy8gy2IkFKwVX0Eb9tROuagixCWXnDA05F+iXDRw83pKpGiNVSqoQjJ2QI6AaUOgZWOFZdKKEwiMSl4BIXCBvK0Btgnkg6IljHF7IyrXP71AIIlS16USYY9T2g92hLEwjGtTlnep+4kcA3CkyQFZr1FQYZcohU1FYqZ6lIC8JC5qXcvPBEoq4cVx38qmYfbzXwNErhMPfC3mBwkxBRGVKlMzAJUTgT6B+J/uJRCuKnXDBWCQ8zMyUN/rswXN/WlsIpI9GrqMBN01tU/nKg/wBzaHmYyKDv5/8AUHHz2aU3+4redQDAwLxrIiWr7jsZyXmPsyD9OaZCj+EYkJW6AQFQ2kcg6nQj+xlUjclSB45gMrxY5TR0Rr1xqZX9oQi3qvThZj1RcckwhANKL/AgunBb6zwnaRFJb6HKfwMWjMiqrbBYDCXYdQPdOn3BxNlKD7WBlXRy7SFVQWa9sSIvUH1B2hAUI57lRUBi1QRUPIQu4cM7gsV6g5hC34a/JXGe4nNfg/Xf2fif1WJ1KZtEZiwZhdSkp9sNVAkEOlXrare1gz2mNHaXcOFqOix2jUTMLDLIPKKTTDVVNbNzQTHguMKgiW32Apgb25oCtLqEtGSysYZgrKT2m1dvAQQsAo+S4Rq+iufTaWTXSpfUDqxCHAOhZczh7cqwFKt22NRXqr3OQ84lPwIPD8D6+GZmUXwpKSmBw0jmHyZUfCB8+op8Rly2XB4v4WpePxH+lGBEgRIBCCKgCCjQWX+WyEX4VAC6NuZcvzBmeG5nxKivCUynyTBsS+8MiQcymwurrhlwjK9wNYmvgZXDwrKSnmXLly5g+T8rzyDL+Vsu4M3PH+D+L+lLlyyXwqlvU04FlwZcH8d855zCty4stF+5+3jF1K1McKRQmji2WqD3UWiCw+F8LZfFKhiXKS/kvgjh9oPuXLY5QUuXBQUuWg3Mwvn/AOEaw/D/AFuLuVM8FQmnAxAlxwvOGEDziWY+LUJcPjtpisNwZsloMaSEqVEQMQRYTEUMESxzAI64uDM5xB7UYEcpVSoIwIOpXhEtKAgVODhUiiTMCUP3LI9EMqcRSl7I5GKiiM+ZkgsVwfhdc3WU/D/UjZC4LFKRhLruFjQWGfcsIIyiomHqbhMDUbDLS1ZZBbquEmbixFKdhwamxn7SD7iSmtxwNkzWOA3Lw4gyjVJFF0iIKC2juFiURoDKwXXQfay2qRsiRQNygw4qOMcJGHFmkpyQlmpp7lrxLZkNy7LlItxIJg6iqKhdQusxVw4VlhlSG5QwIjEfEQcEW1I/XCqhd5jlMoqpcYcVCKlHAR08R+HZHbLhlF9SsRoW0ENlyta/LCE3/ONsCFE4Ftj3AEhBuGsTFZkW26buBMHdemHmsqX0KExzHgcX1ApTAplBahNFDEg6JMSrNMDt/QlqAO0jgRgFbQXC2YdZLeUv6BKhc2gUdLzh0AEtYx2KLrzEJ9opAdtdqGuf1gZ5KK7UuVLLdlKVmr9y0000xcUodWtKnZhNOFUjkZcE4IJL4eLl8VnfwLSGE22xQLCLEHjv4mk3wsObIEW7Sokr4XLJMsIr46gR1vDyfhdMXLxZHFhWm5O1+SwzLhXetaFqLghxNftKNABFj1KQj4wExjpV87bZTLUZpyYJXl0EJa0Hxl/Yi9IltDtFf1CVbmjNm2SyCfgrheoX8YoEnDNAQQZuILCaATPJXMd08eGN0dV4V5JZLTC2bVkYLmDFRQFsj+2Mm3QF/gAIwgClYdqklVGIzgnKHt8YdiqttVBFMIA3kN2Cbh1HSVv4SS9vCKAy/A4uLL4almIzuVKlLKRgcDi1wdEWVxULl3KxBZn4LJfCiqLlwzGWy2D+HxCNg6X+s0PwumdoPBF7NBDOMx13GzCi6ayXBxjYWl2S5iy0rXmdrQ8xb7Tyu2N9+whiiaQ5aO4XGXZ/2GGABbAiBmfC+bL4JCwhczLLpipHImRLg8Vw/Iah9SoISyWPBXzzHW4RfHFoAg34vEuWRwixAeEKi4cjJUzCN3CVcyQJxcvkeVKLWrfwJq+vwuo6B3AOmHhZ709iVbaAumehljaWm09T/Ep7Q8qehgHaHkSzFMEGHDwsyGEj5EyOI9iZNMPAy3lPUyqK8kL8MRswyq6UPAyp0w8DAptPYnsT2Juww8DHwMOxSjtBHaLV2iq0yrZLptLeU9TA80qu091AwynoY7qY+JnqZ6GPiZ5VPUzstLbFDxMX5Q8DMmmHiYB0z0MXoZ6mLi7pgaiMt4YLww8TF+UzaY+ZLeGW1TDxs9DHxMobUrwYPBj1TvP6X/8ArP/Z)"
      ],
      "metadata": {
        "id": "PeXelVDxRp6b"
      }
    }
  ]
}