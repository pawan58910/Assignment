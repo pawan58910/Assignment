{
  "nbformat": 4,
  "nbformat_minor": 0,
  "metadata": {
    "colab": {
      "provenance": []
    },
    "kernelspec": {
      "name": "python3",
      "display_name": "Python 3"
    },
    "language_info": {
      "name": "python"
    }
  },
  "cells": [
    {
      "cell_type": "markdown",
      "source": [
        "1. What are the five key concepts of Object-Oriented Programming (OOP)?"
      ],
      "metadata": {
        "id": "Ei9pn84xQeiF"
      }
    },
    {
      "cell_type": "markdown",
      "source": [
        "The five key concepts of Object-Oriented Programming (OOP) are:\n",
        "\n",
        "1. Encapsulation:\n",
        "\n",
        "This refers to bundling the data (attributes) and the methods (functions) that operate on the data into a single unit, called a class. It also involves restricting access to some of an object's components, which is achieved through access modifiers (such as private, protected, and public). Encapsulation helps protect the internal state of an object from unwanted external changes and ensures that the object’s behavior remains consistent."
      ],
      "metadata": {
        "id": "1JxhLjLbQia8"
      }
    },
    {
      "cell_type": "markdown",
      "source": [
        "2. Abstraction:\n",
        "\n",
        "Abstraction is the concept of hiding the complex implementation details and showing only the necessary features of an object. It simplifies interactions with the object by exposing only relevant information and behaviors, and it can be achieved through abstract classes and interfaces. Abstraction helps in reducing complexity and allows focusing on high-level operations."
      ],
      "metadata": {
        "id": "SrTIcBuLQpNN"
      }
    },
    {
      "cell_type": "markdown",
      "source": [
        "3. Inheritance:\n",
        "\n",
        "Inheritance allows one class (called a subclass or derived class) to inherit the properties and behaviors (methods) of another class (called a superclass or base class). This promotes code reuse and allows for a hierarchical relationship between classes, enabling the subclass to extend or modify the functionality of the superclass."
      ],
      "metadata": {
        "id": "fWohVPh4QuoO"
      }
    },
    {
      "cell_type": "markdown",
      "source": [
        "4. Polymorphism:\n",
        "\n",
        "Polymorphism allows objects of different classes to be treated as objects of a common superclass. It enables a single method or function to operate on objects of different types. There are two types of polymorphism: compile-time (method overloading) and runtime (method overriding). Polymorphism increases flexibility and allows for more generic and reusable code."
      ],
      "metadata": {
        "id": "6XN4ywfKQ1cS"
      }
    },
    {
      "cell_type": "markdown",
      "source": [
        "5. Composition:\n",
        "\n",
        "Composition is a design principle where one class is made up of one or more objects of other classes, rather than inheriting from them. It is often described as a \"has-a\" relationship (e.g., a car \"has-a\" engine). Composition provides greater flexibility than inheritance, as objects can be composed dynamically, allowing more complex and adaptable designs.\n",
        "\n",
        "These five concepts work together to make OOP a powerful paradigm for creating reusable, maintainable, and scalable software systems."
      ],
      "metadata": {
        "id": "diRntIpuQmzm"
      }
    },
    {
      "cell_type": "markdown",
      "source": [
        "2. Write a Python class for a `Car` with attributes for `make`, `model`, and `year`. Include a method to display the car's information."
      ],
      "metadata": {
        "id": "B1i3LTUuRBZ4"
      }
    },
    {
      "cell_type": "markdown",
      "source": [
        "Here's a simple Python class for a Car with attributes for make, model, and year, and a method to display the car's information:"
      ],
      "metadata": {
        "id": "7IGo3cRxRHcy"
      }
    },
    {
      "cell_type": "code",
      "source": [
        "class Car:\n",
        "    # Constructor to initialize the car's attributes\n",
        "    def __init__(self, make, model, year):\n",
        "        self.make = make\n",
        "        self.model = model\n",
        "        self.year = year\n",
        "\n",
        "    # Method to display the car's information\n",
        "    def display_info(self):\n",
        "        print(f\"Car Information: {self.year} {self.make} {self.model}\")\n",
        "\n",
        "# Example of creating an instance of the Car class and displaying its information\n",
        "my_car = Car(\"Toyota\", \"Camry\", 2020)\n",
        "my_car.display_info()\n"
      ],
      "metadata": {
        "colab": {
          "base_uri": "https://localhost:8080/"
        },
        "id": "eFe264ViRPaJ",
        "outputId": "894e4fcb-4711-4bc8-e426-6873928e4fcd"
      },
      "execution_count": 1,
      "outputs": [
        {
          "output_type": "stream",
          "name": "stdout",
          "text": [
            "Car Information: 2020 Toyota Camry\n"
          ]
        }
      ]
    },
    {
      "cell_type": "markdown",
      "source": [
        "Explanation:\n",
        "\n",
        "The __init__ method is the constructor that initializes the make, model, and year attributes of the Car class when an object is created.\n",
        "\n",
        "The display_info method prints out the information about the car in a readable format.\n",
        "\n",
        "An instance of the Car class is created with specific attributes, and then display_info is called to show the car's details."
      ],
      "metadata": {
        "id": "kJ1aClhHRaAK"
      }
    },
    {
      "cell_type": "markdown",
      "source": [
        "3. Explain the difference between instance methods and class methods. Provide an example of each."
      ],
      "metadata": {
        "id": "kRA6kDsZRdWv"
      }
    },
    {
      "cell_type": "markdown",
      "source": [
        "In Python, both instance methods and class methods are functions that belong to a class, but they differ in how they are accessed and what they operate on. Here's a detailed explanation of each, followed by examples:\n",
        "\n",
        "Instance Methods:\n",
        "\n",
        "Definition: Instance methods are methods that operate on an instance of the class. They take the instance itself (self) as the first parameter, which refers to the specific object created from the class.\n",
        "\n",
        "Usage: Instance methods are typically used to modify or access the attributes of the instance (object) that the method is called on.\n",
        "\n",
        "Class Methods:\n",
        "\n",
        "Definition: Class methods are methods that operate on the class itself rather than on instances of the class. They take the class itself (cls) as the first parameter, which refers to the class, not an instance of it.\n",
        "\n",
        "Usage: Class methods are often used for operations that pertain to the class as a whole (e.g., creating or modifying class-level variables, creating instances using alternative constructors, etc.)."
      ],
      "metadata": {
        "id": "_nH_DvBWRnDs"
      }
    },
    {
      "cell_type": "markdown",
      "source": [
        "Key Differences:\n",
        "\n",
        "Instance methods work with instance data, while class methods work with class-level data (shared among all instances).\n",
        "\n",
        "Instance methods are accessed via an instance of the class, while class methods are accessed via the class itself.\n",
        "\n",
        "Example of an Instance Method:"
      ],
      "metadata": {
        "id": "4IG1Hz4pR243"
      }
    },
    {
      "cell_type": "code",
      "source": [
        "class Car:\n",
        "    def __init__(self, make, model):\n",
        "        self.make = make\n",
        "        self.model = model\n",
        "\n",
        "    def display_info(self):\n",
        "        print(f\"Car make: {self.make}, model: {self.model}\")\n",
        "\n",
        "# Create an instance of Car\n",
        "car1 = Car(\"Toyota\", \"Corolla\")\n",
        "\n",
        "# Call the instance method\n",
        "car1.display_info()\n"
      ],
      "metadata": {
        "colab": {
          "base_uri": "https://localhost:8080/"
        },
        "id": "vLcBwDSsRzCu",
        "outputId": "e05a2ae4-5283-4445-94c1-34d4c57fa107"
      },
      "execution_count": 2,
      "outputs": [
        {
          "output_type": "stream",
          "name": "stdout",
          "text": [
            "Car make: Toyota, model: Corolla\n"
          ]
        }
      ]
    },
    {
      "cell_type": "markdown",
      "source": [
        "Explanation:\n",
        "\n",
        "display_info is an instance method because it uses self to access the instance's attributes (make and model).\n",
        "\n",
        "You call it on the specific instance car1."
      ],
      "metadata": {
        "id": "ZGsCl0rnRxaW"
      }
    },
    {
      "cell_type": "markdown",
      "source": [
        "Example of Class Method:"
      ],
      "metadata": {
        "id": "jLl-v4JkSxXi"
      }
    },
    {
      "cell_type": "code",
      "source": [
        "class Car:\n",
        "    wheels = 4  # Class attribute\n",
        "\n",
        "    def __init__(self, make, model):\n",
        "        self.make = make\n",
        "        self.model = model\n",
        "\n",
        "    @classmethod\n",
        "    def display_wheels(cls):\n",
        "        print(f\"A car has {cls.wheels} wheels.\")\n",
        "\n",
        "# Call the class method\n",
        "Car.display_wheels()\n",
        "\n",
        "# You can also call it from an instance\n",
        "car1 = Car(\"Toyota\", \"Corolla\")\n",
        "car1.display_wheels()\n"
      ],
      "metadata": {
        "colab": {
          "base_uri": "https://localhost:8080/"
        },
        "id": "g6ABk6lASyI3",
        "outputId": "8c176001-0640-4904-a754-c26872a8a17c"
      },
      "execution_count": 3,
      "outputs": [
        {
          "output_type": "stream",
          "name": "stdout",
          "text": [
            "A car has 4 wheels.\n",
            "A car has 4 wheels.\n"
          ]
        }
      ]
    },
    {
      "cell_type": "markdown",
      "source": [
        "Explanation:\n",
        "\n",
        "display_wheels is a class method because it uses cls to refer to the class. It accesses the class-level attribute wheels.\n",
        "\n",
        "You can call a class method on the class itself (Car.display_wheels()), and even on an instance (car1.display_wheels()), but in both cases, it operates on the class itself, not on the instance."
      ],
      "metadata": {
        "id": "OU5fbhK-S5c6"
      }
    },
    {
      "cell_type": "markdown",
      "source": [
        "Key Differences:\n",
        "\n",
        "Instance Methods:\n",
        "\n",
        "Operate on instances.\n",
        "\n",
        "Can access instance variables and other instance methods.\n",
        "\n",
        "The first parameter is self.\n",
        "\n",
        "\n",
        "Class Methods:\n",
        "\n",
        "Operate on the class itself.\n",
        "\n",
        "Can access class-level variables and modify the class state.\n",
        "\n",
        "The first parameter is cls.\n",
        "\n",
        "Both methods can be used to define functionality within a class, but instance methods are used for instance-specific actions, while class methods are used for class-level actions."
      ],
      "metadata": {
        "id": "FUpCD_xsS90C"
      }
    },
    {
      "cell_type": "markdown",
      "source": [
        "4. How does Python implement method overloading? Give an example."
      ],
      "metadata": {
        "id": "pVaTxBhBTEx3"
      }
    },
    {
      "cell_type": "markdown",
      "source": [
        "In Python, method overloading (as it is traditionally understood in languages like Java or C++) is not natively supported. This is because Python does not allow multiple methods with the same name but different signatures (i.e., different numbers or types of parameters) within a class. However, Python can achieve method overloading behavior using several alternative techniques, such as:\n",
        "\n",
        "Default arguments:\n",
        "\n",
        "You can provide default values for parameters, so a method can be called with varying numbers of arguments.\n",
        "\n",
        "Variable-length argument lists:\n",
        "\n",
        "Using *args (for non-keyword arguments) and **kwargs (for keyword arguments), you can accept a varying number of arguments and handle them accordingly.\n",
        "\n",
        "Manually handling different argument types:\n",
        "\n",
        "You can implement logic within a method to handle different types of arguments.\n",
        "\n",
        "Example using Default Arguments (Simulating Overloading):"
      ],
      "metadata": {
        "id": "nB3X0I8ATKBW"
      }
    },
    {
      "cell_type": "code",
      "source": [
        "class Calculator:\n",
        "    def add(self, a, b=0, c=0):\n",
        "        return a + b + c\n",
        "\n",
        "# Create an instance of Calculator\n",
        "calc = Calculator()\n",
        "\n",
        "# Call the method with different numbers of arguments\n",
        "print(calc.add(5))\n",
        "print(calc.add(5, 10))\n",
        "print(calc.add(5, 10, 15))\n"
      ],
      "metadata": {
        "colab": {
          "base_uri": "https://localhost:8080/"
        },
        "id": "J5ebAKDRTcGq",
        "outputId": "4a052fb0-f69f-40d1-9f41-f8fa7cf41795"
      },
      "execution_count": 4,
      "outputs": [
        {
          "output_type": "stream",
          "name": "stdout",
          "text": [
            "5\n",
            "15\n",
            "30\n"
          ]
        }
      ]
    },
    {
      "cell_type": "markdown",
      "source": [
        "Explanation:\n",
        "\n",
        "The add method has default values for the parameters b and c. This allows it to be called with one, two, or three arguments.\n",
        "\n",
        "This is a form of method overloading achieved by providing default values, so different argument counts can still call the same method.\n",
        "\n",
        "Example using Variable-length Arguments (Simulating Overloading):"
      ],
      "metadata": {
        "id": "X1GQ1dbaTegz"
      }
    },
    {
      "cell_type": "code",
      "source": [
        "class Calculator:\n",
        "    def add(self, *args):\n",
        "        return sum(args)\n",
        "\n",
        "# Create an instance of Calculator\n",
        "calc = Calculator()\n",
        "\n",
        "# Call the method with a variable number of arguments\n",
        "print(calc.add(5))\n",
        "print(calc.add(5, 10))\n",
        "print(calc.add(5, 10, 15))\n",
        "print(calc.add(5, 10, 15, 20))\n"
      ],
      "metadata": {
        "colab": {
          "base_uri": "https://localhost:8080/"
        },
        "id": "s8B0KMqOTheU",
        "outputId": "8b084e62-a922-4885-fcfd-f7d4a5335dbd"
      },
      "execution_count": 5,
      "outputs": [
        {
          "output_type": "stream",
          "name": "stdout",
          "text": [
            "5\n",
            "15\n",
            "30\n",
            "50\n"
          ]
        }
      ]
    },
    {
      "cell_type": "markdown",
      "source": [
        "Explanation:\n",
        "\n",
        "The add method uses *args to accept a variable number of arguments. This allows the method to work with any number of arguments, effectively simulating method overloading.\n",
        "\n",
        "You can now call the method with any number of arguments, and it will sum them up.\n",
        "\n",
        "Example using Type Checking (Simulating Overloading):"
      ],
      "metadata": {
        "id": "3VCDAqCMTnxS"
      }
    },
    {
      "cell_type": "code",
      "source": [
        "class Printer:\n",
        "    def print_message(self, message):\n",
        "        if isinstance(message, str):\n",
        "            print(f\"String message: {message}\")\n",
        "        elif isinstance(message, int):\n",
        "            print(f\"Integer message: {message}\")\n",
        "        else:\n",
        "            print(\"Unsupported message type\")\n",
        "\n",
        "# Create an instance of Printer\n",
        "printer = Printer()\n",
        "\n",
        "# Call the method with different argument types\n",
        "printer.print_message(\"Hello\")\n",
        "printer.print_message(42)\n",
        "printer.print_message([1, 2, 3])\n"
      ],
      "metadata": {
        "colab": {
          "base_uri": "https://localhost:8080/"
        },
        "id": "i6uXChwWTtvn",
        "outputId": "9e56566c-f6ca-44d0-b68a-4a995ceab546"
      },
      "execution_count": 6,
      "outputs": [
        {
          "output_type": "stream",
          "name": "stdout",
          "text": [
            "String message: Hello\n",
            "Integer message: 42\n",
            "Unsupported message type\n"
          ]
        }
      ]
    },
    {
      "cell_type": "markdown",
      "source": [
        "Explanation:\n",
        "\n",
        "The print_message method checks the type of the argument (message) and behaves differently based on whether it's a string, an integer, or some other type.\n",
        "\n",
        "This is another way of simulating method overloading by manually handling different types of arguments inside the method."
      ],
      "metadata": {
        "id": "bJ8f1KaIT7yg"
      }
    },
    {
      "cell_type": "markdown",
      "source": [
        "Summary of Python's \"Method Overloading\" Techniques:\n",
        "\n",
        "Default arguments allow methods to handle varying numbers of arguments.\n",
        "\n",
        "Variable-length argument lists (*args and **kwargs) allow methods to accept any number of arguments, making them flexible.\n",
        "\n",
        "Type checking allows you to simulate overloading by changing behavior based on the types of arguments passed.\n",
        "\n",
        "\n",
        "While Python does not support true method overloading (like Java or C++), these techniques provide the flexibility to handle multiple ways of calling a method."
      ],
      "metadata": {
        "id": "gyGmV63pT_1N"
      }
    },
    {
      "cell_type": "markdown",
      "source": [
        "5. What are the three types of access modifiers in Python? How are they denoted."
      ],
      "metadata": {
        "id": "CsndxcxzUCdu"
      }
    },
    {
      "cell_type": "markdown",
      "source": [
        "In Python, there are three types of access modifiers that control the visibility and accessibility of class attributes and methods. These access modifiers determine whether a particular attribute or method is accessible from outside the class or not.\n",
        "\n",
        "1. Public Access Modifier\n",
        "\n",
        "Definition:\n",
        "Attributes and methods that are public are accessible from anywhere—both from inside and outside the class.\n",
        "\n",
        "Denotation:\n",
        "Public members are not prefixed with any special characters.\n",
        "Example of Public Access:"
      ],
      "metadata": {
        "id": "yc4_uFcVULv_"
      }
    },
    {
      "cell_type": "code",
      "source": [
        "class MyClass:\n",
        "    def __init__(self, value):\n",
        "        self.value = value  # public attribute\n",
        "\n",
        "    def display(self):  # public method\n",
        "        print(self.value)\n",
        "\n",
        "# Create an instance\n",
        "obj = MyClass(10)\n",
        "\n",
        "# Access public attribute and method from outside the class\n",
        "print(obj.value)\n",
        "obj.display()\n"
      ],
      "metadata": {
        "colab": {
          "base_uri": "https://localhost:8080/"
        },
        "id": "Fld1YXi8UZi3",
        "outputId": "494427d7-f053-4b85-812f-dc6f47485b37"
      },
      "execution_count": 7,
      "outputs": [
        {
          "output_type": "stream",
          "name": "stdout",
          "text": [
            "10\n",
            "10\n"
          ]
        }
      ]
    },
    {
      "cell_type": "markdown",
      "source": [
        "Explanation:\n",
        "value and display are public because they are directly accessible outside the class.\n",
        "\n",
        "\n",
        "2. Protected Access Modifier\n",
        "\n",
        "Definition:\n",
        "Attributes and methods that are protected should not be accessed directly outside the class or subclass. They are meant to be used by the class itself or its subclasses. However, Python does not strictly enforce this rule.\n",
        "\n",
        "Denotation:\n",
        "Protected members are denoted by a single underscore (_) before the attribute or method name.\n",
        "\n",
        "\n",
        "Example of Protected Access:"
      ],
      "metadata": {
        "id": "vLFqijk-Uclb"
      }
    },
    {
      "cell_type": "code",
      "source": [
        "class MyClass:\n",
        "    def __init__(self, value):\n",
        "        self._value = value  # protected attribute\n",
        "\n",
        "    def _display(self):  # protected method\n",
        "        print(self._value)\n",
        "\n",
        "# Create an instance\n",
        "obj = MyClass(10)\n",
        "\n",
        "# Access protected attribute and method\n",
        "# This is allowed, but it's not recommended\n",
        "print(obj._value)\n",
        "obj._display()\n"
      ],
      "metadata": {
        "colab": {
          "base_uri": "https://localhost:8080/"
        },
        "id": "lWCLiu0qUlgs",
        "outputId": "a2a9550b-6a1d-4d49-c16e-6d8e6f857023"
      },
      "execution_count": 8,
      "outputs": [
        {
          "output_type": "stream",
          "name": "stdout",
          "text": [
            "10\n",
            "10\n"
          ]
        }
      ]
    },
    {
      "cell_type": "markdown",
      "source": [
        "Explanation:\n",
        "Although the _value and _display are protected, they can still be accessed from outside the class, but it is generally discouraged because these members are intended for internal use within the class or its subclasses.\n",
        "\n",
        "\n",
        "3. Private Access Modifier\n",
        "\n",
        "Definition:\n",
        "Attributes and methods that are private are intended to be accessible only within the class. They are not supposed to be accessed or modified from outside the class.\n",
        "\n",
        "Denotation:\n",
        "Private members are denoted by a double underscore (__) before the attribute or method name.\n",
        "\n",
        "\n",
        "Example of Private Access:"
      ],
      "metadata": {
        "id": "6WxB1-puUtac"
      }
    },
    {
      "cell_type": "code",
      "source": [
        "class MyClass:\n",
        "    def __init__(self, value):\n",
        "        self.__value = value  # private attribute\n",
        "\n",
        "    def __display(self):  # private method\n",
        "        print(self.__value)\n",
        "\n",
        "    def get_value(self):\n",
        "        return self.__value\n",
        "\n",
        "# Create an instance\n",
        "obj = MyClass(10)\n",
        "\n",
        "# Access private attribute and method\n",
        "# These will raise an AttributeError if accessed directly\n",
        "# print(obj.__value)  # AttributeError\n",
        "# obj.__display()     # AttributeError\n",
        "\n",
        "# However, you can use a public method to access the private attribute\n",
        "print(obj.get_value())\n"
      ],
      "metadata": {
        "colab": {
          "base_uri": "https://localhost:8080/"
        },
        "id": "OnUuHLq0UzSx",
        "outputId": "d069b438-13a1-473a-842c-bfe7df7a0988"
      },
      "execution_count": 9,
      "outputs": [
        {
          "output_type": "stream",
          "name": "stdout",
          "text": [
            "10\n"
          ]
        }
      ]
    },
    {
      "cell_type": "markdown",
      "source": [
        "Explanation:\n",
        "\n",
        "__value and __display are private members and cannot be accessed directly outside the class. Attempting to do so will result in an AttributeError. However, you can use public methods (like get_value) to access private attributes.\n",
        "\n",
        "\n",
        "Name Mangling for Private Members\n",
        "\n",
        "Python uses name mangling for private attributes and methods. When you prefix an attribute or method with __, Python internally changes its name to _ClassName__attribute to make it less accessible outside the class.\n",
        "\n",
        "For example, the __value attribute inside MyClass will be renamed to _MyClass__value, so it is still possible (though discouraged) to access it like this:"
      ],
      "metadata": {
        "id": "8-KSQNzaU33E"
      }
    },
    {
      "cell_type": "code",
      "source": [
        "print(obj._MyClass__value)\n"
      ],
      "metadata": {
        "colab": {
          "base_uri": "https://localhost:8080/"
        },
        "id": "zGxW40-8VEPR",
        "outputId": "2ec69e5b-025b-4b58-f29b-dd01c295d699"
      },
      "execution_count": 10,
      "outputs": [
        {
          "output_type": "stream",
          "name": "stdout",
          "text": [
            "10\n"
          ]
        }
      ]
    },
    {
      "cell_type": "markdown",
      "source": [
        "But again, this is not recommended, as it breaks the concept of encapsulation.\n",
        "\n",
        "Summary of Access Modifiers:\n",
        "\n",
        "Public:\n",
        "Accessible from anywhere. No special notation (attribute or method).\n",
        "\n",
        "Protected:\n",
        "Intended for internal use (e.g., in subclasses). Denoted with a single underscore (_attribute or _method).\n",
        "\n",
        "Private:\n",
        "Intended for internal use only within the class. Denoted with a double underscore (__attribute or __method).\n",
        "\n",
        "While Python doesn't enforce access restrictions strictly, the use of these naming conventions follows the principle of \"we're all consenting adults\", meaning that while it's possible to access protected or private members, it’s generally considered bad practice to do so."
      ],
      "metadata": {
        "id": "PUFjhHGMVF9-"
      }
    },
    {
      "cell_type": "markdown",
      "source": [
        "6. Describe the five types of inheritance in Python. Provide a simple example of multiple inheritance."
      ],
      "metadata": {
        "id": "CKes_H1KVPIt"
      }
    },
    {
      "cell_type": "markdown",
      "source": [
        "In Python, inheritance is a mechanism where a new class (child class or subclass) can inherit attributes and methods from an existing class (parent class or superclass). Python supports several types of inheritance, each with its own use case.\n",
        "\n",
        "Types of Inheritance in Python:\n",
        "\n",
        "Single Inheritance:\n",
        "\n",
        "In single inheritance, a subclass inherits from a single superclass. The subclass can access methods and attributes of the superclass.\n",
        "\n",
        "Example: A Dog class that inherits from an Animal class.\n",
        "\n",
        "Multiple Inheritance:\n",
        "\n",
        "In multiple inheritance, a subclass inherits from more than one superclass. This allows the subclass to inherit attributes and methods from multiple classes.\n",
        "\n",
        "Example: A Child class that inherits from both Mother and Father classes.\n",
        "\n",
        "Multilevel Inheritance:\n",
        "\n",
        "In multilevel inheritance, a subclass inherits from a superclass, and then another subclass inherits from that subclass. This creates a chain of inheritance.\n",
        "\n",
        "Example: A Grandchild class inherits from a Child class, which inherits from a Parent class.\n",
        "\n",
        "Hierarchical Inheritance:\n",
        "\n",
        "In hierarchical inheritance, multiple subclasses inherit from a single superclass. The superclass acts as the base, and the subclasses extend or modify its functionality.\n",
        "\n",
        "Example: Both a Dog and a Cat class inherit from a common Animal class.\n",
        "\n",
        "Hybrid Inheritance:\n",
        "\n",
        "Hybrid inheritance is a combination of two or more types of inheritance (e.g., multiple and multilevel inheritance).\n",
        "\n",
        "Example: A Child class inherits from both Mother and Father, and the Mother class inherits from Grandparent.\n",
        "\n",
        "Example of Multiple Inheritance:\n",
        "\n",
        "In multiple inheritance, a class can inherit from more than one class, allowing it to access methods and attributes from all parent classes.\n",
        "\n",
        "Code Example:"
      ],
      "metadata": {
        "id": "KigFcrHbVWgr"
      }
    },
    {
      "cell_type": "code",
      "source": [
        "class Mother:\n",
        "    def cook(self):\n",
        "        print(\"Mother is cooking\")\n",
        "\n",
        "class Father:\n",
        "    def work(self):\n",
        "        print(\"Father is working\")\n",
        "\n",
        "class Child(Mother, Father):\n",
        "    def play(self):\n",
        "        print(\"Child is playing\")\n",
        "\n",
        "# Creating an instance of Child\n",
        "child = Child()\n",
        "\n",
        "# Accessing methods from all parent classes\n",
        "child.cook()\n",
        "child.work()\n",
        "child.play()\n"
      ],
      "metadata": {
        "colab": {
          "base_uri": "https://localhost:8080/"
        },
        "id": "D_uRcV_MVrD5",
        "outputId": "4eb23a0d-d6ed-42f3-f971-513b82c62ce4"
      },
      "execution_count": 11,
      "outputs": [
        {
          "output_type": "stream",
          "name": "stdout",
          "text": [
            "Mother is cooking\n",
            "Father is working\n",
            "Child is playing\n"
          ]
        }
      ]
    },
    {
      "cell_type": "markdown",
      "source": [
        "Explanation:\n",
        "\n",
        "Mother and Father are two parent classes.\n",
        "\n",
        "Child is a subclass that inherits from both Mother and Father.\n",
        "\n",
        "The Child class can call methods from both parent classes (cook from Mother and work from Father) and also has its own method (play).\n",
        "\n",
        "This demonstrates multiple inheritance since the Child class inherits from more than one class.\n",
        "\n",
        "\n",
        "Summary of Types of Inheritance:\n",
        "\n",
        "Single Inheritance: One subclass inherits from one superclass.\n",
        "\n",
        "Multiple Inheritance: One subclass inherits from multiple superclasses.\n",
        "\n",
        "Multilevel Inheritance: A chain of inheritance where a subclass inherits from another subclass.\n",
        "\n",
        "Hierarchical Inheritance: Multiple subclasses inherit from a single superclass.\n",
        "Hybrid Inheritance: A combination of two or more types of inheritance.\n",
        "\n",
        "\n",
        "Multiple inheritance is useful when you need to combine functionality from more than one class into a single subclass. However, care should be taken to avoid complications, such as the diamond problem, where multiple inheritance could lead to ambiguity. Python handles this through a method resolution order (MRO) to ensure that methods are resolved correctly."
      ],
      "metadata": {
        "id": "75K2eOl4VzWp"
      }
    },
    {
      "cell_type": "markdown",
      "source": [
        "7. What is the Method Resolution Order (MRO) in Python? How can you retrieve it programmatically?"
      ],
      "metadata": {
        "id": "eyXKikDbV7DA"
      }
    },
    {
      "cell_type": "markdown",
      "source": [
        "Method Resolution Order (MRO) in Python\n",
        "\n",
        "The Method Resolution Order (MRO) is the order in which Python looks for methods or attributes in the class hierarchy when you try to access them. This is especially relevant in cases of multiple inheritance, where a class inherits from more than one parent class. The MRO defines the sequence in which the classes are searched for the requested method or attribute.\n",
        "\n",
        "\n",
        "Key Points:\n",
        "\n",
        "MRO determines the order in which base classes are searched when looking for a method or attribute. It ensures that classes are searched in a consistent way, especially when multiple inheritance is involved.\n",
        "\n",
        "MRO is important in cases where multiple classes define a method with the same name (or method overloading), as it determines which method will be called.\n",
        "\n",
        "\n",
        "How does Python determine the MRO?\n",
        "Python uses the C3 Linearization algorithm (or C3 superclass linearization) to determine the MRO. This algorithm ensures that the method resolution order is:\n",
        "\n",
        "Depth-first (searching from the left side of the inheritance tree).\n",
        "\n",
        "Consistent and does not cause any ambiguities (like the diamond problem in multiple inheritance).\n",
        "\n",
        "\n",
        "Example to illustrate MRO:"
      ],
      "metadata": {
        "id": "qp3nusUHWD1R"
      }
    },
    {
      "cell_type": "code",
      "source": [
        "class A:\n",
        "    def method(self):\n",
        "        print(\"Method in class A\")\n",
        "\n",
        "class B(A):\n",
        "    def method(self):\n",
        "        print(\"Method in class B\")\n",
        "\n",
        "class C(A):\n",
        "    def method(self):\n",
        "        print(\"Method in class C\")\n",
        "\n",
        "class D(B, C):\n",
        "    pass\n",
        "\n",
        "# Create an instance of D\n",
        "d = D()\n",
        "\n",
        "# Call the method\n",
        "d.method()\n"
      ],
      "metadata": {
        "colab": {
          "base_uri": "https://localhost:8080/"
        },
        "id": "A_slUZfUWe1H",
        "outputId": "a770ea00-7978-47ef-94ff-9397d14ad05f"
      },
      "execution_count": 12,
      "outputs": [
        {
          "output_type": "stream",
          "name": "stdout",
          "text": [
            "Method in class B\n"
          ]
        }
      ]
    },
    {
      "cell_type": "markdown",
      "source": [
        "Explanation:\n",
        "\n",
        "In this example, D inherits from both B and C.\n",
        "\n",
        "Both B and C override the method() from A, so the method to be called will depend on the MRO."
      ],
      "metadata": {
        "id": "a4woutIzWiW-"
      }
    },
    {
      "cell_type": "markdown",
      "source": [
        "This is because, according to the MRO, Python searches the class hierarchy in the following order:\n",
        "\n",
        "First, it looks in D.\n",
        "\n",
        "Then, it looks in B (since B is first in the inheritance list of D).\n",
        "\n",
        "Then, it looks in C, and finally in A.\n",
        "\n",
        "How to Retrieve the MRO Programmatically?\n",
        "\n",
        "You can retrieve the Method Resolution Order (MRO) using the mro() method or the __mro__ attribute on a class. Both of these will give you the order in which Python searches the classes for methods.\n",
        "\n",
        "\n",
        "Example using mro():"
      ],
      "metadata": {
        "id": "wCWmrKW9WkBC"
      }
    },
    {
      "cell_type": "code",
      "source": [
        "print(D.mro())\n"
      ],
      "metadata": {
        "colab": {
          "base_uri": "https://localhost:8080/"
        },
        "id": "dUjXaiLPWvti",
        "outputId": "b8067372-6ccb-4a52-87e0-4bed14a091e7"
      },
      "execution_count": 13,
      "outputs": [
        {
          "output_type": "stream",
          "name": "stdout",
          "text": [
            "[<class '__main__.D'>, <class '__main__.B'>, <class '__main__.C'>, <class '__main__.A'>, <class 'object'>]\n"
          ]
        }
      ]
    },
    {
      "cell_type": "markdown",
      "source": [
        "Example using __mro__:"
      ],
      "metadata": {
        "id": "pap0ogUoWxwa"
      }
    },
    {
      "cell_type": "code",
      "source": [
        "print(D.__mro__)\n"
      ],
      "metadata": {
        "colab": {
          "base_uri": "https://localhost:8080/"
        },
        "id": "5UxgwJbBW1YT",
        "outputId": "0e52c7c2-55c6-4150-ac49-23674e0b0469"
      },
      "execution_count": 14,
      "outputs": [
        {
          "output_type": "stream",
          "name": "stdout",
          "text": [
            "(<class '__main__.D'>, <class '__main__.B'>, <class '__main__.C'>, <class '__main__.A'>, <class 'object'>)\n"
          ]
        }
      ]
    },
    {
      "cell_type": "markdown",
      "source": [
        "Explanation:\n",
        "\n",
        "D.mro() and D.__mro__ both return the MRO as a list of classes.\n",
        "\n",
        "The MRO for D is: D -> B -> C -> A -> object, which is the order in which Python will search for methods or attributes.\n",
        "\n",
        "Using super() and the MRO:\n",
        "\n",
        "The super() function in Python is used to call methods in a superclass. The class that super() refers to is determined by the MRO. It helps ensure that methods are called in the correct order, respecting the method resolution order in case of multiple inheritance.\n",
        "\n",
        "\n",
        "Example with super():"
      ],
      "metadata": {
        "id": "U-T7Ss1gW4Yc"
      }
    },
    {
      "cell_type": "code",
      "source": [
        "class A:\n",
        "    def method(self):\n",
        "        print(\"Method in class A\")\n",
        "\n",
        "class B(A):\n",
        "    def method(self):\n",
        "        print(\"Method in class B\")\n",
        "        super().method()\n",
        "\n",
        "class C(A):\n",
        "    def method(self):\n",
        "        print(\"Method in class C\")\n",
        "        super().method()\n",
        "\n",
        "class D(B, C):\n",
        "    def method(self):\n",
        "        print(\"Method in class D\")\n",
        "        super().method()\n",
        "\n",
        "# Create an instance of D\n",
        "d = D()\n",
        "d.method()\n"
      ],
      "metadata": {
        "colab": {
          "base_uri": "https://localhost:8080/"
        },
        "id": "THz4nEIKW-jt",
        "outputId": "2ec54dcc-2765-4daa-a88c-724407f04d8d"
      },
      "execution_count": 15,
      "outputs": [
        {
          "output_type": "stream",
          "name": "stdout",
          "text": [
            "Method in class D\n",
            "Method in class B\n",
            "Method in class C\n",
            "Method in class A\n"
          ]
        }
      ]
    },
    {
      "cell_type": "markdown",
      "source": [
        "Explanation:\n",
        "\n",
        "The super() function respects the MRO, so when d.method() is called, it calls methods in the order defined by the MRO: D -> B -> C -> A.\n",
        "\n",
        "\n",
        "Summary of Key Concepts:\n",
        "\n",
        "The MRO defines the order in which classes are searched for methods and attributes.\n",
        "\n",
        "Python uses the C3 Linearization algorithm to determine the MRO, ensuring that the order is consistent and avoids ambiguity.\n",
        "\n",
        "The MRO can be retrieved using mro() or __mro__ on a class.\n",
        "\n",
        "The super() function respects the MRO and helps call methods from superclasses in the correct order.\n",
        "\n",
        "In Python, the MRO is critical for managing multiple inheritance and ensuring that the correct methods are called, especially in complex class hierarchies."
      ],
      "metadata": {
        "id": "JLc7x849XDuV"
      }
    },
    {
      "cell_type": "markdown",
      "source": [
        "8. Create an abstract base class `Shape` with an abstract method `area()`. Then create two subclasses `Circle` and `Rectangle` that implement the `area()` method."
      ],
      "metadata": {
        "id": "HEH2B9-oXHFm"
      }
    },
    {
      "cell_type": "markdown",
      "source": [
        "In Python, we can create an abstract base class (ABC) using the abc module, which provides the functionality to define abstract methods that must be implemented by subclasses.\n",
        "\n",
        "The process involves:\n",
        "\n",
        "Creating an abstract base class Shape that defines the abstract method area().\n",
        "Creating two subclasses (Circle and Rectangle) that inherit from Shape and implement the area() method.\n",
        "\n",
        "Here's how you can implement this:"
      ],
      "metadata": {
        "id": "eryQdBXmXcIl"
      }
    },
    {
      "cell_type": "code",
      "source": [
        "from abc import ABC, abstractmethod\n",
        "import math\n",
        "\n",
        "# Abstract Base Class\n",
        "class Shape(ABC):\n",
        "\n",
        "    @abstractmethod\n",
        "    def area(self):\n",
        "        pass\n",
        "\n",
        "# Subclass Circle that implements area()\n",
        "class Circle(Shape):\n",
        "    def __init__(self, radius):\n",
        "        self.radius = radius\n",
        "\n",
        "    def area(self):\n",
        "        return math.pi * (self.radius ** 2)\n",
        "\n",
        "# Subclass Rectangle that implements area()\n",
        "class Rectangle(Shape):\n",
        "    def __init__(self, width, height):\n",
        "        self.width = width\n",
        "        self.height = height\n",
        "\n",
        "    def area(self):\n",
        "        return self.width * self.height\n",
        "\n",
        "# Create instances of Circle and Rectangle\n",
        "circle = Circle(5)\n",
        "rectangle = Rectangle(4, 6)\n",
        "\n",
        "# Calculate areas\n",
        "print(f\"Area of Circle: {circle.area()}\")         # Output: Area of Circle: 78.53981633974483\n",
        "print(f\"Area of Rectangle: {rectangle.area()}\")   # Output: Area of Rectangle: 24\n"
      ],
      "metadata": {
        "colab": {
          "base_uri": "https://localhost:8080/"
        },
        "id": "d4SbaMatXlIS",
        "outputId": "3a9aaf30-4ac6-449e-bd99-d142853b0cbf"
      },
      "execution_count": 16,
      "outputs": [
        {
          "output_type": "stream",
          "name": "stdout",
          "text": [
            "Area of Circle: 78.53981633974483\n",
            "Area of Rectangle: 24\n"
          ]
        }
      ]
    },
    {
      "cell_type": "markdown",
      "source": [
        "Explanation:\n",
        "\n",
        "Abstract Base Class (Shape):\n",
        "\n",
        "Shape inherits from ABC, making it an abstract class.\n",
        "\n",
        "The area() method is marked with the @abstractmethod decorator, indicating that subclasses must provide an implementation of this method.\n",
        "\n",
        "Subclass Circle:\n",
        "\n",
        "The Circle class inherits from Shape and implements the area() method.\n",
        "\n",
        "The area() method calculates the area of a circle using the formula: πr2, here r is the radius of the circle.\n",
        "\n",
        "Subclass Rectangle:\n",
        "\n",
        "The Rectangle class also inherits from Shape and provides its implementation of the area() method.\n",
        "\n",
        "The area() method calculates the area of a rectangle using the formula:\n",
        "width×height."
      ],
      "metadata": {
        "id": "YaKNDur_XoX4"
      }
    },
    {
      "cell_type": "markdown",
      "source": [
        "Key Concepts:\n",
        "\n",
        "Abstract Base Class (ABC): Shape is an abstract class, and you cannot create an instance of Shape directly. It is only meant to define a common interface for subclasses.\n",
        "\n",
        "Abstract Method: The area() method in Shape is abstract, meaning that subclasses must implement this method to be instantiated.\n",
        "\n",
        "Polymorphism: The same area() method can be called on objects of different subclasses (Circle and Rectangle), but each one computes the area differently based on its specific attributes."
      ],
      "metadata": {
        "id": "NSsoPcN0YT3d"
      }
    },
    {
      "cell_type": "markdown",
      "source": [
        "9. Demonstrate polymorphism by creating a function that can work with different shape objects to calculate and print their areas."
      ],
      "metadata": {
        "id": "tmLFcWc8YcBy"
      }
    },
    {
      "cell_type": "markdown",
      "source": [
        "Polymorphism in Python allows different classes to be treated as instances of the same class through a common interface, even if they have different implementations of methods. In the case of your request, we can create a function that works with different shape objects (like Circle and Rectangle), and calculates their areas by calling the area() method on any shape object, without needing to know the specific type of shape.\n",
        "\n",
        "Example demonstrating polymorphism:\n",
        "\n",
        "We will create the Shape class (as before) with the area() method, and then implement polymorphism by creating a function that can accept any shape object and calculate its area."
      ],
      "metadata": {
        "id": "Dh_Nmw5RYdXl"
      }
    },
    {
      "cell_type": "code",
      "source": [
        "from abc import ABC, abstractmethod\n",
        "import math\n",
        "\n",
        "# Abstract Base Class\n",
        "class Shape(ABC):\n",
        "\n",
        "    @abstractmethod\n",
        "    def area(self):\n",
        "        pass\n",
        "\n",
        "# Subclass Circle that implements area()\n",
        "class Circle(Shape):\n",
        "    def __init__(self, radius):\n",
        "        self.radius = radius\n",
        "\n",
        "    def area(self):\n",
        "        return math.pi * (self.radius ** 2)\n",
        "\n",
        "# Subclass Rectangle that implements area()\n",
        "class Rectangle(Shape):\n",
        "    def __init__(self, width, height):\n",
        "        self.width = width\n",
        "        self.height = height\n",
        "\n",
        "    def area(self):\n",
        "        return self.width * self.height\n",
        "\n",
        "# Function that demonstrates polymorphism\n",
        "def print_area(shape: Shape):\n",
        "    print(f\"The area of the shape is: {shape.area()}\")\n",
        "\n",
        "# Create instances of Circle and Rectangle\n",
        "circle = Circle(5)\n",
        "rectangle = Rectangle(4, 6)\n",
        "\n",
        "# Call print_area function with different shape objects\n",
        "print_area(circle)\n",
        "print_area(rectangle)\n"
      ],
      "metadata": {
        "colab": {
          "base_uri": "https://localhost:8080/"
        },
        "id": "KGq1QD9UYlBb",
        "outputId": "7d42cb08-4bc1-4d70-8576-dcb6ed13adef"
      },
      "execution_count": 17,
      "outputs": [
        {
          "output_type": "stream",
          "name": "stdout",
          "text": [
            "The area of the shape is: 78.53981633974483\n",
            "The area of the shape is: 24\n"
          ]
        }
      ]
    },
    {
      "cell_type": "markdown",
      "source": [
        "Explanation:\n",
        "\n",
        "Shape Class (Abstract Base Class):\n",
        "\n",
        "The Shape class is an abstract class with an abstract method area(). This ensures that any subclass of Shape must implement the area() method.\n",
        "\n",
        "Circle Class:\n",
        "\n",
        "The Circle class inherits from Shape and implements the area() method to calculate the area of a circle.\n",
        "\n",
        "Rectangle Class:\n",
        "\n",
        "The Rectangle class also inherits from Shape and implements the area() method to calculate the area of a rectangle.\n",
        "\n",
        "print_area Function:\n",
        "\n",
        "The print_area() function accepts a Shape object (which can be any class that inherits from Shape) as its argument.\n",
        "\n",
        "It calls the area() method on the shape object. This is an example of polymorphism: the same print_area() function works with different types of objects (Circle and Rectangle), and the correct area() method is called based on the actual type of the object passed to it."
      ],
      "metadata": {
        "id": "g1Nc7GXUYrgr"
      }
    },
    {
      "cell_type": "markdown",
      "source": [
        "Key Concepts of Polymorphism Demonstrated:\n",
        "\n",
        "Polymorphism: The print_area() function can work with objects of different classes (Circle, Rectangle), and it calls the area() method dynamically based on the type of the object passed to it. This is polymorphism in action.\n",
        "\n",
        "Method Overriding: The Circle and Rectangle classes provide their own implementations of the area() method, overriding the abstract method defined in the Shape class.\n",
        "\n",
        "With polymorphism, you can work with different types of objects using a common interface, making your code more flexible and extensible."
      ],
      "metadata": {
        "id": "r4JxD7G8Yv0J"
      }
    },
    {
      "cell_type": "markdown",
      "source": [
        "10.  Implement encapsulation in a `BankAccount` class with private attributes for `balance` and `account_number`. Include methods for deposit, withdrawal, and balance inquiry."
      ],
      "metadata": {
        "id": "vezlAgR2Y851"
      }
    },
    {
      "cell_type": "markdown",
      "source": [
        "Encapsulation in Python is a principle of object-oriented programming (OOP) that restricts direct access to an object's attributes and methods. The idea is to hide the internal state of an object and only expose a controlled interface to the outside world. This helps in protecting the data and making the class more secure and easier to maintain.\n",
        "\n",
        "In your case, we can implement encapsulation in a BankAccount class with the following components:\n",
        "\n",
        "Private attributes: The balance and account_number will be private to prevent direct access from outside the class.\n",
        "\n",
        "Public methods: We'll define methods for depositing money, withdrawing money, and checking the balance. These methods will allow controlled access to the private attributes.\n"
      ],
      "metadata": {
        "id": "kdkdT6SqZDmH"
      }
    },
    {
      "cell_type": "code",
      "source": [
        "class BankAccount:\n",
        "    def __init__(self, account_number, initial_balance=0):\n",
        "        # Private attributes\n",
        "        self.__account_number = account_number\n",
        "        self.__balance = initial_balance\n",
        "\n",
        "    # Public method for deposit\n",
        "    def deposit(self, amount):\n",
        "        if amount > 0:\n",
        "            self.__balance += amount\n",
        "            print(f\"Deposited: ${amount}\")\n",
        "        else:\n",
        "            print(\"Deposit amount must be positive.\")\n",
        "\n",
        "    # Public method for withdrawal\n",
        "    def withdraw(self, amount):\n",
        "        if amount > 0 and amount <= self.__balance:\n",
        "            self.__balance -= amount\n",
        "            print(f\"Withdrew: ${amount}\")\n",
        "        elif amount > self.__balance:\n",
        "            print(\"Insufficient funds.\")\n",
        "        else:\n",
        "            print(\"Withdrawal amount must be positive.\")\n",
        "\n",
        "    # Public method to inquire balance\n",
        "    def get_balance(self):\n",
        "        return self.__balance\n",
        "\n",
        "    # Public method to get the account number\n",
        "    def get_account_number(self):\n",
        "        return self.__account_number\n",
        "\n",
        "# Create an instance of BankAccount\n",
        "account = BankAccount(123456789, 1000)\n",
        "\n",
        "# Perform operations\n",
        "account.deposit(500)        # Depositing money\n",
        "account.withdraw(200)       # Withdrawing money\n",
        "account.withdraw(1500)      # Attempting to withdraw more than the balance\n",
        "print(f\"Account Balance: ${account.get_balance()}\")  # Checking balance\n",
        "print(f\"Account Number: {account.get_account_number()}\")  # Getting account number\n"
      ],
      "metadata": {
        "colab": {
          "base_uri": "https://localhost:8080/"
        },
        "id": "jqNRI3yVZQFQ",
        "outputId": "7d3e9ec5-53d3-4301-815d-f6529345c00f"
      },
      "execution_count": 18,
      "outputs": [
        {
          "output_type": "stream",
          "name": "stdout",
          "text": [
            "Deposited: $500\n",
            "Withdrew: $200\n",
            "Insufficient funds.\n",
            "Account Balance: $1300\n",
            "Account Number: 123456789\n"
          ]
        }
      ]
    },
    {
      "cell_type": "markdown",
      "source": [
        "Explanation:\n",
        "\n",
        "Private Attributes (__account_number and __balance):\n",
        "\n",
        "The attributes __account_number and __balance are private because they are prefixed with two underscores (__). This means they cannot be accessed directly from outside the class, ensuring encapsulation.\n",
        "\n",
        "Public Methods:\n",
        "\n",
        "deposit(amount): Allows depositing money into the account. It checks if the deposit amount is positive before adding it to the balance.\n",
        "\n",
        "withdraw(amount): Allows withdrawing money from the account. It checks that the withdrawal amount is positive and that the account has sufficient funds.\n",
        "get_balance(): Returns the current balance of the account.\n",
        "\n",
        "get_account_number(): Returns the account number, allowing limited access to the private attribute.\n",
        "\n",
        "Encapsulation:\n",
        "\n",
        "The __balance and __account_number are private and cannot be accessed directly from outside the class. The deposit(), withdraw(), and get_balance() methods provide controlled access to these private attributes.\n",
        "\n",
        "This ensures that the account balance can only be modified through these controlled methods, preventing unintended modifications."
      ],
      "metadata": {
        "id": "I0UajKVxZeIO"
      }
    },
    {
      "cell_type": "markdown",
      "source": [
        "Key Points about Encapsulation:\n",
        "\n",
        "Private Attributes: We used double underscores (__) to make the balance and account_number attributes private.\n",
        "\n",
        "Public Methods: Methods like deposit(), withdraw(), and get_balance() provide controlled access to the private data.\n",
        "\n",
        "Data Protection: The internal state (balance and account_number) is protected from direct modification, ensuring that the bank account's balance can only be modified through valid operations (like deposits and withdrawals).\n",
        "\n",
        "Benefits of Encapsulation:\n",
        "\n",
        "Security: We can restrict how the internal state is accessed and modified.\n",
        "Control: We ensure that certain constraints are applied (e.g., no negative deposits or withdrawals beyond the balance).\n",
        "\n",
        "Maintainability: It’s easier to manage and modify code since the internal data is encapsulated and can only be modified through defined methods."
      ],
      "metadata": {
        "id": "IKcHNyNcZlPN"
      }
    },
    {
      "cell_type": "markdown",
      "source": [
        "11. Write a class that overrides the `__str__` and `__add__` magic methods. What will these methods allow you to do?"
      ],
      "metadata": {
        "id": "kruxM3AEZsUs"
      }
    },
    {
      "cell_type": "markdown",
      "source": [
        "In Python, the __str__ and __add__ magic methods are special methods that allow you to customize the string representation and behavior of object addition for your class. Let's break down the purpose of each method:\n",
        "\n",
        "1. __str__:\n",
        "\n",
        "The __str__ method is used to define the \"string representation\" of an object when str() or print() is called on that object.\n",
        "\n",
        "By overriding __str__, you can control how an object of your class is represented as a string, making it more user-friendly or readable.\n",
        "\n",
        "2. __add__:\n",
        "\n",
        "The __add__ method is used to define the behavior of the + operator for objects of your class.\n",
        "\n",
        "By overriding __add__, you can define how objects of your class can be added together, such as adding their values or combining them in a specific way.\n",
        "\n",
        "Example: Overriding __str__ and __add__ in a Point Class\n",
        "\n",
        "We will create a class Point to represent a point in a 2D space. The __str__ method will return a string like \"Point(2, 3)\", and the __add__ method will allow us to add two Point objects by adding their respective x and y coordinates."
      ],
      "metadata": {
        "id": "J9mbtjDoZ0uJ"
      }
    },
    {
      "cell_type": "code",
      "source": [],
      "metadata": {
        "id": "PDTg1NdhaM_4"
      },
      "execution_count": null,
      "outputs": []
    },
    {
      "cell_type": "code",
      "source": [
        "class Point:\n",
        "    def __init__(self, x, y):\n",
        "        self.x = x\n",
        "        self.y = y\n",
        "\n",
        "    # Overriding the __str__ method to define the string representation\n",
        "    def __str__(self):\n",
        "        return f\"Point({self.x}, {self.y})\"\n",
        "\n",
        "    # Overriding the __add__ method to define behavior of the + operator\n",
        "    def __add__(self, other):\n",
        "        if isinstance(other, Point):\n",
        "            # Adding two points by adding their respective x and y coordinates\n",
        "            return Point(self.x + other.x, self.y + other.y)\n",
        "        else:\n",
        "            raise ValueError(\"Can only add Point objects to other Point objects\")\n",
        "\n",
        "# Create instances of Point\n",
        "point1 = Point(2, 3)\n",
        "point2 = Point(4, 5)\n",
        "\n",
        "# Demonstrate the use of __str__ by printing the point objects\n",
        "print(point1)\n",
        "print(point2)\n",
        "\n",
        "# Demonstrate the use of __add__ by adding two point objects\n",
        "point3 = point1 + point2\n",
        "print(point3)\n"
      ],
      "metadata": {
        "colab": {
          "base_uri": "https://localhost:8080/"
        },
        "id": "sjrrkedYaPqi",
        "outputId": "12c50c69-006f-4dd3-d7a3-4b3bd9144564"
      },
      "execution_count": 19,
      "outputs": [
        {
          "output_type": "stream",
          "name": "stdout",
          "text": [
            "Point(2, 3)\n",
            "Point(4, 5)\n",
            "Point(6, 8)\n"
          ]
        }
      ]
    },
    {
      "cell_type": "markdown",
      "source": [
        "Explanation:\n",
        "\n",
        "__str__ Method:\n",
        "\n",
        "The __str__ method is overridden to provide a string representation of the Point object in the format \"Point(x, y)\", where x and y are the coordinates of the point.\n",
        "\n",
        "When you use print(point1) or str(point1), Python will call the __str__ method and display the string \"Point(2, 3)\".\n",
        "\n",
        "__add__ Method:\n",
        "\n",
        "The __add__ method is overridden to define how two Point objects are added together.\n",
        "\n",
        "When you use the + operator with two Point objects (point1 + point2), Python will call the __add__ method.\n",
        "\n",
        "In this implementation, we add the x and y coordinates of the two points and return a new Point object with the resulting coordinates."
      ],
      "metadata": {
        "id": "diCpckHBaXuw"
      }
    },
    {
      "cell_type": "markdown",
      "source": [
        "What these methods allow you to do:\n",
        "\n",
        "__str__:\n",
        "\n",
        "Customize the string representation of the object, making it more readable when you print or convert the object to a string.\n",
        "\n",
        "In this case, it allows you to represent the Point objects in a clear format like Point(x, y).\n",
        "\n",
        "__add__:\n",
        "\n",
        "Customize the behavior of the + operator for objects of your class.\n",
        "\n",
        "In this case, it allows you to add two Point objects together by adding their respective x and y values, returning a new Point object.\n",
        "\n",
        "Benefits of Overriding These Magic Methods:\n",
        "\n",
        "Better Readability: Overriding __str__ provides a more meaningful and human-readable representation of objects when printed or converted to a string.\n",
        "\n",
        "Custom Behavior: Overriding __add__ allows you to control how objects of your class behave when using operators like +. This is particularly useful when working with custom data types that need specific operations like adding, multiplying, or comparing objects.\n",
        "\n",
        "By overriding these methods, you gain more control over the interactions with your custom class objects, making your code more intuitive and flexible."
      ],
      "metadata": {
        "id": "i2AtXKU3aapy"
      }
    },
    {
      "cell_type": "markdown",
      "source": [
        "12. Create a decorator that measures and prints the execution time of a function."
      ],
      "metadata": {
        "id": "8b8kJBlkamfc"
      }
    },
    {
      "cell_type": "markdown",
      "source": [
        "A decorator in Python is a function that takes another function as input and extends or modifies its behavior without changing the function's actual code. In this case, we'll create a decorator that measures the execution time of a function and prints the result.\n",
        "\n",
        "To measure execution time, we can use Python's time module, specifically time.time() or time.perf_counter(), which provides the current time in seconds.\n",
        "\n",
        "Steps to Create the Decorator:\n",
        "\n",
        "1. Define the decorator function.\n",
        "\n",
        "2. Inside the decorator, define a wrapper function that will execute the original function and measure its execution time.\n",
        "\n",
        "3. Use time.time() or time.perf_counter() to record the start and end times, then calculate the difference."
      ],
      "metadata": {
        "id": "bugLXm7mbDO-"
      }
    },
    {
      "cell_type": "code",
      "source": [
        "import time\n",
        "\n",
        "# Decorator function to measure execution time\n",
        "def measure_time(func):\n",
        "    def wrapper(*args, **kwargs):\n",
        "        start_time = time.time()  # Record the start time\n",
        "        result = func(*args, **kwargs)  # Call the original function\n",
        "        end_time = time.time()  # Record the end time\n",
        "        execution_time = end_time - start_time  # Calculate execution time\n",
        "        print(f\"Execution time of '{func.__name__}': {execution_time:.6f} seconds\")\n",
        "        return result  # Return the result of the function\n",
        "    return wrapper\n",
        "\n",
        "# Example function using the measure_time decorator\n",
        "@measure_time\n",
        "def slow_function():\n",
        "    time.sleep(2)  # Simulate a slow function by sleeping for 2 seconds\n",
        "    print(\"Function execution complete!\")\n",
        "\n",
        "# Call the function\n",
        "slow_function()\n"
      ],
      "metadata": {
        "colab": {
          "base_uri": "https://localhost:8080/"
        },
        "id": "xgqfIUwFbaAM",
        "outputId": "da0c0add-b3d7-4b1d-c06b-c7fdf0cc9f71"
      },
      "execution_count": 20,
      "outputs": [
        {
          "output_type": "stream",
          "name": "stdout",
          "text": [
            "Function execution complete!\n",
            "Execution time of 'slow_function': 2.002842 seconds\n"
          ]
        }
      ]
    },
    {
      "cell_type": "markdown",
      "source": [
        "Explanation:\n",
        "\n",
        "measure_time(func): This is the decorator function. It takes a function func as input and returns a new function (the wrapper function) that adds additional behavior (measuring execution time) to the original function.\n",
        "\n",
        "wrapper(*args, **kwargs): This is the wrapper function inside the decorator. It accepts any arguments (*args) and keyword arguments (**kwargs) that the decorated function might receive. It wraps the original function call and measures the time taken for execution.\n",
        "\n",
        "start_time and end_time: The time.time() function records the current time in seconds. We calculate the execution time by subtracting the start_time from the end_time.\n",
        "\n",
        "execution_time: The difference between the start and end times gives the time taken to execute the function. We print this time in seconds, formatted to 6 decimal places.\n",
        "\n",
        "@measure_time: The decorator is applied to the slow_function() function. This means that every time slow_function() is called, it will be wrapped by the measure_time decorator, and its execution time will be measured."
      ],
      "metadata": {
        "id": "POfme2kFbiJ-"
      }
    },
    {
      "cell_type": "markdown",
      "source": [
        "Explanation of the Output:\n",
        "\n",
        "The slow_function takes approximately 2 seconds to execute because it contains a time.sleep(2) statement that simulates a time delay.\n",
        "\n",
        "After the function completes, the decorator prints the execution time of the function (slow_function), showing the time it took to execute.\n",
        "\n",
        "Summary:\n",
        "\n",
        "Decorator: The measure_time decorator enhances the behavior of the slow_function by measuring its execution time.\n",
        "\n",
        "Functionality: The decorator can be applied to any function to measure and print how long it takes to execute, providing valuable performance insights.\n",
        "\n",
        "You can use this decorator for any function whose execution time you want to monitor without changing the function's original code."
      ],
      "metadata": {
        "id": "scPP5ri4bkT8"
      }
    },
    {
      "cell_type": "markdown",
      "source": [
        "13. Explain the concept of the Diamond Problem in multiple inheritance. How does Python resolve it?"
      ],
      "metadata": {
        "id": "KssLb3T4bqYt"
      }
    },
    {
      "cell_type": "markdown",
      "source": [
        "The Diamond Problem in multiple inheritance arises when a class inherits from two classes that both inherit from a common superclass. This can lead to ambiguity in the method resolution order (MRO) — specifically, which method should be called when multiple paths lead to the same class in the inheritance hierarchy. The problem gets its name because the inheritance structure forms a diamond shape.\n",
        "\n",
        "Diamond Problem Illustration\n",
        "\n",
        "Here's an example to demonstrate the diamond problem:"
      ],
      "metadata": {
        "id": "qVny66ekb0Bm"
      }
    },
    {
      "cell_type": "code",
      "source": [
        "       A\n",
        "      / \\\n",
        "     B   C\n",
        "      \\ /\n",
        "       D\n"
      ],
      "metadata": {
        "id": "A_MfvFlfcJHE"
      },
      "execution_count": null,
      "outputs": []
    },
    {
      "cell_type": "markdown",
      "source": [
        "Class A is the base class.\n",
        "\n",
        "Classes B and C inherit from A.\n",
        "\n",
        "Class D inherits from both B and C.\n",
        "\n",
        "If classes B and C override the same method from class A, and class D calls that method, which version of the method should be executed — the one from B or the one from C?"
      ],
      "metadata": {
        "id": "hGF89eTncKof"
      }
    },
    {
      "cell_type": "code",
      "source": [
        "class A:\n",
        "    def speak(self):\n",
        "        print(\"A speaking\")\n",
        "\n",
        "class B(A):\n",
        "    def speak(self):\n",
        "        print(\"B speaking\")\n",
        "\n",
        "class C(A):\n",
        "    def speak(self):\n",
        "        print(\"C speaking\")\n",
        "\n",
        "class D(B, C):\n",
        "    pass\n",
        "\n",
        "# Create an object of class D\n",
        "d = D()\n",
        "d.speak()\n"
      ],
      "metadata": {
        "colab": {
          "base_uri": "https://localhost:8080/"
        },
        "id": "p2o8KeJWcS4J",
        "outputId": "53a5396b-661e-4398-82a9-d485b1de5b41"
      },
      "execution_count": 22,
      "outputs": [
        {
          "output_type": "stream",
          "name": "stdout",
          "text": [
            "B speaking\n"
          ]
        }
      ]
    },
    {
      "cell_type": "markdown",
      "source": [
        "Potential Issues:\n",
        "\n",
        "In this example:\n",
        "\n",
        "Both B and C override the speak() method from A.\n",
        "\n",
        "D inherits from both B and C. If D calls speak(), it will be ambiguous which method should be executed: B's or C's.\n",
        "\n",
        "How Python Resolves the Diamond Problem\n",
        "\n",
        "Python uses the Method Resolution Order (MRO) to resolve this ambiguity. The MRO defines the order in which classes are searched for a method. In Python, the MRO is determined using an algorithm called C3 Linearization (C3 superclass linearization). This ensures that the method resolution is done in a consistent, unambiguous manner.\n",
        "\n",
        "C3 Linearization\n",
        "\n",
        "The C3 Linearization ensures that:\n",
        "\n",
        "The base classes are checked in a consistent order.\n",
        "\n",
        "The method resolution order is calculated based on the inheritance hierarchy.\n",
        "\n",
        "It avoids repeating base classes and ensures that the classes are resolved in a left-to-right manner, following the inheritance graph.\n",
        "\n",
        "Python applies the C3 linearization algorithm to compute the MRO.\n",
        "\n",
        "How to Check the MRO\n",
        "\n",
        "You can check the MRO of a class using the mro() method or the __mro__ attribute."
      ],
      "metadata": {
        "id": "nhTKMEsWcYjL"
      }
    },
    {
      "cell_type": "code",
      "source": [
        "class A:\n",
        "    def speak(self):\n",
        "        print(\"A speaking\")\n",
        "\n",
        "class B(A):\n",
        "    def speak(self):\n",
        "        print(\"B speaking\")\n",
        "\n",
        "class C(A):\n",
        "    def speak(self):\n",
        "        print(\"C speaking\")\n",
        "\n",
        "class D(B, C):\n",
        "    pass\n",
        "\n",
        "# Create an object of class D\n",
        "d = D()\n",
        "d.speak()\n",
        "\n",
        "# Check the MRO of D\n",
        "print(D.mro())  # Method Resolution Order\n"
      ],
      "metadata": {
        "colab": {
          "base_uri": "https://localhost:8080/"
        },
        "id": "wTEA-_-IckkX",
        "outputId": "a8fb55f6-f406-4732-e9a1-c769926d02a1"
      },
      "execution_count": 23,
      "outputs": [
        {
          "output_type": "stream",
          "name": "stdout",
          "text": [
            "B speaking\n",
            "[<class '__main__.D'>, <class '__main__.B'>, <class '__main__.C'>, <class '__main__.A'>, <class 'object'>]\n"
          ]
        }
      ]
    },
    {
      "cell_type": "markdown",
      "source": [
        "Explanation:\n",
        "\n",
        "1. Method Resolution Order (MRO):\n",
        "\n",
        "The MRO of class D is:\n",
        "\n"
      ],
      "metadata": {
        "id": "tQBwV_iVcmFA"
      }
    },
    {
      "cell_type": "code",
      "source": [
        "D -> B -> C -> A -> object\n"
      ],
      "metadata": {
        "id": "CAh6jj6ycz6a"
      },
      "execution_count": null,
      "outputs": []
    },
    {
      "cell_type": "markdown",
      "source": [
        "This means Python will first look for the method in D, then in B, then in C, and finally in A (the common ancestor). If no method is found, it continues to the base object class.\n",
        "\n",
        "Which Method Gets Called:\n",
        "\n",
        "In the example, d.speak() will call the speak method from class B, because B appears first in the MRO.\n",
        "\n",
        "Even though both B and C define their own speak() method, the method from B is chosen because B comes first in the MRO for class D.\n",
        "\n",
        "C3 Linearization Details:\n",
        "\n",
        "Python's C3 Linearization respects the order of base classes in the class definition. The class definition of D(B, C) makes B appear before C in the MRO, so B's method is called first when resolving the speak() method.\n",
        "\n",
        "If D had been defined as class D(C, B):, then C's speak() method would be called instead of B's.\n",
        "\n",
        "Conclusion:\n",
        "\n",
        "The Diamond Problem arises in multiple inheritance when two or more base classes override the same method.\n",
        "\n",
        "Python resolves the Diamond Problem using Method Resolution Order (MRO), which determines the order in which base classes are searched for a method.\n",
        "\n",
        "Python uses C3 Linearization to calculate the MRO, ensuring that the resolution is consistent and unambiguous.\n",
        "\n",
        "The MRO can be checked using the mro() method or __mro__ attribute of a class."
      ],
      "metadata": {
        "id": "cVUF2G4Lc0dt"
      }
    },
    {
      "cell_type": "markdown",
      "source": [
        "14. Write a class method that keeps track of the number of instances created from a class."
      ],
      "metadata": {
        "id": "oVtJzFvbdB3T"
      }
    },
    {
      "cell_type": "markdown",
      "source": [
        "To track the number of instances created from a class, we can use a class method. A class method is a method that is bound to the class and not the instance, which means it has access to the class itself rather than the instance. This allows it to modify or keep track of class-level data, such as the number of instances created.\n",
        "\n",
        "Here's how we can implement it:\n",
        "\n",
        "1. We'll create a class-level attribute to store the instance count.\n",
        "2. Each time a new instance of the class is created, we increment this count.\n",
        "3. We'll define a class method to access the count and a normal method to display it."
      ],
      "metadata": {
        "id": "SYqf0iTadTEB"
      }
    },
    {
      "cell_type": "code",
      "source": [
        "class MyClass:\n",
        "    # Class-level attribute to store the instance count\n",
        "    instance_count = 0\n",
        "\n",
        "    def __init__(self):\n",
        "        # Increment the instance count every time a new instance is created\n",
        "        MyClass.instance_count += 1\n",
        "\n",
        "    @classmethod\n",
        "    def get_instance_count(cls):\n",
        "        # Class method to return the current instance count\n",
        "        return cls.instance_count\n",
        "\n",
        "# Creating instances of MyClass\n",
        "obj1 = MyClass()\n",
        "obj2 = MyClass()\n",
        "obj3 = MyClass()\n",
        "\n",
        "# Accessing the instance count through the class method\n",
        "print(f\"Number of instances created: {MyClass.get_instance_count()}\")\n"
      ],
      "metadata": {
        "colab": {
          "base_uri": "https://localhost:8080/"
        },
        "id": "v8H6t1Zwdbhg",
        "outputId": "8eb7574b-ddb3-4d83-80e3-2bb6b07a222d"
      },
      "execution_count": 25,
      "outputs": [
        {
          "output_type": "stream",
          "name": "stdout",
          "text": [
            "Number of instances created: 3\n"
          ]
        }
      ]
    },
    {
      "cell_type": "markdown",
      "source": [
        "Explanation:\n",
        "\n",
        "instance_count: This is a class attribute (shared by all instances of the class) that keeps track of the number of instances created.\n",
        "\n",
        "__init__(): This is the constructor method. Each time a new instance is created, the instance_count is incremented by 1.\n",
        "\n",
        "@classmethod decorator: The get_instance_count() method is a class method. It takes cls as the first argument (which refers to the class itself) and returns the value of the instance_count attribute."
      ],
      "metadata": {
        "id": "XzY8btT1dgUP"
      }
    },
    {
      "cell_type": "markdown",
      "source": [
        "How It Works:\n",
        "\n",
        "Instance Creation: Each time an object (obj1, obj2, obj3) is created, the __init__ method is called, and instance_count is incremented by 1.\n",
        "\n",
        "Class Method: The get_instance_count class method can be called on the class itself to retrieve the current number of instances created, rather than needing to call it on an instance.\n",
        "\n",
        "Conclusion:\n",
        "\n",
        "This implementation demonstrates how to use a class method to track the number of instances created from a class by leveraging a class-level attribute (instance_count). The class method is then used to access the count."
      ],
      "metadata": {
        "id": "P5XlHlI5dnba"
      }
    },
    {
      "cell_type": "markdown",
      "source": [
        "15.  Implement a static method in a class that checks if a given year is a leap year."
      ],
      "metadata": {
        "id": "_NwWt6YhdqKJ"
      }
    },
    {
      "cell_type": "markdown",
      "source": [
        "A static method in Python is a method that does not depend on the instance or class attributes. It behaves like a normal function but resides inside the class. Static methods are used when you need functionality that is related to the class but does not need access to the class or instance data.\n",
        "\n",
        "To implement a static method that checks whether a given year is a leap year, we can:\n",
        "\n",
        "1. Define the static method using the @staticmethod decorator.\n",
        "2. Inside the static method, implement the leap year logic:\n",
        "\n",
        "A year is a leap year if:\n",
        "\n",
        "  It is divisible by 4, and\n",
        "  If it is divisible by 100, it must also be divisible by 400.\n",
        "\n",
        "Leap Year Logic:\n",
        "\n",
        "A year is a leap year if it is divisible by 4, but not divisible by 100 unless it is also divisible by 400."
      ],
      "metadata": {
        "id": "8jdO6rGIdwFp"
      }
    },
    {
      "cell_type": "code",
      "source": [
        "class YearUtils:\n",
        "\n",
        "    @staticmethod\n",
        "    def is_leap_year(year):\n",
        "        # Check if the year is divisible by 4 and (not divisible by 100 or divisible by 400)\n",
        "        if (year % 4 == 0 and (year % 100 != 0 or year % 400 == 0)):\n",
        "            return True\n",
        "        return False\n",
        "\n",
        "# Example usage:\n",
        "year = 2024\n",
        "if YearUtils.is_leap_year(year):\n",
        "    print(f\"{year} is a leap year.\")\n",
        "else:\n",
        "    print(f\"{year} is not a leap year.\")\n",
        "\n",
        "# Test with another year\n",
        "year = 2023\n",
        "if YearUtils.is_leap_year(year):\n",
        "    print(f\"{year} is a leap year.\")\n",
        "else:\n",
        "    print(f\"{year} is not a leap year.\")\n"
      ],
      "metadata": {
        "colab": {
          "base_uri": "https://localhost:8080/"
        },
        "id": "_uOmeK2heA53",
        "outputId": "fae4eadb-cbe9-458f-9e85-ca779445db22"
      },
      "execution_count": 26,
      "outputs": [
        {
          "output_type": "stream",
          "name": "stdout",
          "text": [
            "2024 is a leap year.\n",
            "2023 is not a leap year.\n"
          ]
        }
      ]
    },
    {
      "cell_type": "markdown",
      "source": [
        "Explanation:\n",
        "\n",
        "@staticmethod: The is_leap_year method is decorated as a static method, meaning it does not require a reference to an instance or class (self or cls). It works like a standalone function, but is logically part of the class.\n",
        "\n",
        "Leap Year Logic:\n",
        "\n",
        "The year is a leap year if it is divisible by 4.\n",
        "However, if it is divisible by 100, it must also be divisible by 400 to be a leap year.\n",
        "\n",
        "Example Usage: The method is_leap_year() can be called on the class itself (without creating an instance) to check whether a specific year is a leap year."
      ],
      "metadata": {
        "id": "sg5vKZUheI-y"
      }
    },
    {
      "cell_type": "markdown",
      "source": [
        "Conclusion:\n",
        "\n",
        "The static method is_leap_year() is defined to check whether a given year is a leap year or not, without requiring an instance of the class. This method can be used directly on the class (YearUtils.is_leap_year()) and doesn't need any class or instance data."
      ],
      "metadata": {
        "id": "reJ38WnWeMlP"
      }
    }
  ]
}